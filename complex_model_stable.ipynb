{
 "cells": [
  {
   "cell_type": "code",
   "execution_count": 1,
   "id": "386b629b",
   "metadata": {},
   "outputs": [],
   "source": [
    "import pandas as pd\n",
    "import numpy as np\n",
    "\n",
    "import matplotlib.pyplot as plt\n",
    "import seaborn as sns\n",
    "\n",
    "from datetime import datetime as dt\n",
    "from datetime import time\n",
    "\n",
    "from sklearn.linear_model import LogisticRegression\n",
    "from sklearn.ensemble import RandomForestClassifier\n",
    "from sklearn.model_selection import train_test_split\n",
    "from sklearn.metrics import recall_score, f1_score\n",
    "from sklearn.model_selection import GridSearchCV\n",
    "from sklearn.preprocessing import StandardScaler\n",
    "\n",
    "from imblearn.over_sampling import RandomOverSampler\n",
    "\n",
    "from xgboost import XGBClassifier"
   ]
  },
  {
   "cell_type": "code",
   "execution_count": 2,
   "id": "b0cb8a51",
   "metadata": {},
   "outputs": [],
   "source": [
    "pd.set_option('display.max_columns', None)"
   ]
  },
  {
   "cell_type": "code",
   "execution_count": 3,
   "id": "84c62799",
   "metadata": {},
   "outputs": [],
   "source": [
    "def warn(*args, **kwargs):\n",
    "    pass\n",
    "import warnings\n",
    "warnings.warn = warn"
   ]
  },
  {
   "cell_type": "code",
   "execution_count": 4,
   "id": "18276fd3",
   "metadata": {},
   "outputs": [],
   "source": [
    "from sklearn.exceptions import ConvergenceWarning"
   ]
  },
  {
   "cell_type": "code",
   "execution_count": 5,
   "id": "6e5bfd5f",
   "metadata": {},
   "outputs": [],
   "source": [
    "import warnings\n",
    "warnings.filterwarnings(\"ignore\")"
   ]
  },
  {
   "cell_type": "code",
   "execution_count": 6,
   "id": "1f2fc005",
   "metadata": {
    "scrolled": true
   },
   "outputs": [
    {
     "name": "stdout",
     "output_type": "stream",
     "text": [
      "<class 'pandas.core.frame.DataFrame'>\n",
      "RangeIndex: 955 entries, 0 to 954\n",
      "Data columns (total 39 columns):\n",
      " #   Column                                 Non-Null Count  Dtype  \n",
      "---  ------                                 --------------  -----  \n",
      " 0   ID                                     955 non-null    object \n",
      " 1   Пол                                    954 non-null    object \n",
      " 2   Семья                                  955 non-null    object \n",
      " 3   Этнос                                  955 non-null    object \n",
      " 4   Национальность                         955 non-null    object \n",
      " 5   Религия                                955 non-null    object \n",
      " 6   Образование                            955 non-null    object \n",
      " 7   Профессия                              955 non-null    object \n",
      " 8   Вы работаете?                          955 non-null    int64  \n",
      " 9   Выход на пенсию                        955 non-null    int64  \n",
      " 10  Прекращение работы по болезни          955 non-null    int64  \n",
      " 11  Сахарный диабет                        955 non-null    int64  \n",
      " 12  Гепатит                                955 non-null    int64  \n",
      " 13  Онкология                              955 non-null    int64  \n",
      " 14  Хроническое заболевание легких         955 non-null    int64  \n",
      " 15  Бронжиальная астма                     955 non-null    int64  \n",
      " 16  Туберкулез легких                      955 non-null    int64  \n",
      " 17  ВИЧ/СПИД                               955 non-null    int64  \n",
      " 18  Регулярный прим лекарственных средств  955 non-null    int64  \n",
      " 19  Травмы за год                          955 non-null    int64  \n",
      " 20  Переломы                               955 non-null    int64  \n",
      " 21  Статус Курения                         955 non-null    object \n",
      " 22  Возраст курения                        412 non-null    float64\n",
      " 23  Сигарет в день                         409 non-null    float64\n",
      " 24  Пассивное курение                      955 non-null    int64  \n",
      " 25  Частота пасс кур                       223 non-null    object \n",
      " 26  Алкоголь                               955 non-null    object \n",
      " 27  Возраст алког                          788 non-null    float64\n",
      " 28  Время засыпания                        955 non-null    object \n",
      " 29  Время пробуждения                      955 non-null    object \n",
      " 30  Сон после обеда                        955 non-null    int64  \n",
      " 31  Спорт, клубы                           955 non-null    int64  \n",
      " 32  Религия, клубы                         955 non-null    int64  \n",
      " 33  ID_y                                   955 non-null    object \n",
      " 34  Артериальная гипертензия               955 non-null    int64  \n",
      " 35  ОНМК                                   955 non-null    int64  \n",
      " 36  Стенокардия, ИБС, инфаркт миокарда     955 non-null    int64  \n",
      " 37  Сердечная недостаточность              955 non-null    int64  \n",
      " 38  Прочие заболевания сердца              955 non-null    int64  \n",
      "dtypes: float64(3), int64(22), object(14)\n",
      "memory usage: 291.1+ KB\n"
     ]
    }
   ],
   "source": [
    "df_train = pd.read_csv('train.csv')\n",
    "df_train.info()"
   ]
  },
  {
   "cell_type": "code",
   "execution_count": 7,
   "id": "fa33c722",
   "metadata": {
    "scrolled": true
   },
   "outputs": [
    {
     "name": "stdout",
     "output_type": "stream",
     "text": [
      "<class 'pandas.core.frame.DataFrame'>\n",
      "RangeIndex: 638 entries, 0 to 637\n",
      "Data columns (total 33 columns):\n",
      " #   Column                                 Non-Null Count  Dtype  \n",
      "---  ------                                 --------------  -----  \n",
      " 0   ID                                     638 non-null    object \n",
      " 1   Пол                                    638 non-null    object \n",
      " 2   Семья                                  638 non-null    object \n",
      " 3   Этнос                                  638 non-null    object \n",
      " 4   Национальность                         638 non-null    object \n",
      " 5   Религия                                638 non-null    object \n",
      " 6   Образование                            638 non-null    object \n",
      " 7   Профессия                              638 non-null    object \n",
      " 8   Вы работаете?                          638 non-null    int64  \n",
      " 9   Выход на пенсию                        638 non-null    int64  \n",
      " 10  Прекращение работы по болезни          638 non-null    int64  \n",
      " 11  Сахарный диабет                        638 non-null    int64  \n",
      " 12  Гепатит                                638 non-null    int64  \n",
      " 13  Онкология                              638 non-null    int64  \n",
      " 14  Хроническое заболевание легких         638 non-null    int64  \n",
      " 15  Бронжиальная астма                     638 non-null    int64  \n",
      " 16  Туберкулез легких                      638 non-null    int64  \n",
      " 17  ВИЧ/СПИД                               638 non-null    int64  \n",
      " 18  Регулярный прим лекарственных средств  638 non-null    int64  \n",
      " 19  Травмы за год                          638 non-null    int64  \n",
      " 20  Переломы                               638 non-null    int64  \n",
      " 21  Статус Курения                         638 non-null    object \n",
      " 22  Возраст курения                        269 non-null    float64\n",
      " 23  Сигарет в день                         265 non-null    float64\n",
      " 24  Пассивное курение                      638 non-null    int64  \n",
      " 25  Частота пасс кур                       154 non-null    object \n",
      " 26  Алкоголь                               638 non-null    object \n",
      " 27  Возраст алког                          501 non-null    float64\n",
      " 28  Время засыпания                        638 non-null    object \n",
      " 29  Время пробуждения                      638 non-null    object \n",
      " 30  Сон после обеда                        638 non-null    int64  \n",
      " 31  Спорт, клубы                           638 non-null    int64  \n",
      " 32  Религия, клубы                         638 non-null    int64  \n",
      "dtypes: float64(3), int64(17), object(13)\n",
      "memory usage: 164.6+ KB\n"
     ]
    }
   ],
   "source": [
    "df_test = pd.read_csv('test_dataset_test.csv')\n",
    "df_test.info()"
   ]
  },
  {
   "cell_type": "code",
   "execution_count": 8,
   "id": "7b4e321d",
   "metadata": {},
   "outputs": [],
   "source": [
    "# Для корректной обработки признаков объединяем тренировочный и тестовый набор данных в один датасет\n",
    "\n",
    "# выделение целевых значений и датасета\n",
    "target_train = df_train.iloc[:,-5:]\n",
    "df_train = df_train.iloc[:,:-5]\n",
    "\n",
    "# вспомогательный флаг тренировочного и тестовой частей общего набора данных\n",
    "df_train['train'] = 1\n",
    "df_test['train'] = 0\n",
    "\n",
    "\n",
    "# объединение в один датасет\n",
    "df = pd.concat([df_train, df_test]).reset_index(drop=True)"
   ]
  },
  {
   "cell_type": "code",
   "execution_count": 9,
   "id": "79c4a281",
   "metadata": {},
   "outputs": [
    {
     "data": {
      "text/html": [
       "<div>\n",
       "<style scoped>\n",
       "    .dataframe tbody tr th:only-of-type {\n",
       "        vertical-align: middle;\n",
       "    }\n",
       "\n",
       "    .dataframe tbody tr th {\n",
       "        vertical-align: top;\n",
       "    }\n",
       "\n",
       "    .dataframe thead th {\n",
       "        text-align: right;\n",
       "    }\n",
       "</style>\n",
       "<table border=\"1\" class=\"dataframe\">\n",
       "  <thead>\n",
       "    <tr style=\"text-align: right;\">\n",
       "      <th></th>\n",
       "      <th>ID</th>\n",
       "      <th>Пол</th>\n",
       "      <th>Семья</th>\n",
       "      <th>Этнос</th>\n",
       "      <th>Национальность</th>\n",
       "      <th>Религия</th>\n",
       "      <th>Образование</th>\n",
       "      <th>Профессия</th>\n",
       "      <th>Вы работаете?</th>\n",
       "      <th>Выход на пенсию</th>\n",
       "      <th>Прекращение работы по болезни</th>\n",
       "      <th>Сахарный диабет</th>\n",
       "      <th>Гепатит</th>\n",
       "      <th>Онкология</th>\n",
       "      <th>Хроническое заболевание легких</th>\n",
       "      <th>Бронжиальная астма</th>\n",
       "      <th>Туберкулез легких</th>\n",
       "      <th>ВИЧ/СПИД</th>\n",
       "      <th>Регулярный прим лекарственных средств</th>\n",
       "      <th>Травмы за год</th>\n",
       "      <th>Переломы</th>\n",
       "      <th>Статус Курения</th>\n",
       "      <th>Возраст курения</th>\n",
       "      <th>Сигарет в день</th>\n",
       "      <th>Пассивное курение</th>\n",
       "      <th>Частота пасс кур</th>\n",
       "      <th>Алкоголь</th>\n",
       "      <th>Возраст алког</th>\n",
       "      <th>Время засыпания</th>\n",
       "      <th>Время пробуждения</th>\n",
       "      <th>Сон после обеда</th>\n",
       "      <th>Спорт, клубы</th>\n",
       "      <th>Религия, клубы</th>\n",
       "      <th>ID_y</th>\n",
       "      <th>train</th>\n",
       "    </tr>\n",
       "  </thead>\n",
       "  <tbody>\n",
       "    <tr>\n",
       "      <th>0</th>\n",
       "      <td>54-102-358-02</td>\n",
       "      <td>М</td>\n",
       "      <td>в браке в настоящее время</td>\n",
       "      <td>европейская</td>\n",
       "      <td>Русские</td>\n",
       "      <td>Христианство</td>\n",
       "      <td>3 - средняя школа / закон.среднее / выше среднего</td>\n",
       "      <td>низкоквалифицированные работники</td>\n",
       "      <td>1</td>\n",
       "      <td>0</td>\n",
       "      <td>0</td>\n",
       "      <td>0</td>\n",
       "      <td>0</td>\n",
       "      <td>0</td>\n",
       "      <td>0</td>\n",
       "      <td>0</td>\n",
       "      <td>0</td>\n",
       "      <td>0</td>\n",
       "      <td>0</td>\n",
       "      <td>0</td>\n",
       "      <td>0</td>\n",
       "      <td>Курит</td>\n",
       "      <td>15.0</td>\n",
       "      <td>20.0</td>\n",
       "      <td>0</td>\n",
       "      <td>NaN</td>\n",
       "      <td>употребляю в настоящее время</td>\n",
       "      <td>18.0</td>\n",
       "      <td>22:00:00</td>\n",
       "      <td>06:00:00</td>\n",
       "      <td>0</td>\n",
       "      <td>0</td>\n",
       "      <td>0</td>\n",
       "      <td>54-102-358-02</td>\n",
       "      <td>1</td>\n",
       "    </tr>\n",
       "  </tbody>\n",
       "</table>\n",
       "</div>"
      ],
      "text/plain": [
       "              ID Пол                      Семья        Этнос Национальность  \\\n",
       "0  54-102-358-02   М  в браке в настоящее время  европейская        Русские   \n",
       "\n",
       "        Религия                                        Образование  \\\n",
       "0  Христианство  3 - средняя школа / закон.среднее / выше среднего   \n",
       "\n",
       "                          Профессия  Вы работаете?  Выход на пенсию  \\\n",
       "0  низкоквалифицированные работники              1                0   \n",
       "\n",
       "   Прекращение работы по болезни  Сахарный диабет  Гепатит  Онкология  \\\n",
       "0                              0                0        0          0   \n",
       "\n",
       "   Хроническое заболевание легких  Бронжиальная астма  Туберкулез легких   \\\n",
       "0                               0                   0                   0   \n",
       "\n",
       "   ВИЧ/СПИД  Регулярный прим лекарственных средств  Травмы за год  Переломы  \\\n",
       "0         0                                      0              0         0   \n",
       "\n",
       "  Статус Курения  Возраст курения  Сигарет в день  Пассивное курение  \\\n",
       "0          Курит             15.0            20.0                  0   \n",
       "\n",
       "  Частота пасс кур                      Алкоголь  Возраст алког  \\\n",
       "0              NaN  употребляю в настоящее время           18.0   \n",
       "\n",
       "  Время засыпания Время пробуждения  Сон после обеда  Спорт, клубы  \\\n",
       "0        22:00:00          06:00:00                0             0   \n",
       "\n",
       "   Религия, клубы           ID_y  train  \n",
       "0               0  54-102-358-02      1  "
      ]
     },
     "execution_count": 9,
     "metadata": {},
     "output_type": "execute_result"
    }
   ],
   "source": [
    "df.head(1)"
   ]
  },
  {
   "cell_type": "code",
   "execution_count": 10,
   "id": "b2ec997b",
   "metadata": {},
   "outputs": [
    {
     "data": {
      "text/plain": [
       "Index(['ID', 'Пол', 'Семья', 'Этнос', 'Национальность', 'Религия',\n",
       "       'Образование', 'Профессия', 'Вы работаете?', 'Выход на пенсию',\n",
       "       'Прекращение работы по болезни', 'Сахарный диабет', 'Гепатит',\n",
       "       'Онкология', 'Хроническое заболевание легких', 'Бронжиальная астма',\n",
       "       'Туберкулез легких ', 'ВИЧ/СПИД',\n",
       "       'Регулярный прим лекарственных средств', 'Травмы за год', 'Переломы',\n",
       "       'Статус Курения', 'Возраст курения', 'Сигарет в день',\n",
       "       'Пассивное курение', 'Частота пасс кур', 'Алкоголь', 'Возраст алког',\n",
       "       'Время засыпания', 'Время пробуждения', 'Сон после обеда',\n",
       "       'Спорт, клубы', 'Религия, клубы', 'ID_y', 'train'],\n",
       "      dtype='object')"
      ]
     },
     "execution_count": 10,
     "metadata": {},
     "output_type": "execute_result"
    }
   ],
   "source": [
    "df.columns"
   ]
  },
  {
   "cell_type": "code",
   "execution_count": 11,
   "id": "049fb70f",
   "metadata": {},
   "outputs": [],
   "source": [
    "df.columns = ['id', 'sex', 'family', 'ethnos', 'nationality', 'religion', 'education', 'profession',\n",
    "              'job', 'retired', 'stop_work_due_disease', 'diabetes', 'hepatitis', 'oncology',\n",
    "              'chronic_lung_disease', 'bronchial_asthma', 'tuberculosis', 'hiv/aids', 'intake_medicines',\n",
    "              'trauma_last_year', 'fractures', 'smoking', 'smoking_duration', 'ciggaretes_per_day',\n",
    "              'passive_smoking', 'passive_smoking_frequency', 'alcohol', 'alcohol_duration', 'time_fall_asleep',\n",
    "              'time_awakening', 'midday_sleep', 'sport_clubs', 'religion_clubs', 'id_y', 'train']"
   ]
  },
  {
   "cell_type": "code",
   "execution_count": 12,
   "id": "b964c53c",
   "metadata": {},
   "outputs": [],
   "source": [
    "target_train.columns = ['arterial_hypertension', 'ACD',\n",
    "                        'IHD', 'heart_failure', 'other_cardio_diseases']"
   ]
  },
  {
   "cell_type": "code",
   "execution_count": 13,
   "id": "ae723e12",
   "metadata": {},
   "outputs": [],
   "source": [
    "df.drop(['id', 'id_y'], axis=1, inplace=True)"
   ]
  },
  {
   "cell_type": "code",
   "execution_count": 14,
   "id": "1bda37f7",
   "metadata": {},
   "outputs": [
    {
     "data": {
      "text/plain": [
       "sex                             1\n",
       "family                          0\n",
       "ethnos                          0\n",
       "nationality                     0\n",
       "religion                        0\n",
       "education                       0\n",
       "profession                      0\n",
       "job                             0\n",
       "retired                         0\n",
       "stop_work_due_disease           0\n",
       "diabetes                        0\n",
       "hepatitis                       0\n",
       "oncology                        0\n",
       "chronic_lung_disease            0\n",
       "bronchial_asthma                0\n",
       "tuberculosis                    0\n",
       "hiv/aids                        0\n",
       "intake_medicines                0\n",
       "trauma_last_year                0\n",
       "fractures                       0\n",
       "smoking                         0\n",
       "smoking_duration              912\n",
       "ciggaretes_per_day            919\n",
       "passive_smoking                 0\n",
       "passive_smoking_frequency    1216\n",
       "alcohol                         0\n",
       "alcohol_duration              304\n",
       "time_fall_asleep                0\n",
       "time_awakening                  0\n",
       "midday_sleep                    0\n",
       "sport_clubs                     0\n",
       "religion_clubs                  0\n",
       "train                           0\n",
       "dtype: int64"
      ]
     },
     "execution_count": 14,
     "metadata": {},
     "output_type": "execute_result"
    }
   ],
   "source": [
    "# Общее количество пропусков в данных\n",
    "df.isna().sum()"
   ]
  },
  {
   "cell_type": "markdown",
   "id": "2fbd3ae2",
   "metadata": {},
   "source": [
    "### Колонка sex"
   ]
  },
  {
   "cell_type": "code",
   "execution_count": 15,
   "id": "3ca34d26",
   "metadata": {},
   "outputs": [
    {
     "data": {
      "text/plain": [
       "Ж      1117\n",
       "М       475\n",
       "NaN       1\n",
       "Name: sex, dtype: int64"
      ]
     },
     "execution_count": 15,
     "metadata": {},
     "output_type": "execute_result"
    }
   ],
   "source": [
    "df.sex.value_counts(dropna=False)"
   ]
  },
  {
   "cell_type": "code",
   "execution_count": 16,
   "id": "76a54aff",
   "metadata": {},
   "outputs": [],
   "source": [
    "# Заполнение пропуска модой (в данном случае - Ж)\n",
    "df.sex.fillna(df.sex.mode()[0], inplace=True)"
   ]
  },
  {
   "cell_type": "code",
   "execution_count": 17,
   "id": "54cb7a24",
   "metadata": {},
   "outputs": [
    {
     "data": {
      "text/plain": [
       "Ж    1118\n",
       "М     475\n",
       "Name: sex, dtype: int64"
      ]
     },
     "execution_count": 17,
     "metadata": {},
     "output_type": "execute_result"
    }
   ],
   "source": [
    "df.sex.value_counts(dropna=False)"
   ]
  },
  {
   "cell_type": "code",
   "execution_count": 18,
   "id": "cdb9f8da",
   "metadata": {},
   "outputs": [],
   "source": [
    "df.sex = np.where(df.sex == 'Ж', 0, 1)"
   ]
  },
  {
   "cell_type": "markdown",
   "id": "e0c5ada8",
   "metadata": {},
   "source": [
    "### Колонка family"
   ]
  },
  {
   "cell_type": "code",
   "execution_count": 19,
   "id": "8182d89e",
   "metadata": {},
   "outputs": [
    {
     "data": {
      "text/plain": [
       "в браке в настоящее время                          937\n",
       "вдовец / вдова                                     246\n",
       "в разводе                                          201\n",
       "гражданский брак / проживание с партнером          129\n",
       "никогда не был(а) в браке                           77\n",
       "раздельное проживание (официально не разведены)      3\n",
       "Name: family, dtype: int64"
      ]
     },
     "execution_count": 19,
     "metadata": {},
     "output_type": "execute_result"
    }
   ],
   "source": [
    "df.family.value_counts(dropna=False)"
   ]
  },
  {
   "cell_type": "code",
   "execution_count": 20,
   "id": "6c0ce7f9",
   "metadata": {},
   "outputs": [
    {
     "name": "stdout",
     "output_type": "stream",
     "text": [
      "before replace:  ['в браке в настоящее время', 'в разводе', 'вдовец / вдова', 'гражданский брак / проживание с партнером', 'никогда не был(а) в браке', 'раздельное проживание (официально не разведены)']\n",
      "after replace:  ['married', 'divorced', 'widowed', 'cohabited', 'single', 'separated']\n"
     ]
    }
   ],
   "source": [
    "family = pd.get_dummies(df.family)\n",
    "print('before replace: ', list(family.columns))\n",
    "family.columns = ['married', 'divorced', 'widowed','cohabited','single','separated']\n",
    "print('after replace: ', list(family.columns))"
   ]
  },
  {
   "cell_type": "code",
   "execution_count": 21,
   "id": "c6ebb173",
   "metadata": {},
   "outputs": [],
   "source": [
    "df = pd.concat([df, family], axis=1)\n",
    "df.drop('family', axis=1, inplace=True)"
   ]
  },
  {
   "cell_type": "markdown",
   "id": "818fa49c",
   "metadata": {},
   "source": [
    "### Колонка ethnos"
   ]
  },
  {
   "cell_type": "code",
   "execution_count": 22,
   "id": "dbe5ccba",
   "metadata": {},
   "outputs": [
    {
     "data": {
      "text/plain": [
       "европейская                                                                                                      1559\n",
       "другая азиатская (Корея, Малайзия, Таиланд, Вьетнам, Казахстан, Киргизия, Туркмения, Узбекистан, Таджикистан)      24\n",
       "прочее (любая иная этно-расовая группа, не представленная выше)                                                    10\n",
       "Name: ethnos, dtype: int64"
      ]
     },
     "execution_count": 22,
     "metadata": {},
     "output_type": "execute_result"
    }
   ],
   "source": [
    "df.ethnos.value_counts(dropna=False)"
   ]
  },
  {
   "cell_type": "code",
   "execution_count": 23,
   "id": "ebbe3392",
   "metadata": {},
   "outputs": [
    {
     "name": "stdout",
     "output_type": "stream",
     "text": [
      "before replace:  ['другая азиатская (Корея, Малайзия, Таиланд, Вьетнам, Казахстан, Киргизия, Туркмения, Узбекистан, Таджикистан)', 'европейская', 'прочее (любая иная этно-расовая группа, не представленная выше)']\n",
      "after replace:  ['asian', 'european', 'other']\n"
     ]
    }
   ],
   "source": [
    "ethnos = pd.get_dummies(df.ethnos)\n",
    "print('before replace: ', list(ethnos.columns))\n",
    "ethnos.columns = ['asian', 'european', 'other']\n",
    "print('after replace: ', list(ethnos.columns))"
   ]
  },
  {
   "cell_type": "code",
   "execution_count": 24,
   "id": "16624a36",
   "metadata": {},
   "outputs": [],
   "source": [
    "df = pd.concat([df, ethnos], axis=1)"
   ]
  },
  {
   "cell_type": "code",
   "execution_count": 25,
   "id": "7f1281a6",
   "metadata": {},
   "outputs": [],
   "source": [
    "df.drop('ethnos', axis=1, inplace=True)"
   ]
  },
  {
   "cell_type": "markdown",
   "id": "0c29ffd9",
   "metadata": {},
   "source": [
    "### Колонка nationality"
   ]
  },
  {
   "cell_type": "code",
   "execution_count": 26,
   "id": "8a20a2c8",
   "metadata": {},
   "outputs": [
    {
     "data": {
      "text/plain": [
       "Русские                  1500\n",
       "Татары                     33\n",
       "Немцы                      10\n",
       "Украинцы                   10\n",
       "Чуваши                      9\n",
       "Азербайджанцы               4\n",
       "Белорусы                    3\n",
       "Другие национальности       3\n",
       "Казахи                      3\n",
       "Армяне                      3\n",
       "Удмурты                     2\n",
       "Евреи                       2\n",
       "Таджики                     2\n",
       "Киргизы                     2\n",
       "Мордва                      2\n",
       "Башкиры                     1\n",
       "Молдаване                   1\n",
       "Буряты                      1\n",
       "Эстонцы                     1\n",
       "Лезгины                     1\n",
       "Name: nationality, dtype: int64"
      ]
     },
     "execution_count": 26,
     "metadata": {},
     "output_type": "execute_result"
    }
   ],
   "source": [
    "df.nationality.value_counts(dropna=False)"
   ]
  },
  {
   "cell_type": "code",
   "execution_count": 27,
   "id": "ac2b87b1",
   "metadata": {},
   "outputs": [],
   "source": [
    "# Добавление колонки is_russian, так как количество других национальностей нерепрезентативно\n",
    "df['is_russian'] = np.where(df['nationality'] == 'Русские', 1, 0)"
   ]
  },
  {
   "cell_type": "code",
   "execution_count": 28,
   "id": "3a047d6b",
   "metadata": {},
   "outputs": [],
   "source": [
    "# Удаление исходной колонки\n",
    "df.drop('nationality', axis=1, inplace=True)"
   ]
  },
  {
   "cell_type": "markdown",
   "id": "2f994a7b",
   "metadata": {},
   "source": [
    "### Колонка religion"
   ]
  },
  {
   "cell_type": "code",
   "execution_count": 29,
   "id": "eb668a41",
   "metadata": {},
   "outputs": [
    {
     "data": {
      "text/plain": [
       "Христианство         1361\n",
       "Атеист / агностик     127\n",
       "Нет                    73\n",
       "Ислам                  30\n",
       "Другое                  1\n",
       "Индуизм                 1\n",
       "Name: religion, dtype: int64"
      ]
     },
     "execution_count": 29,
     "metadata": {},
     "output_type": "execute_result"
    }
   ],
   "source": [
    "df.religion.value_counts(dropna=False)"
   ]
  },
  {
   "cell_type": "code",
   "execution_count": 30,
   "id": "37baa46e",
   "metadata": {},
   "outputs": [
    {
     "name": "stdout",
     "output_type": "stream",
     "text": [
      "before replace:  ['Атеист / агностик', 'Другое', 'Индуизм', 'Ислам', 'Нет', 'Христианство']\n",
      "after replace:  ['atheist', 'other', 'hinduist', 'muslim', 'no', 'christian']\n"
     ]
    }
   ],
   "source": [
    "religion = pd.get_dummies(df.religion)\n",
    "print('before replace: ', list(religion.columns))\n",
    "religion.columns = ['atheist', 'other',\n",
    "                    'hinduist', 'muslim', 'no', 'christian']\n",
    "print('after replace: ', list(religion.columns))"
   ]
  },
  {
   "cell_type": "code",
   "execution_count": 31,
   "id": "754bc0d9",
   "metadata": {},
   "outputs": [],
   "source": [
    "# Удаление так как в указанных группах всего по 1 представителю (и то, в тестовом датасете)\n",
    "religion.drop(['other', 'hinduist'], axis=1, inplace=True)"
   ]
  },
  {
   "cell_type": "code",
   "execution_count": 32,
   "id": "fa8ebfc1",
   "metadata": {},
   "outputs": [],
   "source": [
    "df = pd.concat([df, religion], axis=1)"
   ]
  },
  {
   "cell_type": "code",
   "execution_count": 33,
   "id": "150c567d",
   "metadata": {},
   "outputs": [],
   "source": [
    "df.drop('religion', axis=1, inplace=True)"
   ]
  },
  {
   "cell_type": "markdown",
   "id": "a847c609",
   "metadata": {},
   "source": [
    "### Колонка education"
   ]
  },
  {
   "cell_type": "code",
   "execution_count": 34,
   "id": "53a22286",
   "metadata": {},
   "outputs": [
    {
     "data": {
      "text/plain": [
       "4 - профессиональное училище                         757\n",
       "5 - ВУЗ                                              547\n",
       "3 - средняя школа / закон.среднее / выше среднего    279\n",
       "2 - начальная школа                                   10\n",
       "Name: education, dtype: int64"
      ]
     },
     "execution_count": 34,
     "metadata": {},
     "output_type": "execute_result"
    }
   ],
   "source": [
    "df.education.value_counts(dropna=False)"
   ]
  },
  {
   "cell_type": "code",
   "execution_count": 35,
   "id": "72f9490b",
   "metadata": {},
   "outputs": [],
   "source": [
    "# Приведение к порядковому признаку\n",
    "# Единицу можно было не вычитать, так как впоследствии все равно применяется StandardScaler\n",
    "df.education = df.education.apply(lambda x: int(x[0])-1)"
   ]
  },
  {
   "cell_type": "markdown",
   "id": "72e9495a",
   "metadata": {},
   "source": [
    "### Колонка profession"
   ]
  },
  {
   "cell_type": "code",
   "execution_count": 36,
   "id": "d512e460",
   "metadata": {},
   "outputs": [
    {
     "data": {
      "text/plain": [
       "дипломированные специалисты                                                            382\n",
       "низкоквалифицированные работники                                                       225\n",
       "работники,  занятые в сфере обслуживания, торговые работники магазинов и рынков        205\n",
       "ремесленники и представители других отраслей промышленности                            149\n",
       "служащие                                                                               142\n",
       "техники и младшие специалисты                                                          140\n",
       "ведение домашнего хозяйства                                                            133\n",
       "операторы и монтажники установок и машинного оборудования                              128\n",
       "представители   законодат.   органов   власти,  высокопостав. долж.лица и менеджеры     55\n",
       "квалифицированные работники сельского хозяйства и рыболовного                           25\n",
       "вооруженные силы                                                                         9\n",
       "Name: profession, dtype: int64"
      ]
     },
     "execution_count": 36,
     "metadata": {},
     "output_type": "execute_result"
    }
   ],
   "source": [
    "df.profession.value_counts(dropna=False)"
   ]
  },
  {
   "cell_type": "code",
   "execution_count": 37,
   "id": "e6588b54",
   "metadata": {},
   "outputs": [
    {
     "data": {
      "text/plain": [
       "Index(['ведение домашнего хозяйства', 'вооруженные силы',\n",
       "       'дипломированные специалисты',\n",
       "       'квалифицированные работники сельского хозяйства и рыболовного',\n",
       "       'низкоквалифицированные работники',\n",
       "       'операторы и монтажники установок и машинного оборудования',\n",
       "       'представители   законодат.   органов   власти,  высокопостав. долж.лица и менеджеры',\n",
       "       'работники,  занятые в сфере обслуживания, торговые работники магазинов и рынков',\n",
       "       'ремесленники и представители других отраслей промышленности',\n",
       "       'служащие', 'техники и младшие специалисты'],\n",
       "      dtype='object')"
      ]
     },
     "execution_count": 37,
     "metadata": {},
     "output_type": "execute_result"
    }
   ],
   "source": [
    "profession = pd.get_dummies(df.profession)\n",
    "profession.columns"
   ]
  },
  {
   "cell_type": "code",
   "execution_count": 38,
   "id": "4f7935c2",
   "metadata": {},
   "outputs": [],
   "source": [
    "profession.columns = ['household','military','senior_specialist','farmer/fisherman','low_qualified_work',\n",
    "                      'industry','top_management','service','crafters_other', 'office', 'junior_specialists']"
   ]
  },
  {
   "cell_type": "code",
   "execution_count": 39,
   "id": "184f0b24",
   "metadata": {},
   "outputs": [],
   "source": [
    "df = pd.concat([df, profession], axis=1)\n",
    "df.drop('profession', axis=1, inplace=True)"
   ]
  },
  {
   "cell_type": "markdown",
   "id": "dd37daae",
   "metadata": {},
   "source": [
    "### Колонка job"
   ]
  },
  {
   "cell_type": "code",
   "execution_count": 40,
   "id": "cc643eba",
   "metadata": {},
   "outputs": [
    {
     "data": {
      "text/plain": [
       "1    865\n",
       "0    728\n",
       "Name: job, dtype: int64"
      ]
     },
     "execution_count": 40,
     "metadata": {},
     "output_type": "execute_result"
    }
   ],
   "source": [
    "df.job.value_counts(dropna=False)"
   ]
  },
  {
   "cell_type": "markdown",
   "id": "f1f1e2ac",
   "metadata": {},
   "source": [
    "### Колонка retired"
   ]
  },
  {
   "cell_type": "code",
   "execution_count": 41,
   "id": "c23f1512",
   "metadata": {},
   "outputs": [
    {
     "data": {
      "text/plain": [
       "0    1089\n",
       "1     504\n",
       "Name: retired, dtype: int64"
      ]
     },
     "execution_count": 41,
     "metadata": {},
     "output_type": "execute_result"
    }
   ],
   "source": [
    "df.retired.value_counts(dropna=False)"
   ]
  },
  {
   "cell_type": "markdown",
   "id": "e7644d10",
   "metadata": {},
   "source": [
    "### Колонка stop_work_due_disease"
   ]
  },
  {
   "cell_type": "code",
   "execution_count": 42,
   "id": "bc3935d1",
   "metadata": {},
   "outputs": [
    {
     "data": {
      "text/plain": [
       "0    1509\n",
       "1      84\n",
       "Name: stop_work_due_disease, dtype: int64"
      ]
     },
     "execution_count": 42,
     "metadata": {},
     "output_type": "execute_result"
    }
   ],
   "source": [
    "df.stop_work_due_disease.value_counts(dropna=False)"
   ]
  },
  {
   "cell_type": "markdown",
   "id": "c0570bc9",
   "metadata": {},
   "source": [
    "### Колонка diabetes"
   ]
  },
  {
   "cell_type": "code",
   "execution_count": 43,
   "id": "b1f314cc",
   "metadata": {},
   "outputs": [
    {
     "data": {
      "text/plain": [
       "0    1441\n",
       "1     152\n",
       "Name: diabetes, dtype: int64"
      ]
     },
     "execution_count": 43,
     "metadata": {},
     "output_type": "execute_result"
    }
   ],
   "source": [
    "df.diabetes.value_counts(dropna=False)"
   ]
  },
  {
   "cell_type": "markdown",
   "id": "4a78fa32",
   "metadata": {},
   "source": [
    "### Колонка hepatitis"
   ]
  },
  {
   "cell_type": "code",
   "execution_count": 44,
   "id": "a0e7bae7",
   "metadata": {},
   "outputs": [
    {
     "data": {
      "text/plain": [
       "0    1410\n",
       "1     183\n",
       "Name: hepatitis, dtype: int64"
      ]
     },
     "execution_count": 44,
     "metadata": {},
     "output_type": "execute_result"
    }
   ],
   "source": [
    "df.hepatitis.value_counts(dropna=False)"
   ]
  },
  {
   "cell_type": "markdown",
   "id": "4dd6ba8b",
   "metadata": {},
   "source": [
    "### Колонка oncology"
   ]
  },
  {
   "cell_type": "code",
   "execution_count": 45,
   "id": "b06a8556",
   "metadata": {},
   "outputs": [
    {
     "data": {
      "text/plain": [
       "0    1521\n",
       "1      72\n",
       "Name: oncology, dtype: int64"
      ]
     },
     "execution_count": 45,
     "metadata": {},
     "output_type": "execute_result"
    }
   ],
   "source": [
    "df.oncology.value_counts(dropna=False)"
   ]
  },
  {
   "cell_type": "markdown",
   "id": "1effc9c4",
   "metadata": {},
   "source": [
    "### Колонка chronic_lung_disease"
   ]
  },
  {
   "cell_type": "code",
   "execution_count": 46,
   "id": "7e439944",
   "metadata": {},
   "outputs": [
    {
     "data": {
      "text/plain": [
       "0    1469\n",
       "1     124\n",
       "Name: chronic_lung_disease, dtype: int64"
      ]
     },
     "execution_count": 46,
     "metadata": {},
     "output_type": "execute_result"
    }
   ],
   "source": [
    "df.chronic_lung_disease.value_counts(dropna=False)"
   ]
  },
  {
   "cell_type": "markdown",
   "id": "2b783ba7",
   "metadata": {},
   "source": [
    "### Колонка bronchial_asthma"
   ]
  },
  {
   "cell_type": "code",
   "execution_count": 47,
   "id": "ff8e191c",
   "metadata": {},
   "outputs": [
    {
     "data": {
      "text/plain": [
       "0    1530\n",
       "1      63\n",
       "Name: bronchial_asthma, dtype: int64"
      ]
     },
     "execution_count": 47,
     "metadata": {},
     "output_type": "execute_result"
    }
   ],
   "source": [
    "df.bronchial_asthma.value_counts(dropna=False)"
   ]
  },
  {
   "cell_type": "markdown",
   "id": "3e708397",
   "metadata": {},
   "source": [
    "### Колонка tuberculosis"
   ]
  },
  {
   "cell_type": "code",
   "execution_count": 48,
   "id": "b55e7a1a",
   "metadata": {},
   "outputs": [
    {
     "data": {
      "text/plain": [
       "0    1565\n",
       "1      28\n",
       "Name: tuberculosis, dtype: int64"
      ]
     },
     "execution_count": 48,
     "metadata": {},
     "output_type": "execute_result"
    }
   ],
   "source": [
    "df.tuberculosis.value_counts(dropna=False)"
   ]
  },
  {
   "cell_type": "markdown",
   "id": "011f6db4",
   "metadata": {},
   "source": [
    "### Колонка hiv/aids"
   ]
  },
  {
   "cell_type": "code",
   "execution_count": 49,
   "id": "aa2bda9e",
   "metadata": {},
   "outputs": [
    {
     "data": {
      "text/plain": [
       "0    1591\n",
       "1       2\n",
       "Name: hiv/aids, dtype: int64"
      ]
     },
     "execution_count": 49,
     "metadata": {},
     "output_type": "execute_result"
    }
   ],
   "source": [
    "df['hiv/aids'].value_counts(dropna=False)"
   ]
  },
  {
   "cell_type": "markdown",
   "id": "676f281a",
   "metadata": {},
   "source": [
    "### Колонка intake_medicines"
   ]
  },
  {
   "cell_type": "code",
   "execution_count": 50,
   "id": "2aab6979",
   "metadata": {},
   "outputs": [
    {
     "data": {
      "text/plain": [
       "1    995\n",
       "0    598\n",
       "Name: intake_medicines, dtype: int64"
      ]
     },
     "execution_count": 50,
     "metadata": {},
     "output_type": "execute_result"
    }
   ],
   "source": [
    "df.intake_medicines.value_counts(dropna=False)"
   ]
  },
  {
   "cell_type": "markdown",
   "id": "16390a36",
   "metadata": {},
   "source": [
    "### Колонка trauma_last_year"
   ]
  },
  {
   "cell_type": "code",
   "execution_count": 51,
   "id": "1921e555",
   "metadata": {},
   "outputs": [
    {
     "data": {
      "text/plain": [
       "0    1508\n",
       "1      85\n",
       "Name: trauma_last_year, dtype: int64"
      ]
     },
     "execution_count": 51,
     "metadata": {},
     "output_type": "execute_result"
    }
   ],
   "source": [
    "df.trauma_last_year.value_counts(dropna=False)"
   ]
  },
  {
   "cell_type": "markdown",
   "id": "5ab8f99d",
   "metadata": {},
   "source": [
    "### Колонка fractures"
   ]
  },
  {
   "cell_type": "code",
   "execution_count": 52,
   "id": "580d4c65",
   "metadata": {},
   "outputs": [
    {
     "data": {
      "text/plain": [
       "0    1032\n",
       "1     561\n",
       "Name: fractures, dtype: int64"
      ]
     },
     "execution_count": 52,
     "metadata": {},
     "output_type": "execute_result"
    }
   ],
   "source": [
    "df.fractures.value_counts(dropna=False)"
   ]
  },
  {
   "cell_type": "markdown",
   "id": "0a85b072",
   "metadata": {},
   "source": [
    "### Колонка smoking"
   ]
  },
  {
   "cell_type": "code",
   "execution_count": 53,
   "id": "7c8196a4",
   "metadata": {},
   "outputs": [
    {
     "data": {
      "text/plain": [
       "Никогда не курил(а)    911\n",
       "Курит                  360\n",
       "Бросил(а)              321\n",
       "Никогда не курил         1\n",
       "Name: smoking, dtype: int64"
      ]
     },
     "execution_count": 53,
     "metadata": {},
     "output_type": "execute_result"
    }
   ],
   "source": [
    "df.smoking.value_counts(dropna=False)"
   ]
  },
  {
   "cell_type": "code",
   "execution_count": 54,
   "id": "a5be801f",
   "metadata": {},
   "outputs": [],
   "source": [
    "#Исправление ошибки\n",
    "df.smoking.replace('Никогда не курил', 'Никогда не курил(а)', inplace=True)"
   ]
  },
  {
   "cell_type": "code",
   "execution_count": 55,
   "id": "c8f1804b",
   "metadata": {},
   "outputs": [
    {
     "name": "stdout",
     "output_type": "stream",
     "text": [
      "before replace:  ['Бросил(а)', 'Курит', 'Никогда не курил(а)']\n",
      "after replace:  ['previous_smoke', 'smoking', 'never_smoke']\n"
     ]
    }
   ],
   "source": [
    "smoking = pd.get_dummies(df.smoking)\n",
    "print('before replace: ', list(smoking.columns))\n",
    "smoking.columns=['previous_smoke', 'smoking', 'never_smoke']\n",
    "print('after replace: ', list(smoking.columns))"
   ]
  },
  {
   "cell_type": "code",
   "execution_count": 56,
   "id": "446f0b96",
   "metadata": {},
   "outputs": [],
   "source": [
    "df = df.drop('smoking', axis=True)"
   ]
  },
  {
   "cell_type": "markdown",
   "id": "5f94996b",
   "metadata": {},
   "source": [
    "### Колонка smoking_duration"
   ]
  },
  {
   "cell_type": "code",
   "execution_count": 57,
   "id": "b4ed9f4e",
   "metadata": {},
   "outputs": [
    {
     "data": {
      "text/plain": [
       "NaN     912\n",
       "20.0    111\n",
       "18.0     94\n",
       "16.0     72\n",
       "17.0     66\n",
       "15.0     51\n",
       "19.0     33\n",
       "25.0     31\n",
       "30.0     23\n",
       "14.0     18\n",
       "12.0     15\n",
       "21.0     15\n",
       "22.0     14\n",
       "7.0      13\n",
       "24.0     11\n",
       "40.0     11\n",
       "23.0     10\n",
       "13.0      9\n",
       "10.0      9\n",
       "35.0      9\n",
       "6.0       5\n",
       "27.0      5\n",
       "45.0      5\n",
       "26.0      5\n",
       "8.0       4\n",
       "28.0      4\n",
       "29.0      4\n",
       "33.0      3\n",
       "36.0      3\n",
       "41.0      3\n",
       "50.0      3\n",
       "31.0      2\n",
       "39.0      2\n",
       "47.0      2\n",
       "52.0      1\n",
       "44.0      1\n",
       "38.0      1\n",
       "32.0      1\n",
       "56.0      1\n",
       "42.0      1\n",
       "55.0      1\n",
       "58.0      1\n",
       "11.0      1\n",
       "51.0      1\n",
       "34.0      1\n",
       "37.0      1\n",
       "53.0      1\n",
       "5.0       1\n",
       "54.0      1\n",
       "43.0      1\n",
       "Name: smoking_duration, dtype: int64"
      ]
     },
     "execution_count": 57,
     "metadata": {},
     "output_type": "execute_result"
    }
   ],
   "source": [
    "df.smoking_duration.value_counts(dropna=False)"
   ]
  },
  {
   "cell_type": "code",
   "execution_count": 58,
   "id": "56e9633d",
   "metadata": {},
   "outputs": [],
   "source": [
    "df.smoking_duration.fillna(0, inplace=True)"
   ]
  },
  {
   "cell_type": "code",
   "execution_count": 59,
   "id": "c6cfd3aa",
   "metadata": {},
   "outputs": [
    {
     "data": {
      "text/plain": [
       "<AxesSubplot:xlabel='smoking_duration', ylabel='Count'>"
      ]
     },
     "execution_count": 59,
     "metadata": {},
     "output_type": "execute_result"
    },
    {
     "data": {
      "image/png": "[encoded data removed]",
      "text/plain": [
       "<Figure size 432x288 with 1 Axes>"
      ]
     },
     "metadata": {
      "needs_background": "light"
     },
     "output_type": "display_data"
    }
   ],
   "source": [
    "sns.histplot(df.smoking_duration)"
   ]
  },
  {
   "cell_type": "code",
   "execution_count": 60,
   "id": "66c418dd",
   "metadata": {},
   "outputs": [],
   "source": [
    "df.smoking_duration = np.log(df['smoking_duration'] + 1)"
   ]
  },
  {
   "cell_type": "markdown",
   "id": "29cf8613",
   "metadata": {},
   "source": [
    "### Колонка ciggaretes_per_day"
   ]
  },
  {
   "cell_type": "code",
   "execution_count": 61,
   "id": "b0028c11",
   "metadata": {},
   "outputs": [
    {
     "data": {
      "text/plain": [
       "NaN      919\n",
       "20.0     186\n",
       "10.0     139\n",
       "5.0       69\n",
       "15.0      51\n",
       "3.0       28\n",
       "2.0       28\n",
       "30.0      24\n",
       "40.0      23\n",
       "1.0       22\n",
       "4.0       22\n",
       "6.0       19\n",
       "7.0       16\n",
       "12.0      11\n",
       "8.0       10\n",
       "25.0       7\n",
       "60.0       4\n",
       "50.0       2\n",
       "18.0       2\n",
       "13.0       2\n",
       "17.0       2\n",
       "16.0       2\n",
       "180.0      1\n",
       "80.0       1\n",
       "35.0       1\n",
       "14.0       1\n",
       "11.0       1\n",
       "Name: ciggaretes_per_day, dtype: int64"
      ]
     },
     "execution_count": 61,
     "metadata": {},
     "output_type": "execute_result"
    }
   ],
   "source": [
    "df.ciggaretes_per_day.value_counts(dropna=False)"
   ]
  },
  {
   "cell_type": "code",
   "execution_count": 62,
   "id": "c9d3eb12",
   "metadata": {},
   "outputs": [],
   "source": [
    "df.ciggaretes_per_day.fillna(0, inplace=True)"
   ]
  },
  {
   "cell_type": "code",
   "execution_count": 63,
   "id": "1eb3281f",
   "metadata": {},
   "outputs": [],
   "source": [
    "df.ciggaretes_per_day = np.log(df['ciggaretes_per_day']+1)"
   ]
  },
  {
   "cell_type": "code",
   "execution_count": 64,
   "id": "abc6033d",
   "metadata": {},
   "outputs": [
    {
     "data": {
      "text/plain": [
       "<AxesSubplot:>"
      ]
     },
     "execution_count": 64,
     "metadata": {},
     "output_type": "execute_result"
    },
    {
     "data": {
      "image/png": "[encoded data removed]",
      "text/plain": [
       "<Figure size 432x288 with 1 Axes>"
      ]
     },
     "metadata": {
      "needs_background": "light"
     },
     "output_type": "display_data"
    }
   ],
   "source": [
    "df.ciggaretes_per_day.hist()"
   ]
  },
  {
   "cell_type": "markdown",
   "id": "aa8ee9e4",
   "metadata": {},
   "source": [
    "### Колонка passive_smoking"
   ]
  },
  {
   "cell_type": "code",
   "execution_count": 65,
   "id": "de0be74a",
   "metadata": {},
   "outputs": [
    {
     "data": {
      "text/plain": [
       "0    1215\n",
       "1     378\n",
       "Name: passive_smoking, dtype: int64"
      ]
     },
     "execution_count": 65,
     "metadata": {},
     "output_type": "execute_result"
    }
   ],
   "source": [
    "df.passive_smoking.value_counts(dropna=False)"
   ]
  },
  {
   "cell_type": "markdown",
   "id": "be0f2f49",
   "metadata": {},
   "source": [
    "### Колонка passive_smoking_frequency"
   ]
  },
  {
   "cell_type": "code",
   "execution_count": 66,
   "id": "519caed5",
   "metadata": {},
   "outputs": [
    {
     "data": {
      "text/plain": [
       "NaN                       1216\n",
       "1-2 раза в неделю          158\n",
       "4 и более раз в день        75\n",
       "2-3 раза в день             59\n",
       "не менее 1 раза в день      47\n",
       "3-6 раз в неделю            38\n",
       "Name: passive_smoking_frequency, dtype: int64"
      ]
     },
     "execution_count": 66,
     "metadata": {},
     "output_type": "execute_result"
    }
   ],
   "source": [
    "df.passive_smoking_frequency.value_counts(dropna=False)"
   ]
  },
  {
   "cell_type": "code",
   "execution_count": 67,
   "id": "692634cb",
   "metadata": {},
   "outputs": [],
   "source": [
    "df.passive_smoking_frequency.fillna(0, inplace=True)"
   ]
  },
  {
   "cell_type": "code",
   "execution_count": 68,
   "id": "e6489095",
   "metadata": {},
   "outputs": [],
   "source": [
    "#Словарь для замены текста на порядок:\n",
    "passive_smoking_dict = {'1-2 раза в неделю':1, '3-6 раз в неделю':2, 'не менее 1 раза в день':3, '2-3 раза в день':4, '4 и более раз в день':5}"
   ]
  },
  {
   "cell_type": "code",
   "execution_count": 69,
   "id": "8e60f43d",
   "metadata": {},
   "outputs": [],
   "source": [
    "df.passive_smoking_frequency.replace(passive_smoking_dict, inplace=True)"
   ]
  },
  {
   "cell_type": "markdown",
   "id": "8af810c1",
   "metadata": {},
   "source": [
    "### Колонка alcohol"
   ]
  },
  {
   "cell_type": "code",
   "execution_count": 70,
   "id": "8551ab21",
   "metadata": {},
   "outputs": [
    {
     "data": {
      "text/plain": [
       "употребляю в настоящее время    1046\n",
       "никогда не употреблял            300\n",
       "ранее употреблял                 247\n",
       "Name: alcohol, dtype: int64"
      ]
     },
     "execution_count": 70,
     "metadata": {},
     "output_type": "execute_result"
    }
   ],
   "source": [
    "df.alcohol.value_counts(dropna=False)"
   ]
  },
  {
   "cell_type": "code",
   "execution_count": 71,
   "id": "c6722a41",
   "metadata": {},
   "outputs": [
    {
     "name": "stdout",
     "output_type": "stream",
     "text": [
      "Before replace:  ['никогда не употреблял', 'ранее употреблял', 'употребляю в настоящее время']\n",
      "After replace:  ['never_drink_alco', 'previous_drink_alco', 'drink_alco_now']\n"
     ]
    }
   ],
   "source": [
    "alcohol = pd.get_dummies(df.alcohol)\n",
    "print('Before replace: ', list(alcohol.columns))\n",
    "alcohol.columns = ['never_drink_alco', 'previous_drink_alco', 'drink_alco_now']\n",
    "print('After replace: ', list(alcohol.columns))"
   ]
  },
  {
   "cell_type": "code",
   "execution_count": 72,
   "id": "a37ac600",
   "metadata": {},
   "outputs": [],
   "source": [
    "df = pd.concat([df, alcohol], axis=1)\n",
    "df.drop('alcohol', axis=1, inplace=True)"
   ]
  },
  {
   "cell_type": "markdown",
   "id": "aa6905e5",
   "metadata": {},
   "source": [
    "### Колонка alcohol_duration"
   ]
  },
  {
   "cell_type": "code",
   "execution_count": 73,
   "id": "3d1796fc",
   "metadata": {},
   "outputs": [
    {
     "data": {
      "text/plain": [
       "NaN     304\n",
       "20.0    299\n",
       "18.0    278\n",
       "17.0    131\n",
       "16.0    111\n",
       "25.0     88\n",
       "19.0     66\n",
       "21.0     57\n",
       "15.0     50\n",
       "22.0     42\n",
       "30.0     28\n",
       "23.0     25\n",
       "14.0     18\n",
       "35.0     15\n",
       "24.0     13\n",
       "26.0      8\n",
       "40.0      8\n",
       "12.0      5\n",
       "45.0      5\n",
       "29.0      5\n",
       "33.0      4\n",
       "27.0      4\n",
       "37.0      4\n",
       "13.0      4\n",
       "10.0      3\n",
       "50.0      3\n",
       "32.0      3\n",
       "6.0       2\n",
       "28.0      2\n",
       "46.0      1\n",
       "36.0      1\n",
       "9.0       1\n",
       "48.0      1\n",
       "63.0      1\n",
       "43.0      1\n",
       "44.0      1\n",
       "60.0      1\n",
       "Name: alcohol_duration, dtype: int64"
      ]
     },
     "execution_count": 73,
     "metadata": {},
     "output_type": "execute_result"
    }
   ],
   "source": [
    "df.alcohol_duration.value_counts(dropna=False)"
   ]
  },
  {
   "cell_type": "code",
   "execution_count": 74,
   "id": "a9923fd2",
   "metadata": {},
   "outputs": [],
   "source": [
    "df.alcohol_duration.fillna(0, inplace=True)"
   ]
  },
  {
   "cell_type": "code",
   "execution_count": 75,
   "id": "6cda32bc",
   "metadata": {
    "scrolled": true
   },
   "outputs": [],
   "source": [
    "df.alcohol_duration = np.log(df['alcohol_duration'] + 1)"
   ]
  },
  {
   "cell_type": "markdown",
   "id": "93666e21",
   "metadata": {},
   "source": [
    "### Колонка time_fall_asleep"
   ]
  },
  {
   "cell_type": "code",
   "execution_count": 76,
   "id": "f4fbe4ad",
   "metadata": {},
   "outputs": [],
   "source": [
    "df.time_fall_asleep = df.time_fall_asleep.apply(lambda x: dt.strptime(x, '%H:%M:%S'))"
   ]
  },
  {
   "cell_type": "code",
   "execution_count": 77,
   "id": "c9760ad3",
   "metadata": {},
   "outputs": [
    {
     "data": {
      "text/plain": [
       "1900-01-01 23:00:00    518\n",
       "1900-01-01 00:00:00    343\n",
       "1900-01-01 22:00:00    291\n",
       "1900-01-01 01:00:00    113\n",
       "1900-01-01 23:30:00     73\n",
       "1900-01-01 21:00:00     63\n",
       "1900-01-01 22:30:00     62\n",
       "1900-01-01 02:00:00     34\n",
       "1900-01-01 00:30:00     30\n",
       "1900-01-01 21:30:00     22\n",
       "1900-01-01 23:59:00      9\n",
       "1900-01-01 01:30:00      7\n",
       "1900-01-01 23:50:00      6\n",
       "1900-01-01 03:00:00      4\n",
       "1900-01-01 02:30:00      2\n",
       "1900-01-01 20:00:00      2\n",
       "1900-01-01 00:10:00      2\n",
       "1900-01-01 01:20:00      1\n",
       "1900-01-01 00:15:00      1\n",
       "1900-01-01 12:00:00      1\n",
       "1900-01-01 00:01:00      1\n",
       "1900-01-01 20:30:00      1\n",
       "1900-01-01 22:23:00      1\n",
       "1900-01-01 21:50:00      1\n",
       "1900-01-01 09:00:00      1\n",
       "1900-01-01 00:05:00      1\n",
       "1900-01-01 04:00:00      1\n",
       "1900-01-01 00:00:30      1\n",
       "1900-01-01 05:00:00      1\n",
       "Name: time_fall_asleep, dtype: int64"
      ]
     },
     "execution_count": 77,
     "metadata": {},
     "output_type": "execute_result"
    }
   ],
   "source": [
    "df.time_fall_asleep.value_counts()"
   ]
  },
  {
   "cell_type": "markdown",
   "id": "e97e3ea8",
   "metadata": {},
   "source": [
    "### Статья о времени засыпания:\n",
    "- https://doi.org/10.1093/ehjdh/ztab088"
   ]
  },
  {
   "cell_type": "code",
   "execution_count": 78,
   "id": "c6d5d087",
   "metadata": {},
   "outputs": [],
   "source": [
    "df['sleep_onset_early_22'] = np.where(df.time_fall_asleep.dt.time.between(time(20,0),time(21,59)), 1, 0)\n",
    "df['sleep_onset_22'] = np.where(df.time_fall_asleep.dt.time.between(time(22,0),time(22,59)), 1, 0)\n",
    "df['sleep_onset_23'] = np.where(df.time_fall_asleep.dt.time.between(time(23,0),time(23,59)), 1, 0)\n",
    "df['sleep_onset_later_after_0'] = np.where(df.time_fall_asleep.dt.time.between(time(0,0),time(4,0)), 1, 0)"
   ]
  },
  {
   "cell_type": "markdown",
   "id": "4a47c738",
   "metadata": {},
   "source": [
    "### Колонка time_awakening"
   ]
  },
  {
   "cell_type": "code",
   "execution_count": 79,
   "id": "af36cd66",
   "metadata": {},
   "outputs": [],
   "source": [
    "df.time_awakening = df.time_awakening.apply(lambda x: dt.strptime(x, '%H:%M:%S')) "
   ]
  },
  {
   "cell_type": "code",
   "execution_count": 80,
   "id": "5430ad67",
   "metadata": {},
   "outputs": [
    {
     "data": {
      "text/plain": [
       "1900-01-01 06:00:00    396\n",
       "1900-01-01 07:00:00    374\n",
       "1900-01-01 08:00:00    208\n",
       "1900-01-01 06:30:00    116\n",
       "1900-01-01 09:00:00    105\n",
       "1900-01-01 05:30:00     79\n",
       "1900-01-01 05:00:00     73\n",
       "1900-01-01 07:30:00     64\n",
       "1900-01-01 10:00:00     43\n",
       "1900-01-01 08:30:00     24\n",
       "1900-01-01 04:00:00     23\n",
       "1900-01-01 04:30:00     13\n",
       "1900-01-01 09:30:00     11\n",
       "1900-01-01 11:00:00      7\n",
       "1900-01-01 06:15:00      6\n",
       "1900-01-01 06:20:00      5\n",
       "1900-01-01 12:00:00      5\n",
       "1900-01-01 03:00:00      4\n",
       "1900-01-01 07:20:00      4\n",
       "1900-01-01 00:00:00      3\n",
       "1900-01-01 06:03:00      3\n",
       "1900-01-01 06:50:00      3\n",
       "1900-01-01 06:40:00      3\n",
       "1900-01-01 05:50:00      3\n",
       "1900-01-01 10:30:00      2\n",
       "1900-01-01 06:10:00      2\n",
       "1900-01-01 06:45:00      2\n",
       "1900-01-01 07:15:00      2\n",
       "1900-01-01 03:40:00      1\n",
       "1900-01-01 05:15:00      1\n",
       "1900-01-01 06:05:00      1\n",
       "1900-01-01 05:20:00      1\n",
       "1900-01-01 08:03:00      1\n",
       "1900-01-01 07:08:00      1\n",
       "1900-01-01 05:40:00      1\n",
       "1900-01-01 03:30:00      1\n",
       "1900-01-01 04:40:00      1\n",
       "1900-01-01 00:06:00      1\n",
       "Name: time_awakening, dtype: int64"
      ]
     },
     "execution_count": 80,
     "metadata": {},
     "output_type": "execute_result"
    }
   ],
   "source": [
    "df.time_awakening.value_counts()"
   ]
  },
  {
   "cell_type": "code",
   "execution_count": 81,
   "id": "d561790b",
   "metadata": {},
   "outputs": [],
   "source": [
    "df['sleep_upset_early_6'] = np.where(df.time_awakening.dt.time.between(time(4,0),time(5,59)), 1, 0)\n",
    "df['sleep_upset_6'] = np.where(df.time_awakening.dt.time.between(time(6,0),time(6,59)), 1, 0)\n",
    "df['sleep_upset_7'] = np.where(df.time_awakening.dt.time.between(time(7,0),time(7,59)), 1, 0)\n",
    "df['sleep_upset_8'] = np.where(df.time_awakening.dt.time.between(time(8,0),time(8,59)), 1, 0)\n",
    "df['sleep_upset_after_9'] = np.where(df.time_awakening.dt.time.between(time(9,0),time(11,59)), 1, 0)"
   ]
  },
  {
   "cell_type": "code",
   "execution_count": null,
   "id": "e1d3e575",
   "metadata": {},
   "outputs": [],
   "source": []
  },
  {
   "cell_type": "code",
   "execution_count": 82,
   "id": "086ddd22",
   "metadata": {},
   "outputs": [],
   "source": [
    "df['sleeptime'] = (df.time_awakening - df.time_fall_asleep).apply(lambda x: x.seconds//3600)"
   ]
  },
  {
   "cell_type": "code",
   "execution_count": 83,
   "id": "9ce3d688",
   "metadata": {},
   "outputs": [],
   "source": [
    "df.drop(['time_fall_asleep','time_awakening'], axis=1, inplace=True)"
   ]
  },
  {
   "cell_type": "markdown",
   "id": "00062412",
   "metadata": {},
   "source": [
    "### Колонка midday_sleep"
   ]
  },
  {
   "cell_type": "code",
   "execution_count": 84,
   "id": "9591363c",
   "metadata": {},
   "outputs": [
    {
     "data": {
      "text/plain": [
       "0    1232\n",
       "1     361\n",
       "Name: midday_sleep, dtype: int64"
      ]
     },
     "execution_count": 84,
     "metadata": {},
     "output_type": "execute_result"
    }
   ],
   "source": [
    "df.midday_sleep.value_counts(dropna=False)"
   ]
  },
  {
   "cell_type": "markdown",
   "id": "041a29df",
   "metadata": {},
   "source": [
    "### Колонка sport_clubs"
   ]
  },
  {
   "cell_type": "code",
   "execution_count": 85,
   "id": "039c926a",
   "metadata": {},
   "outputs": [
    {
     "data": {
      "text/plain": [
       "0    1491\n",
       "1     102\n",
       "Name: sport_clubs, dtype: int64"
      ]
     },
     "execution_count": 85,
     "metadata": {},
     "output_type": "execute_result"
    }
   ],
   "source": [
    "df.sport_clubs.value_counts(dropna=False)"
   ]
  },
  {
   "cell_type": "markdown",
   "id": "866e0db0",
   "metadata": {},
   "source": [
    "### Колонка religion_clubs"
   ]
  },
  {
   "cell_type": "code",
   "execution_count": 86,
   "id": "6b42eb58",
   "metadata": {},
   "outputs": [
    {
     "data": {
      "text/plain": [
       "0    1557\n",
       "1      36\n",
       "Name: religion_clubs, dtype: int64"
      ]
     },
     "execution_count": 86,
     "metadata": {},
     "output_type": "execute_result"
    }
   ],
   "source": [
    "df.religion_clubs.value_counts(dropna=False)"
   ]
  },
  {
   "cell_type": "markdown",
   "id": "a4c28377",
   "metadata": {},
   "source": [
    "## Подготовка данных"
   ]
  },
  {
   "cell_type": "code",
   "execution_count": 87,
   "id": "3cb55fab",
   "metadata": {},
   "outputs": [
    {
     "data": {
      "text/plain": [
       "0"
      ]
     },
     "execution_count": 87,
     "metadata": {},
     "output_type": "execute_result"
    }
   ],
   "source": [
    "# Проверка на наличие пропусков в итоговом наборе данных\n",
    "df.isna().sum().sum()"
   ]
  },
  {
   "cell_type": "code",
   "execution_count": 88,
   "id": "2617ab6e",
   "metadata": {},
   "outputs": [
    {
     "data": {
      "text/html": [
       "<div>\n",
       "<style scoped>\n",
       "    .dataframe tbody tr th:only-of-type {\n",
       "        vertical-align: middle;\n",
       "    }\n",
       "\n",
       "    .dataframe tbody tr th {\n",
       "        vertical-align: top;\n",
       "    }\n",
       "\n",
       "    .dataframe thead th {\n",
       "        text-align: right;\n",
       "    }\n",
       "</style>\n",
       "<table border=\"1\" class=\"dataframe\">\n",
       "  <thead>\n",
       "    <tr style=\"text-align: right;\">\n",
       "      <th></th>\n",
       "      <th>sex</th>\n",
       "      <th>education</th>\n",
       "      <th>job</th>\n",
       "      <th>retired</th>\n",
       "      <th>stop_work_due_disease</th>\n",
       "      <th>diabetes</th>\n",
       "      <th>hepatitis</th>\n",
       "      <th>oncology</th>\n",
       "      <th>chronic_lung_disease</th>\n",
       "      <th>bronchial_asthma</th>\n",
       "      <th>tuberculosis</th>\n",
       "      <th>hiv/aids</th>\n",
       "      <th>intake_medicines</th>\n",
       "      <th>trauma_last_year</th>\n",
       "      <th>fractures</th>\n",
       "      <th>smoking_duration</th>\n",
       "      <th>ciggaretes_per_day</th>\n",
       "      <th>passive_smoking</th>\n",
       "      <th>passive_smoking_frequency</th>\n",
       "      <th>alcohol_duration</th>\n",
       "      <th>midday_sleep</th>\n",
       "      <th>sport_clubs</th>\n",
       "      <th>religion_clubs</th>\n",
       "      <th>train</th>\n",
       "      <th>married</th>\n",
       "      <th>divorced</th>\n",
       "      <th>widowed</th>\n",
       "      <th>cohabited</th>\n",
       "      <th>single</th>\n",
       "      <th>separated</th>\n",
       "      <th>asian</th>\n",
       "      <th>european</th>\n",
       "      <th>other</th>\n",
       "      <th>is_russian</th>\n",
       "      <th>atheist</th>\n",
       "      <th>muslim</th>\n",
       "      <th>no</th>\n",
       "      <th>christian</th>\n",
       "      <th>household</th>\n",
       "      <th>military</th>\n",
       "      <th>senior_specialist</th>\n",
       "      <th>farmer/fisherman</th>\n",
       "      <th>low_qualified_work</th>\n",
       "      <th>industry</th>\n",
       "      <th>top_management</th>\n",
       "      <th>service</th>\n",
       "      <th>crafters_other</th>\n",
       "      <th>office</th>\n",
       "      <th>junior_specialists</th>\n",
       "      <th>never_drink_alco</th>\n",
       "      <th>previous_drink_alco</th>\n",
       "      <th>drink_alco_now</th>\n",
       "      <th>sleep_onset_early_22</th>\n",
       "      <th>sleep_onset_22</th>\n",
       "      <th>sleep_onset_23</th>\n",
       "      <th>sleep_onset_later_after_0</th>\n",
       "      <th>sleep_upset_early_6</th>\n",
       "      <th>sleep_upset_6</th>\n",
       "      <th>sleep_upset_7</th>\n",
       "      <th>sleep_upset_8</th>\n",
       "      <th>sleep_upset_after_9</th>\n",
       "      <th>sleeptime</th>\n",
       "    </tr>\n",
       "  </thead>\n",
       "  <tbody>\n",
       "    <tr>\n",
       "      <th>0</th>\n",
       "      <td>1</td>\n",
       "      <td>2</td>\n",
       "      <td>1</td>\n",
       "      <td>0</td>\n",
       "      <td>0</td>\n",
       "      <td>0</td>\n",
       "      <td>0</td>\n",
       "      <td>0</td>\n",
       "      <td>0</td>\n",
       "      <td>0</td>\n",
       "      <td>0</td>\n",
       "      <td>0</td>\n",
       "      <td>0</td>\n",
       "      <td>0</td>\n",
       "      <td>0</td>\n",
       "      <td>2.772589</td>\n",
       "      <td>3.044522</td>\n",
       "      <td>0</td>\n",
       "      <td>0</td>\n",
       "      <td>2.944439</td>\n",
       "      <td>0</td>\n",
       "      <td>0</td>\n",
       "      <td>0</td>\n",
       "      <td>1</td>\n",
       "      <td>1</td>\n",
       "      <td>0</td>\n",
       "      <td>0</td>\n",
       "      <td>0</td>\n",
       "      <td>0</td>\n",
       "      <td>0</td>\n",
       "      <td>0</td>\n",
       "      <td>1</td>\n",
       "      <td>0</td>\n",
       "      <td>1</td>\n",
       "      <td>0</td>\n",
       "      <td>0</td>\n",
       "      <td>0</td>\n",
       "      <td>1</td>\n",
       "      <td>0</td>\n",
       "      <td>0</td>\n",
       "      <td>0</td>\n",
       "      <td>0</td>\n",
       "      <td>1</td>\n",
       "      <td>0</td>\n",
       "      <td>0</td>\n",
       "      <td>0</td>\n",
       "      <td>0</td>\n",
       "      <td>0</td>\n",
       "      <td>0</td>\n",
       "      <td>0</td>\n",
       "      <td>0</td>\n",
       "      <td>1</td>\n",
       "      <td>0</td>\n",
       "      <td>1</td>\n",
       "      <td>0</td>\n",
       "      <td>0</td>\n",
       "      <td>0</td>\n",
       "      <td>1</td>\n",
       "      <td>0</td>\n",
       "      <td>0</td>\n",
       "      <td>0</td>\n",
       "      <td>8</td>\n",
       "    </tr>\n",
       "    <tr>\n",
       "      <th>1</th>\n",
       "      <td>0</td>\n",
       "      <td>4</td>\n",
       "      <td>0</td>\n",
       "      <td>0</td>\n",
       "      <td>0</td>\n",
       "      <td>1</td>\n",
       "      <td>0</td>\n",
       "      <td>0</td>\n",
       "      <td>0</td>\n",
       "      <td>0</td>\n",
       "      <td>0</td>\n",
       "      <td>0</td>\n",
       "      <td>1</td>\n",
       "      <td>0</td>\n",
       "      <td>1</td>\n",
       "      <td>0.000000</td>\n",
       "      <td>0.000000</td>\n",
       "      <td>0</td>\n",
       "      <td>0</td>\n",
       "      <td>0.000000</td>\n",
       "      <td>1</td>\n",
       "      <td>0</td>\n",
       "      <td>0</td>\n",
       "      <td>1</td>\n",
       "      <td>0</td>\n",
       "      <td>1</td>\n",
       "      <td>0</td>\n",
       "      <td>0</td>\n",
       "      <td>0</td>\n",
       "      <td>0</td>\n",
       "      <td>0</td>\n",
       "      <td>1</td>\n",
       "      <td>0</td>\n",
       "      <td>1</td>\n",
       "      <td>0</td>\n",
       "      <td>0</td>\n",
       "      <td>0</td>\n",
       "      <td>1</td>\n",
       "      <td>0</td>\n",
       "      <td>0</td>\n",
       "      <td>1</td>\n",
       "      <td>0</td>\n",
       "      <td>0</td>\n",
       "      <td>0</td>\n",
       "      <td>0</td>\n",
       "      <td>0</td>\n",
       "      <td>0</td>\n",
       "      <td>0</td>\n",
       "      <td>0</td>\n",
       "      <td>1</td>\n",
       "      <td>0</td>\n",
       "      <td>0</td>\n",
       "      <td>0</td>\n",
       "      <td>0</td>\n",
       "      <td>0</td>\n",
       "      <td>1</td>\n",
       "      <td>1</td>\n",
       "      <td>0</td>\n",
       "      <td>0</td>\n",
       "      <td>0</td>\n",
       "      <td>0</td>\n",
       "      <td>4</td>\n",
       "    </tr>\n",
       "    <tr>\n",
       "      <th>2</th>\n",
       "      <td>0</td>\n",
       "      <td>4</td>\n",
       "      <td>0</td>\n",
       "      <td>0</td>\n",
       "      <td>0</td>\n",
       "      <td>0</td>\n",
       "      <td>0</td>\n",
       "      <td>0</td>\n",
       "      <td>0</td>\n",
       "      <td>0</td>\n",
       "      <td>0</td>\n",
       "      <td>0</td>\n",
       "      <td>1</td>\n",
       "      <td>0</td>\n",
       "      <td>0</td>\n",
       "      <td>0.000000</td>\n",
       "      <td>0.000000</td>\n",
       "      <td>1</td>\n",
       "      <td>1</td>\n",
       "      <td>2.890372</td>\n",
       "      <td>0</td>\n",
       "      <td>0</td>\n",
       "      <td>0</td>\n",
       "      <td>1</td>\n",
       "      <td>1</td>\n",
       "      <td>0</td>\n",
       "      <td>0</td>\n",
       "      <td>0</td>\n",
       "      <td>0</td>\n",
       "      <td>0</td>\n",
       "      <td>0</td>\n",
       "      <td>1</td>\n",
       "      <td>0</td>\n",
       "      <td>1</td>\n",
       "      <td>0</td>\n",
       "      <td>0</td>\n",
       "      <td>0</td>\n",
       "      <td>1</td>\n",
       "      <td>0</td>\n",
       "      <td>0</td>\n",
       "      <td>1</td>\n",
       "      <td>0</td>\n",
       "      <td>0</td>\n",
       "      <td>0</td>\n",
       "      <td>0</td>\n",
       "      <td>0</td>\n",
       "      <td>0</td>\n",
       "      <td>0</td>\n",
       "      <td>0</td>\n",
       "      <td>0</td>\n",
       "      <td>0</td>\n",
       "      <td>1</td>\n",
       "      <td>0</td>\n",
       "      <td>0</td>\n",
       "      <td>1</td>\n",
       "      <td>0</td>\n",
       "      <td>0</td>\n",
       "      <td>0</td>\n",
       "      <td>1</td>\n",
       "      <td>0</td>\n",
       "      <td>0</td>\n",
       "      <td>8</td>\n",
       "    </tr>\n",
       "    <tr>\n",
       "      <th>3</th>\n",
       "      <td>1</td>\n",
       "      <td>2</td>\n",
       "      <td>1</td>\n",
       "      <td>0</td>\n",
       "      <td>0</td>\n",
       "      <td>0</td>\n",
       "      <td>0</td>\n",
       "      <td>1</td>\n",
       "      <td>0</td>\n",
       "      <td>0</td>\n",
       "      <td>0</td>\n",
       "      <td>0</td>\n",
       "      <td>1</td>\n",
       "      <td>0</td>\n",
       "      <td>0</td>\n",
       "      <td>2.564949</td>\n",
       "      <td>2.397895</td>\n",
       "      <td>1</td>\n",
       "      <td>2</td>\n",
       "      <td>2.639057</td>\n",
       "      <td>0</td>\n",
       "      <td>0</td>\n",
       "      <td>0</td>\n",
       "      <td>1</td>\n",
       "      <td>1</td>\n",
       "      <td>0</td>\n",
       "      <td>0</td>\n",
       "      <td>0</td>\n",
       "      <td>0</td>\n",
       "      <td>0</td>\n",
       "      <td>0</td>\n",
       "      <td>1</td>\n",
       "      <td>0</td>\n",
       "      <td>1</td>\n",
       "      <td>1</td>\n",
       "      <td>0</td>\n",
       "      <td>0</td>\n",
       "      <td>0</td>\n",
       "      <td>0</td>\n",
       "      <td>0</td>\n",
       "      <td>0</td>\n",
       "      <td>0</td>\n",
       "      <td>1</td>\n",
       "      <td>0</td>\n",
       "      <td>0</td>\n",
       "      <td>0</td>\n",
       "      <td>0</td>\n",
       "      <td>0</td>\n",
       "      <td>0</td>\n",
       "      <td>0</td>\n",
       "      <td>0</td>\n",
       "      <td>1</td>\n",
       "      <td>0</td>\n",
       "      <td>0</td>\n",
       "      <td>1</td>\n",
       "      <td>0</td>\n",
       "      <td>0</td>\n",
       "      <td>0</td>\n",
       "      <td>1</td>\n",
       "      <td>0</td>\n",
       "      <td>0</td>\n",
       "      <td>8</td>\n",
       "    </tr>\n",
       "    <tr>\n",
       "      <th>4</th>\n",
       "      <td>0</td>\n",
       "      <td>2</td>\n",
       "      <td>0</td>\n",
       "      <td>0</td>\n",
       "      <td>1</td>\n",
       "      <td>1</td>\n",
       "      <td>1</td>\n",
       "      <td>0</td>\n",
       "      <td>0</td>\n",
       "      <td>0</td>\n",
       "      <td>0</td>\n",
       "      <td>0</td>\n",
       "      <td>1</td>\n",
       "      <td>0</td>\n",
       "      <td>1</td>\n",
       "      <td>0.000000</td>\n",
       "      <td>0.000000</td>\n",
       "      <td>1</td>\n",
       "      <td>3</td>\n",
       "      <td>2.833213</td>\n",
       "      <td>0</td>\n",
       "      <td>0</td>\n",
       "      <td>0</td>\n",
       "      <td>1</td>\n",
       "      <td>1</td>\n",
       "      <td>0</td>\n",
       "      <td>0</td>\n",
       "      <td>0</td>\n",
       "      <td>0</td>\n",
       "      <td>0</td>\n",
       "      <td>0</td>\n",
       "      <td>1</td>\n",
       "      <td>0</td>\n",
       "      <td>1</td>\n",
       "      <td>0</td>\n",
       "      <td>0</td>\n",
       "      <td>0</td>\n",
       "      <td>1</td>\n",
       "      <td>0</td>\n",
       "      <td>0</td>\n",
       "      <td>0</td>\n",
       "      <td>0</td>\n",
       "      <td>0</td>\n",
       "      <td>1</td>\n",
       "      <td>0</td>\n",
       "      <td>0</td>\n",
       "      <td>0</td>\n",
       "      <td>0</td>\n",
       "      <td>0</td>\n",
       "      <td>0</td>\n",
       "      <td>0</td>\n",
       "      <td>1</td>\n",
       "      <td>0</td>\n",
       "      <td>0</td>\n",
       "      <td>1</td>\n",
       "      <td>0</td>\n",
       "      <td>0</td>\n",
       "      <td>1</td>\n",
       "      <td>0</td>\n",
       "      <td>0</td>\n",
       "      <td>0</td>\n",
       "      <td>7</td>\n",
       "    </tr>\n",
       "    <tr>\n",
       "      <th>...</th>\n",
       "      <td>...</td>\n",
       "      <td>...</td>\n",
       "      <td>...</td>\n",
       "      <td>...</td>\n",
       "      <td>...</td>\n",
       "      <td>...</td>\n",
       "      <td>...</td>\n",
       "      <td>...</td>\n",
       "      <td>...</td>\n",
       "      <td>...</td>\n",
       "      <td>...</td>\n",
       "      <td>...</td>\n",
       "      <td>...</td>\n",
       "      <td>...</td>\n",
       "      <td>...</td>\n",
       "      <td>...</td>\n",
       "      <td>...</td>\n",
       "      <td>...</td>\n",
       "      <td>...</td>\n",
       "      <td>...</td>\n",
       "      <td>...</td>\n",
       "      <td>...</td>\n",
       "      <td>...</td>\n",
       "      <td>...</td>\n",
       "      <td>...</td>\n",
       "      <td>...</td>\n",
       "      <td>...</td>\n",
       "      <td>...</td>\n",
       "      <td>...</td>\n",
       "      <td>...</td>\n",
       "      <td>...</td>\n",
       "      <td>...</td>\n",
       "      <td>...</td>\n",
       "      <td>...</td>\n",
       "      <td>...</td>\n",
       "      <td>...</td>\n",
       "      <td>...</td>\n",
       "      <td>...</td>\n",
       "      <td>...</td>\n",
       "      <td>...</td>\n",
       "      <td>...</td>\n",
       "      <td>...</td>\n",
       "      <td>...</td>\n",
       "      <td>...</td>\n",
       "      <td>...</td>\n",
       "      <td>...</td>\n",
       "      <td>...</td>\n",
       "      <td>...</td>\n",
       "      <td>...</td>\n",
       "      <td>...</td>\n",
       "      <td>...</td>\n",
       "      <td>...</td>\n",
       "      <td>...</td>\n",
       "      <td>...</td>\n",
       "      <td>...</td>\n",
       "      <td>...</td>\n",
       "      <td>...</td>\n",
       "      <td>...</td>\n",
       "      <td>...</td>\n",
       "      <td>...</td>\n",
       "      <td>...</td>\n",
       "      <td>...</td>\n",
       "    </tr>\n",
       "    <tr>\n",
       "      <th>1588</th>\n",
       "      <td>0</td>\n",
       "      <td>4</td>\n",
       "      <td>1</td>\n",
       "      <td>0</td>\n",
       "      <td>0</td>\n",
       "      <td>1</td>\n",
       "      <td>0</td>\n",
       "      <td>0</td>\n",
       "      <td>0</td>\n",
       "      <td>0</td>\n",
       "      <td>0</td>\n",
       "      <td>0</td>\n",
       "      <td>1</td>\n",
       "      <td>1</td>\n",
       "      <td>1</td>\n",
       "      <td>0.000000</td>\n",
       "      <td>0.000000</td>\n",
       "      <td>0</td>\n",
       "      <td>0</td>\n",
       "      <td>3.433987</td>\n",
       "      <td>0</td>\n",
       "      <td>0</td>\n",
       "      <td>0</td>\n",
       "      <td>0</td>\n",
       "      <td>1</td>\n",
       "      <td>0</td>\n",
       "      <td>0</td>\n",
       "      <td>0</td>\n",
       "      <td>0</td>\n",
       "      <td>0</td>\n",
       "      <td>0</td>\n",
       "      <td>1</td>\n",
       "      <td>0</td>\n",
       "      <td>1</td>\n",
       "      <td>0</td>\n",
       "      <td>0</td>\n",
       "      <td>0</td>\n",
       "      <td>1</td>\n",
       "      <td>0</td>\n",
       "      <td>0</td>\n",
       "      <td>1</td>\n",
       "      <td>0</td>\n",
       "      <td>0</td>\n",
       "      <td>0</td>\n",
       "      <td>0</td>\n",
       "      <td>0</td>\n",
       "      <td>0</td>\n",
       "      <td>0</td>\n",
       "      <td>0</td>\n",
       "      <td>0</td>\n",
       "      <td>0</td>\n",
       "      <td>1</td>\n",
       "      <td>0</td>\n",
       "      <td>0</td>\n",
       "      <td>1</td>\n",
       "      <td>0</td>\n",
       "      <td>0</td>\n",
       "      <td>1</td>\n",
       "      <td>0</td>\n",
       "      <td>0</td>\n",
       "      <td>0</td>\n",
       "      <td>7</td>\n",
       "    </tr>\n",
       "    <tr>\n",
       "      <th>1589</th>\n",
       "      <td>0</td>\n",
       "      <td>4</td>\n",
       "      <td>0</td>\n",
       "      <td>1</td>\n",
       "      <td>0</td>\n",
       "      <td>0</td>\n",
       "      <td>0</td>\n",
       "      <td>0</td>\n",
       "      <td>0</td>\n",
       "      <td>0</td>\n",
       "      <td>0</td>\n",
       "      <td>0</td>\n",
       "      <td>1</td>\n",
       "      <td>0</td>\n",
       "      <td>0</td>\n",
       "      <td>0.000000</td>\n",
       "      <td>0.000000</td>\n",
       "      <td>0</td>\n",
       "      <td>0</td>\n",
       "      <td>0.000000</td>\n",
       "      <td>0</td>\n",
       "      <td>0</td>\n",
       "      <td>0</td>\n",
       "      <td>0</td>\n",
       "      <td>0</td>\n",
       "      <td>0</td>\n",
       "      <td>1</td>\n",
       "      <td>0</td>\n",
       "      <td>0</td>\n",
       "      <td>0</td>\n",
       "      <td>0</td>\n",
       "      <td>1</td>\n",
       "      <td>0</td>\n",
       "      <td>1</td>\n",
       "      <td>0</td>\n",
       "      <td>0</td>\n",
       "      <td>0</td>\n",
       "      <td>1</td>\n",
       "      <td>0</td>\n",
       "      <td>0</td>\n",
       "      <td>1</td>\n",
       "      <td>0</td>\n",
       "      <td>0</td>\n",
       "      <td>0</td>\n",
       "      <td>0</td>\n",
       "      <td>0</td>\n",
       "      <td>0</td>\n",
       "      <td>0</td>\n",
       "      <td>0</td>\n",
       "      <td>1</td>\n",
       "      <td>0</td>\n",
       "      <td>0</td>\n",
       "      <td>0</td>\n",
       "      <td>0</td>\n",
       "      <td>0</td>\n",
       "      <td>1</td>\n",
       "      <td>0</td>\n",
       "      <td>0</td>\n",
       "      <td>0</td>\n",
       "      <td>0</td>\n",
       "      <td>1</td>\n",
       "      <td>9</td>\n",
       "    </tr>\n",
       "    <tr>\n",
       "      <th>1590</th>\n",
       "      <td>0</td>\n",
       "      <td>3</td>\n",
       "      <td>1</td>\n",
       "      <td>0</td>\n",
       "      <td>0</td>\n",
       "      <td>0</td>\n",
       "      <td>0</td>\n",
       "      <td>0</td>\n",
       "      <td>0</td>\n",
       "      <td>0</td>\n",
       "      <td>0</td>\n",
       "      <td>0</td>\n",
       "      <td>1</td>\n",
       "      <td>0</td>\n",
       "      <td>0</td>\n",
       "      <td>0.000000</td>\n",
       "      <td>0.000000</td>\n",
       "      <td>1</td>\n",
       "      <td>3</td>\n",
       "      <td>3.258097</td>\n",
       "      <td>0</td>\n",
       "      <td>0</td>\n",
       "      <td>0</td>\n",
       "      <td>0</td>\n",
       "      <td>0</td>\n",
       "      <td>0</td>\n",
       "      <td>0</td>\n",
       "      <td>1</td>\n",
       "      <td>0</td>\n",
       "      <td>0</td>\n",
       "      <td>0</td>\n",
       "      <td>1</td>\n",
       "      <td>0</td>\n",
       "      <td>1</td>\n",
       "      <td>0</td>\n",
       "      <td>0</td>\n",
       "      <td>0</td>\n",
       "      <td>1</td>\n",
       "      <td>0</td>\n",
       "      <td>0</td>\n",
       "      <td>0</td>\n",
       "      <td>0</td>\n",
       "      <td>0</td>\n",
       "      <td>0</td>\n",
       "      <td>0</td>\n",
       "      <td>0</td>\n",
       "      <td>0</td>\n",
       "      <td>0</td>\n",
       "      <td>1</td>\n",
       "      <td>0</td>\n",
       "      <td>1</td>\n",
       "      <td>0</td>\n",
       "      <td>0</td>\n",
       "      <td>1</td>\n",
       "      <td>0</td>\n",
       "      <td>0</td>\n",
       "      <td>0</td>\n",
       "      <td>0</td>\n",
       "      <td>1</td>\n",
       "      <td>0</td>\n",
       "      <td>0</td>\n",
       "      <td>9</td>\n",
       "    </tr>\n",
       "    <tr>\n",
       "      <th>1591</th>\n",
       "      <td>0</td>\n",
       "      <td>3</td>\n",
       "      <td>1</td>\n",
       "      <td>0</td>\n",
       "      <td>0</td>\n",
       "      <td>0</td>\n",
       "      <td>0</td>\n",
       "      <td>0</td>\n",
       "      <td>0</td>\n",
       "      <td>0</td>\n",
       "      <td>0</td>\n",
       "      <td>0</td>\n",
       "      <td>0</td>\n",
       "      <td>0</td>\n",
       "      <td>0</td>\n",
       "      <td>0.000000</td>\n",
       "      <td>0.000000</td>\n",
       "      <td>1</td>\n",
       "      <td>4</td>\n",
       "      <td>0.000000</td>\n",
       "      <td>0</td>\n",
       "      <td>0</td>\n",
       "      <td>0</td>\n",
       "      <td>0</td>\n",
       "      <td>1</td>\n",
       "      <td>0</td>\n",
       "      <td>0</td>\n",
       "      <td>0</td>\n",
       "      <td>0</td>\n",
       "      <td>0</td>\n",
       "      <td>0</td>\n",
       "      <td>1</td>\n",
       "      <td>0</td>\n",
       "      <td>1</td>\n",
       "      <td>0</td>\n",
       "      <td>0</td>\n",
       "      <td>0</td>\n",
       "      <td>1</td>\n",
       "      <td>0</td>\n",
       "      <td>0</td>\n",
       "      <td>0</td>\n",
       "      <td>0</td>\n",
       "      <td>0</td>\n",
       "      <td>0</td>\n",
       "      <td>0</td>\n",
       "      <td>1</td>\n",
       "      <td>0</td>\n",
       "      <td>0</td>\n",
       "      <td>0</td>\n",
       "      <td>1</td>\n",
       "      <td>0</td>\n",
       "      <td>0</td>\n",
       "      <td>0</td>\n",
       "      <td>0</td>\n",
       "      <td>0</td>\n",
       "      <td>1</td>\n",
       "      <td>0</td>\n",
       "      <td>0</td>\n",
       "      <td>0</td>\n",
       "      <td>1</td>\n",
       "      <td>0</td>\n",
       "      <td>8</td>\n",
       "    </tr>\n",
       "    <tr>\n",
       "      <th>1592</th>\n",
       "      <td>0</td>\n",
       "      <td>3</td>\n",
       "      <td>1</td>\n",
       "      <td>0</td>\n",
       "      <td>0</td>\n",
       "      <td>0</td>\n",
       "      <td>1</td>\n",
       "      <td>0</td>\n",
       "      <td>1</td>\n",
       "      <td>0</td>\n",
       "      <td>0</td>\n",
       "      <td>0</td>\n",
       "      <td>1</td>\n",
       "      <td>0</td>\n",
       "      <td>1</td>\n",
       "      <td>0.000000</td>\n",
       "      <td>0.000000</td>\n",
       "      <td>0</td>\n",
       "      <td>0</td>\n",
       "      <td>2.890372</td>\n",
       "      <td>0</td>\n",
       "      <td>0</td>\n",
       "      <td>0</td>\n",
       "      <td>0</td>\n",
       "      <td>0</td>\n",
       "      <td>1</td>\n",
       "      <td>0</td>\n",
       "      <td>0</td>\n",
       "      <td>0</td>\n",
       "      <td>0</td>\n",
       "      <td>0</td>\n",
       "      <td>1</td>\n",
       "      <td>0</td>\n",
       "      <td>1</td>\n",
       "      <td>0</td>\n",
       "      <td>0</td>\n",
       "      <td>0</td>\n",
       "      <td>1</td>\n",
       "      <td>0</td>\n",
       "      <td>0</td>\n",
       "      <td>0</td>\n",
       "      <td>0</td>\n",
       "      <td>0</td>\n",
       "      <td>0</td>\n",
       "      <td>0</td>\n",
       "      <td>0</td>\n",
       "      <td>0</td>\n",
       "      <td>0</td>\n",
       "      <td>1</td>\n",
       "      <td>0</td>\n",
       "      <td>0</td>\n",
       "      <td>1</td>\n",
       "      <td>0</td>\n",
       "      <td>0</td>\n",
       "      <td>0</td>\n",
       "      <td>1</td>\n",
       "      <td>0</td>\n",
       "      <td>0</td>\n",
       "      <td>1</td>\n",
       "      <td>0</td>\n",
       "      <td>0</td>\n",
       "      <td>5</td>\n",
       "    </tr>\n",
       "  </tbody>\n",
       "</table>\n",
       "<p>1593 rows × 62 columns</p>\n",
       "</div>"
      ],
      "text/plain": [
       "      sex  education  job  retired  stop_work_due_disease  diabetes  \\\n",
       "0       1          2    1        0                      0         0   \n",
       "1       0          4    0        0                      0         1   \n",
       "2       0          4    0        0                      0         0   \n",
       "3       1          2    1        0                      0         0   \n",
       "4       0          2    0        0                      1         1   \n",
       "...   ...        ...  ...      ...                    ...       ...   \n",
       "1588    0          4    1        0                      0         1   \n",
       "1589    0          4    0        1                      0         0   \n",
       "1590    0          3    1        0                      0         0   \n",
       "1591    0          3    1        0                      0         0   \n",
       "1592    0          3    1        0                      0         0   \n",
       "\n",
       "      hepatitis  oncology  chronic_lung_disease  bronchial_asthma  \\\n",
       "0             0         0                     0                 0   \n",
       "1             0         0                     0                 0   \n",
       "2             0         0                     0                 0   \n",
       "3             0         1                     0                 0   \n",
       "4             1         0                     0                 0   \n",
       "...         ...       ...                   ...               ...   \n",
       "1588          0         0                     0                 0   \n",
       "1589          0         0                     0                 0   \n",
       "1590          0         0                     0                 0   \n",
       "1591          0         0                     0                 0   \n",
       "1592          1         0                     1                 0   \n",
       "\n",
       "      tuberculosis  hiv/aids  intake_medicines  trauma_last_year  fractures  \\\n",
       "0                0         0                 0                 0          0   \n",
       "1                0         0                 1                 0          1   \n",
       "2                0         0                 1                 0          0   \n",
       "3                0         0                 1                 0          0   \n",
       "4                0         0                 1                 0          1   \n",
       "...            ...       ...               ...               ...        ...   \n",
       "1588             0         0                 1                 1          1   \n",
       "1589             0         0                 1                 0          0   \n",
       "1590             0         0                 1                 0          0   \n",
       "1591             0         0                 0                 0          0   \n",
       "1592             0         0                 1                 0          1   \n",
       "\n",
       "      smoking_duration  ciggaretes_per_day  passive_smoking  \\\n",
       "0             2.772589            3.044522                0   \n",
       "1             0.000000            0.000000                0   \n",
       "2             0.000000            0.000000                1   \n",
       "3             2.564949            2.397895                1   \n",
       "4             0.000000            0.000000                1   \n",
       "...                ...                 ...              ...   \n",
       "1588          0.000000            0.000000                0   \n",
       "1589          0.000000            0.000000                0   \n",
       "1590          0.000000            0.000000                1   \n",
       "1591          0.000000            0.000000                1   \n",
       "1592          0.000000            0.000000                0   \n",
       "\n",
       "      passive_smoking_frequency  alcohol_duration  midday_sleep  sport_clubs  \\\n",
       "0                             0          2.944439             0            0   \n",
       "1                             0          0.000000             1            0   \n",
       "2                             1          2.890372             0            0   \n",
       "3                             2          2.639057             0            0   \n",
       "4                             3          2.833213             0            0   \n",
       "...                         ...               ...           ...          ...   \n",
       "1588                          0          3.433987             0            0   \n",
       "1589                          0          0.000000             0            0   \n",
       "1590                          3          3.258097             0            0   \n",
       "1591                          4          0.000000             0            0   \n",
       "1592                          0          2.890372             0            0   \n",
       "\n",
       "      religion_clubs  train  married  divorced  widowed  cohabited  single  \\\n",
       "0                  0      1        1         0        0          0       0   \n",
       "1                  0      1        0         1        0          0       0   \n",
       "2                  0      1        1         0        0          0       0   \n",
       "3                  0      1        1         0        0          0       0   \n",
       "4                  0      1        1         0        0          0       0   \n",
       "...              ...    ...      ...       ...      ...        ...     ...   \n",
       "1588               0      0        1         0        0          0       0   \n",
       "1589               0      0        0         0        1          0       0   \n",
       "1590               0      0        0         0        0          1       0   \n",
       "1591               0      0        1         0        0          0       0   \n",
       "1592               0      0        0         1        0          0       0   \n",
       "\n",
       "      separated  asian  european  other  is_russian  atheist  muslim  no  \\\n",
       "0             0      0         1      0           1        0       0   0   \n",
       "1             0      0         1      0           1        0       0   0   \n",
       "2             0      0         1      0           1        0       0   0   \n",
       "3             0      0         1      0           1        1       0   0   \n",
       "4             0      0         1      0           1        0       0   0   \n",
       "...         ...    ...       ...    ...         ...      ...     ...  ..   \n",
       "1588          0      0         1      0           1        0       0   0   \n",
       "1589          0      0         1      0           1        0       0   0   \n",
       "1590          0      0         1      0           1        0       0   0   \n",
       "1591          0      0         1      0           1        0       0   0   \n",
       "1592          0      0         1      0           1        0       0   0   \n",
       "\n",
       "      christian  household  military  senior_specialist  farmer/fisherman  \\\n",
       "0             1          0         0                  0                 0   \n",
       "1             1          0         0                  1                 0   \n",
       "2             1          0         0                  1                 0   \n",
       "3             0          0         0                  0                 0   \n",
       "4             1          0         0                  0                 0   \n",
       "...         ...        ...       ...                ...               ...   \n",
       "1588          1          0         0                  1                 0   \n",
       "1589          1          0         0                  1                 0   \n",
       "1590          1          0         0                  0                 0   \n",
       "1591          1          0         0                  0                 0   \n",
       "1592          1          0         0                  0                 0   \n",
       "\n",
       "      low_qualified_work  industry  top_management  service  crafters_other  \\\n",
       "0                      1         0               0        0               0   \n",
       "1                      0         0               0        0               0   \n",
       "2                      0         0               0        0               0   \n",
       "3                      1         0               0        0               0   \n",
       "4                      0         1               0        0               0   \n",
       "...                  ...       ...             ...      ...             ...   \n",
       "1588                   0         0               0        0               0   \n",
       "1589                   0         0               0        0               0   \n",
       "1590                   0         0               0        0               0   \n",
       "1591                   0         0               0        1               0   \n",
       "1592                   0         0               0        0               0   \n",
       "\n",
       "      office  junior_specialists  never_drink_alco  previous_drink_alco  \\\n",
       "0          0                   0                 0                    0   \n",
       "1          0                   0                 1                    0   \n",
       "2          0                   0                 0                    0   \n",
       "3          0                   0                 0                    0   \n",
       "4          0                   0                 0                    0   \n",
       "...      ...                 ...               ...                  ...   \n",
       "1588       0                   0                 0                    0   \n",
       "1589       0                   0                 1                    0   \n",
       "1590       0                   1                 0                    1   \n",
       "1591       0                   0                 1                    0   \n",
       "1592       0                   1                 0                    0   \n",
       "\n",
       "      drink_alco_now  sleep_onset_early_22  sleep_onset_22  sleep_onset_23  \\\n",
       "0                  1                     0               1               0   \n",
       "1                  0                     0               0               0   \n",
       "2                  1                     0               0               1   \n",
       "3                  1                     0               0               1   \n",
       "4                  1                     0               0               1   \n",
       "...              ...                   ...             ...             ...   \n",
       "1588               1                     0               0               1   \n",
       "1589               0                     0               0               0   \n",
       "1590               0                     0               1               0   \n",
       "1591               0                     0               0               0   \n",
       "1592               1                     0               0               0   \n",
       "\n",
       "      sleep_onset_later_after_0  sleep_upset_early_6  sleep_upset_6  \\\n",
       "0                             0                    0              1   \n",
       "1                             1                    1              0   \n",
       "2                             0                    0              0   \n",
       "3                             0                    0              0   \n",
       "4                             0                    0              1   \n",
       "...                         ...                  ...            ...   \n",
       "1588                          0                    0              1   \n",
       "1589                          1                    0              0   \n",
       "1590                          0                    0              0   \n",
       "1591                          1                    0              0   \n",
       "1592                          1                    0              0   \n",
       "\n",
       "      sleep_upset_7  sleep_upset_8  sleep_upset_after_9  sleeptime  \n",
       "0                 0              0                    0          8  \n",
       "1                 0              0                    0          4  \n",
       "2                 1              0                    0          8  \n",
       "3                 1              0                    0          8  \n",
       "4                 0              0                    0          7  \n",
       "...             ...            ...                  ...        ...  \n",
       "1588              0              0                    0          7  \n",
       "1589              0              0                    1          9  \n",
       "1590              1              0                    0          9  \n",
       "1591              0              1                    0          8  \n",
       "1592              1              0                    0          5  \n",
       "\n",
       "[1593 rows x 62 columns]"
      ]
     },
     "execution_count": 88,
     "metadata": {},
     "output_type": "execute_result"
    }
   ],
   "source": [
    "df"
   ]
  },
  {
   "cell_type": "code",
   "execution_count": 89,
   "id": "2e030670",
   "metadata": {},
   "outputs": [],
   "source": [
    "num_cols = ['education', 'smoking_duration', 'ciggaretes_per_day',\n",
    "            'passive_smoking_frequency', 'alcohol_duration', 'sleeptime']"
   ]
  },
  {
   "cell_type": "code",
   "execution_count": null,
   "id": "17465318",
   "metadata": {},
   "outputs": [],
   "source": []
  },
  {
   "cell_type": "code",
   "execution_count": 90,
   "id": "2be49f97",
   "metadata": {},
   "outputs": [],
   "source": [
    "scaler = StandardScaler()\n",
    "\n",
    "for col in num_cols:\n",
    "    df[col] = StandardScaler().fit_transform(\n",
    "    df[col].values.reshape(-1, 1))"
   ]
  },
  {
   "cell_type": "code",
   "execution_count": 91,
   "id": "468ac92f",
   "metadata": {},
   "outputs": [
    {
     "data": {
      "text/html": [
       "<div>\n",
       "<style scoped>\n",
       "    .dataframe tbody tr th:only-of-type {\n",
       "        vertical-align: middle;\n",
       "    }\n",
       "\n",
       "    .dataframe tbody tr th {\n",
       "        vertical-align: top;\n",
       "    }\n",
       "\n",
       "    .dataframe thead th {\n",
       "        text-align: right;\n",
       "    }\n",
       "</style>\n",
       "<table border=\"1\" class=\"dataframe\">\n",
       "  <thead>\n",
       "    <tr style=\"text-align: right;\">\n",
       "      <th></th>\n",
       "      <th>sex</th>\n",
       "      <th>education</th>\n",
       "      <th>job</th>\n",
       "      <th>retired</th>\n",
       "      <th>stop_work_due_disease</th>\n",
       "      <th>diabetes</th>\n",
       "      <th>hepatitis</th>\n",
       "      <th>oncology</th>\n",
       "      <th>chronic_lung_disease</th>\n",
       "      <th>bronchial_asthma</th>\n",
       "      <th>tuberculosis</th>\n",
       "      <th>hiv/aids</th>\n",
       "      <th>intake_medicines</th>\n",
       "      <th>trauma_last_year</th>\n",
       "      <th>fractures</th>\n",
       "      <th>smoking_duration</th>\n",
       "      <th>ciggaretes_per_day</th>\n",
       "      <th>passive_smoking</th>\n",
       "      <th>passive_smoking_frequency</th>\n",
       "      <th>alcohol_duration</th>\n",
       "      <th>midday_sleep</th>\n",
       "      <th>sport_clubs</th>\n",
       "      <th>religion_clubs</th>\n",
       "      <th>train</th>\n",
       "      <th>married</th>\n",
       "      <th>divorced</th>\n",
       "      <th>widowed</th>\n",
       "      <th>cohabited</th>\n",
       "      <th>single</th>\n",
       "      <th>separated</th>\n",
       "      <th>asian</th>\n",
       "      <th>european</th>\n",
       "      <th>other</th>\n",
       "      <th>is_russian</th>\n",
       "      <th>atheist</th>\n",
       "      <th>muslim</th>\n",
       "      <th>no</th>\n",
       "      <th>christian</th>\n",
       "      <th>household</th>\n",
       "      <th>military</th>\n",
       "      <th>senior_specialist</th>\n",
       "      <th>farmer/fisherman</th>\n",
       "      <th>low_qualified_work</th>\n",
       "      <th>industry</th>\n",
       "      <th>top_management</th>\n",
       "      <th>service</th>\n",
       "      <th>crafters_other</th>\n",
       "      <th>office</th>\n",
       "      <th>junior_specialists</th>\n",
       "      <th>never_drink_alco</th>\n",
       "      <th>previous_drink_alco</th>\n",
       "      <th>drink_alco_now</th>\n",
       "      <th>sleep_onset_early_22</th>\n",
       "      <th>sleep_onset_22</th>\n",
       "      <th>sleep_onset_23</th>\n",
       "      <th>sleep_onset_later_after_0</th>\n",
       "      <th>sleep_upset_early_6</th>\n",
       "      <th>sleep_upset_6</th>\n",
       "      <th>sleep_upset_7</th>\n",
       "      <th>sleep_upset_8</th>\n",
       "      <th>sleep_upset_after_9</th>\n",
       "      <th>sleeptime</th>\n",
       "    </tr>\n",
       "  </thead>\n",
       "  <tbody>\n",
       "    <tr>\n",
       "      <th>0</th>\n",
       "      <td>1</td>\n",
       "      <td>-1.603579</td>\n",
       "      <td>1</td>\n",
       "      <td>0</td>\n",
       "      <td>0</td>\n",
       "      <td>0</td>\n",
       "      <td>0</td>\n",
       "      <td>0</td>\n",
       "      <td>0</td>\n",
       "      <td>0</td>\n",
       "      <td>0</td>\n",
       "      <td>0</td>\n",
       "      <td>0</td>\n",
       "      <td>0</td>\n",
       "      <td>0</td>\n",
       "      <td>0.993849</td>\n",
       "      <td>1.528732</td>\n",
       "      <td>0</td>\n",
       "      <td>-0.455480</td>\n",
       "      <td>0.412302</td>\n",
       "      <td>0</td>\n",
       "      <td>0</td>\n",
       "      <td>0</td>\n",
       "      <td>1</td>\n",
       "      <td>1</td>\n",
       "      <td>0</td>\n",
       "      <td>0</td>\n",
       "      <td>0</td>\n",
       "      <td>0</td>\n",
       "      <td>0</td>\n",
       "      <td>0</td>\n",
       "      <td>1</td>\n",
       "      <td>0</td>\n",
       "      <td>1</td>\n",
       "      <td>0</td>\n",
       "      <td>0</td>\n",
       "      <td>0</td>\n",
       "      <td>1</td>\n",
       "      <td>0</td>\n",
       "      <td>0</td>\n",
       "      <td>0</td>\n",
       "      <td>0</td>\n",
       "      <td>1</td>\n",
       "      <td>0</td>\n",
       "      <td>0</td>\n",
       "      <td>0</td>\n",
       "      <td>0</td>\n",
       "      <td>0</td>\n",
       "      <td>0</td>\n",
       "      <td>0</td>\n",
       "      <td>0</td>\n",
       "      <td>1</td>\n",
       "      <td>0</td>\n",
       "      <td>1</td>\n",
       "      <td>0</td>\n",
       "      <td>0</td>\n",
       "      <td>0</td>\n",
       "      <td>1</td>\n",
       "      <td>0</td>\n",
       "      <td>0</td>\n",
       "      <td>0</td>\n",
       "      <td>0.283724</td>\n",
       "    </tr>\n",
       "    <tr>\n",
       "      <th>1</th>\n",
       "      <td>0</td>\n",
       "      <td>1.171545</td>\n",
       "      <td>0</td>\n",
       "      <td>0</td>\n",
       "      <td>0</td>\n",
       "      <td>1</td>\n",
       "      <td>0</td>\n",
       "      <td>0</td>\n",
       "      <td>0</td>\n",
       "      <td>0</td>\n",
       "      <td>0</td>\n",
       "      <td>0</td>\n",
       "      <td>1</td>\n",
       "      <td>0</td>\n",
       "      <td>1</td>\n",
       "      <td>-0.854790</td>\n",
       "      <td>-0.796418</td>\n",
       "      <td>0</td>\n",
       "      <td>-0.455480</td>\n",
       "      <td>-2.034425</td>\n",
       "      <td>1</td>\n",
       "      <td>0</td>\n",
       "      <td>0</td>\n",
       "      <td>1</td>\n",
       "      <td>0</td>\n",
       "      <td>1</td>\n",
       "      <td>0</td>\n",
       "      <td>0</td>\n",
       "      <td>0</td>\n",
       "      <td>0</td>\n",
       "      <td>0</td>\n",
       "      <td>1</td>\n",
       "      <td>0</td>\n",
       "      <td>1</td>\n",
       "      <td>0</td>\n",
       "      <td>0</td>\n",
       "      <td>0</td>\n",
       "      <td>1</td>\n",
       "      <td>0</td>\n",
       "      <td>0</td>\n",
       "      <td>1</td>\n",
       "      <td>0</td>\n",
       "      <td>0</td>\n",
       "      <td>0</td>\n",
       "      <td>0</td>\n",
       "      <td>0</td>\n",
       "      <td>0</td>\n",
       "      <td>0</td>\n",
       "      <td>0</td>\n",
       "      <td>1</td>\n",
       "      <td>0</td>\n",
       "      <td>0</td>\n",
       "      <td>0</td>\n",
       "      <td>0</td>\n",
       "      <td>0</td>\n",
       "      <td>1</td>\n",
       "      <td>1</td>\n",
       "      <td>0</td>\n",
       "      <td>0</td>\n",
       "      <td>0</td>\n",
       "      <td>0</td>\n",
       "      <td>-2.284305</td>\n",
       "    </tr>\n",
       "    <tr>\n",
       "      <th>2</th>\n",
       "      <td>0</td>\n",
       "      <td>1.171545</td>\n",
       "      <td>0</td>\n",
       "      <td>0</td>\n",
       "      <td>0</td>\n",
       "      <td>0</td>\n",
       "      <td>0</td>\n",
       "      <td>0</td>\n",
       "      <td>0</td>\n",
       "      <td>0</td>\n",
       "      <td>0</td>\n",
       "      <td>0</td>\n",
       "      <td>1</td>\n",
       "      <td>0</td>\n",
       "      <td>0</td>\n",
       "      <td>-0.854790</td>\n",
       "      <td>-0.796418</td>\n",
       "      <td>1</td>\n",
       "      <td>0.280402</td>\n",
       "      <td>0.367374</td>\n",
       "      <td>0</td>\n",
       "      <td>0</td>\n",
       "      <td>0</td>\n",
       "      <td>1</td>\n",
       "      <td>1</td>\n",
       "      <td>0</td>\n",
       "      <td>0</td>\n",
       "      <td>0</td>\n",
       "      <td>0</td>\n",
       "      <td>0</td>\n",
       "      <td>0</td>\n",
       "      <td>1</td>\n",
       "      <td>0</td>\n",
       "      <td>1</td>\n",
       "      <td>0</td>\n",
       "      <td>0</td>\n",
       "      <td>0</td>\n",
       "      <td>1</td>\n",
       "      <td>0</td>\n",
       "      <td>0</td>\n",
       "      <td>1</td>\n",
       "      <td>0</td>\n",
       "      <td>0</td>\n",
       "      <td>0</td>\n",
       "      <td>0</td>\n",
       "      <td>0</td>\n",
       "      <td>0</td>\n",
       "      <td>0</td>\n",
       "      <td>0</td>\n",
       "      <td>0</td>\n",
       "      <td>0</td>\n",
       "      <td>1</td>\n",
       "      <td>0</td>\n",
       "      <td>0</td>\n",
       "      <td>1</td>\n",
       "      <td>0</td>\n",
       "      <td>0</td>\n",
       "      <td>0</td>\n",
       "      <td>1</td>\n",
       "      <td>0</td>\n",
       "      <td>0</td>\n",
       "      <td>0.283724</td>\n",
       "    </tr>\n",
       "    <tr>\n",
       "      <th>3</th>\n",
       "      <td>1</td>\n",
       "      <td>-1.603579</td>\n",
       "      <td>1</td>\n",
       "      <td>0</td>\n",
       "      <td>0</td>\n",
       "      <td>0</td>\n",
       "      <td>0</td>\n",
       "      <td>1</td>\n",
       "      <td>0</td>\n",
       "      <td>0</td>\n",
       "      <td>0</td>\n",
       "      <td>0</td>\n",
       "      <td>1</td>\n",
       "      <td>0</td>\n",
       "      <td>0</td>\n",
       "      <td>0.855404</td>\n",
       "      <td>1.034893</td>\n",
       "      <td>1</td>\n",
       "      <td>1.016284</td>\n",
       "      <td>0.158540</td>\n",
       "      <td>0</td>\n",
       "      <td>0</td>\n",
       "      <td>0</td>\n",
       "      <td>1</td>\n",
       "      <td>1</td>\n",
       "      <td>0</td>\n",
       "      <td>0</td>\n",
       "      <td>0</td>\n",
       "      <td>0</td>\n",
       "      <td>0</td>\n",
       "      <td>0</td>\n",
       "      <td>1</td>\n",
       "      <td>0</td>\n",
       "      <td>1</td>\n",
       "      <td>1</td>\n",
       "      <td>0</td>\n",
       "      <td>0</td>\n",
       "      <td>0</td>\n",
       "      <td>0</td>\n",
       "      <td>0</td>\n",
       "      <td>0</td>\n",
       "      <td>0</td>\n",
       "      <td>1</td>\n",
       "      <td>0</td>\n",
       "      <td>0</td>\n",
       "      <td>0</td>\n",
       "      <td>0</td>\n",
       "      <td>0</td>\n",
       "      <td>0</td>\n",
       "      <td>0</td>\n",
       "      <td>0</td>\n",
       "      <td>1</td>\n",
       "      <td>0</td>\n",
       "      <td>0</td>\n",
       "      <td>1</td>\n",
       "      <td>0</td>\n",
       "      <td>0</td>\n",
       "      <td>0</td>\n",
       "      <td>1</td>\n",
       "      <td>0</td>\n",
       "      <td>0</td>\n",
       "      <td>0.283724</td>\n",
       "    </tr>\n",
       "    <tr>\n",
       "      <th>4</th>\n",
       "      <td>0</td>\n",
       "      <td>-1.603579</td>\n",
       "      <td>0</td>\n",
       "      <td>0</td>\n",
       "      <td>1</td>\n",
       "      <td>1</td>\n",
       "      <td>1</td>\n",
       "      <td>0</td>\n",
       "      <td>0</td>\n",
       "      <td>0</td>\n",
       "      <td>0</td>\n",
       "      <td>0</td>\n",
       "      <td>1</td>\n",
       "      <td>0</td>\n",
       "      <td>1</td>\n",
       "      <td>-0.854790</td>\n",
       "      <td>-0.796418</td>\n",
       "      <td>1</td>\n",
       "      <td>1.752166</td>\n",
       "      <td>0.319877</td>\n",
       "      <td>0</td>\n",
       "      <td>0</td>\n",
       "      <td>0</td>\n",
       "      <td>1</td>\n",
       "      <td>1</td>\n",
       "      <td>0</td>\n",
       "      <td>0</td>\n",
       "      <td>0</td>\n",
       "      <td>0</td>\n",
       "      <td>0</td>\n",
       "      <td>0</td>\n",
       "      <td>1</td>\n",
       "      <td>0</td>\n",
       "      <td>1</td>\n",
       "      <td>0</td>\n",
       "      <td>0</td>\n",
       "      <td>0</td>\n",
       "      <td>1</td>\n",
       "      <td>0</td>\n",
       "      <td>0</td>\n",
       "      <td>0</td>\n",
       "      <td>0</td>\n",
       "      <td>0</td>\n",
       "      <td>1</td>\n",
       "      <td>0</td>\n",
       "      <td>0</td>\n",
       "      <td>0</td>\n",
       "      <td>0</td>\n",
       "      <td>0</td>\n",
       "      <td>0</td>\n",
       "      <td>0</td>\n",
       "      <td>1</td>\n",
       "      <td>0</td>\n",
       "      <td>0</td>\n",
       "      <td>1</td>\n",
       "      <td>0</td>\n",
       "      <td>0</td>\n",
       "      <td>1</td>\n",
       "      <td>0</td>\n",
       "      <td>0</td>\n",
       "      <td>0</td>\n",
       "      <td>-0.358283</td>\n",
       "    </tr>\n",
       "    <tr>\n",
       "      <th>...</th>\n",
       "      <td>...</td>\n",
       "      <td>...</td>\n",
       "      <td>...</td>\n",
       "      <td>...</td>\n",
       "      <td>...</td>\n",
       "      <td>...</td>\n",
       "      <td>...</td>\n",
       "      <td>...</td>\n",
       "      <td>...</td>\n",
       "      <td>...</td>\n",
       "      <td>...</td>\n",
       "      <td>...</td>\n",
       "      <td>...</td>\n",
       "      <td>...</td>\n",
       "      <td>...</td>\n",
       "      <td>...</td>\n",
       "      <td>...</td>\n",
       "      <td>...</td>\n",
       "      <td>...</td>\n",
       "      <td>...</td>\n",
       "      <td>...</td>\n",
       "      <td>...</td>\n",
       "      <td>...</td>\n",
       "      <td>...</td>\n",
       "      <td>...</td>\n",
       "      <td>...</td>\n",
       "      <td>...</td>\n",
       "      <td>...</td>\n",
       "      <td>...</td>\n",
       "      <td>...</td>\n",
       "      <td>...</td>\n",
       "      <td>...</td>\n",
       "      <td>...</td>\n",
       "      <td>...</td>\n",
       "      <td>...</td>\n",
       "      <td>...</td>\n",
       "      <td>...</td>\n",
       "      <td>...</td>\n",
       "      <td>...</td>\n",
       "      <td>...</td>\n",
       "      <td>...</td>\n",
       "      <td>...</td>\n",
       "      <td>...</td>\n",
       "      <td>...</td>\n",
       "      <td>...</td>\n",
       "      <td>...</td>\n",
       "      <td>...</td>\n",
       "      <td>...</td>\n",
       "      <td>...</td>\n",
       "      <td>...</td>\n",
       "      <td>...</td>\n",
       "      <td>...</td>\n",
       "      <td>...</td>\n",
       "      <td>...</td>\n",
       "      <td>...</td>\n",
       "      <td>...</td>\n",
       "      <td>...</td>\n",
       "      <td>...</td>\n",
       "      <td>...</td>\n",
       "      <td>...</td>\n",
       "      <td>...</td>\n",
       "      <td>...</td>\n",
       "    </tr>\n",
       "    <tr>\n",
       "      <th>1588</th>\n",
       "      <td>0</td>\n",
       "      <td>1.171545</td>\n",
       "      <td>1</td>\n",
       "      <td>0</td>\n",
       "      <td>0</td>\n",
       "      <td>1</td>\n",
       "      <td>0</td>\n",
       "      <td>0</td>\n",
       "      <td>0</td>\n",
       "      <td>0</td>\n",
       "      <td>0</td>\n",
       "      <td>0</td>\n",
       "      <td>1</td>\n",
       "      <td>1</td>\n",
       "      <td>1</td>\n",
       "      <td>-0.854790</td>\n",
       "      <td>-0.796418</td>\n",
       "      <td>0</td>\n",
       "      <td>-0.455480</td>\n",
       "      <td>0.819099</td>\n",
       "      <td>0</td>\n",
       "      <td>0</td>\n",
       "      <td>0</td>\n",
       "      <td>0</td>\n",
       "      <td>1</td>\n",
       "      <td>0</td>\n",
       "      <td>0</td>\n",
       "      <td>0</td>\n",
       "      <td>0</td>\n",
       "      <td>0</td>\n",
       "      <td>0</td>\n",
       "      <td>1</td>\n",
       "      <td>0</td>\n",
       "      <td>1</td>\n",
       "      <td>0</td>\n",
       "      <td>0</td>\n",
       "      <td>0</td>\n",
       "      <td>1</td>\n",
       "      <td>0</td>\n",
       "      <td>0</td>\n",
       "      <td>1</td>\n",
       "      <td>0</td>\n",
       "      <td>0</td>\n",
       "      <td>0</td>\n",
       "      <td>0</td>\n",
       "      <td>0</td>\n",
       "      <td>0</td>\n",
       "      <td>0</td>\n",
       "      <td>0</td>\n",
       "      <td>0</td>\n",
       "      <td>0</td>\n",
       "      <td>1</td>\n",
       "      <td>0</td>\n",
       "      <td>0</td>\n",
       "      <td>1</td>\n",
       "      <td>0</td>\n",
       "      <td>0</td>\n",
       "      <td>1</td>\n",
       "      <td>0</td>\n",
       "      <td>0</td>\n",
       "      <td>0</td>\n",
       "      <td>-0.358283</td>\n",
       "    </tr>\n",
       "    <tr>\n",
       "      <th>1589</th>\n",
       "      <td>0</td>\n",
       "      <td>1.171545</td>\n",
       "      <td>0</td>\n",
       "      <td>1</td>\n",
       "      <td>0</td>\n",
       "      <td>0</td>\n",
       "      <td>0</td>\n",
       "      <td>0</td>\n",
       "      <td>0</td>\n",
       "      <td>0</td>\n",
       "      <td>0</td>\n",
       "      <td>0</td>\n",
       "      <td>1</td>\n",
       "      <td>0</td>\n",
       "      <td>0</td>\n",
       "      <td>-0.854790</td>\n",
       "      <td>-0.796418</td>\n",
       "      <td>0</td>\n",
       "      <td>-0.455480</td>\n",
       "      <td>-2.034425</td>\n",
       "      <td>0</td>\n",
       "      <td>0</td>\n",
       "      <td>0</td>\n",
       "      <td>0</td>\n",
       "      <td>0</td>\n",
       "      <td>0</td>\n",
       "      <td>1</td>\n",
       "      <td>0</td>\n",
       "      <td>0</td>\n",
       "      <td>0</td>\n",
       "      <td>0</td>\n",
       "      <td>1</td>\n",
       "      <td>0</td>\n",
       "      <td>1</td>\n",
       "      <td>0</td>\n",
       "      <td>0</td>\n",
       "      <td>0</td>\n",
       "      <td>1</td>\n",
       "      <td>0</td>\n",
       "      <td>0</td>\n",
       "      <td>1</td>\n",
       "      <td>0</td>\n",
       "      <td>0</td>\n",
       "      <td>0</td>\n",
       "      <td>0</td>\n",
       "      <td>0</td>\n",
       "      <td>0</td>\n",
       "      <td>0</td>\n",
       "      <td>0</td>\n",
       "      <td>1</td>\n",
       "      <td>0</td>\n",
       "      <td>0</td>\n",
       "      <td>0</td>\n",
       "      <td>0</td>\n",
       "      <td>0</td>\n",
       "      <td>1</td>\n",
       "      <td>0</td>\n",
       "      <td>0</td>\n",
       "      <td>0</td>\n",
       "      <td>0</td>\n",
       "      <td>1</td>\n",
       "      <td>0.925732</td>\n",
       "    </tr>\n",
       "    <tr>\n",
       "      <th>1590</th>\n",
       "      <td>0</td>\n",
       "      <td>-0.216017</td>\n",
       "      <td>1</td>\n",
       "      <td>0</td>\n",
       "      <td>0</td>\n",
       "      <td>0</td>\n",
       "      <td>0</td>\n",
       "      <td>0</td>\n",
       "      <td>0</td>\n",
       "      <td>0</td>\n",
       "      <td>0</td>\n",
       "      <td>0</td>\n",
       "      <td>1</td>\n",
       "      <td>0</td>\n",
       "      <td>0</td>\n",
       "      <td>-0.854790</td>\n",
       "      <td>-0.796418</td>\n",
       "      <td>1</td>\n",
       "      <td>1.752166</td>\n",
       "      <td>0.672940</td>\n",
       "      <td>0</td>\n",
       "      <td>0</td>\n",
       "      <td>0</td>\n",
       "      <td>0</td>\n",
       "      <td>0</td>\n",
       "      <td>0</td>\n",
       "      <td>0</td>\n",
       "      <td>1</td>\n",
       "      <td>0</td>\n",
       "      <td>0</td>\n",
       "      <td>0</td>\n",
       "      <td>1</td>\n",
       "      <td>0</td>\n",
       "      <td>1</td>\n",
       "      <td>0</td>\n",
       "      <td>0</td>\n",
       "      <td>0</td>\n",
       "      <td>1</td>\n",
       "      <td>0</td>\n",
       "      <td>0</td>\n",
       "      <td>0</td>\n",
       "      <td>0</td>\n",
       "      <td>0</td>\n",
       "      <td>0</td>\n",
       "      <td>0</td>\n",
       "      <td>0</td>\n",
       "      <td>0</td>\n",
       "      <td>0</td>\n",
       "      <td>1</td>\n",
       "      <td>0</td>\n",
       "      <td>1</td>\n",
       "      <td>0</td>\n",
       "      <td>0</td>\n",
       "      <td>1</td>\n",
       "      <td>0</td>\n",
       "      <td>0</td>\n",
       "      <td>0</td>\n",
       "      <td>0</td>\n",
       "      <td>1</td>\n",
       "      <td>0</td>\n",
       "      <td>0</td>\n",
       "      <td>0.925732</td>\n",
       "    </tr>\n",
       "    <tr>\n",
       "      <th>1591</th>\n",
       "      <td>0</td>\n",
       "      <td>-0.216017</td>\n",
       "      <td>1</td>\n",
       "      <td>0</td>\n",
       "      <td>0</td>\n",
       "      <td>0</td>\n",
       "      <td>0</td>\n",
       "      <td>0</td>\n",
       "      <td>0</td>\n",
       "      <td>0</td>\n",
       "      <td>0</td>\n",
       "      <td>0</td>\n",
       "      <td>0</td>\n",
       "      <td>0</td>\n",
       "      <td>0</td>\n",
       "      <td>-0.854790</td>\n",
       "      <td>-0.796418</td>\n",
       "      <td>1</td>\n",
       "      <td>2.488048</td>\n",
       "      <td>-2.034425</td>\n",
       "      <td>0</td>\n",
       "      <td>0</td>\n",
       "      <td>0</td>\n",
       "      <td>0</td>\n",
       "      <td>1</td>\n",
       "      <td>0</td>\n",
       "      <td>0</td>\n",
       "      <td>0</td>\n",
       "      <td>0</td>\n",
       "      <td>0</td>\n",
       "      <td>0</td>\n",
       "      <td>1</td>\n",
       "      <td>0</td>\n",
       "      <td>1</td>\n",
       "      <td>0</td>\n",
       "      <td>0</td>\n",
       "      <td>0</td>\n",
       "      <td>1</td>\n",
       "      <td>0</td>\n",
       "      <td>0</td>\n",
       "      <td>0</td>\n",
       "      <td>0</td>\n",
       "      <td>0</td>\n",
       "      <td>0</td>\n",
       "      <td>0</td>\n",
       "      <td>1</td>\n",
       "      <td>0</td>\n",
       "      <td>0</td>\n",
       "      <td>0</td>\n",
       "      <td>1</td>\n",
       "      <td>0</td>\n",
       "      <td>0</td>\n",
       "      <td>0</td>\n",
       "      <td>0</td>\n",
       "      <td>0</td>\n",
       "      <td>1</td>\n",
       "      <td>0</td>\n",
       "      <td>0</td>\n",
       "      <td>0</td>\n",
       "      <td>1</td>\n",
       "      <td>0</td>\n",
       "      <td>0.283724</td>\n",
       "    </tr>\n",
       "    <tr>\n",
       "      <th>1592</th>\n",
       "      <td>0</td>\n",
       "      <td>-0.216017</td>\n",
       "      <td>1</td>\n",
       "      <td>0</td>\n",
       "      <td>0</td>\n",
       "      <td>0</td>\n",
       "      <td>1</td>\n",
       "      <td>0</td>\n",
       "      <td>1</td>\n",
       "      <td>0</td>\n",
       "      <td>0</td>\n",
       "      <td>0</td>\n",
       "      <td>1</td>\n",
       "      <td>0</td>\n",
       "      <td>1</td>\n",
       "      <td>-0.854790</td>\n",
       "      <td>-0.796418</td>\n",
       "      <td>0</td>\n",
       "      <td>-0.455480</td>\n",
       "      <td>0.367374</td>\n",
       "      <td>0</td>\n",
       "      <td>0</td>\n",
       "      <td>0</td>\n",
       "      <td>0</td>\n",
       "      <td>0</td>\n",
       "      <td>1</td>\n",
       "      <td>0</td>\n",
       "      <td>0</td>\n",
       "      <td>0</td>\n",
       "      <td>0</td>\n",
       "      <td>0</td>\n",
       "      <td>1</td>\n",
       "      <td>0</td>\n",
       "      <td>1</td>\n",
       "      <td>0</td>\n",
       "      <td>0</td>\n",
       "      <td>0</td>\n",
       "      <td>1</td>\n",
       "      <td>0</td>\n",
       "      <td>0</td>\n",
       "      <td>0</td>\n",
       "      <td>0</td>\n",
       "      <td>0</td>\n",
       "      <td>0</td>\n",
       "      <td>0</td>\n",
       "      <td>0</td>\n",
       "      <td>0</td>\n",
       "      <td>0</td>\n",
       "      <td>1</td>\n",
       "      <td>0</td>\n",
       "      <td>0</td>\n",
       "      <td>1</td>\n",
       "      <td>0</td>\n",
       "      <td>0</td>\n",
       "      <td>0</td>\n",
       "      <td>1</td>\n",
       "      <td>0</td>\n",
       "      <td>0</td>\n",
       "      <td>1</td>\n",
       "      <td>0</td>\n",
       "      <td>0</td>\n",
       "      <td>-1.642297</td>\n",
       "    </tr>\n",
       "  </tbody>\n",
       "</table>\n",
       "<p>1593 rows × 62 columns</p>\n",
       "</div>"
      ],
      "text/plain": [
       "      sex  education  job  retired  stop_work_due_disease  diabetes  \\\n",
       "0       1  -1.603579    1        0                      0         0   \n",
       "1       0   1.171545    0        0                      0         1   \n",
       "2       0   1.171545    0        0                      0         0   \n",
       "3       1  -1.603579    1        0                      0         0   \n",
       "4       0  -1.603579    0        0                      1         1   \n",
       "...   ...        ...  ...      ...                    ...       ...   \n",
       "1588    0   1.171545    1        0                      0         1   \n",
       "1589    0   1.171545    0        1                      0         0   \n",
       "1590    0  -0.216017    1        0                      0         0   \n",
       "1591    0  -0.216017    1        0                      0         0   \n",
       "1592    0  -0.216017    1        0                      0         0   \n",
       "\n",
       "      hepatitis  oncology  chronic_lung_disease  bronchial_asthma  \\\n",
       "0             0         0                     0                 0   \n",
       "1             0         0                     0                 0   \n",
       "2             0         0                     0                 0   \n",
       "3             0         1                     0                 0   \n",
       "4             1         0                     0                 0   \n",
       "...         ...       ...                   ...               ...   \n",
       "1588          0         0                     0                 0   \n",
       "1589          0         0                     0                 0   \n",
       "1590          0         0                     0                 0   \n",
       "1591          0         0                     0                 0   \n",
       "1592          1         0                     1                 0   \n",
       "\n",
       "      tuberculosis  hiv/aids  intake_medicines  trauma_last_year  fractures  \\\n",
       "0                0         0                 0                 0          0   \n",
       "1                0         0                 1                 0          1   \n",
       "2                0         0                 1                 0          0   \n",
       "3                0         0                 1                 0          0   \n",
       "4                0         0                 1                 0          1   \n",
       "...            ...       ...               ...               ...        ...   \n",
       "1588             0         0                 1                 1          1   \n",
       "1589             0         0                 1                 0          0   \n",
       "1590             0         0                 1                 0          0   \n",
       "1591             0         0                 0                 0          0   \n",
       "1592             0         0                 1                 0          1   \n",
       "\n",
       "      smoking_duration  ciggaretes_per_day  passive_smoking  \\\n",
       "0             0.993849            1.528732                0   \n",
       "1            -0.854790           -0.796418                0   \n",
       "2            -0.854790           -0.796418                1   \n",
       "3             0.855404            1.034893                1   \n",
       "4            -0.854790           -0.796418                1   \n",
       "...                ...                 ...              ...   \n",
       "1588         -0.854790           -0.796418                0   \n",
       "1589         -0.854790           -0.796418                0   \n",
       "1590         -0.854790           -0.796418                1   \n",
       "1591         -0.854790           -0.796418                1   \n",
       "1592         -0.854790           -0.796418                0   \n",
       "\n",
       "      passive_smoking_frequency  alcohol_duration  midday_sleep  sport_clubs  \\\n",
       "0                     -0.455480          0.412302             0            0   \n",
       "1                     -0.455480         -2.034425             1            0   \n",
       "2                      0.280402          0.367374             0            0   \n",
       "3                      1.016284          0.158540             0            0   \n",
       "4                      1.752166          0.319877             0            0   \n",
       "...                         ...               ...           ...          ...   \n",
       "1588                  -0.455480          0.819099             0            0   \n",
       "1589                  -0.455480         -2.034425             0            0   \n",
       "1590                   1.752166          0.672940             0            0   \n",
       "1591                   2.488048         -2.034425             0            0   \n",
       "1592                  -0.455480          0.367374             0            0   \n",
       "\n",
       "      religion_clubs  train  married  divorced  widowed  cohabited  single  \\\n",
       "0                  0      1        1         0        0          0       0   \n",
       "1                  0      1        0         1        0          0       0   \n",
       "2                  0      1        1         0        0          0       0   \n",
       "3                  0      1        1         0        0          0       0   \n",
       "4                  0      1        1         0        0          0       0   \n",
       "...              ...    ...      ...       ...      ...        ...     ...   \n",
       "1588               0      0        1         0        0          0       0   \n",
       "1589               0      0        0         0        1          0       0   \n",
       "1590               0      0        0         0        0          1       0   \n",
       "1591               0      0        1         0        0          0       0   \n",
       "1592               0      0        0         1        0          0       0   \n",
       "\n",
       "      separated  asian  european  other  is_russian  atheist  muslim  no  \\\n",
       "0             0      0         1      0           1        0       0   0   \n",
       "1             0      0         1      0           1        0       0   0   \n",
       "2             0      0         1      0           1        0       0   0   \n",
       "3             0      0         1      0           1        1       0   0   \n",
       "4             0      0         1      0           1        0       0   0   \n",
       "...         ...    ...       ...    ...         ...      ...     ...  ..   \n",
       "1588          0      0         1      0           1        0       0   0   \n",
       "1589          0      0         1      0           1        0       0   0   \n",
       "1590          0      0         1      0           1        0       0   0   \n",
       "1591          0      0         1      0           1        0       0   0   \n",
       "1592          0      0         1      0           1        0       0   0   \n",
       "\n",
       "      christian  household  military  senior_specialist  farmer/fisherman  \\\n",
       "0             1          0         0                  0                 0   \n",
       "1             1          0         0                  1                 0   \n",
       "2             1          0         0                  1                 0   \n",
       "3             0          0         0                  0                 0   \n",
       "4             1          0         0                  0                 0   \n",
       "...         ...        ...       ...                ...               ...   \n",
       "1588          1          0         0                  1                 0   \n",
       "1589          1          0         0                  1                 0   \n",
       "1590          1          0         0                  0                 0   \n",
       "1591          1          0         0                  0                 0   \n",
       "1592          1          0         0                  0                 0   \n",
       "\n",
       "      low_qualified_work  industry  top_management  service  crafters_other  \\\n",
       "0                      1         0               0        0               0   \n",
       "1                      0         0               0        0               0   \n",
       "2                      0         0               0        0               0   \n",
       "3                      1         0               0        0               0   \n",
       "4                      0         1               0        0               0   \n",
       "...                  ...       ...             ...      ...             ...   \n",
       "1588                   0         0               0        0               0   \n",
       "1589                   0         0               0        0               0   \n",
       "1590                   0         0               0        0               0   \n",
       "1591                   0         0               0        1               0   \n",
       "1592                   0         0               0        0               0   \n",
       "\n",
       "      office  junior_specialists  never_drink_alco  previous_drink_alco  \\\n",
       "0          0                   0                 0                    0   \n",
       "1          0                   0                 1                    0   \n",
       "2          0                   0                 0                    0   \n",
       "3          0                   0                 0                    0   \n",
       "4          0                   0                 0                    0   \n",
       "...      ...                 ...               ...                  ...   \n",
       "1588       0                   0                 0                    0   \n",
       "1589       0                   0                 1                    0   \n",
       "1590       0                   1                 0                    1   \n",
       "1591       0                   0                 1                    0   \n",
       "1592       0                   1                 0                    0   \n",
       "\n",
       "      drink_alco_now  sleep_onset_early_22  sleep_onset_22  sleep_onset_23  \\\n",
       "0                  1                     0               1               0   \n",
       "1                  0                     0               0               0   \n",
       "2                  1                     0               0               1   \n",
       "3                  1                     0               0               1   \n",
       "4                  1                     0               0               1   \n",
       "...              ...                   ...             ...             ...   \n",
       "1588               1                     0               0               1   \n",
       "1589               0                     0               0               0   \n",
       "1590               0                     0               1               0   \n",
       "1591               0                     0               0               0   \n",
       "1592               1                     0               0               0   \n",
       "\n",
       "      sleep_onset_later_after_0  sleep_upset_early_6  sleep_upset_6  \\\n",
       "0                             0                    0              1   \n",
       "1                             1                    1              0   \n",
       "2                             0                    0              0   \n",
       "3                             0                    0              0   \n",
       "4                             0                    0              1   \n",
       "...                         ...                  ...            ...   \n",
       "1588                          0                    0              1   \n",
       "1589                          1                    0              0   \n",
       "1590                          0                    0              0   \n",
       "1591                          1                    0              0   \n",
       "1592                          1                    0              0   \n",
       "\n",
       "      sleep_upset_7  sleep_upset_8  sleep_upset_after_9  sleeptime  \n",
       "0                 0              0                    0   0.283724  \n",
       "1                 0              0                    0  -2.284305  \n",
       "2                 1              0                    0   0.283724  \n",
       "3                 1              0                    0   0.283724  \n",
       "4                 0              0                    0  -0.358283  \n",
       "...             ...            ...                  ...        ...  \n",
       "1588              0              0                    0  -0.358283  \n",
       "1589              0              0                    1   0.925732  \n",
       "1590              1              0                    0   0.925732  \n",
       "1591              0              1                    0   0.283724  \n",
       "1592              1              0                    0  -1.642297  \n",
       "\n",
       "[1593 rows x 62 columns]"
      ]
     },
     "execution_count": 91,
     "metadata": {},
     "output_type": "execute_result"
    }
   ],
   "source": [
    "df"
   ]
  },
  {
   "cell_type": "code",
   "execution_count": 92,
   "id": "f2c42eab",
   "metadata": {},
   "outputs": [],
   "source": [
    "train = df[df['train'] == 1].drop('train', axis = 1)\n",
    "X_test = df[df['train'] == 0].drop('train', axis = 1)"
   ]
  },
  {
   "cell_type": "markdown",
   "id": "3735376c",
   "metadata": {},
   "source": [
    "#### Так как модель исходная as is лучше всего предсказыввает артериальную гипертнезнию, то сосредоточимся на предсказании этого показателя. В дальнейшем обучив модель и \"подставив\" показатели продолжим предсказывать другие"
   ]
  },
  {
   "cell_type": "code",
   "execution_count": 93,
   "id": "24e246bf",
   "metadata": {
    "scrolled": true
   },
   "outputs": [
    {
     "data": {
      "text/html": [
       "<div>\n",
       "<style scoped>\n",
       "    .dataframe tbody tr th:only-of-type {\n",
       "        vertical-align: middle;\n",
       "    }\n",
       "\n",
       "    .dataframe tbody tr th {\n",
       "        vertical-align: top;\n",
       "    }\n",
       "\n",
       "    .dataframe thead th {\n",
       "        text-align: right;\n",
       "    }\n",
       "</style>\n",
       "<table border=\"1\" class=\"dataframe\">\n",
       "  <thead>\n",
       "    <tr style=\"text-align: right;\">\n",
       "      <th></th>\n",
       "      <th>arterial_hypertension</th>\n",
       "      <th>ACD</th>\n",
       "      <th>IHD</th>\n",
       "      <th>heart_failure</th>\n",
       "      <th>other_cardio_diseases</th>\n",
       "    </tr>\n",
       "  </thead>\n",
       "  <tbody>\n",
       "    <tr>\n",
       "      <th>arterial_hypertension</th>\n",
       "      <td>1.000000</td>\n",
       "      <td>0.122720</td>\n",
       "      <td>0.296755</td>\n",
       "      <td>0.266396</td>\n",
       "      <td>0.086785</td>\n",
       "    </tr>\n",
       "    <tr>\n",
       "      <th>ACD</th>\n",
       "      <td>0.122720</td>\n",
       "      <td>1.000000</td>\n",
       "      <td>0.015392</td>\n",
       "      <td>-0.002087</td>\n",
       "      <td>-0.030536</td>\n",
       "    </tr>\n",
       "    <tr>\n",
       "      <th>IHD</th>\n",
       "      <td>0.296755</td>\n",
       "      <td>0.015392</td>\n",
       "      <td>1.000000</td>\n",
       "      <td>0.522954</td>\n",
       "      <td>0.049801</td>\n",
       "    </tr>\n",
       "    <tr>\n",
       "      <th>heart_failure</th>\n",
       "      <td>0.266396</td>\n",
       "      <td>-0.002087</td>\n",
       "      <td>0.522954</td>\n",
       "      <td>1.000000</td>\n",
       "      <td>0.138133</td>\n",
       "    </tr>\n",
       "    <tr>\n",
       "      <th>other_cardio_diseases</th>\n",
       "      <td>0.086785</td>\n",
       "      <td>-0.030536</td>\n",
       "      <td>0.049801</td>\n",
       "      <td>0.138133</td>\n",
       "      <td>1.000000</td>\n",
       "    </tr>\n",
       "  </tbody>\n",
       "</table>\n",
       "</div>"
      ],
      "text/plain": [
       "                       arterial_hypertension       ACD       IHD  \\\n",
       "arterial_hypertension               1.000000  0.122720  0.296755   \n",
       "ACD                                 0.122720  1.000000  0.015392   \n",
       "IHD                                 0.296755  0.015392  1.000000   \n",
       "heart_failure                       0.266396 -0.002087  0.522954   \n",
       "other_cardio_diseases               0.086785 -0.030536  0.049801   \n",
       "\n",
       "                       heart_failure  other_cardio_diseases  \n",
       "arterial_hypertension       0.266396               0.086785  \n",
       "ACD                        -0.002087              -0.030536  \n",
       "IHD                         0.522954               0.049801  \n",
       "heart_failure               1.000000               0.138133  \n",
       "other_cardio_diseases       0.138133               1.000000  "
      ]
     },
     "execution_count": 93,
     "metadata": {},
     "output_type": "execute_result"
    }
   ],
   "source": [
    "target_train.corr()"
   ]
  },
  {
   "cell_type": "markdown",
   "id": "f291ee8e",
   "metadata": {},
   "source": [
    "#### исходя из корреляций между АГ и другими болезнями у метода хорошие перспективы"
   ]
  },
  {
   "cell_type": "markdown",
   "id": "6275e762",
   "metadata": {},
   "source": [
    "# Поиск лучшей метрики с помощью логистической регрессии"
   ]
  },
  {
   "cell_type": "code",
   "execution_count": 94,
   "id": "577756fa",
   "metadata": {},
   "outputs": [],
   "source": [
    "# Гиперпараметры\n",
    "C = [0.1, 0.01]\n",
    "iters = [50, 100, 200]\n",
    "epsilon_stop = [0.0001]\n",
    "param_grid_logreg = [\n",
    "    {'C': C,\n",
    "     'penalty': ['l1'],\n",
    "     'solver': ['saga', 'liblinear'],\n",
    "     'class_weight':[None, 'balanced'],\n",
    "     'multi_class': ['auto', 'ovr'],\n",
    "     'max_iter': iters,\n",
    "     'tol': epsilon_stop},\n",
    "    {'C': C,\n",
    "     'penalty': ['l2'],\n",
    "     'solver': ['newton-cg', 'liblinear', 'lbfgs', 'saga'],\n",
    "     'class_weight':[None, 'balanced'],\n",
    "     'multi_class': ['auto', 'ovr'],\n",
    "     'max_iter': iters,\n",
    "     'tol':epsilon_stop},\n",
    "    {'penalty': ['none'],\n",
    "     'solver': ['saga'],\n",
    "     'class_weight':[None, 'balanced'],\n",
    "     'multi_class': ['auto', 'ovr'],\n",
    "     'max_iter': iters,\n",
    "     'tol':epsilon_stop}]"
   ]
  },
  {
   "cell_type": "code",
   "execution_count": 95,
   "id": "22614fb4",
   "metadata": {},
   "outputs": [],
   "source": [
    "def reduce_low_corrs_with_target(df, target, threshold=0.05, return_predicted=False, X_test=None):    \n",
    "    mask = df.corr().abs()[target].sort_values() > threshold\n",
    "    df = df[mask.index[mask]]\n",
    "    if return_predicted == True:\n",
    "        test_mask = mask.drop(target)\n",
    "        X_test = X_test[test_mask.index[test_mask]]\n",
    "        return df, X_test\n",
    "    else:\n",
    "        return df"
   ]
  },
  {
   "cell_type": "code",
   "execution_count": 96,
   "id": "0496b9d3",
   "metadata": {},
   "outputs": [],
   "source": [
    "def calc_f_score(y_valid, probs):\n",
    "    \"\"\"\n",
    "    считает наибольший f_score при различных порогах отнесения к нулевому и первому классам\n",
    "    \"\"\"\n",
    "    precision, recall, threshold = precision_recall_curve(y_valid, probs)\n",
    "    denom = precision + recall\n",
    "    # в целях избежания выбрасывания ошибки, если знаменатель f-score равен нулю, то он конвертируется в -1 \n",
    "    denom[denom == 0] = -1\n",
    "    f_score = (2 * precision * recall / denom)[:-1]\n",
    "    return f_score, threshold"
   ]
  },
  {
   "cell_type": "code",
   "execution_count": 97,
   "id": "a113e478",
   "metadata": {},
   "outputs": [],
   "source": [
    "def calc_optimal_f_score(y_valid, probs):\n",
    "    f_score, thresholds = calc_f_score(y_valid, probs)\n",
    "    best_f_score = max(f_score)\n",
    "    threshold = thresholds[np.argmax(f_score)]\n",
    "    print(f'best_threshold = {round(threshold, 4)}')\n",
    "    print(f'best_f_score = {round(best_f_score,4)}')\n",
    "    return threshold"
   ]
  },
  {
   "cell_type": "code",
   "execution_count": 165,
   "id": "12362ca5",
   "metadata": {},
   "outputs": [],
   "source": [
    "# Модель логистической регрессии с балансировкой выборки, флаг return_model отвечает за возврат модели после выполнения функции.\n",
    "def fit_logreg(model, target, reduce_corrs=False, threshold_reduce=0.05, grid=False, oversampling=False, param_grid=None,\n",
    "               return_predicted=False, X_test=None, find_optimal_threshold=False):\n",
    "    \n",
    "    if reduce_corrs == True:\n",
    "        model, X_test = reduce_low_corrs_with_target(df=model, target=target, \n",
    "                                             threshold=threshold_reduce, return_predicted=return_predicted, \n",
    "                                                     X_test=X_test)\n",
    "    \n",
    "    # Разбивка выборки на train и test\n",
    "    X = model.drop(target, axis=1)\n",
    "    y = model[target]\n",
    "    X_train, X_valid, y_train, y_valid = train_test_split(X, y, test_size=0.20, random_state=42)\n",
    "    \n",
    "    #Логистическая регрессия\n",
    "    clf = LogisticRegression()\n",
    "    \n",
    "    # Балансировка выборки\n",
    "    if oversampling == True:     \n",
    "        oversam = RandomOverSampler(sampling_strategy='minority')\n",
    "        X, y = oversam.fit_resample(X_train, y_train)\n",
    "    \n",
    "    clf.fit(X_train, y_train)\n",
    "    \n",
    "    # Произведем поиск гиперпараметров GridSearchCV при помощи перебора параметров по сетке param_grid:\n",
    "    if grid == True:    \n",
    "        grid_search = GridSearchCV(clf, param_grid, scoring='f1', n_jobs=-1, cv=5)\n",
    "        grid_search.fit(X_train, y_train)\n",
    "        grid_search.best_params_\n",
    "    \n",
    "    # Печатаем параметры развернуто:\n",
    "        best_model = grid_search.best_estimator_\n",
    "        best_parameters = best_model.get_params()\n",
    "        for param_name in sorted(best_parameters.keys()):\n",
    "            print('\\t%s: %r' % (param_name, best_parameters[param_name]))\n",
    "        clf = best_model\n",
    "    \n",
    "    if find_optimal_threshold == True:\n",
    "        probs =  clf.predict_proba(X_valid)[:, 1]\n",
    "        threshold = calc_optimal_f_score(y_valid, probs)\n",
    "\n",
    "        y_pred = np.where(probs > threshold, 1, 0)\n",
    "    else:\n",
    "        y_pred = clf.predict(X_valid)\n",
    "        \n",
    "    print('Recall: ', recall_score(y_valid, y_pred, average='macro'))\n",
    "    print('f1_score: ', f1_score(y_valid, y_pred))\n",
    "    \n",
    "    \n",
    "    if return_predicted == True:\n",
    "        predicted_target = clf.predict(X)\n",
    "        predicted_test = clf.predict(X_test)\n",
    "        return (predicted_target, predicted_test)\n",
    "    "
   ]
  },
  {
   "cell_type": "markdown",
   "id": "1d436ae5",
   "metadata": {},
   "source": [
    "## Для начала найдем и уберем колонки, которые сильно скоррелированы друг с другом"
   ]
  },
  {
   "cell_type": "code",
   "execution_count": 99,
   "id": "c5449eb0",
   "metadata": {},
   "outputs": [],
   "source": [
    "prepared_df_ah = pd.concat([train, target_train['arterial_hypertension']], axis=1)"
   ]
  },
  {
   "cell_type": "code",
   "execution_count": 100,
   "id": "17e05c70",
   "metadata": {},
   "outputs": [],
   "source": [
    "from sklearn.metrics import precision_recall_curve\n"
   ]
  },
  {
   "cell_type": "code",
   "execution_count": 101,
   "id": "bb9546ac",
   "metadata": {
    "scrolled": false
   },
   "outputs": [
    {
     "name": "stdout",
     "output_type": "stream",
     "text": [
      "\tC: 0.1\n",
      "\tclass_weight: 'balanced'\n",
      "\tdual: False\n",
      "\tfit_intercept: True\n",
      "\tintercept_scaling: 1\n",
      "\tl1_ratio: None\n",
      "\tmax_iter: 50\n",
      "\tmulti_class: 'auto'\n",
      "\tn_jobs: None\n",
      "\tpenalty: 'l2'\n",
      "\trandom_state: None\n",
      "\tsolver: 'liblinear'\n",
      "\ttol: 0.0001\n",
      "\tverbose: 0\n",
      "\twarm_start: False\n",
      "best_threshold = 0.5157\n",
      "best_f_score = 0.7513\n",
      "Recall:  0.7511015642211941\n",
      "f1_score:  0.7446808510638298\n"
     ]
    }
   ],
   "source": [
    "predicted_ah, predicted_ah_test = fit_logreg(prepared_df_ah, 'arterial_hypertension', reduce_corrs=True,\n",
    "                             grid=True, oversampling=False, param_grid=param_grid_logreg, \n",
    "                            return_predicted=True, X_test=X_test, find_optimal_threshold=True)"
   ]
  },
  {
   "cell_type": "markdown",
   "id": "aafaeec8",
   "metadata": {},
   "source": [
    "#### Вторая модель логистической регрессии"
   ]
  },
  {
   "cell_type": "code",
   "execution_count": 102,
   "id": "7eaf0ccd",
   "metadata": {},
   "outputs": [],
   "source": [
    "param_grid_random_forest = { \n",
    "    'n_estimators': [100, 200, 250, 300, 350, 400],\n",
    "    'max_features': ['sqrt', 'log2'],\n",
    "    'max_depth' : [4,5,6,7,8],\n",
    "    'criterion' :['gini', 'entropy'],\n",
    "}"
   ]
  },
  {
   "cell_type": "code",
   "execution_count": 103,
   "id": "9e96169d",
   "metadata": {},
   "outputs": [],
   "source": [
    "def fit_random_forest(model, target, oversampling=False, grid=False, param_grid=None, \n",
    "                      return_model=False, return_predicted=False, X_test=None):\n",
    "    X = model.drop(target, axis=1)\n",
    "    y = model[target]\n",
    "    X_train, X_valid, y_train, y_valid = train_test_split(\n",
    "        X, y, test_size=0.20, random_state=42)\n",
    "\n",
    "    clf = RandomForestClassifier(random_state=42)\n",
    "    clf.fit(X_train, y_train)\n",
    "\n",
    "    # Балансировка выборки\n",
    "    if oversampling == True:\n",
    "        oversam = RandomOverSampler(sampling_strategy='minority')\n",
    "        X, y = oversam.fit_resample(X_train, y_train)\n",
    "\n",
    "    if grid == True:\n",
    "        grid_search = GridSearchCV(\n",
    "            clf, param_grid, scoring='f1', n_jobs=-1, cv=4)\n",
    "        grid_search.fit(X_train, y_train)\n",
    "        grid_search.best_params_\n",
    "\n",
    "    # Печатаем параметры развернуто:\n",
    "        best_model = grid_search.best_estimator_\n",
    "        best_parameters = best_model.get_params()\n",
    "        for param_name in sorted(best_parameters.keys()):\n",
    "            print('\\t%s: %r' % (param_name, best_parameters[param_name]))\n",
    "        clf = best_model\n",
    "\n",
    "    y_pred = clf.predict(X_valid)\n",
    "\n",
    "    print('Recall: ', recall_score(y_valid, y_pred, average='macro'))\n",
    "    print('f1_score: ', f1_score(y_valid, y_pred))\n",
    "\n",
    "    if return_predicted == True:\n",
    "        predicted_target = clf.predict(X)\n",
    "        predicted_test = clf.predict(X_test)\n",
    "        return (predicted_target, predicted_test)"
   ]
  },
  {
   "cell_type": "code",
   "execution_count": null,
   "id": "2193d862",
   "metadata": {},
   "outputs": [],
   "source": [
    "#predicted_ah, predicted_ah_test = fit_random_forest(prepared_df_ah, 'arterial_hypertension',\n",
    "#                  oversampling=False, grid=True, param_grid=param_grid_random_forest, \n",
    "#                  return_predicted=True, X_test=X_test)"
   ]
  },
  {
   "cell_type": "markdown",
   "id": "06608d43",
   "metadata": {},
   "source": [
    "bootstrap: True\n",
    "\tccp_alpha: 0.0\n",
    "\tclass_weight: None\n",
    "\tcriterion: 'gini'\n",
    "\tmax_depth: 6\n",
    "\tmax_features: 'sqrt'\n",
    "\tmax_leaf_nodes: None\n",
    "\tmax_samples: None\n",
    "\tmin_impurity_decrease: 0.0\n",
    "\tmin_samples_leaf: 1\n",
    "\tmin_samples_split: 2\n",
    "\tmin_weight_fraction_leaf: 0.0\n",
    "\tn_estimators: 300\n",
    "\tn_jobs: None\n",
    "\toob_score: False\n",
    "\trandom_state: 42\n",
    "\tverbose: 0\n",
    "\twarm_start: False\n",
    "Recall:  0.8099250936329588\n",
    "f1_score:  0.7954545454545455\n"
   ]
  },
  {
   "cell_type": "code",
   "execution_count": null,
   "id": "bd4b31d6",
   "metadata": {},
   "outputs": [],
   "source": []
  },
  {
   "cell_type": "code",
   "execution_count": null,
   "id": "3eb4960d",
   "metadata": {},
   "outputs": [],
   "source": []
  },
  {
   "cell_type": "code",
   "execution_count": 104,
   "id": "3601c61d",
   "metadata": {},
   "outputs": [],
   "source": [
    "X_test['arterial_hypertension'] = predicted_ah_test"
   ]
  },
  {
   "cell_type": "code",
   "execution_count": 105,
   "id": "2bc06eb0",
   "metadata": {},
   "outputs": [],
   "source": [
    "prepared_df_ihd = prepared_df_ah.copy()\n",
    "#prepared_df_ihd['arterial_hypertension'] = predicted_ah\n",
    "prepared_df_ihd = pd.concat([prepared_df_ah, target_train['IHD']], axis=1)\n"
   ]
  },
  {
   "cell_type": "code",
   "execution_count": 159,
   "id": "fb305d3d",
   "metadata": {},
   "outputs": [
    {
     "data": {
      "text/plain": [
       "1344"
      ]
     },
     "execution_count": 159,
     "metadata": {},
     "output_type": "execute_result"
    }
   ],
   "source": [
    "len(predicted_ihd)"
   ]
  },
  {
   "cell_type": "code",
   "execution_count": 110,
   "id": "222c2b52",
   "metadata": {},
   "outputs": [
    {
     "name": "stderr",
     "output_type": "stream",
     "text": [
      "/Users/Lisikux/opt/anaconda3/lib/python3.9/site-packages/sklearn/linear_model/_sag.py:350: ConvergenceWarning: The max_iter was reached which means the coef_ did not converge\n",
      "  warnings.warn(\n",
      "/Users/Lisikux/opt/anaconda3/lib/python3.9/site-packages/sklearn/linear_model/_sag.py:350: ConvergenceWarning: The max_iter was reached which means the coef_ did not converge\n",
      "  warnings.warn(\n",
      "/Users/Lisikux/opt/anaconda3/lib/python3.9/site-packages/sklearn/linear_model/_sag.py:350: ConvergenceWarning: The max_iter was reached which means the coef_ did not converge\n",
      "  warnings.warn(\n",
      "/Users/Lisikux/opt/anaconda3/lib/python3.9/site-packages/sklearn/linear_model/_sag.py:350: ConvergenceWarning: The max_iter was reached which means the coef_ did not converge\n",
      "  warnings.warn(\n",
      "/Users/Lisikux/opt/anaconda3/lib/python3.9/site-packages/sklearn/linear_model/_sag.py:350: ConvergenceWarning: The max_iter was reached which means the coef_ did not converge\n",
      "  warnings.warn(\n",
      "/Users/Lisikux/opt/anaconda3/lib/python3.9/site-packages/sklearn/linear_model/_sag.py:350: ConvergenceWarning: The max_iter was reached which means the coef_ did not converge\n",
      "  warnings.warn(\n",
      "/Users/Lisikux/opt/anaconda3/lib/python3.9/site-packages/sklearn/linear_model/_sag.py:350: ConvergenceWarning: The max_iter was reached which means the coef_ did not converge\n",
      "  warnings.warn(\n",
      "/Users/Lisikux/opt/anaconda3/lib/python3.9/site-packages/sklearn/linear_model/_sag.py:350: ConvergenceWarning: The max_iter was reached which means the coef_ did not converge\n",
      "  warnings.warn(\n",
      "/Users/Lisikux/opt/anaconda3/lib/python3.9/site-packages/sklearn/linear_model/_sag.py:350: ConvergenceWarning: The max_iter was reached which means the coef_ did not converge\n",
      "  warnings.warn(\n",
      "/Users/Lisikux/opt/anaconda3/lib/python3.9/site-packages/sklearn/linear_model/_sag.py:350: ConvergenceWarning: The max_iter was reached which means the coef_ did not converge\n",
      "  warnings.warn(\n",
      "/Users/Lisikux/opt/anaconda3/lib/python3.9/site-packages/sklearn/linear_model/_sag.py:350: ConvergenceWarning: The max_iter was reached which means the coef_ did not converge\n",
      "  warnings.warn(\n",
      "/Users/Lisikux/opt/anaconda3/lib/python3.9/site-packages/sklearn/linear_model/_sag.py:350: ConvergenceWarning: The max_iter was reached which means the coef_ did not converge\n",
      "  warnings.warn(\n",
      "/Users/Lisikux/opt/anaconda3/lib/python3.9/site-packages/sklearn/linear_model/_sag.py:350: ConvergenceWarning: The max_iter was reached which means the coef_ did not converge\n",
      "  warnings.warn(\n",
      "/Users/Lisikux/opt/anaconda3/lib/python3.9/site-packages/sklearn/linear_model/_sag.py:350: ConvergenceWarning: The max_iter was reached which means the coef_ did not converge\n",
      "  warnings.warn(\n",
      "/Users/Lisikux/opt/anaconda3/lib/python3.9/site-packages/sklearn/linear_model/_sag.py:350: ConvergenceWarning: The max_iter was reached which means the coef_ did not converge\n",
      "  warnings.warn(\n",
      "/Users/Lisikux/opt/anaconda3/lib/python3.9/site-packages/sklearn/linear_model/_sag.py:350: ConvergenceWarning: The max_iter was reached which means the coef_ did not converge\n",
      "  warnings.warn(\n",
      "/Users/Lisikux/opt/anaconda3/lib/python3.9/site-packages/sklearn/linear_model/_sag.py:350: ConvergenceWarning: The max_iter was reached which means the coef_ did not converge\n",
      "  warnings.warn(\n",
      "/Users/Lisikux/opt/anaconda3/lib/python3.9/site-packages/sklearn/linear_model/_sag.py:350: ConvergenceWarning: The max_iter was reached which means the coef_ did not converge\n",
      "  warnings.warn(\n",
      "/Users/Lisikux/opt/anaconda3/lib/python3.9/site-packages/sklearn/linear_model/_sag.py:350: ConvergenceWarning: The max_iter was reached which means the coef_ did not converge\n",
      "  warnings.warn(\n",
      "/Users/Lisikux/opt/anaconda3/lib/python3.9/site-packages/sklearn/linear_model/_sag.py:350: ConvergenceWarning: The max_iter was reached which means the coef_ did not converge\n",
      "  warnings.warn(\n",
      "/Users/Lisikux/opt/anaconda3/lib/python3.9/site-packages/sklearn/linear_model/_sag.py:350: ConvergenceWarning: The max_iter was reached which means the coef_ did not converge\n",
      "  warnings.warn(\n",
      "/Users/Lisikux/opt/anaconda3/lib/python3.9/site-packages/sklearn/linear_model/_sag.py:350: ConvergenceWarning: The max_iter was reached which means the coef_ did not converge\n",
      "  warnings.warn(\n",
      "/Users/Lisikux/opt/anaconda3/lib/python3.9/site-packages/sklearn/linear_model/_sag.py:350: ConvergenceWarning: The max_iter was reached which means the coef_ did not converge\n",
      "  warnings.warn(\n",
      "/Users/Lisikux/opt/anaconda3/lib/python3.9/site-packages/sklearn/linear_model/_sag.py:350: ConvergenceWarning: The max_iter was reached which means the coef_ did not converge\n",
      "  warnings.warn(\n",
      "/Users/Lisikux/opt/anaconda3/lib/python3.9/site-packages/sklearn/linear_model/_sag.py:350: ConvergenceWarning: The max_iter was reached which means the coef_ did not converge\n",
      "  warnings.warn(\n",
      "/Users/Lisikux/opt/anaconda3/lib/python3.9/site-packages/sklearn/linear_model/_sag.py:350: ConvergenceWarning: The max_iter was reached which means the coef_ did not converge\n",
      "  warnings.warn(\n",
      "/Users/Lisikux/opt/anaconda3/lib/python3.9/site-packages/sklearn/linear_model/_sag.py:350: ConvergenceWarning: The max_iter was reached which means the coef_ did not converge\n",
      "  warnings.warn(\n",
      "/Users/Lisikux/opt/anaconda3/lib/python3.9/site-packages/sklearn/linear_model/_sag.py:350: ConvergenceWarning: The max_iter was reached which means the coef_ did not converge\n",
      "  warnings.warn(\n",
      "/Users/Lisikux/opt/anaconda3/lib/python3.9/site-packages/sklearn/linear_model/_sag.py:350: ConvergenceWarning: The max_iter was reached which means the coef_ did not converge\n",
      "  warnings.warn(\n",
      "/Users/Lisikux/opt/anaconda3/lib/python3.9/site-packages/sklearn/linear_model/_sag.py:350: ConvergenceWarning: The max_iter was reached which means the coef_ did not converge\n",
      "  warnings.warn(\n",
      "/Users/Lisikux/opt/anaconda3/lib/python3.9/site-packages/sklearn/linear_model/_sag.py:350: ConvergenceWarning: The max_iter was reached which means the coef_ did not converge\n",
      "  warnings.warn(\n",
      "/Users/Lisikux/opt/anaconda3/lib/python3.9/site-packages/sklearn/linear_model/_sag.py:350: ConvergenceWarning: The max_iter was reached which means the coef_ did not converge\n",
      "  warnings.warn(\n",
      "/Users/Lisikux/opt/anaconda3/lib/python3.9/site-packages/sklearn/linear_model/_sag.py:350: ConvergenceWarning: The max_iter was reached which means the coef_ did not converge\n",
      "  warnings.warn(\n",
      "/Users/Lisikux/opt/anaconda3/lib/python3.9/site-packages/sklearn/linear_model/_sag.py:350: ConvergenceWarning: The max_iter was reached which means the coef_ did not converge\n",
      "  warnings.warn(\n",
      "/Users/Lisikux/opt/anaconda3/lib/python3.9/site-packages/sklearn/linear_model/_sag.py:350: ConvergenceWarning: The max_iter was reached which means the coef_ did not converge\n",
      "  warnings.warn(\n",
      "/Users/Lisikux/opt/anaconda3/lib/python3.9/site-packages/sklearn/linear_model/_sag.py:350: ConvergenceWarning: The max_iter was reached which means the coef_ did not converge\n",
      "  warnings.warn(\n",
      "/Users/Lisikux/opt/anaconda3/lib/python3.9/site-packages/sklearn/linear_model/_sag.py:350: ConvergenceWarning: The max_iter was reached which means the coef_ did not converge\n",
      "  warnings.warn(\n",
      "/Users/Lisikux/opt/anaconda3/lib/python3.9/site-packages/sklearn/linear_model/_sag.py:350: ConvergenceWarning: The max_iter was reached which means the coef_ did not converge\n",
      "  warnings.warn(\n",
      "/Users/Lisikux/opt/anaconda3/lib/python3.9/site-packages/sklearn/linear_model/_sag.py:350: ConvergenceWarning: The max_iter was reached which means the coef_ did not converge\n",
      "  warnings.warn(\n",
      "/Users/Lisikux/opt/anaconda3/lib/python3.9/site-packages/sklearn/linear_model/_sag.py:350: ConvergenceWarning: The max_iter was reached which means the coef_ did not converge\n",
      "  warnings.warn(\n",
      "/Users/Lisikux/opt/anaconda3/lib/python3.9/site-packages/sklearn/linear_model/_sag.py:350: ConvergenceWarning: The max_iter was reached which means the coef_ did not converge\n",
      "  warnings.warn(\n",
      "/Users/Lisikux/opt/anaconda3/lib/python3.9/site-packages/sklearn/linear_model/_sag.py:350: ConvergenceWarning: The max_iter was reached which means the coef_ did not converge\n",
      "  warnings.warn(\n",
      "/Users/Lisikux/opt/anaconda3/lib/python3.9/site-packages/sklearn/linear_model/_sag.py:350: ConvergenceWarning: The max_iter was reached which means the coef_ did not converge\n",
      "  warnings.warn(\n",
      "/Users/Lisikux/opt/anaconda3/lib/python3.9/site-packages/sklearn/linear_model/_sag.py:350: ConvergenceWarning: The max_iter was reached which means the coef_ did not converge\n",
      "  warnings.warn(\n",
      "/Users/Lisikux/opt/anaconda3/lib/python3.9/site-packages/sklearn/linear_model/_sag.py:350: ConvergenceWarning: The max_iter was reached which means the coef_ did not converge\n",
      "  warnings.warn(\n"
     ]
    },
    {
     "name": "stderr",
     "output_type": "stream",
     "text": [
      "/Users/Lisikux/opt/anaconda3/lib/python3.9/site-packages/sklearn/linear_model/_sag.py:350: ConvergenceWarning: The max_iter was reached which means the coef_ did not converge\n",
      "  warnings.warn(\n",
      "/Users/Lisikux/opt/anaconda3/lib/python3.9/site-packages/sklearn/linear_model/_sag.py:350: ConvergenceWarning: The max_iter was reached which means the coef_ did not converge\n",
      "  warnings.warn(\n",
      "/Users/Lisikux/opt/anaconda3/lib/python3.9/site-packages/sklearn/linear_model/_sag.py:350: ConvergenceWarning: The max_iter was reached which means the coef_ did not converge\n",
      "  warnings.warn(\n",
      "/Users/Lisikux/opt/anaconda3/lib/python3.9/site-packages/sklearn/linear_model/_sag.py:350: ConvergenceWarning: The max_iter was reached which means the coef_ did not converge\n",
      "  warnings.warn(\n",
      "/Users/Lisikux/opt/anaconda3/lib/python3.9/site-packages/sklearn/linear_model/_sag.py:350: ConvergenceWarning: The max_iter was reached which means the coef_ did not converge\n",
      "  warnings.warn(\n",
      "/Users/Lisikux/opt/anaconda3/lib/python3.9/site-packages/sklearn/linear_model/_sag.py:350: ConvergenceWarning: The max_iter was reached which means the coef_ did not converge\n",
      "  warnings.warn(\n",
      "/Users/Lisikux/opt/anaconda3/lib/python3.9/site-packages/sklearn/linear_model/_sag.py:350: ConvergenceWarning: The max_iter was reached which means the coef_ did not converge\n",
      "  warnings.warn(\n",
      "/Users/Lisikux/opt/anaconda3/lib/python3.9/site-packages/sklearn/linear_model/_sag.py:350: ConvergenceWarning: The max_iter was reached which means the coef_ did not converge\n",
      "  warnings.warn(\n",
      "/Users/Lisikux/opt/anaconda3/lib/python3.9/site-packages/sklearn/linear_model/_sag.py:350: ConvergenceWarning: The max_iter was reached which means the coef_ did not converge\n",
      "  warnings.warn(\n",
      "/Users/Lisikux/opt/anaconda3/lib/python3.9/site-packages/sklearn/linear_model/_sag.py:350: ConvergenceWarning: The max_iter was reached which means the coef_ did not converge\n",
      "  warnings.warn(\n",
      "/Users/Lisikux/opt/anaconda3/lib/python3.9/site-packages/sklearn/linear_model/_sag.py:350: ConvergenceWarning: The max_iter was reached which means the coef_ did not converge\n",
      "  warnings.warn(\n",
      "/Users/Lisikux/opt/anaconda3/lib/python3.9/site-packages/sklearn/linear_model/_sag.py:350: ConvergenceWarning: The max_iter was reached which means the coef_ did not converge\n",
      "  warnings.warn(\n",
      "/Users/Lisikux/opt/anaconda3/lib/python3.9/site-packages/sklearn/linear_model/_sag.py:350: ConvergenceWarning: The max_iter was reached which means the coef_ did not converge\n",
      "  warnings.warn(\n",
      "/Users/Lisikux/opt/anaconda3/lib/python3.9/site-packages/sklearn/linear_model/_sag.py:350: ConvergenceWarning: The max_iter was reached which means the coef_ did not converge\n",
      "  warnings.warn(\n",
      "/Users/Lisikux/opt/anaconda3/lib/python3.9/site-packages/sklearn/linear_model/_sag.py:350: ConvergenceWarning: The max_iter was reached which means the coef_ did not converge\n",
      "  warnings.warn(\n",
      "/Users/Lisikux/opt/anaconda3/lib/python3.9/site-packages/sklearn/linear_model/_sag.py:350: ConvergenceWarning: The max_iter was reached which means the coef_ did not converge\n",
      "  warnings.warn(\n",
      "/Users/Lisikux/opt/anaconda3/lib/python3.9/site-packages/sklearn/linear_model/_sag.py:350: ConvergenceWarning: The max_iter was reached which means the coef_ did not converge\n",
      "  warnings.warn(\n",
      "/Users/Lisikux/opt/anaconda3/lib/python3.9/site-packages/sklearn/linear_model/_sag.py:350: ConvergenceWarning: The max_iter was reached which means the coef_ did not converge\n",
      "  warnings.warn(\n",
      "/Users/Lisikux/opt/anaconda3/lib/python3.9/site-packages/sklearn/linear_model/_sag.py:350: ConvergenceWarning: The max_iter was reached which means the coef_ did not converge\n",
      "  warnings.warn(\n",
      "/Users/Lisikux/opt/anaconda3/lib/python3.9/site-packages/sklearn/linear_model/_sag.py:350: ConvergenceWarning: The max_iter was reached which means the coef_ did not converge\n",
      "  warnings.warn(\n",
      "/Users/Lisikux/opt/anaconda3/lib/python3.9/site-packages/sklearn/linear_model/_sag.py:350: ConvergenceWarning: The max_iter was reached which means the coef_ did not converge\n",
      "  warnings.warn(\n",
      "/Users/Lisikux/opt/anaconda3/lib/python3.9/site-packages/sklearn/linear_model/_sag.py:350: ConvergenceWarning: The max_iter was reached which means the coef_ did not converge\n",
      "  warnings.warn(\n",
      "/Users/Lisikux/opt/anaconda3/lib/python3.9/site-packages/sklearn/linear_model/_sag.py:350: ConvergenceWarning: The max_iter was reached which means the coef_ did not converge\n",
      "  warnings.warn(\n",
      "/Users/Lisikux/opt/anaconda3/lib/python3.9/site-packages/sklearn/linear_model/_sag.py:350: ConvergenceWarning: The max_iter was reached which means the coef_ did not converge\n",
      "  warnings.warn(\n",
      "/Users/Lisikux/opt/anaconda3/lib/python3.9/site-packages/sklearn/linear_model/_sag.py:350: ConvergenceWarning: The max_iter was reached which means the coef_ did not converge\n",
      "  warnings.warn(\n",
      "/Users/Lisikux/opt/anaconda3/lib/python3.9/site-packages/sklearn/linear_model/_sag.py:350: ConvergenceWarning: The max_iter was reached which means the coef_ did not converge\n",
      "  warnings.warn(\n",
      "/Users/Lisikux/opt/anaconda3/lib/python3.9/site-packages/sklearn/linear_model/_sag.py:350: ConvergenceWarning: The max_iter was reached which means the coef_ did not converge\n",
      "  warnings.warn(\n",
      "/Users/Lisikux/opt/anaconda3/lib/python3.9/site-packages/sklearn/linear_model/_sag.py:350: ConvergenceWarning: The max_iter was reached which means the coef_ did not converge\n",
      "  warnings.warn(\n",
      "/Users/Lisikux/opt/anaconda3/lib/python3.9/site-packages/sklearn/linear_model/_sag.py:350: ConvergenceWarning: The max_iter was reached which means the coef_ did not converge\n",
      "  warnings.warn(\n",
      "/Users/Lisikux/opt/anaconda3/lib/python3.9/site-packages/sklearn/linear_model/_sag.py:350: ConvergenceWarning: The max_iter was reached which means the coef_ did not converge\n",
      "  warnings.warn(\n",
      "/Users/Lisikux/opt/anaconda3/lib/python3.9/site-packages/sklearn/linear_model/_sag.py:350: ConvergenceWarning: The max_iter was reached which means the coef_ did not converge\n",
      "  warnings.warn(\n",
      "/Users/Lisikux/opt/anaconda3/lib/python3.9/site-packages/sklearn/linear_model/_sag.py:350: ConvergenceWarning: The max_iter was reached which means the coef_ did not converge\n",
      "  warnings.warn(\n",
      "/Users/Lisikux/opt/anaconda3/lib/python3.9/site-packages/sklearn/linear_model/_sag.py:350: ConvergenceWarning: The max_iter was reached which means the coef_ did not converge\n",
      "  warnings.warn(\n"
     ]
    },
    {
     "name": "stdout",
     "output_type": "stream",
     "text": [
      "\tC: 0.1\n",
      "\tclass_weight: 'balanced'\n",
      "\tdual: False\n",
      "\tfit_intercept: True\n",
      "\tintercept_scaling: 1\n",
      "\tl1_ratio: None\n",
      "\tmax_iter: 50\n",
      "\tmulti_class: 'auto'\n",
      "\tn_jobs: None\n",
      "\tpenalty: 'l2'\n",
      "\trandom_state: None\n",
      "\tsolver: 'liblinear'\n",
      "\ttol: 0.0001\n",
      "\tverbose: 0\n",
      "\twarm_start: False\n",
      "Recall:  0.6603614457831326\n",
      "f1_score:  0.3404255319148936\n"
     ]
    },
    {
     "name": "stderr",
     "output_type": "stream",
     "text": [
      "/Users/Lisikux/opt/anaconda3/lib/python3.9/site-packages/sklearn/linear_model/_sag.py:350: ConvergenceWarning: The max_iter was reached which means the coef_ did not converge\n",
      "  warnings.warn(\n",
      "/Users/Lisikux/opt/anaconda3/lib/python3.9/site-packages/sklearn/linear_model/_sag.py:350: ConvergenceWarning: The max_iter was reached which means the coef_ did not converge\n",
      "  warnings.warn(\n",
      "/Users/Lisikux/opt/anaconda3/lib/python3.9/site-packages/sklearn/linear_model/_sag.py:350: ConvergenceWarning: The max_iter was reached which means the coef_ did not converge\n",
      "  warnings.warn(\n",
      "/Users/Lisikux/opt/anaconda3/lib/python3.9/site-packages/sklearn/linear_model/_sag.py:350: ConvergenceWarning: The max_iter was reached which means the coef_ did not converge\n",
      "  warnings.warn(\n",
      "/Users/Lisikux/opt/anaconda3/lib/python3.9/site-packages/sklearn/linear_model/_sag.py:350: ConvergenceWarning: The max_iter was reached which means the coef_ did not converge\n",
      "  warnings.warn(\n",
      "/Users/Lisikux/opt/anaconda3/lib/python3.9/site-packages/sklearn/linear_model/_sag.py:350: ConvergenceWarning: The max_iter was reached which means the coef_ did not converge\n",
      "  warnings.warn(\n"
     ]
    }
   ],
   "source": [
    "predicted_ihd, predicted_ihd_test = fit_logreg(prepared_df_ihd, 'IHD', reduce_corrs=False, threshold_reduce=0.03,\n",
    "                             grid=True, oversampling=True, param_grid=param_grid_logreg, \n",
    "                            return_predicted=True, X_test=X_test, find_optimal_threshold=False)\n"
   ]
  },
  {
   "cell_type": "code",
   "execution_count": 111,
   "id": "9b138162",
   "metadata": {},
   "outputs": [],
   "source": [
    "X_test['IHD'] = predicted_ihd_test\n",
    "prepared_df_hf = prepared_df_ihd.copy()\n",
    "#prepared_df_hf['IHD'] = predicted_ihd\n",
    "prepared_df_hf = pd.concat([prepared_df_ihd, target_train['heart_failure']], axis=1)\n"
   ]
  },
  {
   "cell_type": "code",
   "execution_count": 160,
   "id": "b0c0298f",
   "metadata": {},
   "outputs": [
    {
     "name": "stderr",
     "output_type": "stream",
     "text": [
      "/Users/Lisikux/opt/anaconda3/lib/python3.9/site-packages/sklearn/linear_model/_sag.py:350: ConvergenceWarning: The max_iter was reached which means the coef_ did not converge\n",
      "  warnings.warn(\n",
      "/Users/Lisikux/opt/anaconda3/lib/python3.9/site-packages/sklearn/linear_model/_sag.py:350: ConvergenceWarning: The max_iter was reached which means the coef_ did not converge\n",
      "  warnings.warn(\n",
      "/Users/Lisikux/opt/anaconda3/lib/python3.9/site-packages/sklearn/linear_model/_sag.py:350: ConvergenceWarning: The max_iter was reached which means the coef_ did not converge\n",
      "  warnings.warn(\n",
      "/Users/Lisikux/opt/anaconda3/lib/python3.9/site-packages/sklearn/linear_model/_sag.py:350: ConvergenceWarning: The max_iter was reached which means the coef_ did not converge\n",
      "  warnings.warn(\n",
      "/Users/Lisikux/opt/anaconda3/lib/python3.9/site-packages/sklearn/linear_model/_sag.py:350: ConvergenceWarning: The max_iter was reached which means the coef_ did not converge\n",
      "  warnings.warn(\n",
      "/Users/Lisikux/opt/anaconda3/lib/python3.9/site-packages/sklearn/linear_model/_sag.py:350: ConvergenceWarning: The max_iter was reached which means the coef_ did not converge\n",
      "  warnings.warn(\n",
      "/Users/Lisikux/opt/anaconda3/lib/python3.9/site-packages/sklearn/linear_model/_sag.py:350: ConvergenceWarning: The max_iter was reached which means the coef_ did not converge\n",
      "  warnings.warn(\n",
      "/Users/Lisikux/opt/anaconda3/lib/python3.9/site-packages/sklearn/linear_model/_sag.py:350: ConvergenceWarning: The max_iter was reached which means the coef_ did not converge\n",
      "  warnings.warn(\n",
      "/Users/Lisikux/opt/anaconda3/lib/python3.9/site-packages/sklearn/linear_model/_sag.py:350: ConvergenceWarning: The max_iter was reached which means the coef_ did not converge\n",
      "  warnings.warn(\n",
      "/Users/Lisikux/opt/anaconda3/lib/python3.9/site-packages/sklearn/linear_model/_sag.py:350: ConvergenceWarning: The max_iter was reached which means the coef_ did not converge\n",
      "  warnings.warn(\n",
      "/Users/Lisikux/opt/anaconda3/lib/python3.9/site-packages/sklearn/linear_model/_sag.py:350: ConvergenceWarning: The max_iter was reached which means the coef_ did not converge\n",
      "  warnings.warn(\n",
      "/Users/Lisikux/opt/anaconda3/lib/python3.9/site-packages/sklearn/linear_model/_sag.py:350: ConvergenceWarning: The max_iter was reached which means the coef_ did not converge\n",
      "  warnings.warn(\n",
      "/Users/Lisikux/opt/anaconda3/lib/python3.9/site-packages/sklearn/linear_model/_sag.py:350: ConvergenceWarning: The max_iter was reached which means the coef_ did not converge\n",
      "  warnings.warn(\n",
      "/Users/Lisikux/opt/anaconda3/lib/python3.9/site-packages/sklearn/linear_model/_sag.py:350: ConvergenceWarning: The max_iter was reached which means the coef_ did not converge\n",
      "  warnings.warn(\n",
      "/Users/Lisikux/opt/anaconda3/lib/python3.9/site-packages/sklearn/linear_model/_sag.py:350: ConvergenceWarning: The max_iter was reached which means the coef_ did not converge\n",
      "  warnings.warn(\n",
      "/Users/Lisikux/opt/anaconda3/lib/python3.9/site-packages/sklearn/linear_model/_sag.py:350: ConvergenceWarning: The max_iter was reached which means the coef_ did not converge\n",
      "  warnings.warn(\n",
      "/Users/Lisikux/opt/anaconda3/lib/python3.9/site-packages/sklearn/linear_model/_sag.py:350: ConvergenceWarning: The max_iter was reached which means the coef_ did not converge\n",
      "  warnings.warn(\n",
      "/Users/Lisikux/opt/anaconda3/lib/python3.9/site-packages/sklearn/linear_model/_sag.py:350: ConvergenceWarning: The max_iter was reached which means the coef_ did not converge\n",
      "  warnings.warn(\n",
      "/Users/Lisikux/opt/anaconda3/lib/python3.9/site-packages/sklearn/linear_model/_sag.py:350: ConvergenceWarning: The max_iter was reached which means the coef_ did not converge\n",
      "  warnings.warn(\n",
      "/Users/Lisikux/opt/anaconda3/lib/python3.9/site-packages/sklearn/linear_model/_sag.py:350: ConvergenceWarning: The max_iter was reached which means the coef_ did not converge\n",
      "  warnings.warn(\n",
      "/Users/Lisikux/opt/anaconda3/lib/python3.9/site-packages/sklearn/linear_model/_sag.py:350: ConvergenceWarning: The max_iter was reached which means the coef_ did not converge\n",
      "  warnings.warn(\n",
      "/Users/Lisikux/opt/anaconda3/lib/python3.9/site-packages/sklearn/linear_model/_sag.py:350: ConvergenceWarning: The max_iter was reached which means the coef_ did not converge\n",
      "  warnings.warn(\n",
      "/Users/Lisikux/opt/anaconda3/lib/python3.9/site-packages/sklearn/linear_model/_sag.py:350: ConvergenceWarning: The max_iter was reached which means the coef_ did not converge\n",
      "  warnings.warn(\n",
      "/Users/Lisikux/opt/anaconda3/lib/python3.9/site-packages/sklearn/linear_model/_sag.py:350: ConvergenceWarning: The max_iter was reached which means the coef_ did not converge\n",
      "  warnings.warn(\n",
      "/Users/Lisikux/opt/anaconda3/lib/python3.9/site-packages/sklearn/linear_model/_sag.py:350: ConvergenceWarning: The max_iter was reached which means the coef_ did not converge\n",
      "  warnings.warn(\n",
      "/Users/Lisikux/opt/anaconda3/lib/python3.9/site-packages/sklearn/linear_model/_sag.py:350: ConvergenceWarning: The max_iter was reached which means the coef_ did not converge\n",
      "  warnings.warn(\n",
      "/Users/Lisikux/opt/anaconda3/lib/python3.9/site-packages/sklearn/linear_model/_sag.py:350: ConvergenceWarning: The max_iter was reached which means the coef_ did not converge\n",
      "  warnings.warn(\n",
      "/Users/Lisikux/opt/anaconda3/lib/python3.9/site-packages/sklearn/linear_model/_sag.py:350: ConvergenceWarning: The max_iter was reached which means the coef_ did not converge\n",
      "  warnings.warn(\n",
      "/Users/Lisikux/opt/anaconda3/lib/python3.9/site-packages/sklearn/linear_model/_sag.py:350: ConvergenceWarning: The max_iter was reached which means the coef_ did not converge\n",
      "  warnings.warn(\n",
      "/Users/Lisikux/opt/anaconda3/lib/python3.9/site-packages/sklearn/linear_model/_sag.py:350: ConvergenceWarning: The max_iter was reached which means the coef_ did not converge\n",
      "  warnings.warn(\n",
      "/Users/Lisikux/opt/anaconda3/lib/python3.9/site-packages/sklearn/linear_model/_sag.py:350: ConvergenceWarning: The max_iter was reached which means the coef_ did not converge\n",
      "  warnings.warn(\n",
      "/Users/Lisikux/opt/anaconda3/lib/python3.9/site-packages/sklearn/linear_model/_sag.py:350: ConvergenceWarning: The max_iter was reached which means the coef_ did not converge\n",
      "  warnings.warn(\n",
      "/Users/Lisikux/opt/anaconda3/lib/python3.9/site-packages/sklearn/linear_model/_sag.py:350: ConvergenceWarning: The max_iter was reached which means the coef_ did not converge\n",
      "  warnings.warn(\n",
      "/Users/Lisikux/opt/anaconda3/lib/python3.9/site-packages/sklearn/linear_model/_sag.py:350: ConvergenceWarning: The max_iter was reached which means the coef_ did not converge\n",
      "  warnings.warn(\n",
      "/Users/Lisikux/opt/anaconda3/lib/python3.9/site-packages/sklearn/linear_model/_sag.py:350: ConvergenceWarning: The max_iter was reached which means the coef_ did not converge\n",
      "  warnings.warn(\n",
      "/Users/Lisikux/opt/anaconda3/lib/python3.9/site-packages/sklearn/linear_model/_sag.py:350: ConvergenceWarning: The max_iter was reached which means the coef_ did not converge\n",
      "  warnings.warn(\n",
      "/Users/Lisikux/opt/anaconda3/lib/python3.9/site-packages/sklearn/linear_model/_sag.py:350: ConvergenceWarning: The max_iter was reached which means the coef_ did not converge\n",
      "  warnings.warn(\n",
      "/Users/Lisikux/opt/anaconda3/lib/python3.9/site-packages/sklearn/linear_model/_sag.py:350: ConvergenceWarning: The max_iter was reached which means the coef_ did not converge\n",
      "  warnings.warn(\n",
      "/Users/Lisikux/opt/anaconda3/lib/python3.9/site-packages/sklearn/linear_model/_sag.py:350: ConvergenceWarning: The max_iter was reached which means the coef_ did not converge\n",
      "  warnings.warn(\n",
      "/Users/Lisikux/opt/anaconda3/lib/python3.9/site-packages/sklearn/linear_model/_sag.py:350: ConvergenceWarning: The max_iter was reached which means the coef_ did not converge\n",
      "  warnings.warn(\n",
      "/Users/Lisikux/opt/anaconda3/lib/python3.9/site-packages/sklearn/linear_model/_sag.py:350: ConvergenceWarning: The max_iter was reached which means the coef_ did not converge\n",
      "  warnings.warn(\n",
      "/Users/Lisikux/opt/anaconda3/lib/python3.9/site-packages/sklearn/linear_model/_sag.py:350: ConvergenceWarning: The max_iter was reached which means the coef_ did not converge\n",
      "  warnings.warn(\n",
      "/Users/Lisikux/opt/anaconda3/lib/python3.9/site-packages/sklearn/linear_model/_sag.py:350: ConvergenceWarning: The max_iter was reached which means the coef_ did not converge\n",
      "  warnings.warn(\n",
      "/Users/Lisikux/opt/anaconda3/lib/python3.9/site-packages/sklearn/linear_model/_sag.py:350: ConvergenceWarning: The max_iter was reached which means the coef_ did not converge\n",
      "  warnings.warn(\n",
      "/Users/Lisikux/opt/anaconda3/lib/python3.9/site-packages/sklearn/linear_model/_sag.py:350: ConvergenceWarning: The max_iter was reached which means the coef_ did not converge\n",
      "  warnings.warn(\n",
      "/Users/Lisikux/opt/anaconda3/lib/python3.9/site-packages/sklearn/linear_model/_sag.py:350: ConvergenceWarning: The max_iter was reached which means the coef_ did not converge\n",
      "  warnings.warn(\n",
      "/Users/Lisikux/opt/anaconda3/lib/python3.9/site-packages/sklearn/linear_model/_sag.py:350: ConvergenceWarning: The max_iter was reached which means the coef_ did not converge\n",
      "  warnings.warn(\n",
      "/Users/Lisikux/opt/anaconda3/lib/python3.9/site-packages/sklearn/linear_model/_sag.py:350: ConvergenceWarning: The max_iter was reached which means the coef_ did not converge\n",
      "  warnings.warn(\n"
     ]
    },
    {
     "name": "stderr",
     "output_type": "stream",
     "text": [
      "/Users/Lisikux/opt/anaconda3/lib/python3.9/site-packages/sklearn/linear_model/_sag.py:350: ConvergenceWarning: The max_iter was reached which means the coef_ did not converge\n",
      "  warnings.warn(\n",
      "/Users/Lisikux/opt/anaconda3/lib/python3.9/site-packages/sklearn/linear_model/_sag.py:350: ConvergenceWarning: The max_iter was reached which means the coef_ did not converge\n",
      "  warnings.warn(\n",
      "/Users/Lisikux/opt/anaconda3/lib/python3.9/site-packages/sklearn/linear_model/_sag.py:350: ConvergenceWarning: The max_iter was reached which means the coef_ did not converge\n",
      "  warnings.warn(\n",
      "/Users/Lisikux/opt/anaconda3/lib/python3.9/site-packages/sklearn/linear_model/_sag.py:350: ConvergenceWarning: The max_iter was reached which means the coef_ did not converge\n",
      "  warnings.warn(\n",
      "/Users/Lisikux/opt/anaconda3/lib/python3.9/site-packages/sklearn/linear_model/_sag.py:350: ConvergenceWarning: The max_iter was reached which means the coef_ did not converge\n",
      "  warnings.warn(\n",
      "/Users/Lisikux/opt/anaconda3/lib/python3.9/site-packages/sklearn/linear_model/_sag.py:350: ConvergenceWarning: The max_iter was reached which means the coef_ did not converge\n",
      "  warnings.warn(\n",
      "/Users/Lisikux/opt/anaconda3/lib/python3.9/site-packages/sklearn/linear_model/_sag.py:350: ConvergenceWarning: The max_iter was reached which means the coef_ did not converge\n",
      "  warnings.warn(\n",
      "/Users/Lisikux/opt/anaconda3/lib/python3.9/site-packages/sklearn/linear_model/_sag.py:350: ConvergenceWarning: The max_iter was reached which means the coef_ did not converge\n",
      "  warnings.warn(\n",
      "/Users/Lisikux/opt/anaconda3/lib/python3.9/site-packages/sklearn/linear_model/_sag.py:350: ConvergenceWarning: The max_iter was reached which means the coef_ did not converge\n",
      "  warnings.warn(\n",
      "/Users/Lisikux/opt/anaconda3/lib/python3.9/site-packages/sklearn/linear_model/_sag.py:350: ConvergenceWarning: The max_iter was reached which means the coef_ did not converge\n",
      "  warnings.warn(\n",
      "/Users/Lisikux/opt/anaconda3/lib/python3.9/site-packages/sklearn/linear_model/_sag.py:350: ConvergenceWarning: The max_iter was reached which means the coef_ did not converge\n",
      "  warnings.warn(\n",
      "/Users/Lisikux/opt/anaconda3/lib/python3.9/site-packages/sklearn/linear_model/_sag.py:350: ConvergenceWarning: The max_iter was reached which means the coef_ did not converge\n",
      "  warnings.warn(\n",
      "/Users/Lisikux/opt/anaconda3/lib/python3.9/site-packages/sklearn/linear_model/_sag.py:350: ConvergenceWarning: The max_iter was reached which means the coef_ did not converge\n",
      "  warnings.warn(\n",
      "/Users/Lisikux/opt/anaconda3/lib/python3.9/site-packages/sklearn/linear_model/_sag.py:350: ConvergenceWarning: The max_iter was reached which means the coef_ did not converge\n",
      "  warnings.warn(\n",
      "/Users/Lisikux/opt/anaconda3/lib/python3.9/site-packages/sklearn/linear_model/_sag.py:350: ConvergenceWarning: The max_iter was reached which means the coef_ did not converge\n",
      "  warnings.warn(\n",
      "/Users/Lisikux/opt/anaconda3/lib/python3.9/site-packages/sklearn/linear_model/_sag.py:350: ConvergenceWarning: The max_iter was reached which means the coef_ did not converge\n",
      "  warnings.warn(\n",
      "/Users/Lisikux/opt/anaconda3/lib/python3.9/site-packages/sklearn/linear_model/_sag.py:350: ConvergenceWarning: The max_iter was reached which means the coef_ did not converge\n",
      "  warnings.warn(\n",
      "/Users/Lisikux/opt/anaconda3/lib/python3.9/site-packages/sklearn/linear_model/_sag.py:350: ConvergenceWarning: The max_iter was reached which means the coef_ did not converge\n",
      "  warnings.warn(\n",
      "/Users/Lisikux/opt/anaconda3/lib/python3.9/site-packages/sklearn/linear_model/_sag.py:350: ConvergenceWarning: The max_iter was reached which means the coef_ did not converge\n",
      "  warnings.warn(\n",
      "/Users/Lisikux/opt/anaconda3/lib/python3.9/site-packages/sklearn/linear_model/_sag.py:350: ConvergenceWarning: The max_iter was reached which means the coef_ did not converge\n",
      "  warnings.warn(\n",
      "/Users/Lisikux/opt/anaconda3/lib/python3.9/site-packages/sklearn/linear_model/_sag.py:350: ConvergenceWarning: The max_iter was reached which means the coef_ did not converge\n",
      "  warnings.warn(\n",
      "/Users/Lisikux/opt/anaconda3/lib/python3.9/site-packages/sklearn/linear_model/_sag.py:350: ConvergenceWarning: The max_iter was reached which means the coef_ did not converge\n",
      "  warnings.warn(\n",
      "/Users/Lisikux/opt/anaconda3/lib/python3.9/site-packages/sklearn/linear_model/_sag.py:350: ConvergenceWarning: The max_iter was reached which means the coef_ did not converge\n",
      "  warnings.warn(\n",
      "/Users/Lisikux/opt/anaconda3/lib/python3.9/site-packages/sklearn/linear_model/_sag.py:350: ConvergenceWarning: The max_iter was reached which means the coef_ did not converge\n",
      "  warnings.warn(\n",
      "/Users/Lisikux/opt/anaconda3/lib/python3.9/site-packages/sklearn/linear_model/_sag.py:350: ConvergenceWarning: The max_iter was reached which means the coef_ did not converge\n",
      "  warnings.warn(\n",
      "/Users/Lisikux/opt/anaconda3/lib/python3.9/site-packages/sklearn/linear_model/_sag.py:350: ConvergenceWarning: The max_iter was reached which means the coef_ did not converge\n",
      "  warnings.warn(\n",
      "/Users/Lisikux/opt/anaconda3/lib/python3.9/site-packages/sklearn/linear_model/_sag.py:350: ConvergenceWarning: The max_iter was reached which means the coef_ did not converge\n",
      "  warnings.warn(\n",
      "/Users/Lisikux/opt/anaconda3/lib/python3.9/site-packages/sklearn/linear_model/_sag.py:350: ConvergenceWarning: The max_iter was reached which means the coef_ did not converge\n",
      "  warnings.warn(\n",
      "/Users/Lisikux/opt/anaconda3/lib/python3.9/site-packages/sklearn/linear_model/_sag.py:350: ConvergenceWarning: The max_iter was reached which means the coef_ did not converge\n",
      "  warnings.warn(\n"
     ]
    },
    {
     "name": "stdout",
     "output_type": "stream",
     "text": [
      "\tC: 0.1\n",
      "\tclass_weight: 'balanced'\n",
      "\tdual: False\n",
      "\tfit_intercept: True\n",
      "\tintercept_scaling: 1\n",
      "\tl1_ratio: None\n",
      "\tmax_iter: 50\n",
      "\tmulti_class: 'auto'\n",
      "\tn_jobs: None\n",
      "\tpenalty: 'l1'\n",
      "\trandom_state: None\n",
      "\tsolver: 'saga'\n",
      "\ttol: 0.0001\n",
      "\tverbose: 0\n",
      "\twarm_start: False\n",
      "best_threshold = 0.8559\n",
      "best_f_score = 0.5\n",
      "Recall:  0.758147113594041\n",
      "f1_score:  0.4516129032258065\n"
     ]
    },
    {
     "name": "stderr",
     "output_type": "stream",
     "text": [
      "/Users/Lisikux/opt/anaconda3/lib/python3.9/site-packages/sklearn/linear_model/_sag.py:350: ConvergenceWarning: The max_iter was reached which means the coef_ did not converge\n",
      "  warnings.warn(\n"
     ]
    }
   ],
   "source": [
    "predicted_hf, predicted_hf_test = fit_logreg(prepared_df_hf, 'heart_failure', reduce_corrs=True, threshold_reduce=0.01,\n",
    "                            grid=True, oversampling=False, param_grid=param_grid_logreg, \n",
    "                            return_predicted=True, X_test=X_test, find_optimal_threshold=True)"
   ]
  },
  {
   "cell_type": "code",
   "execution_count": 161,
   "id": "fb957b29",
   "metadata": {},
   "outputs": [],
   "source": [
    "X_test['heart_failure'] = predicted_hf_test\n",
    "prepared_df_acd = prepared_df_hf.copy()\n",
    "prepared_df_acd['heart_failure'] = predicted_hf\n",
    "prepared_df_acd = pd.concat([prepared_df_acd, target_train['ACD']], axis=1)\n"
   ]
  },
  {
   "cell_type": "code",
   "execution_count": 162,
   "id": "3677415c",
   "metadata": {},
   "outputs": [
    {
     "data": {
      "text/plain": [
       "955"
      ]
     },
     "execution_count": 162,
     "metadata": {},
     "output_type": "execute_result"
    }
   ],
   "source": [
    "len(predicted_hf)"
   ]
  },
  {
   "cell_type": "code",
   "execution_count": 167,
   "id": "29992015",
   "metadata": {},
   "outputs": [
    {
     "name": "stderr",
     "output_type": "stream",
     "text": [
      "/Users/Lisikux/opt/anaconda3/lib/python3.9/site-packages/sklearn/linear_model/_sag.py:350: ConvergenceWarning: The max_iter was reached which means the coef_ did not converge\n",
      "  warnings.warn(\n",
      "/Users/Lisikux/opt/anaconda3/lib/python3.9/site-packages/sklearn/linear_model/_sag.py:350: ConvergenceWarning: The max_iter was reached which means the coef_ did not converge\n",
      "  warnings.warn(\n",
      "/Users/Lisikux/opt/anaconda3/lib/python3.9/site-packages/sklearn/linear_model/_sag.py:350: ConvergenceWarning: The max_iter was reached which means the coef_ did not converge\n",
      "  warnings.warn(\n",
      "/Users/Lisikux/opt/anaconda3/lib/python3.9/site-packages/sklearn/linear_model/_sag.py:350: ConvergenceWarning: The max_iter was reached which means the coef_ did not converge\n",
      "  warnings.warn(\n",
      "/Users/Lisikux/opt/anaconda3/lib/python3.9/site-packages/sklearn/linear_model/_sag.py:350: ConvergenceWarning: The max_iter was reached which means the coef_ did not converge\n",
      "  warnings.warn(\n",
      "/Users/Lisikux/opt/anaconda3/lib/python3.9/site-packages/sklearn/linear_model/_sag.py:350: ConvergenceWarning: The max_iter was reached which means the coef_ did not converge\n",
      "  warnings.warn(\n",
      "/Users/Lisikux/opt/anaconda3/lib/python3.9/site-packages/sklearn/linear_model/_sag.py:350: ConvergenceWarning: The max_iter was reached which means the coef_ did not converge\n",
      "  warnings.warn(\n",
      "/Users/Lisikux/opt/anaconda3/lib/python3.9/site-packages/sklearn/linear_model/_sag.py:350: ConvergenceWarning: The max_iter was reached which means the coef_ did not converge\n",
      "  warnings.warn(\n",
      "/Users/Lisikux/opt/anaconda3/lib/python3.9/site-packages/sklearn/linear_model/_sag.py:350: ConvergenceWarning: The max_iter was reached which means the coef_ did not converge\n",
      "  warnings.warn(\n",
      "/Users/Lisikux/opt/anaconda3/lib/python3.9/site-packages/sklearn/linear_model/_sag.py:350: ConvergenceWarning: The max_iter was reached which means the coef_ did not converge\n",
      "  warnings.warn(\n",
      "/Users/Lisikux/opt/anaconda3/lib/python3.9/site-packages/sklearn/linear_model/_sag.py:350: ConvergenceWarning: The max_iter was reached which means the coef_ did not converge\n",
      "  warnings.warn(\n",
      "/Users/Lisikux/opt/anaconda3/lib/python3.9/site-packages/sklearn/linear_model/_sag.py:350: ConvergenceWarning: The max_iter was reached which means the coef_ did not converge\n",
      "  warnings.warn(\n",
      "/Users/Lisikux/opt/anaconda3/lib/python3.9/site-packages/sklearn/linear_model/_sag.py:350: ConvergenceWarning: The max_iter was reached which means the coef_ did not converge\n",
      "  warnings.warn(\n",
      "/Users/Lisikux/opt/anaconda3/lib/python3.9/site-packages/sklearn/linear_model/_sag.py:350: ConvergenceWarning: The max_iter was reached which means the coef_ did not converge\n",
      "  warnings.warn(\n",
      "/Users/Lisikux/opt/anaconda3/lib/python3.9/site-packages/sklearn/linear_model/_sag.py:350: ConvergenceWarning: The max_iter was reached which means the coef_ did not converge\n",
      "  warnings.warn(\n",
      "/Users/Lisikux/opt/anaconda3/lib/python3.9/site-packages/sklearn/linear_model/_sag.py:350: ConvergenceWarning: The max_iter was reached which means the coef_ did not converge\n",
      "  warnings.warn(\n",
      "/Users/Lisikux/opt/anaconda3/lib/python3.9/site-packages/sklearn/linear_model/_sag.py:350: ConvergenceWarning: The max_iter was reached which means the coef_ did not converge\n",
      "  warnings.warn(\n",
      "/Users/Lisikux/opt/anaconda3/lib/python3.9/site-packages/sklearn/linear_model/_sag.py:350: ConvergenceWarning: The max_iter was reached which means the coef_ did not converge\n",
      "  warnings.warn(\n",
      "/Users/Lisikux/opt/anaconda3/lib/python3.9/site-packages/sklearn/linear_model/_sag.py:350: ConvergenceWarning: The max_iter was reached which means the coef_ did not converge\n",
      "  warnings.warn(\n",
      "/Users/Lisikux/opt/anaconda3/lib/python3.9/site-packages/sklearn/linear_model/_sag.py:350: ConvergenceWarning: The max_iter was reached which means the coef_ did not converge\n",
      "  warnings.warn(\n",
      "/Users/Lisikux/opt/anaconda3/lib/python3.9/site-packages/sklearn/linear_model/_sag.py:350: ConvergenceWarning: The max_iter was reached which means the coef_ did not converge\n",
      "  warnings.warn(\n",
      "/Users/Lisikux/opt/anaconda3/lib/python3.9/site-packages/sklearn/linear_model/_sag.py:350: ConvergenceWarning: The max_iter was reached which means the coef_ did not converge\n",
      "  warnings.warn(\n",
      "/Users/Lisikux/opt/anaconda3/lib/python3.9/site-packages/sklearn/linear_model/_sag.py:350: ConvergenceWarning: The max_iter was reached which means the coef_ did not converge\n",
      "  warnings.warn(\n",
      "/Users/Lisikux/opt/anaconda3/lib/python3.9/site-packages/sklearn/linear_model/_sag.py:350: ConvergenceWarning: The max_iter was reached which means the coef_ did not converge\n",
      "  warnings.warn(\n",
      "/Users/Lisikux/opt/anaconda3/lib/python3.9/site-packages/sklearn/linear_model/_sag.py:350: ConvergenceWarning: The max_iter was reached which means the coef_ did not converge\n",
      "  warnings.warn(\n",
      "/Users/Lisikux/opt/anaconda3/lib/python3.9/site-packages/sklearn/linear_model/_sag.py:350: ConvergenceWarning: The max_iter was reached which means the coef_ did not converge\n",
      "  warnings.warn(\n",
      "/Users/Lisikux/opt/anaconda3/lib/python3.9/site-packages/sklearn/linear_model/_sag.py:350: ConvergenceWarning: The max_iter was reached which means the coef_ did not converge\n",
      "  warnings.warn(\n",
      "/Users/Lisikux/opt/anaconda3/lib/python3.9/site-packages/sklearn/linear_model/_sag.py:350: ConvergenceWarning: The max_iter was reached which means the coef_ did not converge\n",
      "  warnings.warn(\n",
      "/Users/Lisikux/opt/anaconda3/lib/python3.9/site-packages/sklearn/linear_model/_sag.py:350: ConvergenceWarning: The max_iter was reached which means the coef_ did not converge\n",
      "  warnings.warn(\n",
      "/Users/Lisikux/opt/anaconda3/lib/python3.9/site-packages/sklearn/linear_model/_sag.py:350: ConvergenceWarning: The max_iter was reached which means the coef_ did not converge\n",
      "  warnings.warn(\n",
      "/Users/Lisikux/opt/anaconda3/lib/python3.9/site-packages/sklearn/linear_model/_sag.py:350: ConvergenceWarning: The max_iter was reached which means the coef_ did not converge\n",
      "  warnings.warn(\n",
      "/Users/Lisikux/opt/anaconda3/lib/python3.9/site-packages/sklearn/linear_model/_sag.py:350: ConvergenceWarning: The max_iter was reached which means the coef_ did not converge\n",
      "  warnings.warn(\n",
      "/Users/Lisikux/opt/anaconda3/lib/python3.9/site-packages/sklearn/linear_model/_sag.py:350: ConvergenceWarning: The max_iter was reached which means the coef_ did not converge\n",
      "  warnings.warn(\n",
      "/Users/Lisikux/opt/anaconda3/lib/python3.9/site-packages/sklearn/linear_model/_sag.py:350: ConvergenceWarning: The max_iter was reached which means the coef_ did not converge\n",
      "  warnings.warn(\n",
      "/Users/Lisikux/opt/anaconda3/lib/python3.9/site-packages/sklearn/linear_model/_sag.py:350: ConvergenceWarning: The max_iter was reached which means the coef_ did not converge\n",
      "  warnings.warn(\n",
      "/Users/Lisikux/opt/anaconda3/lib/python3.9/site-packages/sklearn/linear_model/_sag.py:350: ConvergenceWarning: The max_iter was reached which means the coef_ did not converge\n",
      "  warnings.warn(\n",
      "/Users/Lisikux/opt/anaconda3/lib/python3.9/site-packages/sklearn/linear_model/_sag.py:350: ConvergenceWarning: The max_iter was reached which means the coef_ did not converge\n",
      "  warnings.warn(\n",
      "/Users/Lisikux/opt/anaconda3/lib/python3.9/site-packages/sklearn/linear_model/_sag.py:350: ConvergenceWarning: The max_iter was reached which means the coef_ did not converge\n",
      "  warnings.warn(\n",
      "/Users/Lisikux/opt/anaconda3/lib/python3.9/site-packages/sklearn/linear_model/_sag.py:350: ConvergenceWarning: The max_iter was reached which means the coef_ did not converge\n",
      "  warnings.warn(\n",
      "/Users/Lisikux/opt/anaconda3/lib/python3.9/site-packages/sklearn/linear_model/_sag.py:350: ConvergenceWarning: The max_iter was reached which means the coef_ did not converge\n",
      "  warnings.warn(\n",
      "/Users/Lisikux/opt/anaconda3/lib/python3.9/site-packages/sklearn/linear_model/_sag.py:350: ConvergenceWarning: The max_iter was reached which means the coef_ did not converge\n",
      "  warnings.warn(\n",
      "/Users/Lisikux/opt/anaconda3/lib/python3.9/site-packages/sklearn/linear_model/_sag.py:350: ConvergenceWarning: The max_iter was reached which means the coef_ did not converge\n",
      "  warnings.warn(\n",
      "/Users/Lisikux/opt/anaconda3/lib/python3.9/site-packages/sklearn/linear_model/_sag.py:350: ConvergenceWarning: The max_iter was reached which means the coef_ did not converge\n",
      "  warnings.warn(\n",
      "/Users/Lisikux/opt/anaconda3/lib/python3.9/site-packages/sklearn/linear_model/_sag.py:350: ConvergenceWarning: The max_iter was reached which means the coef_ did not converge\n",
      "  warnings.warn(\n",
      "/Users/Lisikux/opt/anaconda3/lib/python3.9/site-packages/sklearn/linear_model/_sag.py:350: ConvergenceWarning: The max_iter was reached which means the coef_ did not converge\n",
      "  warnings.warn(\n",
      "/Users/Lisikux/opt/anaconda3/lib/python3.9/site-packages/sklearn/linear_model/_sag.py:350: ConvergenceWarning: The max_iter was reached which means the coef_ did not converge\n",
      "  warnings.warn(\n",
      "/Users/Lisikux/opt/anaconda3/lib/python3.9/site-packages/sklearn/linear_model/_sag.py:350: ConvergenceWarning: The max_iter was reached which means the coef_ did not converge\n",
      "  warnings.warn(\n"
     ]
    },
    {
     "name": "stderr",
     "output_type": "stream",
     "text": [
      "/Users/Lisikux/opt/anaconda3/lib/python3.9/site-packages/sklearn/linear_model/_sag.py:350: ConvergenceWarning: The max_iter was reached which means the coef_ did not converge\n",
      "  warnings.warn(\n",
      "/Users/Lisikux/opt/anaconda3/lib/python3.9/site-packages/sklearn/linear_model/_sag.py:350: ConvergenceWarning: The max_iter was reached which means the coef_ did not converge\n",
      "  warnings.warn(\n",
      "/Users/Lisikux/opt/anaconda3/lib/python3.9/site-packages/sklearn/linear_model/_sag.py:350: ConvergenceWarning: The max_iter was reached which means the coef_ did not converge\n",
      "  warnings.warn(\n",
      "/Users/Lisikux/opt/anaconda3/lib/python3.9/site-packages/sklearn/linear_model/_sag.py:350: ConvergenceWarning: The max_iter was reached which means the coef_ did not converge\n",
      "  warnings.warn(\n",
      "/Users/Lisikux/opt/anaconda3/lib/python3.9/site-packages/sklearn/linear_model/_sag.py:350: ConvergenceWarning: The max_iter was reached which means the coef_ did not converge\n",
      "  warnings.warn(\n",
      "/Users/Lisikux/opt/anaconda3/lib/python3.9/site-packages/sklearn/linear_model/_sag.py:350: ConvergenceWarning: The max_iter was reached which means the coef_ did not converge\n",
      "  warnings.warn(\n",
      "/Users/Lisikux/opt/anaconda3/lib/python3.9/site-packages/sklearn/linear_model/_sag.py:350: ConvergenceWarning: The max_iter was reached which means the coef_ did not converge\n",
      "  warnings.warn(\n",
      "/Users/Lisikux/opt/anaconda3/lib/python3.9/site-packages/sklearn/linear_model/_sag.py:350: ConvergenceWarning: The max_iter was reached which means the coef_ did not converge\n",
      "  warnings.warn(\n",
      "/Users/Lisikux/opt/anaconda3/lib/python3.9/site-packages/sklearn/linear_model/_sag.py:350: ConvergenceWarning: The max_iter was reached which means the coef_ did not converge\n",
      "  warnings.warn(\n",
      "/Users/Lisikux/opt/anaconda3/lib/python3.9/site-packages/sklearn/linear_model/_sag.py:350: ConvergenceWarning: The max_iter was reached which means the coef_ did not converge\n",
      "  warnings.warn(\n",
      "/Users/Lisikux/opt/anaconda3/lib/python3.9/site-packages/sklearn/linear_model/_sag.py:350: ConvergenceWarning: The max_iter was reached which means the coef_ did not converge\n",
      "  warnings.warn(\n",
      "/Users/Lisikux/opt/anaconda3/lib/python3.9/site-packages/sklearn/linear_model/_sag.py:350: ConvergenceWarning: The max_iter was reached which means the coef_ did not converge\n",
      "  warnings.warn(\n",
      "/Users/Lisikux/opt/anaconda3/lib/python3.9/site-packages/sklearn/linear_model/_sag.py:350: ConvergenceWarning: The max_iter was reached which means the coef_ did not converge\n",
      "  warnings.warn(\n",
      "/Users/Lisikux/opt/anaconda3/lib/python3.9/site-packages/sklearn/linear_model/_sag.py:350: ConvergenceWarning: The max_iter was reached which means the coef_ did not converge\n",
      "  warnings.warn(\n",
      "/Users/Lisikux/opt/anaconda3/lib/python3.9/site-packages/sklearn/linear_model/_sag.py:350: ConvergenceWarning: The max_iter was reached which means the coef_ did not converge\n",
      "  warnings.warn(\n",
      "/Users/Lisikux/opt/anaconda3/lib/python3.9/site-packages/sklearn/linear_model/_sag.py:350: ConvergenceWarning: The max_iter was reached which means the coef_ did not converge\n",
      "  warnings.warn(\n",
      "/Users/Lisikux/opt/anaconda3/lib/python3.9/site-packages/sklearn/linear_model/_sag.py:350: ConvergenceWarning: The max_iter was reached which means the coef_ did not converge\n",
      "  warnings.warn(\n",
      "/Users/Lisikux/opt/anaconda3/lib/python3.9/site-packages/sklearn/linear_model/_sag.py:350: ConvergenceWarning: The max_iter was reached which means the coef_ did not converge\n",
      "  warnings.warn(\n",
      "/Users/Lisikux/opt/anaconda3/lib/python3.9/site-packages/sklearn/linear_model/_sag.py:350: ConvergenceWarning: The max_iter was reached which means the coef_ did not converge\n",
      "  warnings.warn(\n",
      "/Users/Lisikux/opt/anaconda3/lib/python3.9/site-packages/sklearn/linear_model/_sag.py:350: ConvergenceWarning: The max_iter was reached which means the coef_ did not converge\n",
      "  warnings.warn(\n"
     ]
    },
    {
     "name": "stdout",
     "output_type": "stream",
     "text": [
      "\tC: 0.1\n",
      "\tclass_weight: 'balanced'\n",
      "\tdual: False\n",
      "\tfit_intercept: True\n",
      "\tintercept_scaling: 1\n",
      "\tl1_ratio: None\n",
      "\tmax_iter: 50\n",
      "\tmulti_class: 'auto'\n",
      "\tn_jobs: None\n",
      "\tpenalty: 'l2'\n",
      "\trandom_state: None\n",
      "\tsolver: 'newton-cg'\n",
      "\ttol: 0.0001\n",
      "\tverbose: 0\n",
      "\twarm_start: False\n",
      "Recall:  0.7247267759562841\n",
      "f1_score:  0.17391304347826086\n"
     ]
    },
    {
     "name": "stderr",
     "output_type": "stream",
     "text": [
      "/Users/Lisikux/opt/anaconda3/lib/python3.9/site-packages/sklearn/linear_model/_sag.py:350: ConvergenceWarning: The max_iter was reached which means the coef_ did not converge\n",
      "  warnings.warn(\n",
      "/Users/Lisikux/opt/anaconda3/lib/python3.9/site-packages/sklearn/linear_model/_sag.py:350: ConvergenceWarning: The max_iter was reached which means the coef_ did not converge\n",
      "  warnings.warn(\n",
      "/Users/Lisikux/opt/anaconda3/lib/python3.9/site-packages/sklearn/linear_model/_sag.py:350: ConvergenceWarning: The max_iter was reached which means the coef_ did not converge\n",
      "  warnings.warn(\n",
      "/Users/Lisikux/opt/anaconda3/lib/python3.9/site-packages/sklearn/linear_model/_sag.py:350: ConvergenceWarning: The max_iter was reached which means the coef_ did not converge\n",
      "  warnings.warn(\n",
      "/Users/Lisikux/opt/anaconda3/lib/python3.9/site-packages/sklearn/linear_model/_sag.py:350: ConvergenceWarning: The max_iter was reached which means the coef_ did not converge\n",
      "  warnings.warn(\n",
      "/Users/Lisikux/opt/anaconda3/lib/python3.9/site-packages/sklearn/linear_model/_sag.py:350: ConvergenceWarning: The max_iter was reached which means the coef_ did not converge\n",
      "  warnings.warn(\n",
      "/Users/Lisikux/opt/anaconda3/lib/python3.9/site-packages/sklearn/linear_model/_sag.py:350: ConvergenceWarning: The max_iter was reached which means the coef_ did not converge\n",
      "  warnings.warn(\n",
      "/Users/Lisikux/opt/anaconda3/lib/python3.9/site-packages/sklearn/linear_model/_sag.py:350: ConvergenceWarning: The max_iter was reached which means the coef_ did not converge\n",
      "  warnings.warn(\n",
      "/Users/Lisikux/opt/anaconda3/lib/python3.9/site-packages/sklearn/linear_model/_sag.py:350: ConvergenceWarning: The max_iter was reached which means the coef_ did not converge\n",
      "  warnings.warn(\n",
      "/Users/Lisikux/opt/anaconda3/lib/python3.9/site-packages/sklearn/linear_model/_sag.py:350: ConvergenceWarning: The max_iter was reached which means the coef_ did not converge\n",
      "  warnings.warn(\n",
      "/Users/Lisikux/opt/anaconda3/lib/python3.9/site-packages/sklearn/linear_model/_sag.py:350: ConvergenceWarning: The max_iter was reached which means the coef_ did not converge\n",
      "  warnings.warn(\n",
      "/Users/Lisikux/opt/anaconda3/lib/python3.9/site-packages/sklearn/linear_model/_sag.py:350: ConvergenceWarning: The max_iter was reached which means the coef_ did not converge\n",
      "  warnings.warn(\n",
      "/Users/Lisikux/opt/anaconda3/lib/python3.9/site-packages/sklearn/linear_model/_sag.py:350: ConvergenceWarning: The max_iter was reached which means the coef_ did not converge\n",
      "  warnings.warn(\n",
      "/Users/Lisikux/opt/anaconda3/lib/python3.9/site-packages/sklearn/linear_model/_sag.py:350: ConvergenceWarning: The max_iter was reached which means the coef_ did not converge\n",
      "  warnings.warn(\n",
      "/Users/Lisikux/opt/anaconda3/lib/python3.9/site-packages/sklearn/linear_model/_sag.py:350: ConvergenceWarning: The max_iter was reached which means the coef_ did not converge\n",
      "  warnings.warn(\n",
      "/Users/Lisikux/opt/anaconda3/lib/python3.9/site-packages/sklearn/linear_model/_sag.py:350: ConvergenceWarning: The max_iter was reached which means the coef_ did not converge\n",
      "  warnings.warn(\n",
      "/Users/Lisikux/opt/anaconda3/lib/python3.9/site-packages/sklearn/linear_model/_sag.py:350: ConvergenceWarning: The max_iter was reached which means the coef_ did not converge\n",
      "  warnings.warn(\n",
      "/Users/Lisikux/opt/anaconda3/lib/python3.9/site-packages/sklearn/linear_model/_sag.py:350: ConvergenceWarning: The max_iter was reached which means the coef_ did not converge\n",
      "  warnings.warn(\n",
      "/Users/Lisikux/opt/anaconda3/lib/python3.9/site-packages/sklearn/linear_model/_sag.py:350: ConvergenceWarning: The max_iter was reached which means the coef_ did not converge\n",
      "  warnings.warn(\n",
      "/Users/Lisikux/opt/anaconda3/lib/python3.9/site-packages/sklearn/linear_model/_sag.py:350: ConvergenceWarning: The max_iter was reached which means the coef_ did not converge\n",
      "  warnings.warn(\n",
      "/Users/Lisikux/opt/anaconda3/lib/python3.9/site-packages/sklearn/linear_model/_sag.py:350: ConvergenceWarning: The max_iter was reached which means the coef_ did not converge\n",
      "  warnings.warn(\n",
      "/Users/Lisikux/opt/anaconda3/lib/python3.9/site-packages/sklearn/linear_model/_sag.py:350: ConvergenceWarning: The max_iter was reached which means the coef_ did not converge\n",
      "  warnings.warn(\n",
      "/Users/Lisikux/opt/anaconda3/lib/python3.9/site-packages/sklearn/linear_model/_sag.py:350: ConvergenceWarning: The max_iter was reached which means the coef_ did not converge\n",
      "  warnings.warn(\n",
      "/Users/Lisikux/opt/anaconda3/lib/python3.9/site-packages/sklearn/linear_model/_sag.py:350: ConvergenceWarning: The max_iter was reached which means the coef_ did not converge\n",
      "  warnings.warn(\n",
      "/Users/Lisikux/opt/anaconda3/lib/python3.9/site-packages/sklearn/linear_model/_sag.py:350: ConvergenceWarning: The max_iter was reached which means the coef_ did not converge\n",
      "  warnings.warn(\n",
      "/Users/Lisikux/opt/anaconda3/lib/python3.9/site-packages/sklearn/linear_model/_sag.py:350: ConvergenceWarning: The max_iter was reached which means the coef_ did not converge\n",
      "  warnings.warn(\n",
      "/Users/Lisikux/opt/anaconda3/lib/python3.9/site-packages/sklearn/linear_model/_sag.py:350: ConvergenceWarning: The max_iter was reached which means the coef_ did not converge\n",
      "  warnings.warn(\n",
      "/Users/Lisikux/opt/anaconda3/lib/python3.9/site-packages/sklearn/linear_model/_sag.py:350: ConvergenceWarning: The max_iter was reached which means the coef_ did not converge\n",
      "  warnings.warn(\n",
      "/Users/Lisikux/opt/anaconda3/lib/python3.9/site-packages/sklearn/linear_model/_sag.py:350: ConvergenceWarning: The max_iter was reached which means the coef_ did not converge\n",
      "  warnings.warn(\n",
      "/Users/Lisikux/opt/anaconda3/lib/python3.9/site-packages/sklearn/linear_model/_sag.py:350: ConvergenceWarning: The max_iter was reached which means the coef_ did not converge\n",
      "  warnings.warn(\n",
      "/Users/Lisikux/opt/anaconda3/lib/python3.9/site-packages/sklearn/linear_model/_sag.py:350: ConvergenceWarning: The max_iter was reached which means the coef_ did not converge\n",
      "  warnings.warn(\n",
      "/Users/Lisikux/opt/anaconda3/lib/python3.9/site-packages/sklearn/linear_model/_sag.py:350: ConvergenceWarning: The max_iter was reached which means the coef_ did not converge\n",
      "  warnings.warn(\n",
      "/Users/Lisikux/opt/anaconda3/lib/python3.9/site-packages/sklearn/linear_model/_sag.py:350: ConvergenceWarning: The max_iter was reached which means the coef_ did not converge\n",
      "  warnings.warn(\n",
      "/Users/Lisikux/opt/anaconda3/lib/python3.9/site-packages/sklearn/linear_model/_sag.py:350: ConvergenceWarning: The max_iter was reached which means the coef_ did not converge\n",
      "  warnings.warn(\n",
      "/Users/Lisikux/opt/anaconda3/lib/python3.9/site-packages/sklearn/linear_model/_sag.py:350: ConvergenceWarning: The max_iter was reached which means the coef_ did not converge\n",
      "  warnings.warn(\n",
      "/Users/Lisikux/opt/anaconda3/lib/python3.9/site-packages/sklearn/linear_model/_sag.py:350: ConvergenceWarning: The max_iter was reached which means the coef_ did not converge\n",
      "  warnings.warn(\n",
      "/Users/Lisikux/opt/anaconda3/lib/python3.9/site-packages/sklearn/linear_model/_sag.py:350: ConvergenceWarning: The max_iter was reached which means the coef_ did not converge\n",
      "  warnings.warn(\n",
      "/Users/Lisikux/opt/anaconda3/lib/python3.9/site-packages/sklearn/linear_model/_sag.py:350: ConvergenceWarning: The max_iter was reached which means the coef_ did not converge\n",
      "  warnings.warn(\n",
      "/Users/Lisikux/opt/anaconda3/lib/python3.9/site-packages/sklearn/linear_model/_sag.py:350: ConvergenceWarning: The max_iter was reached which means the coef_ did not converge\n",
      "  warnings.warn(\n",
      "/Users/Lisikux/opt/anaconda3/lib/python3.9/site-packages/sklearn/linear_model/_sag.py:350: ConvergenceWarning: The max_iter was reached which means the coef_ did not converge\n",
      "  warnings.warn(\n",
      "/Users/Lisikux/opt/anaconda3/lib/python3.9/site-packages/sklearn/linear_model/_sag.py:350: ConvergenceWarning: The max_iter was reached which means the coef_ did not converge\n",
      "  warnings.warn(\n",
      "/Users/Lisikux/opt/anaconda3/lib/python3.9/site-packages/sklearn/linear_model/_sag.py:350: ConvergenceWarning: The max_iter was reached which means the coef_ did not converge\n",
      "  warnings.warn(\n",
      "/Users/Lisikux/opt/anaconda3/lib/python3.9/site-packages/sklearn/linear_model/_sag.py:350: ConvergenceWarning: The max_iter was reached which means the coef_ did not converge\n",
      "  warnings.warn(\n",
      "/Users/Lisikux/opt/anaconda3/lib/python3.9/site-packages/sklearn/linear_model/_sag.py:350: ConvergenceWarning: The max_iter was reached which means the coef_ did not converge\n",
      "  warnings.warn(\n",
      "/Users/Lisikux/opt/anaconda3/lib/python3.9/site-packages/sklearn/linear_model/_sag.py:350: ConvergenceWarning: The max_iter was reached which means the coef_ did not converge\n",
      "  warnings.warn(\n",
      "/Users/Lisikux/opt/anaconda3/lib/python3.9/site-packages/sklearn/linear_model/_sag.py:350: ConvergenceWarning: The max_iter was reached which means the coef_ did not converge\n",
      "  warnings.warn(\n",
      "/Users/Lisikux/opt/anaconda3/lib/python3.9/site-packages/sklearn/linear_model/_sag.py:350: ConvergenceWarning: The max_iter was reached which means the coef_ did not converge\n",
      "  warnings.warn(\n",
      "/Users/Lisikux/opt/anaconda3/lib/python3.9/site-packages/sklearn/linear_model/_sag.py:350: ConvergenceWarning: The max_iter was reached which means the coef_ did not converge\n",
      "  warnings.warn(\n",
      "/Users/Lisikux/opt/anaconda3/lib/python3.9/site-packages/sklearn/linear_model/_sag.py:350: ConvergenceWarning: The max_iter was reached which means the coef_ did not converge\n",
      "  warnings.warn(\n",
      "/Users/Lisikux/opt/anaconda3/lib/python3.9/site-packages/sklearn/linear_model/_sag.py:350: ConvergenceWarning: The max_iter was reached which means the coef_ did not converge\n",
      "  warnings.warn(\n",
      "/Users/Lisikux/opt/anaconda3/lib/python3.9/site-packages/sklearn/linear_model/_sag.py:350: ConvergenceWarning: The max_iter was reached which means the coef_ did not converge\n",
      "  warnings.warn(\n",
      "/Users/Lisikux/opt/anaconda3/lib/python3.9/site-packages/sklearn/linear_model/_sag.py:350: ConvergenceWarning: The max_iter was reached which means the coef_ did not converge\n",
      "  warnings.warn(\n",
      "/Users/Lisikux/opt/anaconda3/lib/python3.9/site-packages/sklearn/linear_model/_sag.py:350: ConvergenceWarning: The max_iter was reached which means the coef_ did not converge\n",
      "  warnings.warn(\n",
      "/Users/Lisikux/opt/anaconda3/lib/python3.9/site-packages/sklearn/linear_model/_sag.py:350: ConvergenceWarning: The max_iter was reached which means the coef_ did not converge\n",
      "  warnings.warn(\n"
     ]
    }
   ],
   "source": [
    "predicted_acd, predicted_acd_test = fit_logreg(prepared_df_acd, 'ACD', reduce_corrs=True, threshold_reduce=0.04,\n",
    "                             grid=True, oversampling=True, param_grid=param_grid_logreg, \n",
    "                            return_predicted=True, X_test=X_test, find_optimal_threshold=False)"
   ]
  },
  {
   "cell_type": "code",
   "execution_count": 168,
   "id": "8ae4cb2a",
   "metadata": {},
   "outputs": [],
   "source": [
    "X_test['ACD'] = predicted_acd_test\n",
    "prepared_df_other = prepared_df_acd.copy()\n",
    "#prepared_df_other['ACD'] = predicted_acd\n",
    "prepared_df_other = pd.concat([prepared_df_other, target_train['other_cardio_diseases']], axis=1)\n"
   ]
  },
  {
   "cell_type": "code",
   "execution_count": 176,
   "id": "8d6ac85b",
   "metadata": {},
   "outputs": [
    {
     "name": "stderr",
     "output_type": "stream",
     "text": [
      "/Users/Lisikux/opt/anaconda3/lib/python3.9/site-packages/sklearn/linear_model/_sag.py:350: ConvergenceWarning: The max_iter was reached which means the coef_ did not converge\n",
      "  warnings.warn(\n",
      "/Users/Lisikux/opt/anaconda3/lib/python3.9/site-packages/sklearn/linear_model/_sag.py:350: ConvergenceWarning: The max_iter was reached which means the coef_ did not converge\n",
      "  warnings.warn(\n",
      "/Users/Lisikux/opt/anaconda3/lib/python3.9/site-packages/sklearn/linear_model/_sag.py:350: ConvergenceWarning: The max_iter was reached which means the coef_ did not converge\n",
      "  warnings.warn(\n",
      "/Users/Lisikux/opt/anaconda3/lib/python3.9/site-packages/sklearn/linear_model/_sag.py:350: ConvergenceWarning: The max_iter was reached which means the coef_ did not converge\n",
      "  warnings.warn(\n",
      "/Users/Lisikux/opt/anaconda3/lib/python3.9/site-packages/sklearn/linear_model/_sag.py:350: ConvergenceWarning: The max_iter was reached which means the coef_ did not converge\n",
      "  warnings.warn(\n",
      "/Users/Lisikux/opt/anaconda3/lib/python3.9/site-packages/sklearn/linear_model/_sag.py:350: ConvergenceWarning: The max_iter was reached which means the coef_ did not converge\n",
      "  warnings.warn(\n",
      "/Users/Lisikux/opt/anaconda3/lib/python3.9/site-packages/sklearn/linear_model/_sag.py:350: ConvergenceWarning: The max_iter was reached which means the coef_ did not converge\n",
      "  warnings.warn(\n",
      "/Users/Lisikux/opt/anaconda3/lib/python3.9/site-packages/sklearn/linear_model/_sag.py:350: ConvergenceWarning: The max_iter was reached which means the coef_ did not converge\n",
      "  warnings.warn(\n",
      "/Users/Lisikux/opt/anaconda3/lib/python3.9/site-packages/sklearn/linear_model/_sag.py:350: ConvergenceWarning: The max_iter was reached which means the coef_ did not converge\n",
      "  warnings.warn(\n",
      "/Users/Lisikux/opt/anaconda3/lib/python3.9/site-packages/sklearn/linear_model/_sag.py:350: ConvergenceWarning: The max_iter was reached which means the coef_ did not converge\n",
      "  warnings.warn(\n",
      "/Users/Lisikux/opt/anaconda3/lib/python3.9/site-packages/sklearn/linear_model/_sag.py:350: ConvergenceWarning: The max_iter was reached which means the coef_ did not converge\n",
      "  warnings.warn(\n",
      "/Users/Lisikux/opt/anaconda3/lib/python3.9/site-packages/sklearn/linear_model/_sag.py:350: ConvergenceWarning: The max_iter was reached which means the coef_ did not converge\n",
      "  warnings.warn(\n",
      "/Users/Lisikux/opt/anaconda3/lib/python3.9/site-packages/sklearn/linear_model/_sag.py:350: ConvergenceWarning: The max_iter was reached which means the coef_ did not converge\n",
      "  warnings.warn(\n",
      "/Users/Lisikux/opt/anaconda3/lib/python3.9/site-packages/sklearn/linear_model/_sag.py:350: ConvergenceWarning: The max_iter was reached which means the coef_ did not converge\n",
      "  warnings.warn(\n",
      "/Users/Lisikux/opt/anaconda3/lib/python3.9/site-packages/sklearn/linear_model/_sag.py:350: ConvergenceWarning: The max_iter was reached which means the coef_ did not converge\n",
      "  warnings.warn(\n",
      "/Users/Lisikux/opt/anaconda3/lib/python3.9/site-packages/sklearn/linear_model/_sag.py:350: ConvergenceWarning: The max_iter was reached which means the coef_ did not converge\n",
      "  warnings.warn(\n",
      "/Users/Lisikux/opt/anaconda3/lib/python3.9/site-packages/sklearn/linear_model/_sag.py:350: ConvergenceWarning: The max_iter was reached which means the coef_ did not converge\n",
      "  warnings.warn(\n",
      "/Users/Lisikux/opt/anaconda3/lib/python3.9/site-packages/sklearn/linear_model/_sag.py:350: ConvergenceWarning: The max_iter was reached which means the coef_ did not converge\n",
      "  warnings.warn(\n",
      "/Users/Lisikux/opt/anaconda3/lib/python3.9/site-packages/sklearn/linear_model/_sag.py:350: ConvergenceWarning: The max_iter was reached which means the coef_ did not converge\n",
      "  warnings.warn(\n",
      "/Users/Lisikux/opt/anaconda3/lib/python3.9/site-packages/sklearn/linear_model/_sag.py:350: ConvergenceWarning: The max_iter was reached which means the coef_ did not converge\n",
      "  warnings.warn(\n",
      "/Users/Lisikux/opt/anaconda3/lib/python3.9/site-packages/sklearn/linear_model/_sag.py:350: ConvergenceWarning: The max_iter was reached which means the coef_ did not converge\n",
      "  warnings.warn(\n",
      "/Users/Lisikux/opt/anaconda3/lib/python3.9/site-packages/sklearn/linear_model/_sag.py:350: ConvergenceWarning: The max_iter was reached which means the coef_ did not converge\n",
      "  warnings.warn(\n",
      "/Users/Lisikux/opt/anaconda3/lib/python3.9/site-packages/sklearn/linear_model/_sag.py:350: ConvergenceWarning: The max_iter was reached which means the coef_ did not converge\n",
      "  warnings.warn(\n",
      "/Users/Lisikux/opt/anaconda3/lib/python3.9/site-packages/sklearn/linear_model/_sag.py:350: ConvergenceWarning: The max_iter was reached which means the coef_ did not converge\n",
      "  warnings.warn(\n",
      "/Users/Lisikux/opt/anaconda3/lib/python3.9/site-packages/sklearn/linear_model/_sag.py:350: ConvergenceWarning: The max_iter was reached which means the coef_ did not converge\n",
      "  warnings.warn(\n",
      "/Users/Lisikux/opt/anaconda3/lib/python3.9/site-packages/sklearn/linear_model/_sag.py:350: ConvergenceWarning: The max_iter was reached which means the coef_ did not converge\n",
      "  warnings.warn(\n",
      "/Users/Lisikux/opt/anaconda3/lib/python3.9/site-packages/sklearn/linear_model/_sag.py:350: ConvergenceWarning: The max_iter was reached which means the coef_ did not converge\n",
      "  warnings.warn(\n",
      "/Users/Lisikux/opt/anaconda3/lib/python3.9/site-packages/sklearn/linear_model/_sag.py:350: ConvergenceWarning: The max_iter was reached which means the coef_ did not converge\n",
      "  warnings.warn(\n",
      "/Users/Lisikux/opt/anaconda3/lib/python3.9/site-packages/sklearn/linear_model/_sag.py:350: ConvergenceWarning: The max_iter was reached which means the coef_ did not converge\n",
      "  warnings.warn(\n",
      "/Users/Lisikux/opt/anaconda3/lib/python3.9/site-packages/sklearn/linear_model/_sag.py:350: ConvergenceWarning: The max_iter was reached which means the coef_ did not converge\n",
      "  warnings.warn(\n",
      "/Users/Lisikux/opt/anaconda3/lib/python3.9/site-packages/sklearn/linear_model/_sag.py:350: ConvergenceWarning: The max_iter was reached which means the coef_ did not converge\n",
      "  warnings.warn(\n",
      "/Users/Lisikux/opt/anaconda3/lib/python3.9/site-packages/sklearn/linear_model/_sag.py:350: ConvergenceWarning: The max_iter was reached which means the coef_ did not converge\n",
      "  warnings.warn(\n",
      "/Users/Lisikux/opt/anaconda3/lib/python3.9/site-packages/sklearn/linear_model/_sag.py:350: ConvergenceWarning: The max_iter was reached which means the coef_ did not converge\n",
      "  warnings.warn(\n",
      "/Users/Lisikux/opt/anaconda3/lib/python3.9/site-packages/sklearn/linear_model/_sag.py:350: ConvergenceWarning: The max_iter was reached which means the coef_ did not converge\n",
      "  warnings.warn(\n",
      "/Users/Lisikux/opt/anaconda3/lib/python3.9/site-packages/sklearn/linear_model/_sag.py:350: ConvergenceWarning: The max_iter was reached which means the coef_ did not converge\n",
      "  warnings.warn(\n",
      "/Users/Lisikux/opt/anaconda3/lib/python3.9/site-packages/sklearn/linear_model/_sag.py:350: ConvergenceWarning: The max_iter was reached which means the coef_ did not converge\n",
      "  warnings.warn(\n",
      "/Users/Lisikux/opt/anaconda3/lib/python3.9/site-packages/sklearn/linear_model/_sag.py:350: ConvergenceWarning: The max_iter was reached which means the coef_ did not converge\n",
      "  warnings.warn(\n",
      "/Users/Lisikux/opt/anaconda3/lib/python3.9/site-packages/sklearn/linear_model/_sag.py:350: ConvergenceWarning: The max_iter was reached which means the coef_ did not converge\n",
      "  warnings.warn(\n",
      "/Users/Lisikux/opt/anaconda3/lib/python3.9/site-packages/sklearn/linear_model/_sag.py:350: ConvergenceWarning: The max_iter was reached which means the coef_ did not converge\n",
      "  warnings.warn(\n",
      "/Users/Lisikux/opt/anaconda3/lib/python3.9/site-packages/sklearn/linear_model/_sag.py:350: ConvergenceWarning: The max_iter was reached which means the coef_ did not converge\n",
      "  warnings.warn(\n",
      "/Users/Lisikux/opt/anaconda3/lib/python3.9/site-packages/sklearn/linear_model/_sag.py:350: ConvergenceWarning: The max_iter was reached which means the coef_ did not converge\n",
      "  warnings.warn(\n",
      "/Users/Lisikux/opt/anaconda3/lib/python3.9/site-packages/sklearn/linear_model/_sag.py:350: ConvergenceWarning: The max_iter was reached which means the coef_ did not converge\n",
      "  warnings.warn(\n",
      "/Users/Lisikux/opt/anaconda3/lib/python3.9/site-packages/sklearn/linear_model/_sag.py:350: ConvergenceWarning: The max_iter was reached which means the coef_ did not converge\n",
      "  warnings.warn(\n",
      "/Users/Lisikux/opt/anaconda3/lib/python3.9/site-packages/sklearn/linear_model/_sag.py:350: ConvergenceWarning: The max_iter was reached which means the coef_ did not converge\n",
      "  warnings.warn(\n",
      "/Users/Lisikux/opt/anaconda3/lib/python3.9/site-packages/sklearn/linear_model/_sag.py:350: ConvergenceWarning: The max_iter was reached which means the coef_ did not converge\n",
      "  warnings.warn(\n",
      "/Users/Lisikux/opt/anaconda3/lib/python3.9/site-packages/sklearn/linear_model/_sag.py:350: ConvergenceWarning: The max_iter was reached which means the coef_ did not converge\n",
      "  warnings.warn(\n",
      "/Users/Lisikux/opt/anaconda3/lib/python3.9/site-packages/sklearn/linear_model/_sag.py:350: ConvergenceWarning: The max_iter was reached which means the coef_ did not converge\n",
      "  warnings.warn(\n",
      "/Users/Lisikux/opt/anaconda3/lib/python3.9/site-packages/sklearn/linear_model/_sag.py:350: ConvergenceWarning: The max_iter was reached which means the coef_ did not converge\n",
      "  warnings.warn(\n",
      "/Users/Lisikux/opt/anaconda3/lib/python3.9/site-packages/sklearn/linear_model/_sag.py:350: ConvergenceWarning: The max_iter was reached which means the coef_ did not converge\n",
      "  warnings.warn(\n",
      "/Users/Lisikux/opt/anaconda3/lib/python3.9/site-packages/sklearn/linear_model/_sag.py:350: ConvergenceWarning: The max_iter was reached which means the coef_ did not converge\n",
      "  warnings.warn(\n",
      "/Users/Lisikux/opt/anaconda3/lib/python3.9/site-packages/sklearn/linear_model/_sag.py:350: ConvergenceWarning: The max_iter was reached which means the coef_ did not converge\n",
      "  warnings.warn(\n"
     ]
    },
    {
     "name": "stderr",
     "output_type": "stream",
     "text": [
      "/Users/Lisikux/opt/anaconda3/lib/python3.9/site-packages/sklearn/linear_model/_sag.py:350: ConvergenceWarning: The max_iter was reached which means the coef_ did not converge\n",
      "  warnings.warn(\n",
      "/Users/Lisikux/opt/anaconda3/lib/python3.9/site-packages/sklearn/linear_model/_sag.py:350: ConvergenceWarning: The max_iter was reached which means the coef_ did not converge\n",
      "  warnings.warn(\n",
      "/Users/Lisikux/opt/anaconda3/lib/python3.9/site-packages/sklearn/linear_model/_sag.py:350: ConvergenceWarning: The max_iter was reached which means the coef_ did not converge\n",
      "  warnings.warn(\n",
      "/Users/Lisikux/opt/anaconda3/lib/python3.9/site-packages/sklearn/linear_model/_sag.py:350: ConvergenceWarning: The max_iter was reached which means the coef_ did not converge\n",
      "  warnings.warn(\n",
      "/Users/Lisikux/opt/anaconda3/lib/python3.9/site-packages/sklearn/linear_model/_sag.py:350: ConvergenceWarning: The max_iter was reached which means the coef_ did not converge\n",
      "  warnings.warn(\n",
      "/Users/Lisikux/opt/anaconda3/lib/python3.9/site-packages/sklearn/linear_model/_sag.py:350: ConvergenceWarning: The max_iter was reached which means the coef_ did not converge\n",
      "  warnings.warn(\n",
      "/Users/Lisikux/opt/anaconda3/lib/python3.9/site-packages/sklearn/linear_model/_sag.py:350: ConvergenceWarning: The max_iter was reached which means the coef_ did not converge\n",
      "  warnings.warn(\n",
      "/Users/Lisikux/opt/anaconda3/lib/python3.9/site-packages/sklearn/linear_model/_sag.py:350: ConvergenceWarning: The max_iter was reached which means the coef_ did not converge\n",
      "  warnings.warn(\n",
      "/Users/Lisikux/opt/anaconda3/lib/python3.9/site-packages/sklearn/linear_model/_sag.py:350: ConvergenceWarning: The max_iter was reached which means the coef_ did not converge\n",
      "  warnings.warn(\n",
      "/Users/Lisikux/opt/anaconda3/lib/python3.9/site-packages/sklearn/linear_model/_sag.py:350: ConvergenceWarning: The max_iter was reached which means the coef_ did not converge\n",
      "  warnings.warn(\n",
      "/Users/Lisikux/opt/anaconda3/lib/python3.9/site-packages/sklearn/linear_model/_sag.py:350: ConvergenceWarning: The max_iter was reached which means the coef_ did not converge\n",
      "  warnings.warn(\n",
      "/Users/Lisikux/opt/anaconda3/lib/python3.9/site-packages/sklearn/linear_model/_sag.py:350: ConvergenceWarning: The max_iter was reached which means the coef_ did not converge\n",
      "  warnings.warn(\n",
      "/Users/Lisikux/opt/anaconda3/lib/python3.9/site-packages/sklearn/linear_model/_sag.py:350: ConvergenceWarning: The max_iter was reached which means the coef_ did not converge\n",
      "  warnings.warn(\n",
      "/Users/Lisikux/opt/anaconda3/lib/python3.9/site-packages/sklearn/linear_model/_sag.py:350: ConvergenceWarning: The max_iter was reached which means the coef_ did not converge\n",
      "  warnings.warn(\n",
      "/Users/Lisikux/opt/anaconda3/lib/python3.9/site-packages/sklearn/linear_model/_sag.py:350: ConvergenceWarning: The max_iter was reached which means the coef_ did not converge\n",
      "  warnings.warn(\n"
     ]
    },
    {
     "name": "stdout",
     "output_type": "stream",
     "text": [
      "\tC: 0.1\n",
      "\tclass_weight: 'balanced'\n",
      "\tdual: False\n",
      "\tfit_intercept: True\n",
      "\tintercept_scaling: 1\n",
      "\tl1_ratio: None\n",
      "\tmax_iter: 50\n",
      "\tmulti_class: 'auto'\n",
      "\tn_jobs: None\n",
      "\tpenalty: 'l1'\n",
      "\trandom_state: None\n",
      "\tsolver: 'liblinear'\n",
      "\ttol: 0.0001\n",
      "\tverbose: 0\n",
      "\twarm_start: False\n",
      "best_threshold = 0.5069\n",
      "best_f_score = 0.2062\n",
      "Recall:  0.6410976663785652\n",
      "f1_score:  0.1894736842105263\n"
     ]
    },
    {
     "name": "stderr",
     "output_type": "stream",
     "text": [
      "/Users/Lisikux/opt/anaconda3/lib/python3.9/site-packages/sklearn/linear_model/_sag.py:350: ConvergenceWarning: The max_iter was reached which means the coef_ did not converge\n",
      "  warnings.warn(\n",
      "/Users/Lisikux/opt/anaconda3/lib/python3.9/site-packages/sklearn/linear_model/_sag.py:350: ConvergenceWarning: The max_iter was reached which means the coef_ did not converge\n",
      "  warnings.warn(\n",
      "/Users/Lisikux/opt/anaconda3/lib/python3.9/site-packages/sklearn/linear_model/_sag.py:350: ConvergenceWarning: The max_iter was reached which means the coef_ did not converge\n",
      "  warnings.warn(\n",
      "/Users/Lisikux/opt/anaconda3/lib/python3.9/site-packages/sklearn/linear_model/_sag.py:350: ConvergenceWarning: The max_iter was reached which means the coef_ did not converge\n",
      "  warnings.warn(\n"
     ]
    }
   ],
   "source": [
    "predicted_other, predicted_other_test = fit_logreg(prepared_df_other, 'other_cardio_diseases', reduce_corrs=True, \n",
    "                                                   threshold_reduce=0.02, grid=True, oversampling=False, \n",
    "                                                   param_grid=param_grid_logreg, return_predicted=True, X_test=X_test, find_optimal_threshold=True)"
   ]
  },
  {
   "cell_type": "code",
   "execution_count": null,
   "id": "21f9583f",
   "metadata": {},
   "outputs": [],
   "source": []
  },
  {
   "cell_type": "code",
   "execution_count": null,
   "id": "f434febc",
   "metadata": {},
   "outputs": [],
   "source": []
  },
  {
   "cell_type": "code",
   "execution_count": null,
   "id": "eef688b2",
   "metadata": {},
   "outputs": [],
   "source": []
  },
  {
   "cell_type": "code",
   "execution_count": 177,
   "id": "7829343c",
   "metadata": {},
   "outputs": [],
   "source": [
    "X_test['other_cardio_diseases'] = predicted_other_test"
   ]
  },
  {
   "cell_type": "code",
   "execution_count": 178,
   "id": "209e93cd",
   "metadata": {},
   "outputs": [],
   "source": [
    "result = X_test.iloc[:,-5:].copy()"
   ]
  },
  {
   "cell_type": "code",
   "execution_count": 179,
   "id": "5d419cfe",
   "metadata": {},
   "outputs": [],
   "source": [
    "result = result[['arterial_hypertension','ACD', 'IHD', 'heart_failure', 'other_cardio_diseases']]"
   ]
  },
  {
   "cell_type": "code",
   "execution_count": 180,
   "id": "fac40e39",
   "metadata": {},
   "outputs": [],
   "source": [
    "import os"
   ]
  },
  {
   "cell_type": "code",
   "execution_count": 181,
   "id": "c386ad5d",
   "metadata": {},
   "outputs": [
    {
     "data": {
      "text/plain": [
       "['instructions.pdf',\n",
       " 'baseline_complex_model.ipynb',\n",
       " 'complex_model_experiments.ipynb',\n",
       " 'README.md',\n",
       " 'baseline.ipynb',\n",
       " 'test_dataset_test.csv',\n",
       " 'sample_solution.csv',\n",
       " '.gitignore',\n",
       " 'train.csv',\n",
       " '.ipynb_checkpoints',\n",
       " 'submit_4.csv',\n",
       " '.git',\n",
       " 'submit_1.csv',\n",
       " 'submit_2.csv',\n",
       " 'submit_3.csv']"
      ]
     },
     "execution_count": 181,
     "metadata": {},
     "output_type": "execute_result"
    }
   ],
   "source": [
    "os.listdir()"
   ]
  },
  {
   "cell_type": "code",
   "execution_count": 182,
   "id": "19eaac35",
   "metadata": {},
   "outputs": [],
   "source": [
    "submit = pd.read_csv('sample_solution.csv')"
   ]
  },
  {
   "cell_type": "code",
   "execution_count": 183,
   "id": "250bf8b8",
   "metadata": {},
   "outputs": [],
   "source": [
    "submit.iloc[:,1:] = result.values"
   ]
  },
  {
   "cell_type": "code",
   "execution_count": 184,
   "id": "6857ac77",
   "metadata": {},
   "outputs": [],
   "source": [
    "submit.to_csv('submit_4.csv', index=False)"
   ]
  },
  {
   "cell_type": "code",
   "execution_count": null,
   "id": "8f389c4e",
   "metadata": {},
   "outputs": [],
   "source": []
  },
  {
   "cell_type": "code",
   "execution_count": null,
   "id": "0a436b20",
   "metadata": {},
   "outputs": [],
   "source": []
  },
  {
   "cell_type": "code",
   "execution_count": null,
   "id": "79b6638e",
   "metadata": {},
   "outputs": [],
   "source": []
  },
  {
   "cell_type": "code",
   "execution_count": null,
   "id": "0b494664",
   "metadata": {},
   "outputs": [],
   "source": []
  },
  {
   "cell_type": "code",
   "execution_count": null,
   "id": "3f0e317d",
   "metadata": {},
   "outputs": [],
   "source": []
  },
  {
   "cell_type": "code",
   "execution_count": null,
   "id": "fa8484e7",
   "metadata": {},
   "outputs": [],
   "source": []
  },
  {
   "cell_type": "code",
   "execution_count": null,
   "id": "d74de9c7",
   "metadata": {},
   "outputs": [],
   "source": [
    "print(\"Top Absolute Correlations\")\n",
    "print(get_top_abs_correlations(ihd_df, 5))"
   ]
  },
  {
   "cell_type": "code",
   "execution_count": null,
   "id": "35d57d1b",
   "metadata": {},
   "outputs": [],
   "source": []
  },
  {
   "cell_type": "code",
   "execution_count": null,
   "id": "8e1181e9",
   "metadata": {},
   "outputs": [],
   "source": []
  },
  {
   "cell_type": "code",
   "execution_count": null,
   "id": "629062b5",
   "metadata": {},
   "outputs": [],
   "source": []
  },
  {
   "cell_type": "code",
   "execution_count": null,
   "id": "2d4d6448",
   "metadata": {},
   "outputs": [],
   "source": []
  },
  {
   "cell_type": "code",
   "execution_count": null,
   "id": "ab7b743d",
   "metadata": {},
   "outputs": [],
   "source": [
    "def fit_xgboost(model, target, grid=False, param_grid=None):\n",
    "    X = model.drop(target, axis=1)\n",
    "    y = model[target]\n",
    "    X_train, X_valid, y_train, y_valid = train_test_split(X, y, test_size=0.20, random_state=42)\n",
    "    \n",
    "    clf = XGBClassifier(seed=42, n_estimators=100, max_depth=4, learning_rate=0.01)    \n",
    "    clf.fit(X_train,y_train)\n",
    "    \n",
    "    if grid == True:    \n",
    "        grid_search = GridSearchCV(clf, param_grid, scoring='recall_macro', n_jobs=-1, cv=5)\n",
    "        grid_search.fit(X, y)\n",
    "        grid_search.best_params_\n",
    "    \n",
    "    # Печатаем параметры развернуто:\n",
    "        best_model = grid_search.best_estimator_\n",
    "        best_parameters = best_model.get_params()\n",
    "        for param_name in sorted(best_parameters.keys()):\n",
    "            print('\\t%s: %r' % (param_name, best_parameters[param_name]))\n",
    "        clf = best_model\n",
    "        \n",
    "    y_pred = clf.predict(X_valid)\n",
    "\n",
    "    print('Recall: ', recall_score(y_valid, y_pred, average='macro'))\n",
    "    print('f1_score: ', f1_score(y_valid, y_pred))\n"
   ]
  },
  {
   "cell_type": "code",
   "execution_count": null,
   "id": "be45fc6a",
   "metadata": {},
   "outputs": [],
   "source": [
    "#param_grid_xgboost = {\n",
    "        'min_child_weight': [1, 5, 10],\n",
    "        'gamma': [0.5, 1, 1.5, 2, 5],\n",
    "        'subsample': [0.6, 0.8, 1.0],\n",
    "        'colsample_bytree': [0.6, 0.8, 1.0],\n",
    "        'max_depth': range(2, 10, 1),\n",
    "        'n_estimators': range(60, 220, 40),\n",
    "        'learning_rate': [0.1, 0.01, 0.05]\n",
    "        }"
   ]
  },
  {
   "cell_type": "code",
   "execution_count": null,
   "id": "94dc5096",
   "metadata": {},
   "outputs": [],
   "source": [
    "#fit_xgboost(arterial_model, 'arterial_hypertension', grid=True, param_grid=param_grid_xgboost)"
   ]
  },
  {
   "cell_type": "code",
   "execution_count": null,
   "id": "2ecae89c",
   "metadata": {},
   "outputs": [],
   "source": []
  },
  {
   "cell_type": "code",
   "execution_count": null,
   "id": "2694cf4d",
   "metadata": {},
   "outputs": [],
   "source": []
  },
  {
   "cell_type": "code",
   "execution_count": null,
   "id": "c6ef871f",
   "metadata": {},
   "outputs": [],
   "source": []
  },
  {
   "cell_type": "code",
   "execution_count": null,
   "id": "f136b3f0",
   "metadata": {},
   "outputs": [],
   "source": [
    "determinant = np.prod(np.linalg.eig(arterial_model.corr())[0])\n",
    "print(f'Детерминант корреляционной матрицы равен: {determinant}')"
   ]
  },
  {
   "cell_type": "code",
   "execution_count": null,
   "id": "b937568e",
   "metadata": {},
   "outputs": [],
   "source": []
  },
  {
   "cell_type": "code",
   "execution_count": null,
   "id": "d147d463",
   "metadata": {},
   "outputs": [],
   "source": []
  },
  {
   "cell_type": "code",
   "execution_count": null,
   "id": "1e58b7ea",
   "metadata": {},
   "outputs": [],
   "source": []
  },
  {
   "cell_type": "code",
   "execution_count": null,
   "id": "609c9b24",
   "metadata": {},
   "outputs": [],
   "source": [
    "target_cols = ['arterial_hypertension', 'ACD',\n",
    "               'IHD', 'heart_failure', 'other_cardio_diseases']"
   ]
  },
  {
   "cell_type": "code",
   "execution_count": null,
   "id": "8d80bf75",
   "metadata": {},
   "outputs": [],
   "source": []
  },
  {
   "cell_type": "code",
   "execution_count": null,
   "id": "cf39e34d",
   "metadata": {},
   "outputs": [],
   "source": []
  },
  {
   "cell_type": "code",
   "execution_count": null,
   "id": "1dad04bd",
   "metadata": {},
   "outputs": [],
   "source": []
  },
  {
   "cell_type": "code",
   "execution_count": null,
   "id": "b351da4a",
   "metadata": {},
   "outputs": [],
   "source": []
  },
  {
   "cell_type": "code",
   "execution_count": null,
   "id": "68a24780",
   "metadata": {},
   "outputs": [],
   "source": []
  },
  {
   "cell_type": "code",
   "execution_count": null,
   "id": "a2599b0a",
   "metadata": {},
   "outputs": [],
   "source": [
    "def get_redundant_pairs(df):\n",
    "    '''Get diagonal and lower triangular pairs of correlation matrix'''\n",
    "    pairs_to_drop = set()\n",
    "    cols = df.columns\n",
    "    for i in range(0, df.shape[1]):\n",
    "        for j in range(0, i+1):\n",
    "            pairs_to_drop.add((cols[i], cols[j]))\n",
    "    return pairs_to_drop"
   ]
  },
  {
   "cell_type": "code",
   "execution_count": null,
   "id": "98a2c227",
   "metadata": {},
   "outputs": [],
   "source": [
    "def get_top_abs_correlations(df, n=5):\n",
    "    au_corr = df.corr().abs().unstack()\n",
    "    labels_to_drop = get_redundant_pairs(df)\n",
    "    au_corr = au_corr.drop(labels=labels_to_drop).sort_values(ascending=False)\n",
    "    return au_corr[0:n]"
   ]
  },
  {
   "cell_type": "code",
   "execution_count": null,
   "id": "71aff439",
   "metadata": {},
   "outputs": [],
   "source": [
    "print(\"Top Absolute Correlations\")\n",
    "#print(get_top_abs_correlations(arterial_model_2, 5))"
   ]
  }
 ],
 "metadata": {
  "kernelspec": {
   "display_name": "Python 3 (ipykernel)",
   "language": "python",
   "name": "python3"
  },
  "language_info": {
   "codemirror_mode": {
    "name": "ipython",
    "version": 3
   },
   "file_extension": ".py",
   "mimetype": "text/x-python",
   "name": "python",
   "nbconvert_exporter": "python",
   "pygments_lexer": "ipython3",
   "version": "3.9.12"
  }
 },
 "nbformat": 4,
 "nbformat_minor": 5
}
