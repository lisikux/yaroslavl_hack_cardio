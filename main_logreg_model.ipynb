{
 "cells": [
  {
   "cell_type": "code",
   "execution_count": 1,
   "id": "17e05c70",
   "metadata": {},
   "outputs": [],
   "source": [
    "# Disabling warnings\n",
    "# Отключение отображения предупреждений\n",
    "import sys\n",
    "import os\n",
    "import warnings\n",
    "\n",
    "if not sys.warnoptions:\n",
    "    warnings.simplefilter(\"ignore\")\n",
    "    os.environ[\"PYTHONWARNINGS\"] = \"ignore\""
   ]
  },
  {
   "cell_type": "code",
   "execution_count": 2,
   "id": "386b629b",
   "metadata": {},
   "outputs": [],
   "source": [
    "# Импорт библиотек\n",
    "import pandas as pd\n",
    "import numpy as np\n",
    "\n",
    "import matplotlib.pyplot as plt\n",
    "import seaborn as sns\n",
    "\n",
    "from datetime import datetime as dt\n",
    "from datetime import time\n",
    "\n",
    "from sklearn.linear_model import LogisticRegression\n",
    "\n",
    "from sklearn.model_selection import train_test_split\n",
    "\n",
    "from sklearn.model_selection import GridSearchCV\n",
    "from sklearn.model_selection import StratifiedKFold\n",
    "from sklearn.model_selection import cross_val_score\n",
    "\n",
    "from sklearn.metrics import recall_score, f1_score\n",
    "\n",
    "from imblearn.over_sampling import RandomOverSampler"
   ]
  },
  {
   "cell_type": "code",
   "execution_count": 3,
   "id": "b0cb8a51",
   "metadata": {},
   "outputs": [],
   "source": [
    "# Настройка pandas для того, чтобы отображались все колонки\n",
    "pd.set_option('display.max_columns', None)\n",
    "pd.set_option('display.max_rows', None)"
   ]
  },
  {
   "cell_type": "markdown",
   "id": "fe0c9631",
   "metadata": {},
   "source": [
    "### Значение порога мультиколлинеарности по умолчанию выбрано 0.6\n",
    "\n",
    "Статья о мультиколлинеарнсоти (заключение авторов: мультиколлинеарность начинает ухудшать модель с порога 0.7\n",
    "https://onlinelibrary.wiley.com/doi/full/10.1111/j.1600-0587.2012.07348.x"
   ]
  },
  {
   "cell_type": "code",
   "execution_count": 5,
   "id": "fd9b560b",
   "metadata": {},
   "outputs": [],
   "source": [
    "# Источник: stackoverflow\n",
    "# Feature selection class to eliminate multicollinearity\n",
    "# Выбор и удаление признаков скоррелированных между собой (борьба с мультиколлинеарносстью)\n",
    "class MultiCollinearityEliminator():\n",
    "\n",
    "    # Class initialisation\n",
    "    # Инициализация класса\n",
    "    def __init__(self, df, target, threshold=0.6):\n",
    "        self.df = df\n",
    "        self.target = target\n",
    "        self.threshold = threshold\n",
    "\n",
    "    # Method to create and return the feature correlation matrix dataframe\n",
    "    # Метод создающий и возращающий корреляционную матрицу признаков датафрейма\n",
    "    def createCorrMatrix(self, include_target=False):\n",
    "        # Checking we should include the target in the correlation matrix\n",
    "        if (include_target == False):\n",
    "            df_temp = self.df.drop([self.target], axis=1)\n",
    "\n",
    "            # Setting method to Pearson to prevent issues in case the default method for df.corr() gets changed\n",
    "            # Setting min_period to 30 for the sample size to be statistically significant (normal) according to\n",
    "            # central limit theorem\n",
    "            corrMatrix = df_temp.corr(method='pearson', min_periods=30).abs()\n",
    "\n",
    "        # Target is included for creating the series of feature to target correlation - Please refer the notes under the\n",
    "        # print statement to understand why we create the series of feature to target correlation\n",
    "        elif (include_target == True):\n",
    "            corrMatrix = self.df.corr(method='pearson', min_periods=30).abs()\n",
    "\n",
    "        return corrMatrix\n",
    "\n",
    "    # Method to create and return the feature to target correlation matrix dataframe\n",
    "    # Метод создающий и возвращающий корреляционную матрицу признаков с целевой переменной\n",
    "    def createCorrMatrixWithTarget(self):\n",
    "\n",
    "        # After obtaining the list of correlated features, this method will help to view which variables\n",
    "        # (in the list of correlated features) are least correlated with the target\n",
    "        # This way, out the list of correlated features, we can ensure to elimate the feature that is\n",
    "        # least correlated with the target\n",
    "        # This not only helps to sustain the predictive power of the model but also helps in reducing model complexity\n",
    "\n",
    "        # Obtaining the correlation matrix of the dataframe (along with the target)\n",
    "        corrMatrix = self.createCorrMatrix(include_target=True)\n",
    "\n",
    "        # Creating the required dataframe, then dropping the target row\n",
    "        # and sorting by the value of correlation with target (in asceding order)\n",
    "        corrWithTarget = pd.DataFrame(corrMatrix.loc[:, self.target]).drop(\n",
    "            [self.target], axis=0).sort_values(by=self.target)\n",
    "        #print(corrWithTarget, '\\n')\n",
    "        return corrWithTarget\n",
    "\n",
    "    # Method to create and return the list of correlated features\n",
    "    # Метод создающий и вовзращающий лист скоррелированных признаков\n",
    "    def createCorrelatedFeaturesList(self):\n",
    "        # Obtaining the correlation matrix of the dataframe (without the target)\n",
    "        corrMatrix = self.createCorrMatrix(include_target=False)\n",
    "        colCorr = []\n",
    "        # Iterating through the columns of the correlation matrix dataframe\n",
    "        for column in corrMatrix.columns:\n",
    "            # Iterating through the values (row wise) of the correlation matrix dataframe\n",
    "            for idx, row in corrMatrix.iterrows():\n",
    "                if(row[column] > self.threshold) and (row[column] < 1):\n",
    "                    # Adding the features that are not already in the list of correlated features\n",
    "                    if (idx not in colCorr):\n",
    "                        colCorr.append(idx)\n",
    "                    if (column not in colCorr):\n",
    "                        colCorr.append(column)\n",
    "        #print(colCorr, '\\n')\n",
    "        return colCorr\n",
    "\n",
    "    # Method to eliminate the least important features from the list of correlated features\n",
    "    # Метод удаляющий наименее важные признаки (наименее скоррелированные с целевым признаком) из двух скоррелированных признаков\n",
    "    def deleteFeatures(self, colCorr):\n",
    "        # Obtaining the feature to target correlation matrix dataframe\n",
    "        corrWithTarget = self.createCorrMatrixWithTarget()\n",
    "        for idx, row in corrWithTarget.iterrows():\n",
    "            #print(idx, '\\n')\n",
    "            if (idx in colCorr):\n",
    "                self.df = self.df.drop(idx, axis=1)\n",
    "                break\n",
    "        return self.df\n",
    "\n",
    "    # Method to run automatically eliminate multicollinearity\n",
    "    # Метод запускающий и удаляющий мультиколлинеарность\n",
    "    def autoEliminateMulticollinearity(self):\n",
    "        # Obtaining the list of correlated features\n",
    "        colCorr = self.createCorrelatedFeaturesList()\n",
    "        while colCorr != []:\n",
    "            # Obtaining the dataframe after deleting the feature (from the list of correlated features)\n",
    "            # that is least correlated with the taregt\n",
    "            self.df = self.deleteFeatures(colCorr)\n",
    "            # Obtaining the list of correlated features\n",
    "            colCorr = self.createCorrelatedFeaturesList()\n",
    "        return self.df"
   ]
  },
  {
   "cell_type": "code",
   "execution_count": 6,
   "id": "22614fb4",
   "metadata": {},
   "outputs": [],
   "source": [
    "# Функция, возвращающая датафрейм, в котором исключены признаки имеющие корреляцию с целевым признаком\n",
    "# менее заданного значения (по умолчанию: 0.05)\n",
    "def reduce_low_corrs_with_target(df, target, threshold=0.05, return_predicted=False, X_test=None):\n",
    "    # Маска True/False которая указывает какие признаки имеют корреляцию выше пороговой\n",
    "    mask = df.corr().abs()[target].sort_values() > threshold\n",
    "    # Возвращение датафрейма только с признаками, которые имеют корреляцию выше пороговой\n",
    "    df = df[mask.index[mask]]\n",
    "    # Для удаления лишних признаков из тестового набора данных:\n",
    "    if return_predicted == True:\n",
    "        # В маске для тестового датасета исключается таргет, так как его там попросту нет\n",
    "        test_mask = mask.drop(target)\n",
    "        # Тестовый набор без лишних признаков\n",
    "        X_test = X_test[test_mask.index[test_mask]]\n",
    "        # Возвращение тренировочного и тестового датасета\n",
    "        return df, X_test\n",
    "    else:\n",
    "        return df"
   ]
  },
  {
   "cell_type": "code",
   "execution_count": 7,
   "id": "37b91601",
   "metadata": {},
   "outputs": [],
   "source": [
    "# Функция возвращающая значения 1 или 0, в зависимости от выполнения условия\n",
    "def to_labels(pos_probs, threshold):\n",
    "    return (pos_probs >= threshold).astype('int')"
   ]
  },
  {
   "cell_type": "code",
   "execution_count": 8,
   "id": "e35404fa",
   "metadata": {},
   "outputs": [],
   "source": [
    "# Функция, возвращающая оптимальный порог отнесения к классу (в данной функции - по метрике recall_macro)\n",
    "def find_opt_threshold(y_valid, probs):\n",
    "    # вероятности только для положительного класса (1)\n",
    "    probs = probs[:, 1]\n",
    "    # определение порогов\n",
    "    thresholds = np.arange(0, 1, 0.001)\n",
    "    # подсчет метрики для каждого порога\n",
    "    scores = [recall_score(y_valid, to_labels(probs, t),\n",
    "                           average='macro') for t in thresholds]\n",
    "    # получение наилучшего порогового значнеия \n",
    "    ix = np.argmax(scores)\n",
    "    best_threshold = thresholds[ix]\n",
    "    print('Threshold=%.3f, Recall_macro=%.5f' % (thresholds[ix], scores[ix]))\n",
    "    return best_threshold"
   ]
  },
  {
   "cell_type": "markdown",
   "id": "943f9097",
   "metadata": {},
   "source": [
    "## Описание признаков и последующих замен\n",
    "| Исходный признак | Замена | Описание |\n",
    "| --- | --- | --- |\n",
    "|'ID'|***'id'***| идентификатор опрошенного|\n",
    "|'Пол' | ***'sex'*** | пол |   \n",
    "|'Семья' | ***'family'*** | семейное положение|\n",
    "|'Этнос' | ***'ethnos'*** | этнос  |\n",
    "|'Национальность' | '***'nationality'*** | национальность  |\n",
    "|'Религия' | ***'religion'*** | отношение к религиозной группе  |\n",
    "|'Образование' | ***''education'***' | уровень образования  |\n",
    "|'Профессия' | ***''profession'***' | профессия  |\n",
    "|'Вы работаете?' | ***'job'*** | наличие работы в данный момент  |\n",
    "|'Выход на пенсию' | ***'retire'*** | является ли опрошенный пенсионером  |\n",
    "|'Прекращение работы по болезни | ***'stop_work_due_disease'*** | связано ли прекращение работы с болезнью  |\n",
    "|'Сахарный диабет' | ***'diabetes'*** | наличие сахарного диабета (любого типа)  |\n",
    "|'Гепатит' | ***'hepatitis'*** | наличие гепатита  |\n",
    "|'Онкология' | ***'oncology'*** | наличие онкологических заболеваний  |\n",
    "|'Хроническое заболевание легких' | ***'chronic_lung_disease'*** | наличие хронического заболевания легких  |\n",
    "|'Бронжиальная астма' | ***'bronchial_asthma'*** | наличие бронхиальной астмы  |\n",
    "|'Туберкулез легких ' | ***'tuberculosis'*** | наличие туберкулеза  |\n",
    "|'ВИЧ/СПИД' |  ***'hiv/aids'*** | наличие ВИЧ/СПИД  |\n",
    "|'Регулярный прим лекарственных средств' | ***'intake_medicines'*** | факт регулярного приема лекарственных средств | \n",
    "|'Травмы за год' | ***'trauma_last_year'*** | факт получения травм за последний год  |\n",
    "|'Переломы' | ***'fractures'*** | наличие переломов  |\n",
    "|'Статус Курения' | ***'smoking'*** | статус курения в данный момент  |\n",
    "|'Возраст курения' | ***'smoking_duration'*** | длительность курения  |\n",
    "|'Сигарет в день' | ***'ciggaretes_per_day'*** | количество сигарет в день  |\n",
    "|'Пассивное курение' | ***'passive_smoking'*** | наличие курящих в окружении  |\n",
    "|'Частота пасс кур' | ***'passive_smoking_frequency'*** | частота нахождения среди курящих  |\n",
    "|'Алкоголь' | ***'alcohol'*** | отношение к приему алкоголя  |\n",
    "|'Возраст алког' | ***'alcohol_duration'*** | длительность употребления алкоголя (годы)  |\n",
    "|'Время засыпания' | ***'time_sleep_onset'*** | время засыпания  |\n",
    "|'Время пробуждения' | ***'time_sleep_upset'*** | время пробуждения  |\n",
    "|'Сон после обеда' | ***'midday_sleep'*** | сон в середине дня (после обеда)  |\n",
    "|'Спорт, клубы' | ***'sport'*** | факт регулярного занятия спортом(фитнесом)  |\n",
    "|'Религия, клубы' | ***'religion_clubs'*** | факт регулярного посещения религиозных мероприятий, групп  |\n",
    "|'ID_y' | ***'id_y'*** | идентификатор (связь с таблицей диагнозов)  |\n",
    "|'Артериальная гипертензия' | ***'arterial_hypertension'*** | наличие артериальной гипертензии  |\n",
    "|'ОНМК' | ***'stroke'*** | наличие острого нарушения мозгового кровообращения (инсульта)  |\n",
    "|'Стенокардия, ИБС, инфаркт миокарда' | ***'IHD'*** | наличие ишемической болезни сердца (все формы)  |\n",
    "|'Сердечная недостаточность' | ***'heart_failure'*** | наличие сердечной недостаточности  |\n",
    "|'Прочие заболевания сердца' | ***'other_cardio_diseases'*** | наличие других сердечных заболеваний  |"
   ]
  },
  {
   "cell_type": "markdown",
   "id": "c2a44069",
   "metadata": {},
   "source": [
    "# Подготовка и очистка данных "
   ]
  },
  {
   "cell_type": "code",
   "execution_count": 9,
   "id": "1f2fc005",
   "metadata": {
    "scrolled": true
   },
   "outputs": [
    {
     "name": "stdout",
     "output_type": "stream",
     "text": [
      "<class 'pandas.core.frame.DataFrame'>\n",
      "RangeIndex: 955 entries, 0 to 954\n",
      "Data columns (total 39 columns):\n",
      " #   Column                                 Non-Null Count  Dtype  \n",
      "---  ------                                 --------------  -----  \n",
      " 0   ID                                     955 non-null    object \n",
      " 1   Пол                                    954 non-null    object \n",
      " 2   Семья                                  955 non-null    object \n",
      " 3   Этнос                                  955 non-null    object \n",
      " 4   Национальность                         955 non-null    object \n",
      " 5   Религия                                955 non-null    object \n",
      " 6   Образование                            955 non-null    object \n",
      " 7   Профессия                              955 non-null    object \n",
      " 8   Вы работаете?                          955 non-null    int64  \n",
      " 9   Выход на пенсию                        955 non-null    int64  \n",
      " 10  Прекращение работы по болезни          955 non-null    int64  \n",
      " 11  Сахарный диабет                        955 non-null    int64  \n",
      " 12  Гепатит                                955 non-null    int64  \n",
      " 13  Онкология                              955 non-null    int64  \n",
      " 14  Хроническое заболевание легких         955 non-null    int64  \n",
      " 15  Бронжиальная астма                     955 non-null    int64  \n",
      " 16  Туберкулез легких                      955 non-null    int64  \n",
      " 17  ВИЧ/СПИД                               955 non-null    int64  \n",
      " 18  Регулярный прим лекарственных средств  955 non-null    int64  \n",
      " 19  Травмы за год                          955 non-null    int64  \n",
      " 20  Переломы                               955 non-null    int64  \n",
      " 21  Статус Курения                         955 non-null    object \n",
      " 22  Возраст курения                        412 non-null    float64\n",
      " 23  Сигарет в день                         409 non-null    float64\n",
      " 24  Пассивное курение                      955 non-null    int64  \n",
      " 25  Частота пасс кур                       223 non-null    object \n",
      " 26  Алкоголь                               955 non-null    object \n",
      " 27  Возраст алког                          788 non-null    float64\n",
      " 28  Время засыпания                        955 non-null    object \n",
      " 29  Время пробуждения                      955 non-null    object \n",
      " 30  Сон после обеда                        955 non-null    int64  \n",
      " 31  Спорт, клубы                           955 non-null    int64  \n",
      " 32  Религия, клубы                         955 non-null    int64  \n",
      " 33  ID_y                                   955 non-null    object \n",
      " 34  Артериальная гипертензия               955 non-null    int64  \n",
      " 35  ОНМК                                   955 non-null    int64  \n",
      " 36  Стенокардия, ИБС, инфаркт миокарда     955 non-null    int64  \n",
      " 37  Сердечная недостаточность              955 non-null    int64  \n",
      " 38  Прочие заболевания сердца              955 non-null    int64  \n",
      "dtypes: float64(3), int64(22), object(14)\n",
      "memory usage: 291.1+ KB\n"
     ]
    }
   ],
   "source": [
    "df_train = pd.read_csv('data/train.csv')\n",
    "df_train.info()"
   ]
  },
  {
   "cell_type": "code",
   "execution_count": 10,
   "id": "fa33c722",
   "metadata": {
    "scrolled": true
   },
   "outputs": [
    {
     "name": "stdout",
     "output_type": "stream",
     "text": [
      "<class 'pandas.core.frame.DataFrame'>\n",
      "RangeIndex: 638 entries, 0 to 637\n",
      "Data columns (total 33 columns):\n",
      " #   Column                                 Non-Null Count  Dtype  \n",
      "---  ------                                 --------------  -----  \n",
      " 0   ID                                     638 non-null    object \n",
      " 1   Пол                                    638 non-null    object \n",
      " 2   Семья                                  638 non-null    object \n",
      " 3   Этнос                                  638 non-null    object \n",
      " 4   Национальность                         638 non-null    object \n",
      " 5   Религия                                638 non-null    object \n",
      " 6   Образование                            638 non-null    object \n",
      " 7   Профессия                              638 non-null    object \n",
      " 8   Вы работаете?                          638 non-null    int64  \n",
      " 9   Выход на пенсию                        638 non-null    int64  \n",
      " 10  Прекращение работы по болезни          638 non-null    int64  \n",
      " 11  Сахарный диабет                        638 non-null    int64  \n",
      " 12  Гепатит                                638 non-null    int64  \n",
      " 13  Онкология                              638 non-null    int64  \n",
      " 14  Хроническое заболевание легких         638 non-null    int64  \n",
      " 15  Бронжиальная астма                     638 non-null    int64  \n",
      " 16  Туберкулез легких                      638 non-null    int64  \n",
      " 17  ВИЧ/СПИД                               638 non-null    int64  \n",
      " 18  Регулярный прим лекарственных средств  638 non-null    int64  \n",
      " 19  Травмы за год                          638 non-null    int64  \n",
      " 20  Переломы                               638 non-null    int64  \n",
      " 21  Статус Курения                         638 non-null    object \n",
      " 22  Возраст курения                        269 non-null    float64\n",
      " 23  Сигарет в день                         265 non-null    float64\n",
      " 24  Пассивное курение                      638 non-null    int64  \n",
      " 25  Частота пасс кур                       154 non-null    object \n",
      " 26  Алкоголь                               638 non-null    object \n",
      " 27  Возраст алког                          501 non-null    float64\n",
      " 28  Время засыпания                        638 non-null    object \n",
      " 29  Время пробуждения                      638 non-null    object \n",
      " 30  Сон после обеда                        638 non-null    int64  \n",
      " 31  Спорт, клубы                           638 non-null    int64  \n",
      " 32  Религия, клубы                         638 non-null    int64  \n",
      "dtypes: float64(3), int64(17), object(13)\n",
      "memory usage: 164.6+ KB\n"
     ]
    }
   ],
   "source": [
    "df_test = pd.read_csv('data/test_dataset_test.csv')\n",
    "df_test.info()"
   ]
  },
  {
   "cell_type": "code",
   "execution_count": 11,
   "id": "453262f6",
   "metadata": {},
   "outputs": [
    {
     "name": "stdout",
     "output_type": "stream",
     "text": [
      "<class 'pandas.core.frame.DataFrame'>\n",
      "RangeIndex: 638 entries, 0 to 637\n",
      "Data columns (total 6 columns):\n",
      " #   Column                              Non-Null Count  Dtype \n",
      "---  ------                              --------------  ----- \n",
      " 0   ID                                  638 non-null    object\n",
      " 1   Артериальная гипертензия            638 non-null    int64 \n",
      " 2   ОНМК                                638 non-null    int64 \n",
      " 3   Стенокардия, ИБС, инфаркт миокарда  638 non-null    int64 \n",
      " 4   Сердечная недостаточность           638 non-null    int64 \n",
      " 5   Прочие заболевания сердца           638 non-null    int64 \n",
      "dtypes: int64(5), object(1)\n",
      "memory usage: 30.0+ KB\n"
     ]
    }
   ],
   "source": [
    "submit = pd.read_csv('data/sample_solution.csv')\n",
    "submit.info()"
   ]
  },
  {
   "cell_type": "code",
   "execution_count": 12,
   "id": "7b4e321d",
   "metadata": {},
   "outputs": [],
   "source": [
    "# Для корректной обработки признаков объединяем тренировочный и тестовый набор данных в один датасет\n",
    "\n",
    "# выделение целевых значений и датасета\n",
    "target_train = df_train.iloc[:, -5:]\n",
    "df_train = df_train.iloc[:, :-5]\n",
    "\n",
    "# вспомогательный флаг тренировочного и тестовой частей общего набора данных\n",
    "df_train['train'] = 1\n",
    "df_test['train'] = 0\n",
    "\n",
    "\n",
    "# объединение в один датасет\n",
    "df = pd.concat([df_train, df_test]).reset_index(drop=True)"
   ]
  },
  {
   "cell_type": "code",
   "execution_count": 13,
   "id": "c9aae4d0",
   "metadata": {},
   "outputs": [],
   "source": [
    "# Функция, которая выводит корреляцию признака с целевыми переменными (содержатся в разных датафреймах)\n",
    "def check_corrs_with_target(df, target_train=target_train, col=df.columns.to_list()):\n",
    "    df_train = df[df.train == 1]\n",
    "    df_for_check = pd.concat([df_train, target_train], axis=1)\n",
    "    cols_target = target_train.columns.to_list()\n",
    "    # col.extend(cols_target)\n",
    "    print('corrs_matrix_between: ', col)\n",
    "    corrs = df_for_check.corr()\n",
    "    return corrs.loc[col, cols_target]"
   ]
  },
  {
   "cell_type": "code",
   "execution_count": 14,
   "id": "f737d41e",
   "metadata": {},
   "outputs": [
    {
     "data": {
      "text/html": [
       "<div>\n",
       "<style scoped>\n",
       "    .dataframe tbody tr th:only-of-type {\n",
       "        vertical-align: middle;\n",
       "    }\n",
       "\n",
       "    .dataframe tbody tr th {\n",
       "        vertical-align: top;\n",
       "    }\n",
       "\n",
       "    .dataframe thead th {\n",
       "        text-align: right;\n",
       "    }\n",
       "</style>\n",
       "<table border=\"1\" class=\"dataframe\">\n",
       "  <thead>\n",
       "    <tr style=\"text-align: right;\">\n",
       "      <th></th>\n",
       "      <th>ID</th>\n",
       "      <th>Пол</th>\n",
       "      <th>Семья</th>\n",
       "      <th>Этнос</th>\n",
       "      <th>Национальность</th>\n",
       "      <th>Религия</th>\n",
       "      <th>Образование</th>\n",
       "      <th>Профессия</th>\n",
       "      <th>Вы работаете?</th>\n",
       "      <th>Выход на пенсию</th>\n",
       "      <th>Прекращение работы по болезни</th>\n",
       "      <th>Сахарный диабет</th>\n",
       "      <th>Гепатит</th>\n",
       "      <th>Онкология</th>\n",
       "      <th>Хроническое заболевание легких</th>\n",
       "      <th>Бронжиальная астма</th>\n",
       "      <th>Туберкулез легких</th>\n",
       "      <th>ВИЧ/СПИД</th>\n",
       "      <th>Регулярный прим лекарственных средств</th>\n",
       "      <th>Травмы за год</th>\n",
       "      <th>Переломы</th>\n",
       "      <th>Статус Курения</th>\n",
       "      <th>Возраст курения</th>\n",
       "      <th>Сигарет в день</th>\n",
       "      <th>Пассивное курение</th>\n",
       "      <th>Частота пасс кур</th>\n",
       "      <th>Алкоголь</th>\n",
       "      <th>Возраст алког</th>\n",
       "      <th>Время засыпания</th>\n",
       "      <th>Время пробуждения</th>\n",
       "      <th>Сон после обеда</th>\n",
       "      <th>Спорт, клубы</th>\n",
       "      <th>Религия, клубы</th>\n",
       "      <th>ID_y</th>\n",
       "      <th>train</th>\n",
       "    </tr>\n",
       "  </thead>\n",
       "  <tbody>\n",
       "    <tr>\n",
       "      <th>0</th>\n",
       "      <td>54-102-358-02</td>\n",
       "      <td>М</td>\n",
       "      <td>в браке в настоящее время</td>\n",
       "      <td>европейская</td>\n",
       "      <td>Русские</td>\n",
       "      <td>Христианство</td>\n",
       "      <td>3 - средняя школа / закон.среднее / выше среднего</td>\n",
       "      <td>низкоквалифицированные работники</td>\n",
       "      <td>1</td>\n",
       "      <td>0</td>\n",
       "      <td>0</td>\n",
       "      <td>0</td>\n",
       "      <td>0</td>\n",
       "      <td>0</td>\n",
       "      <td>0</td>\n",
       "      <td>0</td>\n",
       "      <td>0</td>\n",
       "      <td>0</td>\n",
       "      <td>0</td>\n",
       "      <td>0</td>\n",
       "      <td>0</td>\n",
       "      <td>Курит</td>\n",
       "      <td>15.0</td>\n",
       "      <td>20.0</td>\n",
       "      <td>0</td>\n",
       "      <td>NaN</td>\n",
       "      <td>употребляю в настоящее время</td>\n",
       "      <td>18.0</td>\n",
       "      <td>22:00:00</td>\n",
       "      <td>06:00:00</td>\n",
       "      <td>0</td>\n",
       "      <td>0</td>\n",
       "      <td>0</td>\n",
       "      <td>54-102-358-02</td>\n",
       "      <td>1</td>\n",
       "    </tr>\n",
       "  </tbody>\n",
       "</table>\n",
       "</div>"
      ],
      "text/plain": [
       "              ID Пол                      Семья        Этнос Национальность  \\\n",
       "0  54-102-358-02   М  в браке в настоящее время  европейская        Русские   \n",
       "\n",
       "        Религия                                        Образование  \\\n",
       "0  Христианство  3 - средняя школа / закон.среднее / выше среднего   \n",
       "\n",
       "                          Профессия  Вы работаете?  Выход на пенсию  \\\n",
       "0  низкоквалифицированные работники              1                0   \n",
       "\n",
       "   Прекращение работы по болезни  Сахарный диабет  Гепатит  Онкология  \\\n",
       "0                              0                0        0          0   \n",
       "\n",
       "   Хроническое заболевание легких  Бронжиальная астма  Туберкулез легких   \\\n",
       "0                               0                   0                   0   \n",
       "\n",
       "   ВИЧ/СПИД  Регулярный прим лекарственных средств  Травмы за год  Переломы  \\\n",
       "0         0                                      0              0         0   \n",
       "\n",
       "  Статус Курения  Возраст курения  Сигарет в день  Пассивное курение  \\\n",
       "0          Курит             15.0            20.0                  0   \n",
       "\n",
       "  Частота пасс кур                      Алкоголь  Возраст алког  \\\n",
       "0              NaN  употребляю в настоящее время           18.0   \n",
       "\n",
       "  Время засыпания Время пробуждения  Сон после обеда  Спорт, клубы  \\\n",
       "0        22:00:00          06:00:00                0             0   \n",
       "\n",
       "   Религия, клубы           ID_y  train  \n",
       "0               0  54-102-358-02      1  "
      ]
     },
     "execution_count": 14,
     "metadata": {},
     "output_type": "execute_result"
    }
   ],
   "source": [
    "df.head(1)"
   ]
  },
  {
   "cell_type": "code",
   "execution_count": 15,
   "id": "45d7bca9",
   "metadata": {},
   "outputs": [],
   "source": [
    "feature_map = {\n",
    "    'ID': 'id',\n",
    "    'Пол': 'sex',\n",
    "    'Семья': 'family',\n",
    "    'Этнос': 'ethnos',\n",
    "    'Национальность': 'nationality',\n",
    "    'Религия': 'religion',\n",
    "    'Образование': 'education',\n",
    "    'Профессия': 'profession',\n",
    "    'Вы работаете?': 'job',\n",
    "    'Выход на пенсию': 'retired',\n",
    "    'Прекращение работы по болезни': 'stop_work_due_disease',\n",
    "    'Сахарный диабет': 'diabetes',\n",
    "    'Гепатит': 'hepatitis',\n",
    "    'Онкология': 'oncology',\n",
    "    'Хроническое заболевание легких': 'chronic_lung_disease',\n",
    "    'Бронжиальная астма': 'bronchial_asthma',\n",
    "    'Туберкулез легких ': 'tuberculosis',\n",
    "    'ВИЧ/СПИД': 'hiv/aids',\n",
    "    'Регулярный прим лекарственных средств': 'intake_medicines',\n",
    "    'Травмы за год': 'trauma_last_year',\n",
    "    'Переломы': 'fractures',\n",
    "    'Статус Курения': 'smoking',\n",
    "    'Возраст курения': 'smoking_duration',\n",
    "    'Сигарет в день': 'ciggaretes_per_day',\n",
    "    'Пассивное курение': 'passive_smoking',\n",
    "    'Частота пасс кур': 'passive_smoking_frequency',\n",
    "    'Алкоголь': 'alcohol',\n",
    "    'Возраст алког': 'alcohol_duration',\n",
    "    'Время засыпания': 'time_sleep_onset',\n",
    "    'Время пробуждения': 'time_sleep_upset',\n",
    "    'Сон после обеда': 'midday_sleep',\n",
    "    'Спорт, клубы': 'sport',\n",
    "    'Религия, клубы': 'religion_clubs',\n",
    "    'ID_y': 'id_y',\n",
    "    'Артериальная гипертензия': 'arterial_hypertension',\n",
    "    'ОНМК': 'stroke',\n",
    "    'Стенокардия, ИБС, инфаркт миокарда': 'IHD',\n",
    "    'Сердечная недостаточность': 'heart_failure',\n",
    "    'Прочие заболевания сердца': 'other_cardio_diseases'}"
   ]
  },
  {
   "cell_type": "code",
   "execution_count": 16,
   "id": "57bf31bd",
   "metadata": {},
   "outputs": [],
   "source": [
    "df.rename(feature_map, axis=1, inplace=True)"
   ]
  },
  {
   "cell_type": "code",
   "execution_count": 17,
   "id": "628aecbf",
   "metadata": {},
   "outputs": [
    {
     "data": {
      "text/plain": [
       "Index(['id', 'sex', 'family', 'ethnos', 'nationality', 'religion', 'education',\n",
       "       'profession', 'job', 'retired', 'stop_work_due_disease', 'diabetes',\n",
       "       'hepatitis', 'oncology', 'chronic_lung_disease', 'bronchial_asthma',\n",
       "       'tuberculosis', 'hiv/aids', 'intake_medicines', 'trauma_last_year',\n",
       "       'fractures', 'smoking', 'smoking_duration', 'ciggaretes_per_day',\n",
       "       'passive_smoking', 'passive_smoking_frequency', 'alcohol',\n",
       "       'alcohol_duration', 'time_sleep_onset', 'time_sleep_upset',\n",
       "       'midday_sleep', 'sport', 'religion_clubs', 'id_y', 'train'],\n",
       "      dtype='object')"
      ]
     },
     "execution_count": 17,
     "metadata": {},
     "output_type": "execute_result"
    }
   ],
   "source": [
    "df.columns"
   ]
  },
  {
   "cell_type": "code",
   "execution_count": 18,
   "id": "b729b25a",
   "metadata": {},
   "outputs": [],
   "source": [
    "target_train.rename(feature_map, axis=1, inplace=True)"
   ]
  },
  {
   "cell_type": "code",
   "execution_count": 19,
   "id": "9d772b85",
   "metadata": {},
   "outputs": [
    {
     "data": {
      "text/plain": [
       "Index(['arterial_hypertension', 'stroke', 'IHD', 'heart_failure',\n",
       "       'other_cardio_diseases'],\n",
       "      dtype='object')"
      ]
     },
     "execution_count": 19,
     "metadata": {},
     "output_type": "execute_result"
    }
   ],
   "source": [
    "target_train.columns"
   ]
  },
  {
   "cell_type": "code",
   "execution_count": 20,
   "id": "3f3d6b6b",
   "metadata": {},
   "outputs": [
    {
     "name": "stdout",
     "output_type": "stream",
     "text": [
      "1.0\n",
      "1.0\n"
     ]
    }
   ],
   "source": [
    "# Проверка на совпадение ID в train\n",
    "print((df[df.train == 1].id == df[df.train == 1].id_y).sum() /\n",
    "      len(df[df.train == 1]))\n",
    "# Проверка на совпадение ID в test и submit\n",
    "print((df[df.train == 0].id.reset_index(\n",
    "    drop=True) == submit.ID).sum() / len(submit))"
   ]
  },
  {
   "cell_type": "code",
   "execution_count": 21,
   "id": "f3f0884e",
   "metadata": {},
   "outputs": [
    {
     "data": {
      "text/plain": [
       "0    54-102-358-02\n",
       "1    54-103-101-01\n",
       "2    54-501-026-03\n",
       "3    54-501-094-02\n",
       "4    54-503-022-01\n",
       "5    54-002-074-01\n",
       "6    54-602-027-01\n",
       "7    54-102-072-01\n",
       "8    54-102-145-01\n",
       "9    54-002-002-01\n",
       "Name: id, dtype: object"
      ]
     },
     "execution_count": 21,
     "metadata": {},
     "output_type": "execute_result"
    }
   ],
   "source": [
    "df.id[:10]"
   ]
  },
  {
   "cell_type": "markdown",
   "id": "a1bca798",
   "metadata": {},
   "source": [
    "# ADD FEATURE unknown_id_feature, id_1, id_2, id_3, id_4\n",
    "\n",
    "Последние цифры id могут характеризовать все что угодно (возможно, не имеют ценности)\n",
    "Предположительно это могут быть:\n",
    "1. Место проведение опроса (улица, поликлиника, больница, общественное место) \n",
    "2. Источник опроса (опросил сотрудник, бумажный носитель, интернет-анкета и др. \n",
    "3. id сотрудника, проводившего опрос  \n",
    "\n",
    "Место и источник могут влиять на результат опроса\n"
   ]
  },
  {
   "cell_type": "code",
   "execution_count": 22,
   "id": "30ce3d78",
   "metadata": {},
   "outputs": [],
   "source": [
    "# df['unknown_id_feature_1'] = df['id'].apply(lambda x: int(x[0:2]))\n",
    "# df['unknown_id_feature_2'] = df['id'].apply(lambda x: int(x[3:6]))\n",
    "# df['unknown_id_feature_3'] = df['id'].apply(lambda x: int(x[7:10]))\n",
    "\n",
    "\n",
    "df['unknown_id_feature'] = df['id'].apply(lambda x: int(x[-1:]))\n",
    "\n",
    "\n",
    "id_features = pd.get_dummies(df['unknown_id_feature'], prefix='id')\n",
    "\n",
    "df = pd.concat([df, id_features], axis=1)"
   ]
  },
  {
   "cell_type": "code",
   "execution_count": 23,
   "id": "5ef1e174",
   "metadata": {},
   "outputs": [],
   "source": [
    "df.drop(['id', 'id_y'], axis=1, inplace=True)"
   ]
  },
  {
   "cell_type": "code",
   "execution_count": 24,
   "id": "1bda37f7",
   "metadata": {},
   "outputs": [
    {
     "data": {
      "text/plain": [
       "sex                             1\n",
       "family                          0\n",
       "ethnos                          0\n",
       "nationality                     0\n",
       "religion                        0\n",
       "education                       0\n",
       "profession                      0\n",
       "job                             0\n",
       "retired                         0\n",
       "stop_work_due_disease           0\n",
       "diabetes                        0\n",
       "hepatitis                       0\n",
       "oncology                        0\n",
       "chronic_lung_disease            0\n",
       "bronchial_asthma                0\n",
       "tuberculosis                    0\n",
       "hiv/aids                        0\n",
       "intake_medicines                0\n",
       "trauma_last_year                0\n",
       "fractures                       0\n",
       "smoking                         0\n",
       "smoking_duration              912\n",
       "ciggaretes_per_day            919\n",
       "passive_smoking                 0\n",
       "passive_smoking_frequency    1216\n",
       "alcohol                         0\n",
       "alcohol_duration              304\n",
       "time_sleep_onset                0\n",
       "time_sleep_upset                0\n",
       "midday_sleep                    0\n",
       "sport                           0\n",
       "religion_clubs                  0\n",
       "train                           0\n",
       "unknown_id_feature              0\n",
       "id_1                            0\n",
       "id_2                            0\n",
       "id_3                            0\n",
       "id_4                            0\n",
       "dtype: int64"
      ]
     },
     "execution_count": 24,
     "metadata": {},
     "output_type": "execute_result"
    }
   ],
   "source": [
    "# total amount of missing data\n",
    "# Общее количество пропусков в данных\n",
    "df.isna().sum()"
   ]
  },
  {
   "cell_type": "markdown",
   "id": "2fbd3ae2",
   "metadata": {},
   "source": [
    "### Колонка sex"
   ]
  },
  {
   "cell_type": "code",
   "execution_count": 25,
   "id": "3ca34d26",
   "metadata": {},
   "outputs": [
    {
     "data": {
      "text/plain": [
       "Ж      1117\n",
       "М       475\n",
       "NaN       1\n",
       "Name: sex, dtype: int64"
      ]
     },
     "execution_count": 25,
     "metadata": {},
     "output_type": "execute_result"
    }
   ],
   "source": [
    "df.sex.value_counts(dropna=False)"
   ]
  },
  {
   "cell_type": "code",
   "execution_count": 26,
   "id": "76a54aff",
   "metadata": {},
   "outputs": [],
   "source": [
    "# Заполнение пропуска модой (в данном случае - Ж)\n",
    "df.sex.fillna(df.sex.mode()[0], inplace=True)"
   ]
  },
  {
   "cell_type": "code",
   "execution_count": 27,
   "id": "54cb7a24",
   "metadata": {},
   "outputs": [
    {
     "data": {
      "text/plain": [
       "Ж    1118\n",
       "М     475\n",
       "Name: sex, dtype: int64"
      ]
     },
     "execution_count": 27,
     "metadata": {},
     "output_type": "execute_result"
    }
   ],
   "source": [
    "df.sex.value_counts(dropna=False)"
   ]
  },
  {
   "cell_type": "code",
   "execution_count": 28,
   "id": "cdb9f8da",
   "metadata": {},
   "outputs": [],
   "source": [
    "df.sex = np.where(df.sex == 'Ж', 0, 1)"
   ]
  },
  {
   "cell_type": "code",
   "execution_count": 29,
   "id": "53451ed3",
   "metadata": {
    "scrolled": true
   },
   "outputs": [
    {
     "name": "stdout",
     "output_type": "stream",
     "text": [
      "corrs_matrix_between:  ['sex']\n"
     ]
    },
    {
     "data": {
      "text/html": [
       "<div>\n",
       "<style scoped>\n",
       "    .dataframe tbody tr th:only-of-type {\n",
       "        vertical-align: middle;\n",
       "    }\n",
       "\n",
       "    .dataframe tbody tr th {\n",
       "        vertical-align: top;\n",
       "    }\n",
       "\n",
       "    .dataframe thead th {\n",
       "        text-align: right;\n",
       "    }\n",
       "</style>\n",
       "<table border=\"1\" class=\"dataframe\">\n",
       "  <thead>\n",
       "    <tr style=\"text-align: right;\">\n",
       "      <th></th>\n",
       "      <th>arterial_hypertension</th>\n",
       "      <th>stroke</th>\n",
       "      <th>IHD</th>\n",
       "      <th>heart_failure</th>\n",
       "      <th>other_cardio_diseases</th>\n",
       "    </tr>\n",
       "  </thead>\n",
       "  <tbody>\n",
       "    <tr>\n",
       "      <th>sex</th>\n",
       "      <td>-0.119174</td>\n",
       "      <td>0.075247</td>\n",
       "      <td>0.005842</td>\n",
       "      <td>-0.08241</td>\n",
       "      <td>-0.086526</td>\n",
       "    </tr>\n",
       "  </tbody>\n",
       "</table>\n",
       "</div>"
      ],
      "text/plain": [
       "     arterial_hypertension    stroke       IHD  heart_failure  \\\n",
       "sex              -0.119174  0.075247  0.005842       -0.08241   \n",
       "\n",
       "     other_cardio_diseases  \n",
       "sex              -0.086526  "
      ]
     },
     "execution_count": 29,
     "metadata": {},
     "output_type": "execute_result"
    }
   ],
   "source": [
    "# Оценка корреляции с целевыми признаками\n",
    "check_corrs_with_target(df, col=['sex'])"
   ]
  },
  {
   "cell_type": "markdown",
   "id": "e0c5ada8",
   "metadata": {},
   "source": [
    "### Колонка family"
   ]
  },
  {
   "cell_type": "code",
   "execution_count": 30,
   "id": "8182d89e",
   "metadata": {},
   "outputs": [
    {
     "data": {
      "text/plain": [
       "в браке в настоящее время                          937\n",
       "вдовец / вдова                                     246\n",
       "в разводе                                          201\n",
       "гражданский брак / проживание с партнером          129\n",
       "никогда не был(а) в браке                           77\n",
       "раздельное проживание (официально не разведены)      3\n",
       "Name: family, dtype: int64"
      ]
     },
     "execution_count": 30,
     "metadata": {},
     "output_type": "execute_result"
    }
   ],
   "source": [
    "df.family.value_counts(dropna=False)"
   ]
  },
  {
   "cell_type": "code",
   "execution_count": 31,
   "id": "6c0ce7f9",
   "metadata": {},
   "outputs": [
    {
     "name": "stdout",
     "output_type": "stream",
     "text": [
      "before replace:  ['в браке в настоящее время', 'в разводе', 'вдовец / вдова', 'гражданский брак / проживание с партнером', 'никогда не был(а) в браке', 'раздельное проживание (официально не разведены)']\n",
      "after replace:  ['married', 'divorced', 'widowed', 'cohabited', 'single', 'separated']\n"
     ]
    }
   ],
   "source": [
    "# Создание отдельного датафрейма со статусами семейного положение\n",
    "family = pd.get_dummies(df.family)\n",
    "print('before replace: ', list(family.columns))\n",
    "\n",
    "# Словарь для замены названий колонок\n",
    "fam_cols_map = {'в браке в настоящее время': 'married',\n",
    "                'в разводе': 'divorced',\n",
    "                'вдовец / вдова': 'widowed',\n",
    "                'гражданский брак / проживание с партнером': 'cohabited',\n",
    "                'никогда не был(а) в браке': 'single',\n",
    "                'раздельное проживание (официально не разведены)': 'separated'}\n",
    "\n",
    "# Замена названий колонок в датафрейме\n",
    "family.rename(fam_cols_map, axis=1, inplace=True)\n",
    "print('after replace: ', list(family.columns))"
   ]
  },
  {
   "cell_type": "code",
   "execution_count": 32,
   "id": "c6ebb173",
   "metadata": {},
   "outputs": [],
   "source": [
    "# Добавление статусов о семейном положении в основной датафрейм\n",
    "df = pd.concat([df, family], axis=1)\n",
    "df.drop('family', axis=1, inplace=True)"
   ]
  },
  {
   "cell_type": "code",
   "execution_count": 33,
   "id": "38fbba42",
   "metadata": {},
   "outputs": [
    {
     "name": "stdout",
     "output_type": "stream",
     "text": [
      "corrs_matrix_between:  Index(['married', 'divorced', 'widowed', 'cohabited', 'single', 'separated'], dtype='object')\n"
     ]
    },
    {
     "data": {
      "text/html": [
       "<div>\n",
       "<style scoped>\n",
       "    .dataframe tbody tr th:only-of-type {\n",
       "        vertical-align: middle;\n",
       "    }\n",
       "\n",
       "    .dataframe tbody tr th {\n",
       "        vertical-align: top;\n",
       "    }\n",
       "\n",
       "    .dataframe thead th {\n",
       "        text-align: right;\n",
       "    }\n",
       "</style>\n",
       "<table border=\"1\" class=\"dataframe\">\n",
       "  <thead>\n",
       "    <tr style=\"text-align: right;\">\n",
       "      <th></th>\n",
       "      <th>arterial_hypertension</th>\n",
       "      <th>stroke</th>\n",
       "      <th>IHD</th>\n",
       "      <th>heart_failure</th>\n",
       "      <th>other_cardio_diseases</th>\n",
       "    </tr>\n",
       "  </thead>\n",
       "  <tbody>\n",
       "    <tr>\n",
       "      <th>married</th>\n",
       "      <td>-0.080766</td>\n",
       "      <td>0.019210</td>\n",
       "      <td>-0.025806</td>\n",
       "      <td>-0.046685</td>\n",
       "      <td>-0.027510</td>\n",
       "    </tr>\n",
       "    <tr>\n",
       "      <th>divorced</th>\n",
       "      <td>-0.014791</td>\n",
       "      <td>0.009703</td>\n",
       "      <td>-0.040850</td>\n",
       "      <td>-0.005838</td>\n",
       "      <td>0.029754</td>\n",
       "    </tr>\n",
       "    <tr>\n",
       "      <th>widowed</th>\n",
       "      <td>0.189502</td>\n",
       "      <td>0.012461</td>\n",
       "      <td>0.093806</td>\n",
       "      <td>0.132974</td>\n",
       "      <td>0.032011</td>\n",
       "    </tr>\n",
       "    <tr>\n",
       "      <th>cohabited</th>\n",
       "      <td>-0.037290</td>\n",
       "      <td>-0.026097</td>\n",
       "      <td>-0.019460</td>\n",
       "      <td>-0.049826</td>\n",
       "      <td>-0.001516</td>\n",
       "    </tr>\n",
       "    <tr>\n",
       "      <th>single</th>\n",
       "      <td>-0.051434</td>\n",
       "      <td>-0.045989</td>\n",
       "      <td>-0.004129</td>\n",
       "      <td>-0.039003</td>\n",
       "      <td>-0.033028</td>\n",
       "    </tr>\n",
       "    <tr>\n",
       "      <th>separated</th>\n",
       "      <td>-0.042882</td>\n",
       "      <td>-0.009703</td>\n",
       "      <td>-0.017117</td>\n",
       "      <td>-0.015315</td>\n",
       "      <td>-0.014411</td>\n",
       "    </tr>\n",
       "  </tbody>\n",
       "</table>\n",
       "</div>"
      ],
      "text/plain": [
       "           arterial_hypertension    stroke       IHD  heart_failure  \\\n",
       "married                -0.080766  0.019210 -0.025806      -0.046685   \n",
       "divorced               -0.014791  0.009703 -0.040850      -0.005838   \n",
       "widowed                 0.189502  0.012461  0.093806       0.132974   \n",
       "cohabited              -0.037290 -0.026097 -0.019460      -0.049826   \n",
       "single                 -0.051434 -0.045989 -0.004129      -0.039003   \n",
       "separated              -0.042882 -0.009703 -0.017117      -0.015315   \n",
       "\n",
       "           other_cardio_diseases  \n",
       "married                -0.027510  \n",
       "divorced                0.029754  \n",
       "widowed                 0.032011  \n",
       "cohabited              -0.001516  \n",
       "single                 -0.033028  \n",
       "separated              -0.014411  "
      ]
     },
     "execution_count": 33,
     "metadata": {},
     "output_type": "execute_result"
    }
   ],
   "source": [
    "# Матрица корреляций статусов семейного положения и целевых переменных\n",
    "fam_cols = family.columns\n",
    "check_corrs_with_target(df, col=fam_cols)"
   ]
  },
  {
   "cell_type": "markdown",
   "id": "818fa49c",
   "metadata": {},
   "source": [
    "### Колонка ethnos"
   ]
  },
  {
   "cell_type": "code",
   "execution_count": 34,
   "id": "dbe5ccba",
   "metadata": {},
   "outputs": [
    {
     "data": {
      "text/plain": [
       "европейская                                                                                                      1559\n",
       "другая азиатская (Корея, Малайзия, Таиланд, Вьетнам, Казахстан, Киргизия, Туркмения, Узбекистан, Таджикистан)      24\n",
       "прочее (любая иная этно-расовая группа, не представленная выше)                                                    10\n",
       "Name: ethnos, dtype: int64"
      ]
     },
     "execution_count": 34,
     "metadata": {},
     "output_type": "execute_result"
    }
   ],
   "source": [
    "df.ethnos.value_counts(dropna=False)"
   ]
  },
  {
   "cell_type": "code",
   "execution_count": 35,
   "id": "ebbe3392",
   "metadata": {},
   "outputs": [
    {
     "name": "stdout",
     "output_type": "stream",
     "text": [
      "before replace:  ['другая азиатская (Корея, Малайзия, Таиланд, Вьетнам, Казахстан, Киргизия, Туркмения, Узбекистан, Таджикистан)', 'европейская', 'прочее (любая иная этно-расовая группа, не представленная выше)']\n",
      "after replace:  ['asian', 'european', 'other']\n"
     ]
    }
   ],
   "source": [
    "ethnos = pd.get_dummies(df.ethnos)\n",
    "print('before replace: ', list(ethnos.columns))\n",
    "\n",
    "ethnos_col_map = {'другая азиатская (Корея, Малайзия, Таиланд, Вьетнам, Казахстан, Киргизия, Туркмения, Узбекистан, Таджикистан)': 'asian',\n",
    "                  'европейская': 'european',\n",
    "                  'прочее (любая иная этно-расовая группа, не представленная выше)': 'other'}\n",
    "\n",
    "ethnos.rename(ethnos_col_map, axis=1, inplace=True)\n",
    "\n",
    "print('after replace: ', list(ethnos.columns))"
   ]
  },
  {
   "cell_type": "code",
   "execution_count": 36,
   "id": "16624a36",
   "metadata": {},
   "outputs": [],
   "source": [
    "df = pd.concat([df, ethnos], axis=1)\n",
    "df.drop('ethnos', axis=1, inplace=True)"
   ]
  },
  {
   "cell_type": "code",
   "execution_count": 37,
   "id": "44a7a39f",
   "metadata": {},
   "outputs": [
    {
     "name": "stdout",
     "output_type": "stream",
     "text": [
      "corrs_matrix_between:  Index(['asian', 'european', 'other'], dtype='object')\n"
     ]
    },
    {
     "data": {
      "text/html": [
       "<div>\n",
       "<style scoped>\n",
       "    .dataframe tbody tr th:only-of-type {\n",
       "        vertical-align: middle;\n",
       "    }\n",
       "\n",
       "    .dataframe tbody tr th {\n",
       "        vertical-align: top;\n",
       "    }\n",
       "\n",
       "    .dataframe thead th {\n",
       "        text-align: right;\n",
       "    }\n",
       "</style>\n",
       "<table border=\"1\" class=\"dataframe\">\n",
       "  <thead>\n",
       "    <tr style=\"text-align: right;\">\n",
       "      <th></th>\n",
       "      <th>arterial_hypertension</th>\n",
       "      <th>stroke</th>\n",
       "      <th>IHD</th>\n",
       "      <th>heart_failure</th>\n",
       "      <th>other_cardio_diseases</th>\n",
       "    </tr>\n",
       "  </thead>\n",
       "  <tbody>\n",
       "    <tr>\n",
       "      <th>asian</th>\n",
       "      <td>0.000964</td>\n",
       "      <td>-0.028513</td>\n",
       "      <td>0.022155</td>\n",
       "      <td>0.007666</td>\n",
       "      <td>-0.042351</td>\n",
       "    </tr>\n",
       "    <tr>\n",
       "      <th>european</th>\n",
       "      <td>0.002794</td>\n",
       "      <td>0.034006</td>\n",
       "      <td>-0.001218</td>\n",
       "      <td>0.009179</td>\n",
       "      <td>0.050509</td>\n",
       "    </tr>\n",
       "    <tr>\n",
       "      <th>other</th>\n",
       "      <td>-0.006621</td>\n",
       "      <td>-0.018200</td>\n",
       "      <td>-0.032108</td>\n",
       "      <td>-0.028727</td>\n",
       "      <td>-0.027032</td>\n",
       "    </tr>\n",
       "  </tbody>\n",
       "</table>\n",
       "</div>"
      ],
      "text/plain": [
       "          arterial_hypertension    stroke       IHD  heart_failure  \\\n",
       "asian                  0.000964 -0.028513  0.022155       0.007666   \n",
       "european               0.002794  0.034006 -0.001218       0.009179   \n",
       "other                 -0.006621 -0.018200 -0.032108      -0.028727   \n",
       "\n",
       "          other_cardio_diseases  \n",
       "asian                 -0.042351  \n",
       "european               0.050509  \n",
       "other                 -0.027032  "
      ]
     },
     "execution_count": 37,
     "metadata": {},
     "output_type": "execute_result"
    }
   ],
   "source": [
    "ethnos_col = ethnos.columns\n",
    "check_corrs_with_target(df, col=ethnos_col)"
   ]
  },
  {
   "cell_type": "markdown",
   "id": "0c29ffd9",
   "metadata": {},
   "source": [
    "### Колонка nationality"
   ]
  },
  {
   "cell_type": "code",
   "execution_count": 38,
   "id": "8a20a2c8",
   "metadata": {},
   "outputs": [
    {
     "data": {
      "text/plain": [
       "Русские                  1500\n",
       "Татары                     33\n",
       "Немцы                      10\n",
       "Украинцы                   10\n",
       "Чуваши                      9\n",
       "Азербайджанцы               4\n",
       "Белорусы                    3\n",
       "Другие национальности       3\n",
       "Казахи                      3\n",
       "Армяне                      3\n",
       "Удмурты                     2\n",
       "Евреи                       2\n",
       "Таджики                     2\n",
       "Киргизы                     2\n",
       "Мордва                      2\n",
       "Башкиры                     1\n",
       "Молдаване                   1\n",
       "Буряты                      1\n",
       "Эстонцы                     1\n",
       "Лезгины                     1\n",
       "Name: nationality, dtype: int64"
      ]
     },
     "execution_count": 38,
     "metadata": {},
     "output_type": "execute_result"
    }
   ],
   "source": [
    "df.nationality.value_counts(dropna=False)"
   ]
  },
  {
   "cell_type": "code",
   "execution_count": 39,
   "id": "ac2b87b1",
   "metadata": {},
   "outputs": [],
   "source": [
    "# Добавление колонки is_russian, так как количество других национальностей слишком мало\n",
    "df['is_russian'] = np.where(df['nationality'] == 'Русские', 1, 0)"
   ]
  },
  {
   "cell_type": "code",
   "execution_count": 40,
   "id": "3a047d6b",
   "metadata": {},
   "outputs": [],
   "source": [
    "# Удаление исходной колонки\n",
    "df.drop('nationality', axis=1, inplace=True)"
   ]
  },
  {
   "cell_type": "code",
   "execution_count": 41,
   "id": "65f2d43a",
   "metadata": {},
   "outputs": [
    {
     "name": "stdout",
     "output_type": "stream",
     "text": [
      "corrs_matrix_between:  ['is_russian']\n"
     ]
    },
    {
     "data": {
      "text/html": [
       "<div>\n",
       "<style scoped>\n",
       "    .dataframe tbody tr th:only-of-type {\n",
       "        vertical-align: middle;\n",
       "    }\n",
       "\n",
       "    .dataframe tbody tr th {\n",
       "        vertical-align: top;\n",
       "    }\n",
       "\n",
       "    .dataframe thead th {\n",
       "        text-align: right;\n",
       "    }\n",
       "</style>\n",
       "<table border=\"1\" class=\"dataframe\">\n",
       "  <thead>\n",
       "    <tr style=\"text-align: right;\">\n",
       "      <th></th>\n",
       "      <th>arterial_hypertension</th>\n",
       "      <th>stroke</th>\n",
       "      <th>IHD</th>\n",
       "      <th>heart_failure</th>\n",
       "      <th>other_cardio_diseases</th>\n",
       "    </tr>\n",
       "  </thead>\n",
       "  <tbody>\n",
       "    <tr>\n",
       "      <th>is_russian</th>\n",
       "      <td>-0.016501</td>\n",
       "      <td>0.008887</td>\n",
       "      <td>-0.056265</td>\n",
       "      <td>-0.035137</td>\n",
       "      <td>0.016238</td>\n",
       "    </tr>\n",
       "  </tbody>\n",
       "</table>\n",
       "</div>"
      ],
      "text/plain": [
       "            arterial_hypertension    stroke       IHD  heart_failure  \\\n",
       "is_russian              -0.016501  0.008887 -0.056265      -0.035137   \n",
       "\n",
       "            other_cardio_diseases  \n",
       "is_russian               0.016238  "
      ]
     },
     "execution_count": 41,
     "metadata": {},
     "output_type": "execute_result"
    }
   ],
   "source": [
    "check_corrs_with_target(df, col=['is_russian'])"
   ]
  },
  {
   "cell_type": "markdown",
   "id": "2f994a7b",
   "metadata": {},
   "source": [
    "### Колонка religion"
   ]
  },
  {
   "cell_type": "code",
   "execution_count": 42,
   "id": "eb668a41",
   "metadata": {},
   "outputs": [
    {
     "data": {
      "text/plain": [
       "Христианство         1361\n",
       "Атеист / агностик     127\n",
       "Нет                    73\n",
       "Ислам                  30\n",
       "Другое                  1\n",
       "Индуизм                 1\n",
       "Name: religion, dtype: int64"
      ]
     },
     "execution_count": 42,
     "metadata": {},
     "output_type": "execute_result"
    }
   ],
   "source": [
    "df.religion.value_counts(dropna=False)"
   ]
  },
  {
   "cell_type": "code",
   "execution_count": 43,
   "id": "37baa46e",
   "metadata": {},
   "outputs": [
    {
     "name": "stdout",
     "output_type": "stream",
     "text": [
      "before replace:  ['Атеист / агностик', 'Другое', 'Индуизм', 'Ислам', 'Нет', 'Христианство']\n",
      "after replace:  ['atheist', 'other', 'hinduist', 'muslim', 'no', 'christian']\n"
     ]
    }
   ],
   "source": [
    "religion = pd.get_dummies(df.religion)\n",
    "print('before replace: ', list(religion.columns))\n",
    "\n",
    "religion_cols_map = {'Атеист / агностик': 'atheist',\n",
    "                     'Другое': 'other',\n",
    "                     'Индуизм': 'hinduist',\n",
    "                     'Ислам': 'muslim',\n",
    "                     'Нет': 'no',\n",
    "                     'Христианство': 'christian'}\n",
    "\n",
    "\n",
    "religion.rename(religion_cols_map, axis=1, inplace=True)\n",
    "print('after replace: ', list(religion.columns))"
   ]
  },
  {
   "cell_type": "code",
   "execution_count": 44,
   "id": "fa8ebfc1",
   "metadata": {},
   "outputs": [],
   "source": [
    "df = pd.concat([df, religion], axis=1)"
   ]
  },
  {
   "cell_type": "code",
   "execution_count": 45,
   "id": "0c78cf67",
   "metadata": {},
   "outputs": [
    {
     "name": "stdout",
     "output_type": "stream",
     "text": [
      "corrs_matrix_between:  Index(['atheist', 'other', 'hinduist', 'muslim', 'no', 'christian'], dtype='object')\n"
     ]
    },
    {
     "data": {
      "text/html": [
       "<div>\n",
       "<style scoped>\n",
       "    .dataframe tbody tr th:only-of-type {\n",
       "        vertical-align: middle;\n",
       "    }\n",
       "\n",
       "    .dataframe tbody tr th {\n",
       "        vertical-align: top;\n",
       "    }\n",
       "\n",
       "    .dataframe thead th {\n",
       "        text-align: right;\n",
       "    }\n",
       "</style>\n",
       "<table border=\"1\" class=\"dataframe\">\n",
       "  <thead>\n",
       "    <tr style=\"text-align: right;\">\n",
       "      <th></th>\n",
       "      <th>arterial_hypertension</th>\n",
       "      <th>stroke</th>\n",
       "      <th>IHD</th>\n",
       "      <th>heart_failure</th>\n",
       "      <th>other_cardio_diseases</th>\n",
       "    </tr>\n",
       "  </thead>\n",
       "  <tbody>\n",
       "    <tr>\n",
       "      <th>atheist</th>\n",
       "      <td>-0.045189</td>\n",
       "      <td>-0.030536</td>\n",
       "      <td>-0.017138</td>\n",
       "      <td>-0.032177</td>\n",
       "      <td>-0.035071</td>\n",
       "    </tr>\n",
       "    <tr>\n",
       "      <th>other</th>\n",
       "      <td>-0.006621</td>\n",
       "      <td>-0.018200</td>\n",
       "      <td>-0.032108</td>\n",
       "      <td>-0.028727</td>\n",
       "      <td>-0.027032</td>\n",
       "    </tr>\n",
       "    <tr>\n",
       "      <th>other</th>\n",
       "      <td>NaN</td>\n",
       "      <td>NaN</td>\n",
       "      <td>NaN</td>\n",
       "      <td>NaN</td>\n",
       "      <td>NaN</td>\n",
       "    </tr>\n",
       "    <tr>\n",
       "      <th>hinduist</th>\n",
       "      <td>NaN</td>\n",
       "      <td>NaN</td>\n",
       "      <td>NaN</td>\n",
       "      <td>NaN</td>\n",
       "      <td>NaN</td>\n",
       "    </tr>\n",
       "    <tr>\n",
       "      <th>muslim</th>\n",
       "      <td>-0.016203</td>\n",
       "      <td>-0.034006</td>\n",
       "      <td>0.001218</td>\n",
       "      <td>-0.009179</td>\n",
       "      <td>-0.050509</td>\n",
       "    </tr>\n",
       "    <tr>\n",
       "      <th>no</th>\n",
       "      <td>-0.011883</td>\n",
       "      <td>-0.019373</td>\n",
       "      <td>0.015392</td>\n",
       "      <td>0.015093</td>\n",
       "      <td>-0.012490</td>\n",
       "    </tr>\n",
       "    <tr>\n",
       "      <th>christian</th>\n",
       "      <td>0.049008</td>\n",
       "      <td>0.049311</td>\n",
       "      <td>0.004372</td>\n",
       "      <td>0.020798</td>\n",
       "      <td>0.056125</td>\n",
       "    </tr>\n",
       "  </tbody>\n",
       "</table>\n",
       "</div>"
      ],
      "text/plain": [
       "           arterial_hypertension    stroke       IHD  heart_failure  \\\n",
       "atheist                -0.045189 -0.030536 -0.017138      -0.032177   \n",
       "other                  -0.006621 -0.018200 -0.032108      -0.028727   \n",
       "other                        NaN       NaN       NaN            NaN   \n",
       "hinduist                     NaN       NaN       NaN            NaN   \n",
       "muslim                 -0.016203 -0.034006  0.001218      -0.009179   \n",
       "no                     -0.011883 -0.019373  0.015392       0.015093   \n",
       "christian               0.049008  0.049311  0.004372       0.020798   \n",
       "\n",
       "           other_cardio_diseases  \n",
       "atheist                -0.035071  \n",
       "other                  -0.027032  \n",
       "other                        NaN  \n",
       "hinduist                     NaN  \n",
       "muslim                 -0.050509  \n",
       "no                     -0.012490  \n",
       "christian               0.056125  "
      ]
     },
     "execution_count": 45,
     "metadata": {},
     "output_type": "execute_result"
    }
   ],
   "source": [
    "religion_cols = religion.columns\n",
    "check_corrs_with_target(df, col=religion_cols)"
   ]
  },
  {
   "cell_type": "code",
   "execution_count": 46,
   "id": "2e856154",
   "metadata": {},
   "outputs": [],
   "source": [
    "# Ввиду отсутствия значимых корреляций, решено оставить только колонку christian.\n",
    "df.drop(['atheist', 'hinduist', 'muslim', 'no', 'other'], axis=1, inplace=True)"
   ]
  },
  {
   "cell_type": "code",
   "execution_count": 47,
   "id": "150c567d",
   "metadata": {},
   "outputs": [],
   "source": [
    "df.drop('religion', axis=1, inplace=True)"
   ]
  },
  {
   "cell_type": "code",
   "execution_count": 48,
   "id": "56ac0acf",
   "metadata": {},
   "outputs": [
    {
     "name": "stdout",
     "output_type": "stream",
     "text": [
      "corrs_matrix_between:  christian\n"
     ]
    },
    {
     "data": {
      "text/plain": [
       "arterial_hypertension    0.049008\n",
       "stroke                   0.049311\n",
       "IHD                      0.004372\n",
       "heart_failure            0.020798\n",
       "other_cardio_diseases    0.056125\n",
       "Name: christian, dtype: float64"
      ]
     },
     "execution_count": 48,
     "metadata": {},
     "output_type": "execute_result"
    }
   ],
   "source": [
    "check_corrs_with_target(df, col='christian')"
   ]
  },
  {
   "cell_type": "markdown",
   "id": "a847c609",
   "metadata": {},
   "source": [
    "### Колонка education"
   ]
  },
  {
   "cell_type": "code",
   "execution_count": 49,
   "id": "53a22286",
   "metadata": {},
   "outputs": [
    {
     "data": {
      "text/plain": [
       "4 - профессиональное училище                         757\n",
       "5 - ВУЗ                                              547\n",
       "3 - средняя школа / закон.среднее / выше среднего    279\n",
       "2 - начальная школа                                   10\n",
       "Name: education, dtype: int64"
      ]
     },
     "execution_count": 49,
     "metadata": {},
     "output_type": "execute_result"
    }
   ],
   "source": [
    "df.education.value_counts(dropna=False)"
   ]
  },
  {
   "cell_type": "code",
   "execution_count": 50,
   "id": "72f9490b",
   "metadata": {},
   "outputs": [],
   "source": [
    "# Приведение к порядковому признаку начинающемуся с 1\n",
    "df.education = df.education.apply(lambda x: int(x[0])-1)"
   ]
  },
  {
   "cell_type": "code",
   "execution_count": 51,
   "id": "7bd5e81b",
   "metadata": {},
   "outputs": [
    {
     "name": "stdout",
     "output_type": "stream",
     "text": [
      "corrs_matrix_between:  education\n"
     ]
    },
    {
     "data": {
      "text/plain": [
       "arterial_hypertension   -0.106846\n",
       "stroke                  -0.064249\n",
       "IHD                     -0.050195\n",
       "heart_failure           -0.080554\n",
       "other_cardio_diseases    0.016931\n",
       "Name: education, dtype: float64"
      ]
     },
     "execution_count": 51,
     "metadata": {},
     "output_type": "execute_result"
    }
   ],
   "source": [
    "check_corrs_with_target(df, col='education')"
   ]
  },
  {
   "cell_type": "markdown",
   "id": "72e9495a",
   "metadata": {},
   "source": [
    "### Колонка profession"
   ]
  },
  {
   "cell_type": "code",
   "execution_count": 52,
   "id": "d512e460",
   "metadata": {},
   "outputs": [
    {
     "data": {
      "text/plain": [
       "дипломированные специалисты                                                            382\n",
       "низкоквалифицированные работники                                                       225\n",
       "работники,  занятые в сфере обслуживания, торговые работники магазинов и рынков        205\n",
       "ремесленники и представители других отраслей промышленности                            149\n",
       "служащие                                                                               142\n",
       "техники и младшие специалисты                                                          140\n",
       "ведение домашнего хозяйства                                                            133\n",
       "операторы и монтажники установок и машинного оборудования                              128\n",
       "представители   законодат.   органов   власти,  высокопостав. долж.лица и менеджеры     55\n",
       "квалифицированные работники сельского хозяйства и рыболовного                           25\n",
       "вооруженные силы                                                                         9\n",
       "Name: profession, dtype: int64"
      ]
     },
     "execution_count": 52,
     "metadata": {},
     "output_type": "execute_result"
    }
   ],
   "source": [
    "df.profession.value_counts(dropna=False)"
   ]
  },
  {
   "cell_type": "code",
   "execution_count": 53,
   "id": "e6588b54",
   "metadata": {},
   "outputs": [
    {
     "data": {
      "text/plain": [
       "Index(['ведение домашнего хозяйства', 'вооруженные силы',\n",
       "       'дипломированные специалисты',\n",
       "       'квалифицированные работники сельского хозяйства и рыболовного',\n",
       "       'низкоквалифицированные работники',\n",
       "       'операторы и монтажники установок и машинного оборудования',\n",
       "       'представители   законодат.   органов   власти,  высокопостав. долж.лица и менеджеры',\n",
       "       'работники,  занятые в сфере обслуживания, торговые работники магазинов и рынков',\n",
       "       'ремесленники и представители других отраслей промышленности',\n",
       "       'служащие', 'техники и младшие специалисты'],\n",
       "      dtype='object')"
      ]
     },
     "execution_count": 53,
     "metadata": {},
     "output_type": "execute_result"
    }
   ],
   "source": [
    "profession = pd.get_dummies(df.profession)\n",
    "profession.columns"
   ]
  },
  {
   "cell_type": "code",
   "execution_count": 54,
   "id": "4f7935c2",
   "metadata": {},
   "outputs": [],
   "source": [
    "profession_cols_map = {'ведение домашнего хозяйства': 'household',\n",
    "                       'вооруженные силы': 'military',\n",
    "                       'дипломированные специалисты': 'senior_specialist',\n",
    "                       'квалифицированные работники сельского хозяйства и рыболовного': 'farmer/fisherman',\n",
    "                       'низкоквалифицированные работники': 'low_qualified',\n",
    "                       'операторы и монтажники установок и машинного оборудования': 'hard_industry',\n",
    "                       'представители   законодат.   органов   власти,  высокопостав. долж.лица и менеджеры': 'top_management',\n",
    "                       'работники,  занятые в сфере обслуживания, торговые работники магазинов и рынков': 'service',\n",
    "                       'ремесленники и представители других отраслей промышленности': 'crafters_other',\n",
    "                       'служащие': 'office',\n",
    "                       'техники и младшие специалисты': 'junior_specialists'}\n",
    "\n",
    "profession.rename(profession_cols_map, axis=1, inplace=True)"
   ]
  },
  {
   "cell_type": "code",
   "execution_count": 55,
   "id": "184f0b24",
   "metadata": {},
   "outputs": [],
   "source": [
    "df = pd.concat([df, profession], axis=1)\n",
    "df.drop('profession', axis=1, inplace=True)"
   ]
  },
  {
   "cell_type": "code",
   "execution_count": 56,
   "id": "02c309d9",
   "metadata": {},
   "outputs": [
    {
     "name": "stdout",
     "output_type": "stream",
     "text": [
      "corrs_matrix_between:  Index(['household', 'military', 'senior_specialist', 'farmer/fisherman',\n",
      "       'low_qualified', 'hard_industry', 'top_management', 'service',\n",
      "       'crafters_other', 'office', 'junior_specialists'],\n",
      "      dtype='object')\n"
     ]
    },
    {
     "data": {
      "text/html": [
       "<div>\n",
       "<style scoped>\n",
       "    .dataframe tbody tr th:only-of-type {\n",
       "        vertical-align: middle;\n",
       "    }\n",
       "\n",
       "    .dataframe tbody tr th {\n",
       "        vertical-align: top;\n",
       "    }\n",
       "\n",
       "    .dataframe thead th {\n",
       "        text-align: right;\n",
       "    }\n",
       "</style>\n",
       "<table border=\"1\" class=\"dataframe\">\n",
       "  <thead>\n",
       "    <tr style=\"text-align: right;\">\n",
       "      <th></th>\n",
       "      <th>arterial_hypertension</th>\n",
       "      <th>stroke</th>\n",
       "      <th>IHD</th>\n",
       "      <th>heart_failure</th>\n",
       "      <th>other_cardio_diseases</th>\n",
       "    </tr>\n",
       "  </thead>\n",
       "  <tbody>\n",
       "    <tr>\n",
       "      <th>household</th>\n",
       "      <td>0.061559</td>\n",
       "      <td>0.009688</td>\n",
       "      <td>0.058190</td>\n",
       "      <td>0.098212</td>\n",
       "      <td>-0.016993</td>\n",
       "    </tr>\n",
       "    <tr>\n",
       "      <th>military</th>\n",
       "      <td>0.019338</td>\n",
       "      <td>-0.015365</td>\n",
       "      <td>-0.027108</td>\n",
       "      <td>-0.024253</td>\n",
       "      <td>0.027865</td>\n",
       "    </tr>\n",
       "    <tr>\n",
       "      <th>senior_specialist</th>\n",
       "      <td>-0.049845</td>\n",
       "      <td>-0.020203</td>\n",
       "      <td>-0.004255</td>\n",
       "      <td>-0.037893</td>\n",
       "      <td>0.049462</td>\n",
       "    </tr>\n",
       "    <tr>\n",
       "      <th>farmer/fisherman</th>\n",
       "      <td>0.064455</td>\n",
       "      <td>0.049622</td>\n",
       "      <td>0.070460</td>\n",
       "      <td>0.060338</td>\n",
       "      <td>0.012978</td>\n",
       "    </tr>\n",
       "    <tr>\n",
       "      <th>low_qualified</th>\n",
       "      <td>-0.008645</td>\n",
       "      <td>-0.028277</td>\n",
       "      <td>0.009930</td>\n",
       "      <td>-0.048256</td>\n",
       "      <td>-0.056464</td>\n",
       "    </tr>\n",
       "    <tr>\n",
       "      <th>hard_industry</th>\n",
       "      <td>-0.092412</td>\n",
       "      <td>0.017783</td>\n",
       "      <td>-0.022026</td>\n",
       "      <td>-0.016324</td>\n",
       "      <td>-0.089831</td>\n",
       "    </tr>\n",
       "    <tr>\n",
       "      <th>top_management</th>\n",
       "      <td>-0.015030</td>\n",
       "      <td>-0.041310</td>\n",
       "      <td>-0.055884</td>\n",
       "      <td>-0.046672</td>\n",
       "      <td>-0.041891</td>\n",
       "    </tr>\n",
       "    <tr>\n",
       "      <th>service</th>\n",
       "      <td>-0.009041</td>\n",
       "      <td>-0.019749</td>\n",
       "      <td>-0.057863</td>\n",
       "      <td>0.037795</td>\n",
       "      <td>0.031926</td>\n",
       "    </tr>\n",
       "    <tr>\n",
       "      <th>crafters_other</th>\n",
       "      <td>0.060903</td>\n",
       "      <td>0.109801</td>\n",
       "      <td>0.012044</td>\n",
       "      <td>-0.047276</td>\n",
       "      <td>0.012399</td>\n",
       "    </tr>\n",
       "    <tr>\n",
       "      <th>office</th>\n",
       "      <td>-0.021777</td>\n",
       "      <td>0.002407</td>\n",
       "      <td>-0.000286</td>\n",
       "      <td>0.023276</td>\n",
       "      <td>0.036250</td>\n",
       "    </tr>\n",
       "    <tr>\n",
       "      <th>junior_specialists</th>\n",
       "      <td>0.057870</td>\n",
       "      <td>-0.045395</td>\n",
       "      <td>0.025349</td>\n",
       "      <td>0.024613</td>\n",
       "      <td>0.023711</td>\n",
       "    </tr>\n",
       "  </tbody>\n",
       "</table>\n",
       "</div>"
      ],
      "text/plain": [
       "                    arterial_hypertension    stroke       IHD  heart_failure  \\\n",
       "household                        0.061559  0.009688  0.058190       0.098212   \n",
       "military                         0.019338 -0.015365 -0.027108      -0.024253   \n",
       "senior_specialist               -0.049845 -0.020203 -0.004255      -0.037893   \n",
       "farmer/fisherman                 0.064455  0.049622  0.070460       0.060338   \n",
       "low_qualified                   -0.008645 -0.028277  0.009930      -0.048256   \n",
       "hard_industry                   -0.092412  0.017783 -0.022026      -0.016324   \n",
       "top_management                  -0.015030 -0.041310 -0.055884      -0.046672   \n",
       "service                         -0.009041 -0.019749 -0.057863       0.037795   \n",
       "crafters_other                   0.060903  0.109801  0.012044      -0.047276   \n",
       "office                          -0.021777  0.002407 -0.000286       0.023276   \n",
       "junior_specialists               0.057870 -0.045395  0.025349       0.024613   \n",
       "\n",
       "                    other_cardio_diseases  \n",
       "household                       -0.016993  \n",
       "military                         0.027865  \n",
       "senior_specialist                0.049462  \n",
       "farmer/fisherman                 0.012978  \n",
       "low_qualified                   -0.056464  \n",
       "hard_industry                   -0.089831  \n",
       "top_management                  -0.041891  \n",
       "service                          0.031926  \n",
       "crafters_other                   0.012399  \n",
       "office                           0.036250  \n",
       "junior_specialists               0.023711  "
      ]
     },
     "execution_count": 56,
     "metadata": {},
     "output_type": "execute_result"
    }
   ],
   "source": [
    "profession_cols = profession.columns\n",
    "check_corrs_with_target(df, col=profession_cols)"
   ]
  },
  {
   "cell_type": "markdown",
   "id": "dd37daae",
   "metadata": {},
   "source": [
    "### Колонка job"
   ]
  },
  {
   "cell_type": "code",
   "execution_count": 57,
   "id": "cc643eba",
   "metadata": {},
   "outputs": [
    {
     "data": {
      "text/plain": [
       "1    865\n",
       "0    728\n",
       "Name: job, dtype: int64"
      ]
     },
     "execution_count": 57,
     "metadata": {},
     "output_type": "execute_result"
    }
   ],
   "source": [
    "df.job.value_counts(dropna=False)"
   ]
  },
  {
   "cell_type": "code",
   "execution_count": 58,
   "id": "ae7d3c8f",
   "metadata": {},
   "outputs": [
    {
     "name": "stdout",
     "output_type": "stream",
     "text": [
      "corrs_matrix_between:  job\n"
     ]
    },
    {
     "data": {
      "text/plain": [
       "arterial_hypertension   -0.224856\n",
       "stroke                  -0.077221\n",
       "IHD                     -0.206260\n",
       "heart_failure           -0.176134\n",
       "other_cardio_diseases   -0.058784\n",
       "Name: job, dtype: float64"
      ]
     },
     "execution_count": 58,
     "metadata": {},
     "output_type": "execute_result"
    }
   ],
   "source": [
    "check_corrs_with_target(df, col='job')"
   ]
  },
  {
   "cell_type": "markdown",
   "id": "f1f1e2ac",
   "metadata": {},
   "source": [
    "### Колонка retired"
   ]
  },
  {
   "cell_type": "code",
   "execution_count": 59,
   "id": "c23f1512",
   "metadata": {},
   "outputs": [
    {
     "data": {
      "text/plain": [
       "0    1089\n",
       "1     504\n",
       "Name: retired, dtype: int64"
      ]
     },
     "execution_count": 59,
     "metadata": {},
     "output_type": "execute_result"
    }
   ],
   "source": [
    "df.retired.value_counts(dropna=False)"
   ]
  },
  {
   "cell_type": "code",
   "execution_count": 60,
   "id": "2e5ab04e",
   "metadata": {},
   "outputs": [
    {
     "name": "stdout",
     "output_type": "stream",
     "text": [
      "corrs_matrix_between:  retired\n"
     ]
    },
    {
     "data": {
      "text/plain": [
       "arterial_hypertension    0.255916\n",
       "stroke                   0.057585\n",
       "IHD                      0.221894\n",
       "heart_failure            0.175824\n",
       "other_cardio_diseases    0.032419\n",
       "Name: retired, dtype: float64"
      ]
     },
     "execution_count": 60,
     "metadata": {},
     "output_type": "execute_result"
    }
   ],
   "source": [
    "check_corrs_with_target(df, col='retired')"
   ]
  },
  {
   "cell_type": "markdown",
   "id": "e7644d10",
   "metadata": {},
   "source": [
    "### Колонка stop_work_due_disease"
   ]
  },
  {
   "cell_type": "code",
   "execution_count": 61,
   "id": "bc3935d1",
   "metadata": {},
   "outputs": [
    {
     "data": {
      "text/plain": [
       "0    1509\n",
       "1      84\n",
       "Name: stop_work_due_disease, dtype: int64"
      ]
     },
     "execution_count": 61,
     "metadata": {},
     "output_type": "execute_result"
    }
   ],
   "source": [
    "df.stop_work_due_disease.value_counts(dropna=False)"
   ]
  },
  {
   "cell_type": "code",
   "execution_count": 62,
   "id": "a8b0a242",
   "metadata": {},
   "outputs": [
    {
     "name": "stdout",
     "output_type": "stream",
     "text": [
      "corrs_matrix_between:  stop_work_due_disease\n"
     ]
    },
    {
     "data": {
      "text/plain": [
       "arterial_hypertension    0.044279\n",
       "stroke                   0.097109\n",
       "IHD                      0.080011\n",
       "heart_failure            0.054904\n",
       "other_cardio_diseases    0.031735\n",
       "Name: stop_work_due_disease, dtype: float64"
      ]
     },
     "execution_count": 62,
     "metadata": {},
     "output_type": "execute_result"
    }
   ],
   "source": [
    "check_corrs_with_target(df, col='stop_work_due_disease')"
   ]
  },
  {
   "cell_type": "markdown",
   "id": "c0570bc9",
   "metadata": {},
   "source": [
    "### Колонка diabetes"
   ]
  },
  {
   "cell_type": "code",
   "execution_count": 63,
   "id": "b1f314cc",
   "metadata": {},
   "outputs": [
    {
     "data": {
      "text/plain": [
       "0    1441\n",
       "1     152\n",
       "Name: diabetes, dtype: int64"
      ]
     },
     "execution_count": 63,
     "metadata": {},
     "output_type": "execute_result"
    }
   ],
   "source": [
    "df.diabetes.value_counts(dropna=False)"
   ]
  },
  {
   "cell_type": "markdown",
   "id": "4a78fa32",
   "metadata": {},
   "source": [
    "### Колонка hepatitis"
   ]
  },
  {
   "cell_type": "code",
   "execution_count": 64,
   "id": "a0e7bae7",
   "metadata": {},
   "outputs": [
    {
     "data": {
      "text/plain": [
       "0    1410\n",
       "1     183\n",
       "Name: hepatitis, dtype: int64"
      ]
     },
     "execution_count": 64,
     "metadata": {},
     "output_type": "execute_result"
    }
   ],
   "source": [
    "df.hepatitis.value_counts(dropna=False)"
   ]
  },
  {
   "cell_type": "markdown",
   "id": "4dd6ba8b",
   "metadata": {},
   "source": [
    "### Колонка oncology"
   ]
  },
  {
   "cell_type": "code",
   "execution_count": 65,
   "id": "b06a8556",
   "metadata": {},
   "outputs": [
    {
     "data": {
      "text/plain": [
       "0    1521\n",
       "1      72\n",
       "Name: oncology, dtype: int64"
      ]
     },
     "execution_count": 65,
     "metadata": {},
     "output_type": "execute_result"
    }
   ],
   "source": [
    "df.oncology.value_counts(dropna=False)"
   ]
  },
  {
   "cell_type": "markdown",
   "id": "1effc9c4",
   "metadata": {},
   "source": [
    "### Колонка chronic_lung_disease"
   ]
  },
  {
   "cell_type": "code",
   "execution_count": 66,
   "id": "7e439944",
   "metadata": {},
   "outputs": [
    {
     "data": {
      "text/plain": [
       "0    1469\n",
       "1     124\n",
       "Name: chronic_lung_disease, dtype: int64"
      ]
     },
     "execution_count": 66,
     "metadata": {},
     "output_type": "execute_result"
    }
   ],
   "source": [
    "df.chronic_lung_disease.value_counts(dropna=False)"
   ]
  },
  {
   "cell_type": "markdown",
   "id": "2b783ba7",
   "metadata": {},
   "source": [
    "### Колонка bronchial_asthma"
   ]
  },
  {
   "cell_type": "code",
   "execution_count": 67,
   "id": "ff8e191c",
   "metadata": {},
   "outputs": [
    {
     "data": {
      "text/plain": [
       "0    1530\n",
       "1      63\n",
       "Name: bronchial_asthma, dtype: int64"
      ]
     },
     "execution_count": 67,
     "metadata": {},
     "output_type": "execute_result"
    }
   ],
   "source": [
    "df.bronchial_asthma.value_counts(dropna=False)"
   ]
  },
  {
   "cell_type": "markdown",
   "id": "3e708397",
   "metadata": {},
   "source": [
    "### Колонка tuberculosis"
   ]
  },
  {
   "cell_type": "code",
   "execution_count": 68,
   "id": "b55e7a1a",
   "metadata": {},
   "outputs": [
    {
     "data": {
      "text/plain": [
       "0    1565\n",
       "1      28\n",
       "Name: tuberculosis, dtype: int64"
      ]
     },
     "execution_count": 68,
     "metadata": {},
     "output_type": "execute_result"
    }
   ],
   "source": [
    "df.tuberculosis.value_counts(dropna=False)"
   ]
  },
  {
   "cell_type": "markdown",
   "id": "011f6db4",
   "metadata": {},
   "source": [
    "### Колонка hiv/aids"
   ]
  },
  {
   "cell_type": "code",
   "execution_count": 69,
   "id": "aa2bda9e",
   "metadata": {},
   "outputs": [
    {
     "data": {
      "text/plain": [
       "0    1591\n",
       "1       2\n",
       "Name: hiv/aids, dtype: int64"
      ]
     },
     "execution_count": 69,
     "metadata": {},
     "output_type": "execute_result"
    }
   ],
   "source": [
    "df['hiv/aids'].value_counts(dropna=False)"
   ]
  },
  {
   "cell_type": "code",
   "execution_count": 70,
   "id": "26c470fa",
   "metadata": {},
   "outputs": [],
   "source": [
    "# Колонки связанные с коморбидностью\n",
    "comorbid_cols = ['diabetes', 'hepatitis', 'oncology',\n",
    "                 'chronic_lung_disease', 'bronchial_asthma', 'hiv/aids']"
   ]
  },
  {
   "cell_type": "code",
   "execution_count": 71,
   "id": "a2af19b2",
   "metadata": {},
   "outputs": [
    {
     "name": "stdout",
     "output_type": "stream",
     "text": [
      "corrs_matrix_between:  ['diabetes', 'hepatitis', 'oncology', 'chronic_lung_disease', 'bronchial_asthma', 'hiv/aids']\n"
     ]
    },
    {
     "data": {
      "text/html": [
       "<div>\n",
       "<style scoped>\n",
       "    .dataframe tbody tr th:only-of-type {\n",
       "        vertical-align: middle;\n",
       "    }\n",
       "\n",
       "    .dataframe tbody tr th {\n",
       "        vertical-align: top;\n",
       "    }\n",
       "\n",
       "    .dataframe thead th {\n",
       "        text-align: right;\n",
       "    }\n",
       "</style>\n",
       "<table border=\"1\" class=\"dataframe\">\n",
       "  <thead>\n",
       "    <tr style=\"text-align: right;\">\n",
       "      <th></th>\n",
       "      <th>arterial_hypertension</th>\n",
       "      <th>stroke</th>\n",
       "      <th>IHD</th>\n",
       "      <th>heart_failure</th>\n",
       "      <th>other_cardio_diseases</th>\n",
       "    </tr>\n",
       "  </thead>\n",
       "  <tbody>\n",
       "    <tr>\n",
       "      <th>diabetes</th>\n",
       "      <td>0.230891</td>\n",
       "      <td>0.044747</td>\n",
       "      <td>0.141505</td>\n",
       "      <td>0.100181</td>\n",
       "      <td>0.034551</td>\n",
       "    </tr>\n",
       "    <tr>\n",
       "      <th>hepatitis</th>\n",
       "      <td>-0.030354</td>\n",
       "      <td>-0.014875</td>\n",
       "      <td>-0.020499</td>\n",
       "      <td>0.004706</td>\n",
       "      <td>-0.004002</td>\n",
       "    </tr>\n",
       "    <tr>\n",
       "      <th>oncology</th>\n",
       "      <td>0.090267</td>\n",
       "      <td>0.003835</td>\n",
       "      <td>0.042075</td>\n",
       "      <td>0.044964</td>\n",
       "      <td>0.055175</td>\n",
       "    </tr>\n",
       "    <tr>\n",
       "      <th>chronic_lung_disease</th>\n",
       "      <td>0.066575</td>\n",
       "      <td>-0.001782</td>\n",
       "      <td>0.002166</td>\n",
       "      <td>0.049622</td>\n",
       "      <td>0.062571</td>\n",
       "    </tr>\n",
       "    <tr>\n",
       "      <th>bronchial_asthma</th>\n",
       "      <td>0.091658</td>\n",
       "      <td>-0.044858</td>\n",
       "      <td>0.046903</td>\n",
       "      <td>0.100989</td>\n",
       "      <td>0.023601</td>\n",
       "    </tr>\n",
       "    <tr>\n",
       "      <th>hiv/aids</th>\n",
       "      <td>-0.042882</td>\n",
       "      <td>-0.009703</td>\n",
       "      <td>-0.017117</td>\n",
       "      <td>-0.015315</td>\n",
       "      <td>-0.014411</td>\n",
       "    </tr>\n",
       "  </tbody>\n",
       "</table>\n",
       "</div>"
      ],
      "text/plain": [
       "                      arterial_hypertension    stroke       IHD  \\\n",
       "diabetes                           0.230891  0.044747  0.141505   \n",
       "hepatitis                         -0.030354 -0.014875 -0.020499   \n",
       "oncology                           0.090267  0.003835  0.042075   \n",
       "chronic_lung_disease               0.066575 -0.001782  0.002166   \n",
       "bronchial_asthma                   0.091658 -0.044858  0.046903   \n",
       "hiv/aids                          -0.042882 -0.009703 -0.017117   \n",
       "\n",
       "                      heart_failure  other_cardio_diseases  \n",
       "diabetes                   0.100181               0.034551  \n",
       "hepatitis                  0.004706              -0.004002  \n",
       "oncology                   0.044964               0.055175  \n",
       "chronic_lung_disease       0.049622               0.062571  \n",
       "bronchial_asthma           0.100989               0.023601  \n",
       "hiv/aids                  -0.015315              -0.014411  "
      ]
     },
     "execution_count": 71,
     "metadata": {},
     "output_type": "execute_result"
    }
   ],
   "source": [
    "check_corrs_with_target(df, col=comorbid_cols)"
   ]
  },
  {
   "cell_type": "markdown",
   "id": "5c4820f6",
   "metadata": {},
   "source": [
    "# ADD FEATURE (comorbid_count & is_comorbid)"
   ]
  },
  {
   "cell_type": "code",
   "execution_count": 72,
   "id": "5a707657",
   "metadata": {},
   "outputs": [
    {
     "data": {
      "text/plain": [
       "diabetes                152\n",
       "hepatitis               183\n",
       "oncology                 72\n",
       "chronic_lung_disease    124\n",
       "bronchial_asthma         63\n",
       "hiv/aids                  2\n",
       "dtype: int64"
      ]
     },
     "execution_count": 72,
     "metadata": {},
     "output_type": "execute_result"
    }
   ],
   "source": [
    "# Количество опрошенных с определенными заболеваниями\n",
    "df[comorbid_cols].apply(lambda x: sum(x))"
   ]
  },
  {
   "cell_type": "code",
   "execution_count": 73,
   "id": "283c4709",
   "metadata": {},
   "outputs": [],
   "source": [
    "df['comorbid_count'] = df[comorbid_cols].sum(axis=1)\n",
    "df['is_comorbid'] = np.where(df['comorbid_count'] > 0, 1, 0)"
   ]
  },
  {
   "cell_type": "code",
   "execution_count": 74,
   "id": "88bc412a",
   "metadata": {},
   "outputs": [
    {
     "name": "stdout",
     "output_type": "stream",
     "text": [
      "corrs_matrix_between:  ['comorbid_count', 'is_comorbid']\n"
     ]
    },
    {
     "data": {
      "text/html": [
       "<div>\n",
       "<style scoped>\n",
       "    .dataframe tbody tr th:only-of-type {\n",
       "        vertical-align: middle;\n",
       "    }\n",
       "\n",
       "    .dataframe tbody tr th {\n",
       "        vertical-align: top;\n",
       "    }\n",
       "\n",
       "    .dataframe thead th {\n",
       "        text-align: right;\n",
       "    }\n",
       "</style>\n",
       "<table border=\"1\" class=\"dataframe\">\n",
       "  <thead>\n",
       "    <tr style=\"text-align: right;\">\n",
       "      <th></th>\n",
       "      <th>arterial_hypertension</th>\n",
       "      <th>stroke</th>\n",
       "      <th>IHD</th>\n",
       "      <th>heart_failure</th>\n",
       "      <th>other_cardio_diseases</th>\n",
       "    </tr>\n",
       "  </thead>\n",
       "  <tbody>\n",
       "    <tr>\n",
       "      <th>comorbid_count</th>\n",
       "      <td>0.179487</td>\n",
       "      <td>-0.000460</td>\n",
       "      <td>0.086354</td>\n",
       "      <td>0.117311</td>\n",
       "      <td>0.065174</td>\n",
       "    </tr>\n",
       "    <tr>\n",
       "      <th>is_comorbid</th>\n",
       "      <td>0.178101</td>\n",
       "      <td>0.022106</td>\n",
       "      <td>0.095233</td>\n",
       "      <td>0.116283</td>\n",
       "      <td>0.084209</td>\n",
       "    </tr>\n",
       "  </tbody>\n",
       "</table>\n",
       "</div>"
      ],
      "text/plain": [
       "                arterial_hypertension    stroke       IHD  heart_failure  \\\n",
       "comorbid_count               0.179487 -0.000460  0.086354       0.117311   \n",
       "is_comorbid                  0.178101  0.022106  0.095233       0.116283   \n",
       "\n",
       "                other_cardio_diseases  \n",
       "comorbid_count               0.065174  \n",
       "is_comorbid                  0.084209  "
      ]
     },
     "execution_count": 74,
     "metadata": {},
     "output_type": "execute_result"
    }
   ],
   "source": [
    "check_corrs_with_target(df, col=['comorbid_count', 'is_comorbid'])"
   ]
  },
  {
   "cell_type": "markdown",
   "id": "676f281a",
   "metadata": {},
   "source": [
    "### Колонка intake_medicines"
   ]
  },
  {
   "cell_type": "code",
   "execution_count": 75,
   "id": "2aab6979",
   "metadata": {},
   "outputs": [
    {
     "data": {
      "text/plain": [
       "1    995\n",
       "0    598\n",
       "Name: intake_medicines, dtype: int64"
      ]
     },
     "execution_count": 75,
     "metadata": {},
     "output_type": "execute_result"
    }
   ],
   "source": [
    "df.intake_medicines.value_counts(dropna=False)"
   ]
  },
  {
   "cell_type": "code",
   "execution_count": 76,
   "id": "54c3df49",
   "metadata": {},
   "outputs": [
    {
     "name": "stdout",
     "output_type": "stream",
     "text": [
      "corrs_matrix_between:  intake_medicines\n"
     ]
    },
    {
     "data": {
      "text/plain": [
       "arterial_hypertension    0.452289\n",
       "stroke                   0.114712\n",
       "IHD                      0.218472\n",
       "heart_failure            0.176454\n",
       "other_cardio_diseases    0.119922\n",
       "Name: intake_medicines, dtype: float64"
      ]
     },
     "execution_count": 76,
     "metadata": {},
     "output_type": "execute_result"
    }
   ],
   "source": [
    "check_corrs_with_target(df, col='intake_medicines')"
   ]
  },
  {
   "cell_type": "markdown",
   "id": "16390a36",
   "metadata": {},
   "source": [
    "### Колонка trauma_last_year"
   ]
  },
  {
   "cell_type": "code",
   "execution_count": 77,
   "id": "1921e555",
   "metadata": {},
   "outputs": [
    {
     "data": {
      "text/plain": [
       "0    1508\n",
       "1      85\n",
       "Name: trauma_last_year, dtype: int64"
      ]
     },
     "execution_count": 77,
     "metadata": {},
     "output_type": "execute_result"
    }
   ],
   "source": [
    "df.trauma_last_year.value_counts(dropna=False)"
   ]
  },
  {
   "cell_type": "code",
   "execution_count": 78,
   "id": "9b452282",
   "metadata": {},
   "outputs": [
    {
     "name": "stdout",
     "output_type": "stream",
     "text": [
      "corrs_matrix_between:  trauma_last_year\n"
     ]
    },
    {
     "data": {
      "text/plain": [
       "arterial_hypertension    0.011036\n",
       "stroke                  -0.004355\n",
       "IHD                     -0.017729\n",
       "heart_failure           -0.001962\n",
       "other_cardio_diseases    0.039166\n",
       "Name: trauma_last_year, dtype: float64"
      ]
     },
     "execution_count": 78,
     "metadata": {},
     "output_type": "execute_result"
    }
   ],
   "source": [
    "check_corrs_with_target(df, col='trauma_last_year')"
   ]
  },
  {
   "cell_type": "markdown",
   "id": "5ab8f99d",
   "metadata": {},
   "source": [
    "### Колонка fractures"
   ]
  },
  {
   "cell_type": "code",
   "execution_count": 79,
   "id": "580d4c65",
   "metadata": {},
   "outputs": [
    {
     "data": {
      "text/plain": [
       "0    1032\n",
       "1     561\n",
       "Name: fractures, dtype: int64"
      ]
     },
     "execution_count": 79,
     "metadata": {},
     "output_type": "execute_result"
    }
   ],
   "source": [
    "df.fractures.value_counts(dropna=False)"
   ]
  },
  {
   "cell_type": "code",
   "execution_count": 80,
   "id": "aa9e8333",
   "metadata": {},
   "outputs": [
    {
     "name": "stdout",
     "output_type": "stream",
     "text": [
      "corrs_matrix_between:  fractures\n"
     ]
    },
    {
     "data": {
      "text/plain": [
       "arterial_hypertension    0.097213\n",
       "stroke                   0.070100\n",
       "IHD                      0.077409\n",
       "heart_failure            0.058426\n",
       "other_cardio_diseases    0.034900\n",
       "Name: fractures, dtype: float64"
      ]
     },
     "execution_count": 80,
     "metadata": {},
     "output_type": "execute_result"
    }
   ],
   "source": [
    "check_corrs_with_target(df, col='fractures')"
   ]
  },
  {
   "cell_type": "markdown",
   "id": "0d1b3c45",
   "metadata": {},
   "source": [
    "# ADD FEATURES (fracture_last_year, trauma_on_retire, fracture_on_retire)"
   ]
  },
  {
   "cell_type": "code",
   "execution_count": 81,
   "id": "ebed1c37",
   "metadata": {},
   "outputs": [],
   "source": [
    "# Признак о переломе кости за последний год (предположительно)\n",
    "df['fracture_last_year'] = df['trauma_last_year'] * df['fractures']\n",
    "# Признак о наличии травмы за последний год будучи в пенсионном возрасте\n",
    "df['trauma_on_retire'] = df['trauma_last_year'] * df['retired']\n",
    "# Признак о переломе кости за последний год (предположительном) будучи на пенсии\n",
    "df['fracture_on_retire'] = df['fracture_last_year'] * df['retired']"
   ]
  },
  {
   "cell_type": "code",
   "execution_count": 82,
   "id": "285cf16b",
   "metadata": {},
   "outputs": [
    {
     "name": "stdout",
     "output_type": "stream",
     "text": [
      "corrs_matrix_between:  ['fracture_last_year', 'trauma_on_retire', 'fracture_on_retire']\n"
     ]
    },
    {
     "data": {
      "text/html": [
       "<div>\n",
       "<style scoped>\n",
       "    .dataframe tbody tr th:only-of-type {\n",
       "        vertical-align: middle;\n",
       "    }\n",
       "\n",
       "    .dataframe tbody tr th {\n",
       "        vertical-align: top;\n",
       "    }\n",
       "\n",
       "    .dataframe thead th {\n",
       "        text-align: right;\n",
       "    }\n",
       "</style>\n",
       "<table border=\"1\" class=\"dataframe\">\n",
       "  <thead>\n",
       "    <tr style=\"text-align: right;\">\n",
       "      <th></th>\n",
       "      <th>arterial_hypertension</th>\n",
       "      <th>stroke</th>\n",
       "      <th>IHD</th>\n",
       "      <th>heart_failure</th>\n",
       "      <th>other_cardio_diseases</th>\n",
       "    </tr>\n",
       "  </thead>\n",
       "  <tbody>\n",
       "    <tr>\n",
       "      <th>fracture_last_year</th>\n",
       "      <td>-0.003860</td>\n",
       "      <td>0.013674</td>\n",
       "      <td>-0.004894</td>\n",
       "      <td>-0.009606</td>\n",
       "      <td>0.016512</td>\n",
       "    </tr>\n",
       "    <tr>\n",
       "      <th>trauma_on_retire</th>\n",
       "      <td>0.032709</td>\n",
       "      <td>0.010554</td>\n",
       "      <td>0.046307</td>\n",
       "      <td>0.034002</td>\n",
       "      <td>0.040642</td>\n",
       "    </tr>\n",
       "    <tr>\n",
       "      <th>fracture_on_retire</th>\n",
       "      <td>0.006801</td>\n",
       "      <td>0.028961</td>\n",
       "      <td>0.055685</td>\n",
       "      <td>0.034031</td>\n",
       "      <td>0.039511</td>\n",
       "    </tr>\n",
       "  </tbody>\n",
       "</table>\n",
       "</div>"
      ],
      "text/plain": [
       "                    arterial_hypertension    stroke       IHD  heart_failure  \\\n",
       "fracture_last_year              -0.003860  0.013674 -0.004894      -0.009606   \n",
       "trauma_on_retire                 0.032709  0.010554  0.046307       0.034002   \n",
       "fracture_on_retire               0.006801  0.028961  0.055685       0.034031   \n",
       "\n",
       "                    other_cardio_diseases  \n",
       "fracture_last_year               0.016512  \n",
       "trauma_on_retire                 0.040642  \n",
       "fracture_on_retire               0.039511  "
      ]
     },
     "execution_count": 82,
     "metadata": {},
     "output_type": "execute_result"
    }
   ],
   "source": [
    "trauma_features = ['fracture_last_year',\n",
    "                   'trauma_on_retire', 'fracture_on_retire']\n",
    "check_corrs_with_target(df, col=trauma_features)"
   ]
  },
  {
   "cell_type": "markdown",
   "id": "fefa02b2",
   "metadata": {},
   "source": [
    "Примечание: генерирование вышеуказанных признаков связано с повышенными рисками развития заболеваний (не только сердечно-сосудистой системы) при переломе шейки бедра в пенсионном возрасте."
   ]
  },
  {
   "cell_type": "markdown",
   "id": "0a85b072",
   "metadata": {},
   "source": [
    "### Колонка smoking"
   ]
  },
  {
   "cell_type": "code",
   "execution_count": 83,
   "id": "7c8196a4",
   "metadata": {},
   "outputs": [
    {
     "data": {
      "text/plain": [
       "Никогда не курил(а)    911\n",
       "Курит                  360\n",
       "Бросил(а)              321\n",
       "Никогда не курил         1\n",
       "Name: smoking, dtype: int64"
      ]
     },
     "execution_count": 83,
     "metadata": {},
     "output_type": "execute_result"
    }
   ],
   "source": [
    "df.smoking.value_counts(dropna=False)"
   ]
  },
  {
   "cell_type": "code",
   "execution_count": 84,
   "id": "a5be801f",
   "metadata": {},
   "outputs": [],
   "source": [
    "# Исправление ошибки\n",
    "df.smoking.replace('Никогда не курил', 'Никогда не курил(а)', inplace=True)"
   ]
  },
  {
   "cell_type": "code",
   "execution_count": 85,
   "id": "c8f1804b",
   "metadata": {},
   "outputs": [
    {
     "name": "stdout",
     "output_type": "stream",
     "text": [
      "before replace:  ['Бросил(а)', 'Курит', 'Никогда не курил(а)']\n",
      "after replace:  ['previous_smoke', 'smoke', 'never_smoke']\n"
     ]
    }
   ],
   "source": [
    "smoking = pd.get_dummies(df.smoking)\n",
    "print('before replace: ', list(smoking.columns))\n",
    "\n",
    "smoking_cols_map = {'Бросил(а)': 'previous_smoke',\n",
    "                    'Курит': 'smoke', 'Никогда не курил(а)': 'never_smoke'}\n",
    "\n",
    "smoking.rename(smoking_cols_map, axis=1, inplace=True)\n",
    "\n",
    "print('after replace: ', list(smoking.columns))"
   ]
  },
  {
   "cell_type": "code",
   "execution_count": 86,
   "id": "446f0b96",
   "metadata": {},
   "outputs": [],
   "source": [
    "df = df.drop('smoking', axis=True)\n",
    "df = pd.concat([df, smoking], axis=1)"
   ]
  },
  {
   "cell_type": "markdown",
   "id": "7e16607a",
   "metadata": {},
   "source": [
    "# ADD FEATURE smoker_score"
   ]
  },
  {
   "cell_type": "code",
   "execution_count": 87,
   "id": "38beb8aa",
   "metadata": {},
   "outputs": [],
   "source": [
    "df['smoker_score'] = df['never_smoke']*0 + \\\n",
    "    df['previous_smoke'] + df['smoke'] * 2"
   ]
  },
  {
   "cell_type": "code",
   "execution_count": 88,
   "id": "e91daaa9",
   "metadata": {},
   "outputs": [],
   "source": [
    "smoking_cols = ['previous_smoke', 'never_smoke', 'smoke', 'smoker_score']"
   ]
  },
  {
   "cell_type": "code",
   "execution_count": 89,
   "id": "aec0f126",
   "metadata": {},
   "outputs": [
    {
     "name": "stdout",
     "output_type": "stream",
     "text": [
      "corrs_matrix_between:  ['previous_smoke', 'never_smoke', 'smoke', 'smoker_score']\n"
     ]
    },
    {
     "data": {
      "text/html": [
       "<div>\n",
       "<style scoped>\n",
       "    .dataframe tbody tr th:only-of-type {\n",
       "        vertical-align: middle;\n",
       "    }\n",
       "\n",
       "    .dataframe tbody tr th {\n",
       "        vertical-align: top;\n",
       "    }\n",
       "\n",
       "    .dataframe thead th {\n",
       "        text-align: right;\n",
       "    }\n",
       "</style>\n",
       "<table border=\"1\" class=\"dataframe\">\n",
       "  <thead>\n",
       "    <tr style=\"text-align: right;\">\n",
       "      <th></th>\n",
       "      <th>arterial_hypertension</th>\n",
       "      <th>stroke</th>\n",
       "      <th>IHD</th>\n",
       "      <th>heart_failure</th>\n",
       "      <th>other_cardio_diseases</th>\n",
       "    </tr>\n",
       "  </thead>\n",
       "  <tbody>\n",
       "    <tr>\n",
       "      <th>previous_smoke</th>\n",
       "      <td>0.014692</td>\n",
       "      <td>-0.054241</td>\n",
       "      <td>0.020759</td>\n",
       "      <td>-0.045270</td>\n",
       "      <td>-0.001829</td>\n",
       "    </tr>\n",
       "    <tr>\n",
       "      <th>never_smoke</th>\n",
       "      <td>0.069542</td>\n",
       "      <td>-0.003255</td>\n",
       "      <td>0.015962</td>\n",
       "      <td>0.094327</td>\n",
       "      <td>0.008136</td>\n",
       "    </tr>\n",
       "    <tr>\n",
       "      <th>smoke</th>\n",
       "      <td>-0.095603</td>\n",
       "      <td>0.055267</td>\n",
       "      <td>-0.038434</td>\n",
       "      <td>-0.067838</td>\n",
       "      <td>-0.007820</td>\n",
       "    </tr>\n",
       "    <tr>\n",
       "      <th>smoker_score</th>\n",
       "      <td>-0.090244</td>\n",
       "      <td>0.030081</td>\n",
       "      <td>-0.029108</td>\n",
       "      <td>-0.090927</td>\n",
       "      <td>-0.008845</td>\n",
       "    </tr>\n",
       "  </tbody>\n",
       "</table>\n",
       "</div>"
      ],
      "text/plain": [
       "                arterial_hypertension    stroke       IHD  heart_failure  \\\n",
       "previous_smoke               0.014692 -0.054241  0.020759      -0.045270   \n",
       "never_smoke                  0.069542 -0.003255  0.015962       0.094327   \n",
       "smoke                       -0.095603  0.055267 -0.038434      -0.067838   \n",
       "smoker_score                -0.090244  0.030081 -0.029108      -0.090927   \n",
       "\n",
       "                other_cardio_diseases  \n",
       "previous_smoke              -0.001829  \n",
       "never_smoke                  0.008136  \n",
       "smoke                       -0.007820  \n",
       "smoker_score                -0.008845  "
      ]
     },
     "execution_count": 89,
     "metadata": {},
     "output_type": "execute_result"
    }
   ],
   "source": [
    "check_corrs_with_target(df, col=smoking_cols)"
   ]
  },
  {
   "cell_type": "markdown",
   "id": "5f94996b",
   "metadata": {},
   "source": [
    "### Колонка smoking_duration"
   ]
  },
  {
   "cell_type": "code",
   "execution_count": 90,
   "id": "b4ed9f4e",
   "metadata": {},
   "outputs": [
    {
     "data": {
      "text/plain": [
       "NaN     912\n",
       "20.0    111\n",
       "18.0     94\n",
       "16.0     72\n",
       "17.0     66\n",
       "15.0     51\n",
       "19.0     33\n",
       "25.0     31\n",
       "30.0     23\n",
       "14.0     18\n",
       "12.0     15\n",
       "21.0     15\n",
       "22.0     14\n",
       "7.0      13\n",
       "24.0     11\n",
       "40.0     11\n",
       "23.0     10\n",
       "13.0      9\n",
       "10.0      9\n",
       "35.0      9\n",
       "6.0       5\n",
       "27.0      5\n",
       "45.0      5\n",
       "26.0      5\n",
       "8.0       4\n",
       "28.0      4\n",
       "29.0      4\n",
       "33.0      3\n",
       "36.0      3\n",
       "41.0      3\n",
       "50.0      3\n",
       "31.0      2\n",
       "39.0      2\n",
       "47.0      2\n",
       "52.0      1\n",
       "44.0      1\n",
       "38.0      1\n",
       "32.0      1\n",
       "56.0      1\n",
       "42.0      1\n",
       "55.0      1\n",
       "58.0      1\n",
       "11.0      1\n",
       "51.0      1\n",
       "34.0      1\n",
       "37.0      1\n",
       "53.0      1\n",
       "5.0       1\n",
       "54.0      1\n",
       "43.0      1\n",
       "Name: smoking_duration, dtype: int64"
      ]
     },
     "execution_count": 90,
     "metadata": {},
     "output_type": "execute_result"
    }
   ],
   "source": [
    "df.smoking_duration.value_counts(dropna=False)"
   ]
  },
  {
   "cell_type": "code",
   "execution_count": 91,
   "id": "df50afa6",
   "metadata": {},
   "outputs": [],
   "source": [
    "df['smoking_duration_score'] = df['smoking_duration'] // 5"
   ]
  },
  {
   "cell_type": "code",
   "execution_count": 92,
   "id": "3e9b5b02",
   "metadata": {},
   "outputs": [
    {
     "data": {
      "text/plain": [
       "NaN     912\n",
       "3.0     316\n",
       "4.0     161\n",
       "2.0      52\n",
       "5.0      49\n",
       "6.0      30\n",
       "1.0      23\n",
       "8.0      17\n",
       "7.0      16\n",
       "10.0      7\n",
       "9.0       7\n",
       "11.0      3\n",
       "Name: smoking_duration_score, dtype: int64"
      ]
     },
     "execution_count": 92,
     "metadata": {},
     "output_type": "execute_result"
    }
   ],
   "source": [
    "df['smoking_duration_score'].value_counts(dropna=False)"
   ]
  },
  {
   "cell_type": "code",
   "execution_count": 93,
   "id": "56e9633d",
   "metadata": {},
   "outputs": [],
   "source": [
    "df['smoking_duration'].fillna(0, inplace=True)"
   ]
  },
  {
   "cell_type": "code",
   "execution_count": 94,
   "id": "b376550d",
   "metadata": {},
   "outputs": [],
   "source": [
    "df['smoking_duration_score'].fillna(0, inplace=True)"
   ]
  },
  {
   "cell_type": "code",
   "execution_count": 95,
   "id": "8a330159",
   "metadata": {},
   "outputs": [],
   "source": [
    "df['smoking_duration_score'] = np.where(\n",
    "    df['smoking_duration_score'] > 9, 9, df['smoking_duration_score'])"
   ]
  },
  {
   "cell_type": "code",
   "execution_count": 96,
   "id": "f6d43397",
   "metadata": {},
   "outputs": [
    {
     "name": "stdout",
     "output_type": "stream",
     "text": [
      "corrs_matrix_between:  ['smoking_duration', 'smoking_duration_score']\n"
     ]
    },
    {
     "data": {
      "text/html": [
       "<div>\n",
       "<style scoped>\n",
       "    .dataframe tbody tr th:only-of-type {\n",
       "        vertical-align: middle;\n",
       "    }\n",
       "\n",
       "    .dataframe tbody tr th {\n",
       "        vertical-align: top;\n",
       "    }\n",
       "\n",
       "    .dataframe thead th {\n",
       "        text-align: right;\n",
       "    }\n",
       "</style>\n",
       "<table border=\"1\" class=\"dataframe\">\n",
       "  <thead>\n",
       "    <tr style=\"text-align: right;\">\n",
       "      <th></th>\n",
       "      <th>arterial_hypertension</th>\n",
       "      <th>stroke</th>\n",
       "      <th>IHD</th>\n",
       "      <th>heart_failure</th>\n",
       "      <th>other_cardio_diseases</th>\n",
       "    </tr>\n",
       "  </thead>\n",
       "  <tbody>\n",
       "    <tr>\n",
       "      <th>smoking_duration</th>\n",
       "      <td>-0.036623</td>\n",
       "      <td>0.003147</td>\n",
       "      <td>-0.016511</td>\n",
       "      <td>-0.064340</td>\n",
       "      <td>0.020556</td>\n",
       "    </tr>\n",
       "    <tr>\n",
       "      <th>smoking_duration_score</th>\n",
       "      <td>-0.033445</td>\n",
       "      <td>0.000033</td>\n",
       "      <td>-0.017016</td>\n",
       "      <td>-0.059927</td>\n",
       "      <td>0.021710</td>\n",
       "    </tr>\n",
       "  </tbody>\n",
       "</table>\n",
       "</div>"
      ],
      "text/plain": [
       "                        arterial_hypertension    stroke       IHD  \\\n",
       "smoking_duration                    -0.036623  0.003147 -0.016511   \n",
       "smoking_duration_score              -0.033445  0.000033 -0.017016   \n",
       "\n",
       "                        heart_failure  other_cardio_diseases  \n",
       "smoking_duration            -0.064340               0.020556  \n",
       "smoking_duration_score      -0.059927               0.021710  "
      ]
     },
     "execution_count": 96,
     "metadata": {},
     "output_type": "execute_result"
    }
   ],
   "source": [
    "check_corrs_with_target(df, col=['smoking_duration', 'smoking_duration_score'])"
   ]
  },
  {
   "cell_type": "markdown",
   "id": "29cf8613",
   "metadata": {},
   "source": [
    "### Колонка ciggaretes_per_day"
   ]
  },
  {
   "cell_type": "code",
   "execution_count": 97,
   "id": "e1953964",
   "metadata": {},
   "outputs": [],
   "source": [
    "df['ciggaretes_per_day_log'] = np.log(df.ciggaretes_per_day + 1)"
   ]
  },
  {
   "cell_type": "code",
   "execution_count": 98,
   "id": "91684233",
   "metadata": {},
   "outputs": [],
   "source": [
    "df['ciggaretes_per_day_score'] = (df.ciggaretes_per_day // 10) + 1"
   ]
  },
  {
   "cell_type": "code",
   "execution_count": 99,
   "id": "aa8ecf2b",
   "metadata": {},
   "outputs": [],
   "source": [
    "df.ciggaretes_per_day_score = np.where(\n",
    "    df.ciggaretes_per_day_score > 5, 5, df.ciggaretes_per_day_score)"
   ]
  },
  {
   "cell_type": "code",
   "execution_count": 100,
   "id": "a45f5301",
   "metadata": {},
   "outputs": [],
   "source": [
    "ciggaretes_features = ['ciggaretes_per_day', 'ciggaretes_per_day_score',\n",
    "                       'ciggaretes_per_day_log']"
   ]
  },
  {
   "cell_type": "code",
   "execution_count": 101,
   "id": "47e725bc",
   "metadata": {},
   "outputs": [],
   "source": [
    "df['ciggaretes_per_day_score'].fillna(0, inplace=True)"
   ]
  },
  {
   "cell_type": "code",
   "execution_count": 102,
   "id": "ccc4d51b",
   "metadata": {},
   "outputs": [],
   "source": [
    "for col in ciggaretes_features:\n",
    "    df[col].fillna(0, inplace=True)"
   ]
  },
  {
   "cell_type": "code",
   "execution_count": 103,
   "id": "88303101",
   "metadata": {},
   "outputs": [
    {
     "name": "stdout",
     "output_type": "stream",
     "text": [
      "corrs_matrix_between:  ['ciggaretes_per_day', 'ciggaretes_per_day_score', 'ciggaretes_per_day_log']\n"
     ]
    },
    {
     "data": {
      "text/html": [
       "<div>\n",
       "<style scoped>\n",
       "    .dataframe tbody tr th:only-of-type {\n",
       "        vertical-align: middle;\n",
       "    }\n",
       "\n",
       "    .dataframe tbody tr th {\n",
       "        vertical-align: top;\n",
       "    }\n",
       "\n",
       "    .dataframe thead th {\n",
       "        text-align: right;\n",
       "    }\n",
       "</style>\n",
       "<table border=\"1\" class=\"dataframe\">\n",
       "  <thead>\n",
       "    <tr style=\"text-align: right;\">\n",
       "      <th></th>\n",
       "      <th>arterial_hypertension</th>\n",
       "      <th>stroke</th>\n",
       "      <th>IHD</th>\n",
       "      <th>heart_failure</th>\n",
       "      <th>other_cardio_diseases</th>\n",
       "    </tr>\n",
       "  </thead>\n",
       "  <tbody>\n",
       "    <tr>\n",
       "      <th>ciggaretes_per_day</th>\n",
       "      <td>-0.029327</td>\n",
       "      <td>0.007107</td>\n",
       "      <td>0.015671</td>\n",
       "      <td>-0.069713</td>\n",
       "      <td>-0.041501</td>\n",
       "    </tr>\n",
       "    <tr>\n",
       "      <th>ciggaretes_per_day_score</th>\n",
       "      <td>-0.045596</td>\n",
       "      <td>0.011395</td>\n",
       "      <td>0.013145</td>\n",
       "      <td>-0.078645</td>\n",
       "      <td>-0.042002</td>\n",
       "    </tr>\n",
       "    <tr>\n",
       "      <th>ciggaretes_per_day_log</th>\n",
       "      <td>-0.057114</td>\n",
       "      <td>0.010710</td>\n",
       "      <td>0.003519</td>\n",
       "      <td>-0.088335</td>\n",
       "      <td>-0.026594</td>\n",
       "    </tr>\n",
       "  </tbody>\n",
       "</table>\n",
       "</div>"
      ],
      "text/plain": [
       "                          arterial_hypertension    stroke       IHD  \\\n",
       "ciggaretes_per_day                    -0.029327  0.007107  0.015671   \n",
       "ciggaretes_per_day_score              -0.045596  0.011395  0.013145   \n",
       "ciggaretes_per_day_log                -0.057114  0.010710  0.003519   \n",
       "\n",
       "                          heart_failure  other_cardio_diseases  \n",
       "ciggaretes_per_day            -0.069713              -0.041501  \n",
       "ciggaretes_per_day_score      -0.078645              -0.042002  \n",
       "ciggaretes_per_day_log        -0.088335              -0.026594  "
      ]
     },
     "execution_count": 103,
     "metadata": {},
     "output_type": "execute_result"
    }
   ],
   "source": [
    "check_corrs_with_target(df, col=ciggaretes_features)"
   ]
  },
  {
   "cell_type": "markdown",
   "id": "a9d5f051",
   "metadata": {},
   "source": [
    "# ADD FEATURE variants of smoking_score_int"
   ]
  },
  {
   "cell_type": "code",
   "execution_count": 104,
   "id": "86c2d232",
   "metadata": {},
   "outputs": [],
   "source": [
    "df['smoking_score_int_log'] = (\n",
    "    df['smoker_score'] * df['smoking_duration_score']) ** df['ciggaretes_per_day_log']\n",
    "\n",
    "df['smoking_score_int_score'] = (\n",
    "    df['smoker_score'] * df['smoking_duration_score']) ** df['ciggaretes_per_day_score']\n",
    "\n",
    "df['smoking_score_int_score_2'] = (\n",
    "    df['smoker_score'] * df['ciggaretes_per_day_score']) * df['smoking_duration_score']\n",
    "\n",
    "df['smoking_score_int_score_3'] = (\n",
    "    df['smoker_score'] * (df['ciggaretes_per_day_score'] ** df['smoking_duration_score']))\n",
    "\n",
    "df['smoking_score_int_score_log'] = df['smoker_score'] ** df['ciggaretes_per_day_log']"
   ]
  },
  {
   "cell_type": "code",
   "execution_count": 105,
   "id": "53364aed",
   "metadata": {},
   "outputs": [],
   "source": [
    "smoke_features = ['smoker_score',\n",
    "                  'ciggaretes_per_day_log', 'smoking_score_int_score',\n",
    "                  'smoking_score_int_log', 'smoking_score_int_score_log',\n",
    "                  'smoking_score_int_score_2', 'smoking_score_int_score_3']"
   ]
  },
  {
   "cell_type": "code",
   "execution_count": 106,
   "id": "d4330b84",
   "metadata": {},
   "outputs": [
    {
     "name": "stdout",
     "output_type": "stream",
     "text": [
      "corrs_matrix_between:  ['smoker_score', 'ciggaretes_per_day_log', 'smoking_score_int_score', 'smoking_score_int_log', 'smoking_score_int_score_log', 'smoking_score_int_score_2', 'smoking_score_int_score_3']\n"
     ]
    },
    {
     "data": {
      "text/html": [
       "<div>\n",
       "<style scoped>\n",
       "    .dataframe tbody tr th:only-of-type {\n",
       "        vertical-align: middle;\n",
       "    }\n",
       "\n",
       "    .dataframe tbody tr th {\n",
       "        vertical-align: top;\n",
       "    }\n",
       "\n",
       "    .dataframe thead th {\n",
       "        text-align: right;\n",
       "    }\n",
       "</style>\n",
       "<table border=\"1\" class=\"dataframe\">\n",
       "  <thead>\n",
       "    <tr style=\"text-align: right;\">\n",
       "      <th></th>\n",
       "      <th>arterial_hypertension</th>\n",
       "      <th>stroke</th>\n",
       "      <th>IHD</th>\n",
       "      <th>heart_failure</th>\n",
       "      <th>other_cardio_diseases</th>\n",
       "    </tr>\n",
       "  </thead>\n",
       "  <tbody>\n",
       "    <tr>\n",
       "      <th>smoker_score</th>\n",
       "      <td>-0.090244</td>\n",
       "      <td>0.030081</td>\n",
       "      <td>-0.029108</td>\n",
       "      <td>-0.090927</td>\n",
       "      <td>-0.008845</td>\n",
       "    </tr>\n",
       "    <tr>\n",
       "      <th>ciggaretes_per_day_log</th>\n",
       "      <td>-0.057114</td>\n",
       "      <td>0.010710</td>\n",
       "      <td>0.003519</td>\n",
       "      <td>-0.088335</td>\n",
       "      <td>-0.026594</td>\n",
       "    </tr>\n",
       "    <tr>\n",
       "      <th>smoking_score_int_score</th>\n",
       "      <td>0.043129</td>\n",
       "      <td>-0.010952</td>\n",
       "      <td>0.056822</td>\n",
       "      <td>-0.024884</td>\n",
       "      <td>-0.022940</td>\n",
       "    </tr>\n",
       "    <tr>\n",
       "      <th>smoking_score_int_log</th>\n",
       "      <td>0.011216</td>\n",
       "      <td>0.006253</td>\n",
       "      <td>-0.000963</td>\n",
       "      <td>-0.038120</td>\n",
       "      <td>-0.022421</td>\n",
       "    </tr>\n",
       "    <tr>\n",
       "      <th>smoking_score_int_score_log</th>\n",
       "      <td>-0.057367</td>\n",
       "      <td>0.037104</td>\n",
       "      <td>-0.029631</td>\n",
       "      <td>-0.078990</td>\n",
       "      <td>-0.040684</td>\n",
       "    </tr>\n",
       "    <tr>\n",
       "      <th>smoking_score_int_score_2</th>\n",
       "      <td>-0.044030</td>\n",
       "      <td>0.019476</td>\n",
       "      <td>-0.007960</td>\n",
       "      <td>-0.071419</td>\n",
       "      <td>-0.031180</td>\n",
       "    </tr>\n",
       "    <tr>\n",
       "      <th>smoking_score_int_score_3</th>\n",
       "      <td>0.034131</td>\n",
       "      <td>-0.006945</td>\n",
       "      <td>0.086329</td>\n",
       "      <td>-0.011101</td>\n",
       "      <td>-0.010440</td>\n",
       "    </tr>\n",
       "  </tbody>\n",
       "</table>\n",
       "</div>"
      ],
      "text/plain": [
       "                             arterial_hypertension    stroke       IHD  \\\n",
       "smoker_score                             -0.090244  0.030081 -0.029108   \n",
       "ciggaretes_per_day_log                   -0.057114  0.010710  0.003519   \n",
       "smoking_score_int_score                   0.043129 -0.010952  0.056822   \n",
       "smoking_score_int_log                     0.011216  0.006253 -0.000963   \n",
       "smoking_score_int_score_log              -0.057367  0.037104 -0.029631   \n",
       "smoking_score_int_score_2                -0.044030  0.019476 -0.007960   \n",
       "smoking_score_int_score_3                 0.034131 -0.006945  0.086329   \n",
       "\n",
       "                             heart_failure  other_cardio_diseases  \n",
       "smoker_score                     -0.090927              -0.008845  \n",
       "ciggaretes_per_day_log           -0.088335              -0.026594  \n",
       "smoking_score_int_score          -0.024884              -0.022940  \n",
       "smoking_score_int_log            -0.038120              -0.022421  \n",
       "smoking_score_int_score_log      -0.078990              -0.040684  \n",
       "smoking_score_int_score_2        -0.071419              -0.031180  \n",
       "smoking_score_int_score_3        -0.011101              -0.010440  "
      ]
     },
     "execution_count": 106,
     "metadata": {},
     "output_type": "execute_result"
    }
   ],
   "source": [
    "check_corrs_with_target(df, col=smoke_features)"
   ]
  },
  {
   "cell_type": "code",
   "execution_count": 107,
   "id": "d89047dc",
   "metadata": {},
   "outputs": [
    {
     "data": {
      "text/plain": [
       "smoker_score                   0\n",
       "ciggaretes_per_day_log         0\n",
       "smoking_score_int_score        0\n",
       "smoking_score_int_log          0\n",
       "smoking_score_int_score_log    0\n",
       "smoking_score_int_score_2      0\n",
       "smoking_score_int_score_3      0\n",
       "dtype: int64"
      ]
     },
     "execution_count": 107,
     "metadata": {},
     "output_type": "execute_result"
    }
   ],
   "source": [
    "# Проверка на наличие пропущенных значений\n",
    "df[smoke_features].isna().sum()"
   ]
  },
  {
   "cell_type": "markdown",
   "id": "aa8ee9e4",
   "metadata": {},
   "source": [
    "### Колонка passive_smoking"
   ]
  },
  {
   "cell_type": "code",
   "execution_count": 108,
   "id": "de0be74a",
   "metadata": {},
   "outputs": [
    {
     "data": {
      "text/plain": [
       "0    1215\n",
       "1     378\n",
       "Name: passive_smoking, dtype: int64"
      ]
     },
     "execution_count": 108,
     "metadata": {},
     "output_type": "execute_result"
    }
   ],
   "source": [
    "df.passive_smoking.value_counts(dropna=False)"
   ]
  },
  {
   "cell_type": "code",
   "execution_count": 109,
   "id": "c2b10018",
   "metadata": {},
   "outputs": [
    {
     "name": "stdout",
     "output_type": "stream",
     "text": [
      "corrs_matrix_between:  passive_smoking\n"
     ]
    },
    {
     "data": {
      "text/plain": [
       "arterial_hypertension    0.011831\n",
       "stroke                  -0.044094\n",
       "IHD                      0.034347\n",
       "heart_failure            0.028622\n",
       "other_cardio_diseases   -0.001483\n",
       "Name: passive_smoking, dtype: float64"
      ]
     },
     "execution_count": 109,
     "metadata": {},
     "output_type": "execute_result"
    }
   ],
   "source": [
    "check_corrs_with_target(df, col='passive_smoking')"
   ]
  },
  {
   "cell_type": "markdown",
   "id": "be0f2f49",
   "metadata": {},
   "source": [
    "### Колонка passive_smoking_frequency"
   ]
  },
  {
   "cell_type": "code",
   "execution_count": 110,
   "id": "519caed5",
   "metadata": {},
   "outputs": [
    {
     "data": {
      "text/plain": [
       "NaN                       1216\n",
       "1-2 раза в неделю          158\n",
       "4 и более раз в день        75\n",
       "2-3 раза в день             59\n",
       "не менее 1 раза в день      47\n",
       "3-6 раз в неделю            38\n",
       "Name: passive_smoking_frequency, dtype: int64"
      ]
     },
     "execution_count": 110,
     "metadata": {},
     "output_type": "execute_result"
    }
   ],
   "source": [
    "df.passive_smoking_frequency.value_counts(dropna=False)"
   ]
  },
  {
   "cell_type": "code",
   "execution_count": 111,
   "id": "692634cb",
   "metadata": {},
   "outputs": [],
   "source": [
    "df.passive_smoking_frequency.fillna(0, inplace=True)"
   ]
  },
  {
   "cell_type": "code",
   "execution_count": 112,
   "id": "e6489095",
   "metadata": {},
   "outputs": [],
   "source": [
    "# Словарь для замены текста на порядок:\n",
    "passive_smoking_dict = {'1-2 раза в неделю': 1,\n",
    "                        '3-6 раз в неделю': 2,\n",
    "                        'не менее 1 раза в день': 3,\n",
    "                        '2-3 раза в день': 4,\n",
    "                        '4 и более раз в день': 5}"
   ]
  },
  {
   "cell_type": "code",
   "execution_count": 113,
   "id": "8e60f43d",
   "metadata": {},
   "outputs": [],
   "source": [
    "df.passive_smoking_frequency.replace(passive_smoking_dict, inplace=True)"
   ]
  },
  {
   "cell_type": "code",
   "execution_count": 114,
   "id": "6830db44",
   "metadata": {},
   "outputs": [
    {
     "name": "stdout",
     "output_type": "stream",
     "text": [
      "corrs_matrix_between:  passive_smoking_frequency\n"
     ]
    },
    {
     "data": {
      "text/plain": [
       "arterial_hypertension    0.003508\n",
       "stroke                  -0.046057\n",
       "IHD                      0.038805\n",
       "heart_failure            0.052193\n",
       "other_cardio_diseases    0.017315\n",
       "Name: passive_smoking_frequency, dtype: float64"
      ]
     },
     "execution_count": 114,
     "metadata": {},
     "output_type": "execute_result"
    }
   ],
   "source": [
    "check_corrs_with_target(df, col='passive_smoking_frequency')"
   ]
  },
  {
   "cell_type": "markdown",
   "id": "8af810c1",
   "metadata": {},
   "source": [
    "### Колонка alcohol"
   ]
  },
  {
   "cell_type": "code",
   "execution_count": 115,
   "id": "8551ab21",
   "metadata": {},
   "outputs": [
    {
     "data": {
      "text/plain": [
       "употребляю в настоящее время    1046\n",
       "никогда не употреблял            300\n",
       "ранее употреблял                 247\n",
       "Name: alcohol, dtype: int64"
      ]
     },
     "execution_count": 115,
     "metadata": {},
     "output_type": "execute_result"
    }
   ],
   "source": [
    "df.alcohol.value_counts(dropna=False)"
   ]
  },
  {
   "cell_type": "code",
   "execution_count": 116,
   "id": "c6722a41",
   "metadata": {},
   "outputs": [
    {
     "name": "stdout",
     "output_type": "stream",
     "text": [
      "Before replace:  ['никогда не употреблял', 'ранее употреблял', 'употребляю в настоящее время']\n",
      "After replace:  ['never_drink_alco', 'previous_drink_alco', 'drink_alco_now']\n"
     ]
    }
   ],
   "source": [
    "alcohol = pd.get_dummies(df.alcohol)\n",
    "print('Before replace: ', list(alcohol.columns))\n",
    "\n",
    "alcohol_col_map = {'никогда не употреблял': 'never_drink_alco',\n",
    "                   'ранее употреблял': 'previous_drink_alco',\n",
    "                   'употребляю в настоящее время': 'drink_alco_now'}\n",
    "\n",
    "alcohol.rename(alcohol_col_map, axis=1, inplace=True)\n",
    "print('After replace: ', list(alcohol.columns))"
   ]
  },
  {
   "cell_type": "code",
   "execution_count": 117,
   "id": "a37ac600",
   "metadata": {},
   "outputs": [],
   "source": [
    "df = pd.concat([df, alcohol], axis=1)\n",
    "df.drop('alcohol', axis=1, inplace=True)"
   ]
  },
  {
   "cell_type": "code",
   "execution_count": 118,
   "id": "e6adca2d",
   "metadata": {},
   "outputs": [
    {
     "name": "stdout",
     "output_type": "stream",
     "text": [
      "corrs_matrix_between:  Index(['never_drink_alco', 'previous_drink_alco', 'drink_alco_now'], dtype='object')\n"
     ]
    },
    {
     "data": {
      "text/html": [
       "<div>\n",
       "<style scoped>\n",
       "    .dataframe tbody tr th:only-of-type {\n",
       "        vertical-align: middle;\n",
       "    }\n",
       "\n",
       "    .dataframe tbody tr th {\n",
       "        vertical-align: top;\n",
       "    }\n",
       "\n",
       "    .dataframe thead th {\n",
       "        text-align: right;\n",
       "    }\n",
       "</style>\n",
       "<table border=\"1\" class=\"dataframe\">\n",
       "  <thead>\n",
       "    <tr style=\"text-align: right;\">\n",
       "      <th></th>\n",
       "      <th>arterial_hypertension</th>\n",
       "      <th>stroke</th>\n",
       "      <th>IHD</th>\n",
       "      <th>heart_failure</th>\n",
       "      <th>other_cardio_diseases</th>\n",
       "    </tr>\n",
       "  </thead>\n",
       "  <tbody>\n",
       "    <tr>\n",
       "      <th>never_drink_alco</th>\n",
       "      <td>0.049645</td>\n",
       "      <td>-0.042137</td>\n",
       "      <td>0.015082</td>\n",
       "      <td>0.059077</td>\n",
       "      <td>0.049747</td>\n",
       "    </tr>\n",
       "    <tr>\n",
       "      <th>previous_drink_alco</th>\n",
       "      <td>0.063277</td>\n",
       "      <td>0.060122</td>\n",
       "      <td>0.094059</td>\n",
       "      <td>0.097195</td>\n",
       "      <td>0.019313</td>\n",
       "    </tr>\n",
       "    <tr>\n",
       "      <th>drink_alco_now</th>\n",
       "      <td>-0.089252</td>\n",
       "      <td>-0.013329</td>\n",
       "      <td>-0.085680</td>\n",
       "      <td>-0.123345</td>\n",
       "      <td>-0.054927</td>\n",
       "    </tr>\n",
       "  </tbody>\n",
       "</table>\n",
       "</div>"
      ],
      "text/plain": [
       "                     arterial_hypertension    stroke       IHD  heart_failure  \\\n",
       "never_drink_alco                  0.049645 -0.042137  0.015082       0.059077   \n",
       "previous_drink_alco               0.063277  0.060122  0.094059       0.097195   \n",
       "drink_alco_now                   -0.089252 -0.013329 -0.085680      -0.123345   \n",
       "\n",
       "                     other_cardio_diseases  \n",
       "never_drink_alco                  0.049747  \n",
       "previous_drink_alco               0.019313  \n",
       "drink_alco_now                   -0.054927  "
      ]
     },
     "execution_count": 118,
     "metadata": {},
     "output_type": "execute_result"
    }
   ],
   "source": [
    "alcohol_col = alcohol.columns\n",
    "check_corrs_with_target(df, col=alcohol_col)"
   ]
  },
  {
   "cell_type": "code",
   "execution_count": 119,
   "id": "4093f89d",
   "metadata": {},
   "outputs": [],
   "source": [
    "df['alcohol_score'] = df['never_drink_alco']*0 + \\\n",
    "    df['previous_drink_alco'] + df['drink_alco_now']*2"
   ]
  },
  {
   "cell_type": "code",
   "execution_count": 120,
   "id": "34acb7ca",
   "metadata": {},
   "outputs": [
    {
     "name": "stdout",
     "output_type": "stream",
     "text": [
      "corrs_matrix_between:  alcohol_score\n"
     ]
    },
    {
     "data": {
      "text/plain": [
       "arterial_hypertension   -0.078958\n",
       "stroke                   0.012484\n",
       "IHD                     -0.059839\n",
       "heart_failure           -0.104449\n",
       "other_cardio_diseases   -0.057996\n",
       "Name: alcohol_score, dtype: float64"
      ]
     },
     "execution_count": 120,
     "metadata": {},
     "output_type": "execute_result"
    }
   ],
   "source": [
    "check_corrs_with_target(df, col='alcohol_score')"
   ]
  },
  {
   "cell_type": "markdown",
   "id": "aa6905e5",
   "metadata": {},
   "source": [
    "### Колонка alcohol_duration"
   ]
  },
  {
   "cell_type": "code",
   "execution_count": 121,
   "id": "3d1796fc",
   "metadata": {},
   "outputs": [
    {
     "data": {
      "text/plain": [
       "NaN     304\n",
       "20.0    299\n",
       "18.0    278\n",
       "17.0    131\n",
       "16.0    111\n",
       "25.0     88\n",
       "19.0     66\n",
       "21.0     57\n",
       "15.0     50\n",
       "22.0     42\n",
       "30.0     28\n",
       "23.0     25\n",
       "14.0     18\n",
       "35.0     15\n",
       "24.0     13\n",
       "26.0      8\n",
       "40.0      8\n",
       "12.0      5\n",
       "45.0      5\n",
       "29.0      5\n",
       "33.0      4\n",
       "27.0      4\n",
       "37.0      4\n",
       "13.0      4\n",
       "10.0      3\n",
       "50.0      3\n",
       "32.0      3\n",
       "6.0       2\n",
       "28.0      2\n",
       "46.0      1\n",
       "36.0      1\n",
       "9.0       1\n",
       "48.0      1\n",
       "63.0      1\n",
       "43.0      1\n",
       "44.0      1\n",
       "60.0      1\n",
       "Name: alcohol_duration, dtype: int64"
      ]
     },
     "execution_count": 121,
     "metadata": {},
     "output_type": "execute_result"
    }
   ],
   "source": [
    "df.alcohol_duration.value_counts(dropna=False)"
   ]
  },
  {
   "cell_type": "code",
   "execution_count": 122,
   "id": "97c62248",
   "metadata": {},
   "outputs": [],
   "source": [
    "df['alcohol_duration_score'] = df['alcohol_duration'] // 5"
   ]
  },
  {
   "cell_type": "code",
   "execution_count": 123,
   "id": "6cda32bc",
   "metadata": {
    "scrolled": true
   },
   "outputs": [],
   "source": [
    "df['alcohol_duration_log'] = np.log(df['alcohol_duration'] + 1)"
   ]
  },
  {
   "cell_type": "code",
   "execution_count": 124,
   "id": "901076a0",
   "metadata": {},
   "outputs": [],
   "source": [
    "df['alcohol_duration_score'] = np.where(\n",
    "    df.alcohol_duration_score > 9, 9, df.alcohol_duration_score)"
   ]
  },
  {
   "cell_type": "code",
   "execution_count": 125,
   "id": "a9923fd2",
   "metadata": {},
   "outputs": [],
   "source": [
    "df.alcohol_duration.fillna(0, inplace=True)\n",
    "df.alcohol_duration_score.fillna(0, inplace=True)\n",
    "df.alcohol_duration_log.fillna(0, inplace=True)"
   ]
  },
  {
   "cell_type": "code",
   "execution_count": 126,
   "id": "729cd8d9",
   "metadata": {},
   "outputs": [],
   "source": [
    "df['alcohol_int_score_1'] = df['alcohol_score'] ** df['alcohol_duration_score']\n",
    "\n",
    "df['alcohol_int_score_2'] = (\n",
    "    df['alcohol_score'] * df['alcohol_duration_score'])\n",
    "\n",
    "df['alcohol_int_score_3'] = df['alcohol_duration_log'] ** df['alcohol_score']"
   ]
  },
  {
   "cell_type": "code",
   "execution_count": 127,
   "id": "9f8c726e",
   "metadata": {},
   "outputs": [],
   "source": [
    "alco_features = ['alcohol_duration', 'alcohol_duration_score', 'alcohol_duration_log',\n",
    "                 'alcohol_int_score_1', 'alcohol_int_score_2', 'alcohol_int_score_3']"
   ]
  },
  {
   "cell_type": "code",
   "execution_count": 128,
   "id": "9e63d962",
   "metadata": {},
   "outputs": [
    {
     "name": "stdout",
     "output_type": "stream",
     "text": [
      "corrs_matrix_between:  ['alcohol_duration', 'alcohol_duration_score', 'alcohol_duration_log', 'alcohol_int_score_1', 'alcohol_int_score_2', 'alcohol_int_score_3']\n"
     ]
    },
    {
     "data": {
      "text/html": [
       "<div>\n",
       "<style scoped>\n",
       "    .dataframe tbody tr th:only-of-type {\n",
       "        vertical-align: middle;\n",
       "    }\n",
       "\n",
       "    .dataframe tbody tr th {\n",
       "        vertical-align: top;\n",
       "    }\n",
       "\n",
       "    .dataframe thead th {\n",
       "        text-align: right;\n",
       "    }\n",
       "</style>\n",
       "<table border=\"1\" class=\"dataframe\">\n",
       "  <thead>\n",
       "    <tr style=\"text-align: right;\">\n",
       "      <th></th>\n",
       "      <th>arterial_hypertension</th>\n",
       "      <th>stroke</th>\n",
       "      <th>IHD</th>\n",
       "      <th>heart_failure</th>\n",
       "      <th>other_cardio_diseases</th>\n",
       "    </tr>\n",
       "  </thead>\n",
       "  <tbody>\n",
       "    <tr>\n",
       "      <th>alcohol_duration</th>\n",
       "      <td>0.006058</td>\n",
       "      <td>0.045679</td>\n",
       "      <td>0.005183</td>\n",
       "      <td>-0.013339</td>\n",
       "      <td>-0.033091</td>\n",
       "    </tr>\n",
       "    <tr>\n",
       "      <th>alcohol_duration_score</th>\n",
       "      <td>0.018031</td>\n",
       "      <td>0.047084</td>\n",
       "      <td>0.008138</td>\n",
       "      <td>-0.004915</td>\n",
       "      <td>-0.035852</td>\n",
       "    </tr>\n",
       "    <tr>\n",
       "      <th>alcohol_duration_log</th>\n",
       "      <td>-0.033025</td>\n",
       "      <td>0.046026</td>\n",
       "      <td>-0.007616</td>\n",
       "      <td>-0.043556</td>\n",
       "      <td>-0.045852</td>\n",
       "    </tr>\n",
       "    <tr>\n",
       "      <th>alcohol_int_score_1</th>\n",
       "      <td>0.019045</td>\n",
       "      <td>0.011645</td>\n",
       "      <td>-0.015414</td>\n",
       "      <td>-0.012578</td>\n",
       "      <td>-0.015989</td>\n",
       "    </tr>\n",
       "    <tr>\n",
       "      <th>alcohol_int_score_2</th>\n",
       "      <td>-0.017408</td>\n",
       "      <td>0.032432</td>\n",
       "      <td>-0.036184</td>\n",
       "      <td>-0.051155</td>\n",
       "      <td>-0.039593</td>\n",
       "    </tr>\n",
       "    <tr>\n",
       "      <th>alcohol_int_score_3</th>\n",
       "      <td>-0.062109</td>\n",
       "      <td>0.013989</td>\n",
       "      <td>-0.064165</td>\n",
       "      <td>-0.091707</td>\n",
       "      <td>-0.044619</td>\n",
       "    </tr>\n",
       "  </tbody>\n",
       "</table>\n",
       "</div>"
      ],
      "text/plain": [
       "                        arterial_hypertension    stroke       IHD  \\\n",
       "alcohol_duration                     0.006058  0.045679  0.005183   \n",
       "alcohol_duration_score               0.018031  0.047084  0.008138   \n",
       "alcohol_duration_log                -0.033025  0.046026 -0.007616   \n",
       "alcohol_int_score_1                  0.019045  0.011645 -0.015414   \n",
       "alcohol_int_score_2                 -0.017408  0.032432 -0.036184   \n",
       "alcohol_int_score_3                 -0.062109  0.013989 -0.064165   \n",
       "\n",
       "                        heart_failure  other_cardio_diseases  \n",
       "alcohol_duration            -0.013339              -0.033091  \n",
       "alcohol_duration_score      -0.004915              -0.035852  \n",
       "alcohol_duration_log        -0.043556              -0.045852  \n",
       "alcohol_int_score_1         -0.012578              -0.015989  \n",
       "alcohol_int_score_2         -0.051155              -0.039593  \n",
       "alcohol_int_score_3         -0.091707              -0.044619  "
      ]
     },
     "execution_count": 128,
     "metadata": {},
     "output_type": "execute_result"
    }
   ],
   "source": [
    "check_corrs_with_target(df, col=alco_features)"
   ]
  },
  {
   "cell_type": "markdown",
   "id": "93666e21",
   "metadata": {},
   "source": [
    "### Колонка time_sleep_onset"
   ]
  },
  {
   "cell_type": "code",
   "execution_count": 129,
   "id": "f4fbe4ad",
   "metadata": {},
   "outputs": [],
   "source": [
    "df.time_sleep_onset = df.time_sleep_onset.apply(\n",
    "    lambda x: dt.strptime(x, '%H:%M:%S'))"
   ]
  },
  {
   "cell_type": "markdown",
   "id": "e97e3ea8",
   "metadata": {},
   "source": [
    "### ADD FEATURES about sleep onset\n",
    "\n",
    "Примечание: время засыпания связано с развитием сердечно-сосудистых заболеваний о чем есть ряд научных публикаций, одна из них представлена ниже\n",
    "\n",
    "Статья о влиянии времени засыпания на развитие сердечно-сосудистых заболеваний:\n",
    "- https://doi.org/10.1093/ehjdh/ztab088"
   ]
  },
  {
   "cell_type": "code",
   "execution_count": 130,
   "id": "c6d5d087",
   "metadata": {},
   "outputs": [],
   "source": [
    "df['sleep_onset_early_22'] = np.where(\n",
    "    df.time_sleep_onset.dt.time.between(time(20, 0), time(21, 59)), 1, 0)\n",
    "df['sleep_onset_22'] = np.where(\n",
    "    df.time_sleep_onset.dt.time.between(time(22, 0), time(22, 59)), 1, 0)\n",
    "df['sleep_onset_23'] = np.where(\n",
    "    df.time_sleep_onset.dt.time.between(time(23, 0), time(23, 59)), 1, 0)\n",
    "df['sleep_onset_later_after_0'] = np.where(\n",
    "    df.time_sleep_onset.dt.time.between(time(0, 0), time(4, 0)), 1, 0)\n",
    "\n",
    "# additional:\n",
    "df['early_onset'] = df['sleep_onset_early_22'] + df['sleep_onset_22']\n",
    "df['lately_onset'] = df['sleep_onset_23'] + df['sleep_onset_later_after_0']"
   ]
  },
  {
   "cell_type": "code",
   "execution_count": 131,
   "id": "49c3f932",
   "metadata": {},
   "outputs": [],
   "source": [
    "sleep_onset_cols = ['sleep_onset_early_22', 'sleep_onset_22',\n",
    "                    'sleep_onset_23', 'sleep_onset_later_after_0', 'early_onset', 'lately_onset']"
   ]
  },
  {
   "cell_type": "code",
   "execution_count": 132,
   "id": "4ccc5d69",
   "metadata": {},
   "outputs": [
    {
     "name": "stdout",
     "output_type": "stream",
     "text": [
      "corrs_matrix_between:  ['sleep_onset_early_22', 'sleep_onset_22', 'sleep_onset_23', 'sleep_onset_later_after_0', 'early_onset', 'lately_onset']\n"
     ]
    },
    {
     "data": {
      "text/html": [
       "<div>\n",
       "<style scoped>\n",
       "    .dataframe tbody tr th:only-of-type {\n",
       "        vertical-align: middle;\n",
       "    }\n",
       "\n",
       "    .dataframe tbody tr th {\n",
       "        vertical-align: top;\n",
       "    }\n",
       "\n",
       "    .dataframe thead th {\n",
       "        text-align: right;\n",
       "    }\n",
       "</style>\n",
       "<table border=\"1\" class=\"dataframe\">\n",
       "  <thead>\n",
       "    <tr style=\"text-align: right;\">\n",
       "      <th></th>\n",
       "      <th>arterial_hypertension</th>\n",
       "      <th>stroke</th>\n",
       "      <th>IHD</th>\n",
       "      <th>heart_failure</th>\n",
       "      <th>other_cardio_diseases</th>\n",
       "    </tr>\n",
       "  </thead>\n",
       "  <tbody>\n",
       "    <tr>\n",
       "      <th>sleep_onset_early_22</th>\n",
       "      <td>0.038944</td>\n",
       "      <td>0.038912</td>\n",
       "      <td>0.007070</td>\n",
       "      <td>0.010225</td>\n",
       "      <td>0.019608</td>\n",
       "    </tr>\n",
       "    <tr>\n",
       "      <th>sleep_onset_22</th>\n",
       "      <td>0.027138</td>\n",
       "      <td>0.064104</td>\n",
       "      <td>0.012710</td>\n",
       "      <td>-0.023735</td>\n",
       "      <td>0.012066</td>\n",
       "    </tr>\n",
       "    <tr>\n",
       "      <th>sleep_onset_23</th>\n",
       "      <td>-0.013236</td>\n",
       "      <td>-0.048355</td>\n",
       "      <td>0.004281</td>\n",
       "      <td>-0.002796</td>\n",
       "      <td>-0.034675</td>\n",
       "    </tr>\n",
       "    <tr>\n",
       "      <th>sleep_onset_later_after_0</th>\n",
       "      <td>-0.031067</td>\n",
       "      <td>-0.024444</td>\n",
       "      <td>-0.017935</td>\n",
       "      <td>0.019204</td>\n",
       "      <td>0.016151</td>\n",
       "    </tr>\n",
       "    <tr>\n",
       "      <th>early_onset</th>\n",
       "      <td>0.045152</td>\n",
       "      <td>0.079354</td>\n",
       "      <td>0.015401</td>\n",
       "      <td>-0.016712</td>\n",
       "      <td>0.021255</td>\n",
       "    </tr>\n",
       "    <tr>\n",
       "      <th>lately_onset</th>\n",
       "      <td>-0.047608</td>\n",
       "      <td>-0.078761</td>\n",
       "      <td>-0.014505</td>\n",
       "      <td>0.017477</td>\n",
       "      <td>-0.020490</td>\n",
       "    </tr>\n",
       "  </tbody>\n",
       "</table>\n",
       "</div>"
      ],
      "text/plain": [
       "                           arterial_hypertension    stroke       IHD  \\\n",
       "sleep_onset_early_22                    0.038944  0.038912  0.007070   \n",
       "sleep_onset_22                          0.027138  0.064104  0.012710   \n",
       "sleep_onset_23                         -0.013236 -0.048355  0.004281   \n",
       "sleep_onset_later_after_0              -0.031067 -0.024444 -0.017935   \n",
       "early_onset                             0.045152  0.079354  0.015401   \n",
       "lately_onset                           -0.047608 -0.078761 -0.014505   \n",
       "\n",
       "                           heart_failure  other_cardio_diseases  \n",
       "sleep_onset_early_22            0.010225               0.019608  \n",
       "sleep_onset_22                 -0.023735               0.012066  \n",
       "sleep_onset_23                 -0.002796              -0.034675  \n",
       "sleep_onset_later_after_0       0.019204               0.016151  \n",
       "early_onset                    -0.016712               0.021255  \n",
       "lately_onset                    0.017477              -0.020490  "
      ]
     },
     "execution_count": 132,
     "metadata": {},
     "output_type": "execute_result"
    }
   ],
   "source": [
    "check_corrs_with_target(df, col=sleep_onset_cols)"
   ]
  },
  {
   "cell_type": "markdown",
   "id": "4a47c738",
   "metadata": {},
   "source": [
    "### Колонка time_sleep_upset"
   ]
  },
  {
   "cell_type": "code",
   "execution_count": 133,
   "id": "af36cd66",
   "metadata": {},
   "outputs": [],
   "source": [
    "df.time_sleep_upset = df.time_sleep_upset.apply(\n",
    "    lambda x: dt.strptime(x, '%H:%M:%S'))"
   ]
  },
  {
   "cell_type": "code",
   "execution_count": 134,
   "id": "d561790b",
   "metadata": {},
   "outputs": [],
   "source": [
    "df['sleep_upset_early_6'] = np.where(\n",
    "    df.time_sleep_upset.dt.time.between(time(4, 0), time(5, 59)), 1, 0)\n",
    "df['sleep_upset_6'] = np.where(\n",
    "    df.time_sleep_upset.dt.time.between(time(6, 0), time(6, 59)), 1, 0)\n",
    "df['sleep_upset_7'] = np.where(\n",
    "    df.time_sleep_upset.dt.time.between(time(7, 0), time(7, 59)), 1, 0)\n",
    "df['sleep_upset_8'] = np.where(\n",
    "    df.time_sleep_upset.dt.time.between(time(8, 0), time(8, 59)), 1, 0)\n",
    "df['sleep_upset_after_9'] = np.where(\n",
    "    df.time_sleep_upset.dt.time.between(time(9, 0), time(11, 59)), 1, 0)\n",
    "\n",
    "# additional:\n",
    "# Ранний подъем:\n",
    "df['early_upset'] = df['sleep_upset_6'] + df['sleep_upset_7']\n",
    "\n",
    "# Поздний подъем:\n",
    "df['lately_upset'] = df['sleep_upset_8'] + df['sleep_upset_after_9']"
   ]
  },
  {
   "cell_type": "code",
   "execution_count": 135,
   "id": "e35886d7",
   "metadata": {},
   "outputs": [],
   "source": [
    "upset_features = ['sleep_upset_early_6', 'sleep_upset_6', 'sleep_upset_7',\n",
    "                  'sleep_upset_8', 'sleep_upset_after_9', 'early_upset', 'lately_upset']"
   ]
  },
  {
   "cell_type": "code",
   "execution_count": 136,
   "id": "918bb9bb",
   "metadata": {},
   "outputs": [
    {
     "data": {
      "text/plain": [
       "0    1398\n",
       "1     195\n",
       "Name: sleep_upset_early_6, dtype: int64"
      ]
     },
     "execution_count": 136,
     "metadata": {},
     "output_type": "execute_result"
    }
   ],
   "source": [
    "df.sleep_upset_early_6.value_counts()"
   ]
  },
  {
   "cell_type": "code",
   "execution_count": 137,
   "id": "705e26cb",
   "metadata": {},
   "outputs": [
    {
     "name": "stdout",
     "output_type": "stream",
     "text": [
      "corrs_matrix_between:  ['sleep_upset_early_6', 'sleep_upset_6', 'sleep_upset_7', 'sleep_upset_8', 'sleep_upset_after_9', 'early_upset', 'lately_upset']\n"
     ]
    },
    {
     "data": {
      "text/html": [
       "<div>\n",
       "<style scoped>\n",
       "    .dataframe tbody tr th:only-of-type {\n",
       "        vertical-align: middle;\n",
       "    }\n",
       "\n",
       "    .dataframe tbody tr th {\n",
       "        vertical-align: top;\n",
       "    }\n",
       "\n",
       "    .dataframe thead th {\n",
       "        text-align: right;\n",
       "    }\n",
       "</style>\n",
       "<table border=\"1\" class=\"dataframe\">\n",
       "  <thead>\n",
       "    <tr style=\"text-align: right;\">\n",
       "      <th></th>\n",
       "      <th>arterial_hypertension</th>\n",
       "      <th>stroke</th>\n",
       "      <th>IHD</th>\n",
       "      <th>heart_failure</th>\n",
       "      <th>other_cardio_diseases</th>\n",
       "    </tr>\n",
       "  </thead>\n",
       "  <tbody>\n",
       "    <tr>\n",
       "      <th>sleep_upset_early_6</th>\n",
       "      <td>0.059959</td>\n",
       "      <td>-0.029609</td>\n",
       "      <td>-0.008345</td>\n",
       "      <td>0.039253</td>\n",
       "      <td>0.031984</td>\n",
       "    </tr>\n",
       "    <tr>\n",
       "      <th>sleep_upset_6</th>\n",
       "      <td>-0.035852</td>\n",
       "      <td>0.004285</td>\n",
       "      <td>0.007890</td>\n",
       "      <td>-0.013799</td>\n",
       "      <td>-0.012014</td>\n",
       "    </tr>\n",
       "    <tr>\n",
       "      <th>sleep_upset_7</th>\n",
       "      <td>-0.036765</td>\n",
       "      <td>0.031326</td>\n",
       "      <td>-0.008729</td>\n",
       "      <td>0.035565</td>\n",
       "      <td>-0.038354</td>\n",
       "    </tr>\n",
       "    <tr>\n",
       "      <th>sleep_upset_8</th>\n",
       "      <td>0.028764</td>\n",
       "      <td>-0.007423</td>\n",
       "      <td>0.038220</td>\n",
       "      <td>0.006858</td>\n",
       "      <td>0.013119</td>\n",
       "    </tr>\n",
       "    <tr>\n",
       "      <th>sleep_upset_after_9</th>\n",
       "      <td>0.009271</td>\n",
       "      <td>-0.023065</td>\n",
       "      <td>-0.025812</td>\n",
       "      <td>-0.070504</td>\n",
       "      <td>0.021491</td>\n",
       "    </tr>\n",
       "    <tr>\n",
       "      <th>early_upset</th>\n",
       "      <td>-0.068202</td>\n",
       "      <td>0.032787</td>\n",
       "      <td>-0.000377</td>\n",
       "      <td>0.019227</td>\n",
       "      <td>-0.046669</td>\n",
       "    </tr>\n",
       "    <tr>\n",
       "      <th>lately_upset</th>\n",
       "      <td>0.030296</td>\n",
       "      <td>-0.022269</td>\n",
       "      <td>0.013601</td>\n",
       "      <td>-0.043607</td>\n",
       "      <td>0.025885</td>\n",
       "    </tr>\n",
       "  </tbody>\n",
       "</table>\n",
       "</div>"
      ],
      "text/plain": [
       "                     arterial_hypertension    stroke       IHD  heart_failure  \\\n",
       "sleep_upset_early_6               0.059959 -0.029609 -0.008345       0.039253   \n",
       "sleep_upset_6                    -0.035852  0.004285  0.007890      -0.013799   \n",
       "sleep_upset_7                    -0.036765  0.031326 -0.008729       0.035565   \n",
       "sleep_upset_8                     0.028764 -0.007423  0.038220       0.006858   \n",
       "sleep_upset_after_9               0.009271 -0.023065 -0.025812      -0.070504   \n",
       "early_upset                      -0.068202  0.032787 -0.000377       0.019227   \n",
       "lately_upset                      0.030296 -0.022269  0.013601      -0.043607   \n",
       "\n",
       "                     other_cardio_diseases  \n",
       "sleep_upset_early_6               0.031984  \n",
       "sleep_upset_6                    -0.012014  \n",
       "sleep_upset_7                    -0.038354  \n",
       "sleep_upset_8                     0.013119  \n",
       "sleep_upset_after_9               0.021491  \n",
       "early_upset                      -0.046669  \n",
       "lately_upset                      0.025885  "
      ]
     },
     "execution_count": 137,
     "metadata": {},
     "output_type": "execute_result"
    }
   ],
   "source": [
    "check_corrs_with_target(df, col=upset_features)"
   ]
  },
  {
   "cell_type": "markdown",
   "id": "e9aa752f",
   "metadata": {},
   "source": [
    "### ADD FEATURE sleeptime"
   ]
  },
  {
   "cell_type": "code",
   "execution_count": 138,
   "id": "086ddd22",
   "metadata": {},
   "outputs": [],
   "source": [
    "df['sleeptime'] = (df.time_sleep_upset -\n",
    "                   df.time_sleep_onset).apply(lambda x: x.seconds//3600)"
   ]
  },
  {
   "cell_type": "code",
   "execution_count": 139,
   "id": "732ca8a2",
   "metadata": {},
   "outputs": [],
   "source": [
    "# Исправление дефекта при расчете времени сна из-за особенностей datetime\n",
    "df['sleeptime'] = np.where(\n",
    "    df['sleeptime'] > 14, df['sleeptime'] - 12, df['sleeptime'])"
   ]
  },
  {
   "cell_type": "code",
   "execution_count": 140,
   "id": "71cac48a",
   "metadata": {},
   "outputs": [
    {
     "data": {
      "text/plain": [
       "7     457\n",
       "8     453\n",
       "6     230\n",
       "9     214\n",
       "10     93\n",
       "5      67\n",
       "11     32\n",
       "4      22\n",
       "12     11\n",
       "3       8\n",
       "0       4\n",
       "13      2\n",
       "Name: sleeptime, dtype: int64"
      ]
     },
     "execution_count": 140,
     "metadata": {},
     "output_type": "execute_result"
    }
   ],
   "source": [
    "df['sleeptime'].value_counts()"
   ]
  },
  {
   "cell_type": "markdown",
   "id": "a1010e19",
   "metadata": {},
   "source": [
    "### ADD FEATURE low_amout_sleep, high_amout_sleep"
   ]
  },
  {
   "cell_type": "code",
   "execution_count": 141,
   "id": "dc6a1399",
   "metadata": {},
   "outputs": [],
   "source": [
    "df['low_amount_sleep'] = np.where(df['sleeptime'] < 6, 1, 0)\n",
    "df['high_amout_sleep'] = np.where(df['sleeptime'] > 9, 1, 0)"
   ]
  },
  {
   "cell_type": "code",
   "execution_count": 142,
   "id": "d96d9dbc",
   "metadata": {},
   "outputs": [],
   "source": [
    "sleeptime_features = ['sleeptime', 'low_amount_sleep', 'high_amout_sleep']"
   ]
  },
  {
   "cell_type": "code",
   "execution_count": 143,
   "id": "2f25717a",
   "metadata": {},
   "outputs": [
    {
     "name": "stdout",
     "output_type": "stream",
     "text": [
      "corrs_matrix_between:  ['sleeptime', 'low_amount_sleep', 'high_amout_sleep']\n"
     ]
    },
    {
     "data": {
      "text/html": [
       "<div>\n",
       "<style scoped>\n",
       "    .dataframe tbody tr th:only-of-type {\n",
       "        vertical-align: middle;\n",
       "    }\n",
       "\n",
       "    .dataframe tbody tr th {\n",
       "        vertical-align: top;\n",
       "    }\n",
       "\n",
       "    .dataframe thead th {\n",
       "        text-align: right;\n",
       "    }\n",
       "</style>\n",
       "<table border=\"1\" class=\"dataframe\">\n",
       "  <thead>\n",
       "    <tr style=\"text-align: right;\">\n",
       "      <th></th>\n",
       "      <th>arterial_hypertension</th>\n",
       "      <th>stroke</th>\n",
       "      <th>IHD</th>\n",
       "      <th>heart_failure</th>\n",
       "      <th>other_cardio_diseases</th>\n",
       "    </tr>\n",
       "  </thead>\n",
       "  <tbody>\n",
       "    <tr>\n",
       "      <th>sleeptime</th>\n",
       "      <td>0.035149</td>\n",
       "      <td>0.037473</td>\n",
       "      <td>-0.006052</td>\n",
       "      <td>-0.061437</td>\n",
       "      <td>-0.010208</td>\n",
       "    </tr>\n",
       "    <tr>\n",
       "      <th>low_amount_sleep</th>\n",
       "      <td>-0.013547</td>\n",
       "      <td>0.010021</td>\n",
       "      <td>-0.016293</td>\n",
       "      <td>0.058856</td>\n",
       "      <td>0.056018</td>\n",
       "    </tr>\n",
       "    <tr>\n",
       "      <th>high_amout_sleep</th>\n",
       "      <td>0.024350</td>\n",
       "      <td>0.024505</td>\n",
       "      <td>-0.015854</td>\n",
       "      <td>-0.031118</td>\n",
       "      <td>0.042978</td>\n",
       "    </tr>\n",
       "  </tbody>\n",
       "</table>\n",
       "</div>"
      ],
      "text/plain": [
       "                  arterial_hypertension    stroke       IHD  heart_failure  \\\n",
       "sleeptime                      0.035149  0.037473 -0.006052      -0.061437   \n",
       "low_amount_sleep              -0.013547  0.010021 -0.016293       0.058856   \n",
       "high_amout_sleep               0.024350  0.024505 -0.015854      -0.031118   \n",
       "\n",
       "                  other_cardio_diseases  \n",
       "sleeptime                     -0.010208  \n",
       "low_amount_sleep               0.056018  \n",
       "high_amout_sleep               0.042978  "
      ]
     },
     "execution_count": 143,
     "metadata": {},
     "output_type": "execute_result"
    }
   ],
   "source": [
    "check_corrs_with_target(df, col=sleeptime_features)"
   ]
  },
  {
   "cell_type": "code",
   "execution_count": 144,
   "id": "9ce3d688",
   "metadata": {},
   "outputs": [],
   "source": [
    "df.drop(['time_sleep_onset', 'time_sleep_upset'], axis=1, inplace=True)"
   ]
  },
  {
   "cell_type": "markdown",
   "id": "00062412",
   "metadata": {},
   "source": [
    "### Колонка midday_sleep"
   ]
  },
  {
   "cell_type": "code",
   "execution_count": 145,
   "id": "9591363c",
   "metadata": {},
   "outputs": [
    {
     "data": {
      "text/plain": [
       "0    1232\n",
       "1     361\n",
       "Name: midday_sleep, dtype: int64"
      ]
     },
     "execution_count": 145,
     "metadata": {},
     "output_type": "execute_result"
    }
   ],
   "source": [
    "df.midday_sleep.value_counts(dropna=False)"
   ]
  },
  {
   "cell_type": "code",
   "execution_count": 146,
   "id": "df141852",
   "metadata": {},
   "outputs": [
    {
     "name": "stdout",
     "output_type": "stream",
     "text": [
      "corrs_matrix_between:  midday_sleep\n"
     ]
    },
    {
     "data": {
      "text/plain": [
       "arterial_hypertension    0.075877\n",
       "stroke                   0.070712\n",
       "IHD                      0.049903\n",
       "heart_failure            0.002388\n",
       "other_cardio_diseases   -0.056408\n",
       "Name: midday_sleep, dtype: float64"
      ]
     },
     "execution_count": 146,
     "metadata": {},
     "output_type": "execute_result"
    }
   ],
   "source": [
    "check_corrs_with_target(df, col='midday_sleep')"
   ]
  },
  {
   "cell_type": "markdown",
   "id": "041a29df",
   "metadata": {},
   "source": [
    "### Колонка sport"
   ]
  },
  {
   "cell_type": "code",
   "execution_count": 147,
   "id": "039c926a",
   "metadata": {},
   "outputs": [
    {
     "data": {
      "text/plain": [
       "0    1491\n",
       "1     102\n",
       "Name: sport, dtype: int64"
      ]
     },
     "execution_count": 147,
     "metadata": {},
     "output_type": "execute_result"
    }
   ],
   "source": [
    "df.sport.value_counts(dropna=False)"
   ]
  },
  {
   "cell_type": "code",
   "execution_count": 148,
   "id": "8a7fb202",
   "metadata": {},
   "outputs": [
    {
     "name": "stdout",
     "output_type": "stream",
     "text": [
      "corrs_matrix_between:  sport\n"
     ]
    },
    {
     "data": {
      "text/plain": [
       "arterial_hypertension   -0.011300\n",
       "stroke                   0.024806\n",
       "IHD                      0.000465\n",
       "heart_failure            0.020270\n",
       "other_cardio_diseases    0.031178\n",
       "Name: sport, dtype: float64"
      ]
     },
     "execution_count": 148,
     "metadata": {},
     "output_type": "execute_result"
    }
   ],
   "source": [
    "check_corrs_with_target(df, col='sport')"
   ]
  },
  {
   "cell_type": "markdown",
   "id": "866e0db0",
   "metadata": {},
   "source": [
    "### Колонка religion_clubs"
   ]
  },
  {
   "cell_type": "code",
   "execution_count": 149,
   "id": "6b42eb58",
   "metadata": {},
   "outputs": [
    {
     "data": {
      "text/plain": [
       "0    1557\n",
       "1      36\n",
       "Name: religion_clubs, dtype: int64"
      ]
     },
     "execution_count": 149,
     "metadata": {},
     "output_type": "execute_result"
    }
   ],
   "source": [
    "df.religion_clubs.value_counts(dropna=False)"
   ]
  },
  {
   "cell_type": "code",
   "execution_count": 150,
   "id": "af4bdc91",
   "metadata": {},
   "outputs": [
    {
     "name": "stdout",
     "output_type": "stream",
     "text": [
      "corrs_matrix_between:  religion_clubs\n"
     ]
    },
    {
     "data": {
      "text/plain": [
       "arterial_hypertension   -0.031819\n",
       "stroke                  -0.032523\n",
       "IHD                     -0.014801\n",
       "heart_failure            0.018303\n",
       "other_cardio_diseases    0.049226\n",
       "Name: religion_clubs, dtype: float64"
      ]
     },
     "execution_count": 150,
     "metadata": {},
     "output_type": "execute_result"
    }
   ],
   "source": [
    "check_corrs_with_target(df, col='religion_clubs')"
   ]
  },
  {
   "cell_type": "markdown",
   "id": "a4c28377",
   "metadata": {},
   "source": [
    "## Подготовка данных"
   ]
  },
  {
   "cell_type": "code",
   "execution_count": 151,
   "id": "3cb55fab",
   "metadata": {},
   "outputs": [
    {
     "data": {
      "text/plain": [
       "0"
      ]
     },
     "execution_count": 151,
     "metadata": {},
     "output_type": "execute_result"
    }
   ],
   "source": [
    "# Проверка на наличие пропусков в итоговом наборе данных\n",
    "df.isna().sum().sum()"
   ]
  },
  {
   "cell_type": "markdown",
   "id": "08fc2a1e",
   "metadata": {},
   "source": [
    "### ADD FEATURE cardio_score\n",
    "\n",
    "Примечание: существует довольно много разных шкал риска, но не все они легко применимы на данном датасете. В данном случае применен измененный Jakarta Cardiovascular Score (посчитан из того, что было в датасете)\n",
    "\n",
    "https://www.researchgate.net/publication/269624976/figure/tbl4/AS:669948162629639@1536739497178/The-Framingham-Score-and-the-Jakarta-Cardiovascular-Score.png"
   ]
  },
  {
   "cell_type": "code",
   "execution_count": 153,
   "id": "4d4ef3dc",
   "metadata": {},
   "outputs": [],
   "source": [
    "df['cardio_score'] = df['sex'] + df['smoke'] * 2 + df['previous_smoke'] * 1 + \\\n",
    "    df['diabetes'] * 2 - df['sport'] * 3 + \\\n",
    "    df['retired'] * 3 + df['passive_smoking']"
   ]
  },
  {
   "cell_type": "code",
   "execution_count": 154,
   "id": "dc1215c5",
   "metadata": {},
   "outputs": [
    {
     "name": "stdout",
     "output_type": "stream",
     "text": [
      "corrs_matrix_between:  cardio_score\n"
     ]
    },
    {
     "data": {
      "text/plain": [
       "arterial_hypertension    0.200888\n",
       "stroke                   0.067760\n",
       "IHD                      0.203711\n",
       "heart_failure            0.100453\n",
       "other_cardio_diseases   -0.002081\n",
       "Name: cardio_score, dtype: float64"
      ]
     },
     "execution_count": 154,
     "metadata": {},
     "output_type": "execute_result"
    }
   ],
   "source": [
    "check_corrs_with_target(df, col='cardio_score')"
   ]
  },
  {
   "cell_type": "code",
   "execution_count": 155,
   "id": "3155dcb0",
   "metadata": {},
   "outputs": [],
   "source": [
    "train = df[df['train'] == 1].drop('train', axis=1)\n",
    "X_test = df[df['train'] == 0].drop('train', axis=1)"
   ]
  },
  {
   "cell_type": "markdown",
   "id": "17c26b68",
   "metadata": {},
   "source": [
    "# В ходе экспериментов произошел сознательный отказ от использования StandardScaler (и других скейлеров) в пользу интерпретируемости модели"
   ]
  },
  {
   "cell_type": "markdown",
   "id": "3735376c",
   "metadata": {},
   "source": [
    "### Так как данные имеют большую суммарную связь с артериальной гипертнезией, то сосредоточимся на предсказании этого показателя. \n",
    "#### В дальнейшем обучив модель и \"подставив\" предсказания в тестовый датасет продолжим предсказывать другие"
   ]
  },
  {
   "cell_type": "code",
   "execution_count": 156,
   "id": "24e246bf",
   "metadata": {
    "scrolled": true
   },
   "outputs": [
    {
     "data": {
      "text/html": [
       "<div>\n",
       "<style scoped>\n",
       "    .dataframe tbody tr th:only-of-type {\n",
       "        vertical-align: middle;\n",
       "    }\n",
       "\n",
       "    .dataframe tbody tr th {\n",
       "        vertical-align: top;\n",
       "    }\n",
       "\n",
       "    .dataframe thead th {\n",
       "        text-align: right;\n",
       "    }\n",
       "</style>\n",
       "<table border=\"1\" class=\"dataframe\">\n",
       "  <thead>\n",
       "    <tr style=\"text-align: right;\">\n",
       "      <th></th>\n",
       "      <th>arterial_hypertension</th>\n",
       "      <th>stroke</th>\n",
       "      <th>IHD</th>\n",
       "      <th>heart_failure</th>\n",
       "      <th>other_cardio_diseases</th>\n",
       "    </tr>\n",
       "  </thead>\n",
       "  <tbody>\n",
       "    <tr>\n",
       "      <th>arterial_hypertension</th>\n",
       "      <td>1.000000</td>\n",
       "      <td>0.122720</td>\n",
       "      <td>0.296755</td>\n",
       "      <td>0.266396</td>\n",
       "      <td>0.086785</td>\n",
       "    </tr>\n",
       "    <tr>\n",
       "      <th>stroke</th>\n",
       "      <td>0.122720</td>\n",
       "      <td>1.000000</td>\n",
       "      <td>0.015392</td>\n",
       "      <td>-0.002087</td>\n",
       "      <td>-0.030536</td>\n",
       "    </tr>\n",
       "    <tr>\n",
       "      <th>IHD</th>\n",
       "      <td>0.296755</td>\n",
       "      <td>0.015392</td>\n",
       "      <td>1.000000</td>\n",
       "      <td>0.522954</td>\n",
       "      <td>0.049801</td>\n",
       "    </tr>\n",
       "    <tr>\n",
       "      <th>heart_failure</th>\n",
       "      <td>0.266396</td>\n",
       "      <td>-0.002087</td>\n",
       "      <td>0.522954</td>\n",
       "      <td>1.000000</td>\n",
       "      <td>0.138133</td>\n",
       "    </tr>\n",
       "    <tr>\n",
       "      <th>other_cardio_diseases</th>\n",
       "      <td>0.086785</td>\n",
       "      <td>-0.030536</td>\n",
       "      <td>0.049801</td>\n",
       "      <td>0.138133</td>\n",
       "      <td>1.000000</td>\n",
       "    </tr>\n",
       "  </tbody>\n",
       "</table>\n",
       "</div>"
      ],
      "text/plain": [
       "                       arterial_hypertension    stroke       IHD  \\\n",
       "arterial_hypertension               1.000000  0.122720  0.296755   \n",
       "stroke                              0.122720  1.000000  0.015392   \n",
       "IHD                                 0.296755  0.015392  1.000000   \n",
       "heart_failure                       0.266396 -0.002087  0.522954   \n",
       "other_cardio_diseases               0.086785 -0.030536  0.049801   \n",
       "\n",
       "                       heart_failure  other_cardio_diseases  \n",
       "arterial_hypertension       0.266396               0.086785  \n",
       "stroke                     -0.002087              -0.030536  \n",
       "IHD                         0.522954               0.049801  \n",
       "heart_failure               1.000000               0.138133  \n",
       "other_cardio_diseases       0.138133               1.000000  "
      ]
     },
     "execution_count": 156,
     "metadata": {},
     "output_type": "execute_result"
    }
   ],
   "source": [
    "target_train.corr()"
   ]
  },
  {
   "cell_type": "markdown",
   "id": "f291ee8e",
   "metadata": {},
   "source": [
    "#### Исходя из корреляций между АГ и другими болезнями у метода хорошие перспективы"
   ]
  },
  {
   "cell_type": "markdown",
   "id": "6275e762",
   "metadata": {},
   "source": [
    "# Поиск лучшей метрики с помощью логистической регрессии"
   ]
  },
  {
   "cell_type": "code",
   "execution_count": 157,
   "id": "577756fa",
   "metadata": {},
   "outputs": [],
   "source": [
    "# Гиперпараметры логистической регрессии для перебора с помощью GridsearchCV\n",
    "C = [1, 0.1, 0.01, 0.001]\n",
    "iters = [50, 100, 200, 300]\n",
    "epsilon_stop = [0.0001]\n",
    "\n",
    "param_grid_logreg = [\n",
    "    {'C': C,\n",
    "     'penalty': ['l1'],\n",
    "     'solver': ['saga', 'liblinear'],\n",
    "     'class_weight':[None, 'balanced'],\n",
    "     'multi_class': ['auto', 'ovr'],\n",
    "     'max_iter': iters,\n",
    "     'tol': epsilon_stop},\n",
    "    {'C': C,\n",
    "     'penalty': ['l2'],\n",
    "     'solver': ['newton-cg', 'liblinear', 'lbfgs', 'saga'],\n",
    "     'class_weight':[None, 'balanced'],\n",
    "     'multi_class': ['auto', 'ovr'],\n",
    "     'max_iter': iters,\n",
    "     'tol':epsilon_stop},\n",
    "    {'penalty': ['none'],\n",
    "     'solver': ['saga'],\n",
    "     'class_weight':[None, 'balanced'],\n",
    "     'multi_class': ['auto', 'ovr'],\n",
    "     'max_iter': iters,\n",
    "     'tol':epsilon_stop}]"
   ]
  },
  {
   "cell_type": "code",
   "execution_count": 158,
   "id": "1edc04f5",
   "metadata": {},
   "outputs": [],
   "source": [
    "def score_model(model, params=None, oversampler=None, cv=None, X_train=None, y_train=None, n_splits=5, random_state=None):\n",
    "    \"\"\"\n",
    "    Creates folds manually, and upsamples within each fold.\n",
    "    \"\"\"\n",
    "\n",
    "    X_train = X_train.reset_index(drop=True)\n",
    "    y_train = y_train.reset_index(drop=True)\n",
    "\n",
    "    if cv is None:\n",
    "        cv = StratifiedKFold(n_splits=n_splits)\n",
    "\n",
    "    thresholds = []\n",
    "    recall_macro_scores = []\n",
    "    f1_scores = []\n",
    "    \n",
    "\n",
    "    for train_fold_index, val_fold_index in cv.split(X_train, y_train):\n",
    "        # Определение тренировочного набора\n",
    "        X_train_fold, y_train_fold = X_train.iloc[train_fold_index], y_train[train_fold_index]\n",
    "        # Определение тестового набора\n",
    "        X_val_fold, y_val_fold = X_train.iloc[val_fold_index], y_train[val_fold_index]\n",
    "\n",
    "        # Балансировка только тренировочного датасета\n",
    "        X_train_fold_upsample, y_train_fold_upsample = oversampler.fit_resample(X_train_fold,\n",
    "                                                                                y_train_fold)\n",
    "        # Обучени модели на сбалансированном тренировочном датасете\n",
    "        model_obj = model.fit(X_train_fold_upsample, y_train_fold_upsample)\n",
    "\n",
    "        # Оценка модели на несбалансированном, тестовом датасете\n",
    "        probs = model_obj.predict_proba(X_val_fold)\n",
    "        threshold = find_opt_threshold(y_val_fold, probs)\n",
    "        thresholds.append(threshold)\n",
    "        y_pred = np.where(probs[:, 1] > threshold, 1, 0)\n",
    "\n",
    "        recall_macro_score = recall_score(y_val_fold, y_pred, average='macro')\n",
    "        recall_macro_scores.append(recall_macro_score)\n",
    "\n",
    "        f1score = f1_score(y_val_fold, y_pred)\n",
    "        f1_scores.append(f1score)\n",
    "\n",
    "    print('recall_macro_scores: ', recall_macro_scores)\n",
    "    print('recall_macro_mean: ', np.mean(recall_macro_scores))\n",
    "    print()\n",
    "    print('f1_scores: ', f1_scores)\n",
    "    print('f1_mean: ', np.mean(f1_scores))\n",
    "    print()\n",
    "    print('mean_threshold: ', np.mean(thresholds))\n",
    "    # Функция возвращает среднее пороговое значнием для максимальной метрики\n",
    "    return np.mean(thresholds)"
   ]
  },
  {
   "cell_type": "code",
   "execution_count": 159,
   "id": "12362ca5",
   "metadata": {},
   "outputs": [],
   "source": [
    "# Модель логистической регрессии с балансировкой выборки.\n",
    "def fit_model(df, target, model='logreg', scoring='f1',\n",
    "              split=True,\n",
    "              reduce_corrs=False, threshold_reduce=0.05,\n",
    "              grid=False, oversampling=False,  param_grid=None,\n",
    "              oversampler='random', resample_strategy='auto',\n",
    "              return_predicted=False, X_test=None,\n",
    "              random_state=None, n_splits=5):\n",
    "\n",
    "    cv_grid = StratifiedKFold(random_state=random_state)\n",
    "\n",
    "    if reduce_corrs == True:\n",
    "        df, X_test = reduce_low_corrs_with_target(df=df, target=target,\n",
    "                                                  threshold=threshold_reduce, return_predicted=return_predicted,\n",
    "                                                  X_test=X_test)\n",
    "\n",
    "    used_features = df.columns\n",
    "    print('Used features: ', list(df.columns))\n",
    "    print()\n",
    "\n",
    "    X = df.drop(target, axis=1)\n",
    "    y = df[target]\n",
    "\n",
    "    if split == True:\n",
    "        X_train, X_valid, y_train, y_valid = train_test_split(\n",
    "            X, y, test_size=0.20, stratify=y, random_state=random_state)\n",
    "    else:\n",
    "        X_train = X.copy()\n",
    "        y_train = y.copy()\n",
    "\n",
    "    if model == 'logreg':\n",
    "        # Логистическая регрессия\n",
    "        clf = LogisticRegression(random_state=random_state, n_jobs=-1)\n",
    "\n",
    "        # Поиск гиперпараметров GridSearchCV при помощи перебора параметров по сетке param_grid:\n",
    "        if grid == True:\n",
    "            grid_search = GridSearchCV(\n",
    "                clf, param_grid, scoring=scoring, n_jobs=-1, cv=cv_grid)\n",
    "            grid_search.fit(X, y)\n",
    "\n",
    "        # Печатаем параметры развернуто:\n",
    "            best_model = grid_search.best_estimator_\n",
    "            best_parameters = best_model.get_params()\n",
    "            for param_name in sorted(best_parameters.keys()):\n",
    "                print('\\t%s: %r' % (param_name, best_parameters[param_name]))\n",
    "\n",
    "        clf = LogisticRegression(**best_parameters)\n",
    "\n",
    "    print()\n",
    "\n",
    "    # Балансировка выборки\n",
    "    if oversampling == True:\n",
    "        if oversampler == 'random':\n",
    "            oversampler = RandomOverSampler(\n",
    "                sampling_strategy=resample_strategy, random_state=random_state)\n",
    "\n",
    "        if oversampler == 'smote':\n",
    "            oversampler = SMOTE(\n",
    "                sampling_strategy=resample_strategy, random_state=random_state)\n",
    "\n",
    "        threshold = score_model(model=clf, params=best_parameters, oversampler=oversampler,\n",
    "                                cv=None, X_train=X_train, y_train=y_train, n_splits=n_splits, random_state=random_state)\n",
    "\n",
    "        X_train, y_train = oversampler.fit_resample(X_train, y_train)\n",
    "\n",
    "    clf.fit(X_train, y_train)\n",
    "\n",
    "    coefs_df = pd.DataFrame(data=clf.coef_[0],\n",
    "                            index=X_train.columns,\n",
    "                            columns=['coef'])\n",
    "    print()\n",
    "    print('Coefficients of LogisticRegression:')\n",
    "    print(coefs_df.sort_values(by='coef', ascending=False))\n",
    "    print()\n",
    "\n",
    "    print('Odds:')\n",
    "    odds = np.exp(clf.coef_[0])\n",
    "    odds_df = pd.DataFrame(odds,\n",
    "                           X.columns,\n",
    "                           columns=['coef'])\\\n",
    "        .sort_values(by='coef', ascending=False)\n",
    "    print(odds_df)\n",
    "    print()\n",
    "\n",
    "    if split == True:\n",
    "        probs = clf.predict_proba(X_valid)\n",
    "        threshold = find_opt_threshold(y_valid, probs)\n",
    "\n",
    "        y_pred = np.where(probs[:, 1] > threshold, 1, 0)\n",
    "        print()\n",
    "        print('valid_recall_score: ', recall_score(\n",
    "            y_valid, y_pred, average='macro'))\n",
    "    else:\n",
    "        probs = clf.predict_proba(X)\n",
    "        threshold = find_opt_threshold(y, probs)\n",
    "        print('Self threshold: ', threshold)\n",
    "\n",
    "        y_pred = np.where(probs[:, 1] > threshold, 1, 0)\n",
    "        print()\n",
    "        print('self_recall_score: ', recall_score(y, y_pred, average='macro'))\n",
    "\n",
    "    if return_predicted == True:\n",
    "        probs_test = clf.predict_proba(X_test)[:, 1]\n",
    "        predicted_test = np.where(probs_test > threshold, 1, 0)\n",
    "        return predicted_test\n",
    "    else:\n",
    "        return clf, threshold"
   ]
  },
  {
   "cell_type": "code",
   "execution_count": 160,
   "id": "c5449eb0",
   "metadata": {},
   "outputs": [],
   "source": [
    "df_ah = pd.concat([train, target_train['arterial_hypertension']], axis=1)"
   ]
  },
  {
   "cell_type": "code",
   "execution_count": 161,
   "id": "a8d6af50",
   "metadata": {},
   "outputs": [],
   "source": [
    "ah = MultiCollinearityEliminator(\n",
    "    df_ah, 'arterial_hypertension', 0.6).autoEliminateMulticollinearity()"
   ]
  },
  {
   "cell_type": "code",
   "execution_count": 162,
   "id": "533d7cf5",
   "metadata": {},
   "outputs": [],
   "source": [
    "SEED = None"
   ]
  },
  {
   "cell_type": "code",
   "execution_count": 163,
   "id": "9dd6a690",
   "metadata": {},
   "outputs": [],
   "source": [
    "X_pred = pd.DataFrame()"
   ]
  },
  {
   "cell_type": "code",
   "execution_count": 164,
   "id": "dfaccaa2",
   "metadata": {},
   "outputs": [
    {
     "data": {
      "text/plain": [
       "0    509\n",
       "1    446\n",
       "Name: arterial_hypertension, dtype: int64"
      ]
     },
     "execution_count": 164,
     "metadata": {},
     "output_type": "execute_result"
    }
   ],
   "source": [
    "ah.arterial_hypertension.value_counts()"
   ]
  },
  {
   "cell_type": "code",
   "execution_count": 165,
   "id": "aa25dcd2",
   "metadata": {},
   "outputs": [
    {
     "name": "stdout",
     "output_type": "stream",
     "text": [
      "Used features:  ['crafters_other', 'household', 'farmer/fisherman', 'chronic_lung_disease', 'early_upset', 'midday_sleep', 'married', 'drink_alco_now', 'oncology', 'bronchial_asthma', 'hard_industry', 'smoke', 'fractures', 'unknown_id_feature', 'education', 'sex', 'comorbid_count', 'widowed', 'diabetes', 'retired', 'intake_medicines', 'arterial_hypertension']\n",
      "\n",
      "\tC: 0.1\n",
      "\tclass_weight: None\n",
      "\tdual: False\n",
      "\tfit_intercept: True\n",
      "\tintercept_scaling: 1\n",
      "\tl1_ratio: None\n",
      "\tmax_iter: 50\n",
      "\tmulti_class: 'auto'\n",
      "\tn_jobs: -1\n",
      "\tpenalty: 'l1'\n",
      "\trandom_state: None\n",
      "\tsolver: 'saga'\n",
      "\ttol: 0.0001\n",
      "\tverbose: 0\n",
      "\twarm_start: False\n",
      "\n",
      "Threshold=0.614, Recall_macro=0.72505\n",
      "Threshold=0.341, Recall_macro=0.73017\n",
      "Threshold=0.533, Recall_macro=0.74631\n",
      "Threshold=0.554, Recall_macro=0.75110\n",
      "Threshold=0.518, Recall_macro=0.77239\n",
      "recall_macro_scores:  [0.7250495703899538, 0.7301718440185063, 0.7463097598589998, 0.7511015642211941, 0.7723872387238724]\n",
      "recall_macro_mean:  0.7450039954425053\n",
      "\n",
      "f1_scores:  [0.7011494252873562, 0.7389162561576355, 0.7549019607843138, 0.7446808510638298, 0.784688995215311]\n",
      "f1_mean:  0.7448674977016893\n",
      "\n",
      "mean_threshold:  0.5119999999999999\n",
      "\n",
      "Coefficients of LogisticRegression:\n",
      "                          coef\n",
      "intake_medicines      1.772498\n",
      "retired               0.557594\n",
      "diabetes              0.276265\n",
      "fractures             0.256826\n",
      "comorbid_count        0.135104\n",
      "widowed               0.125109\n",
      "midday_sleep          0.024508\n",
      "household             0.000000\n",
      "sex                   0.000000\n",
      "smoke                 0.000000\n",
      "crafters_other        0.000000\n",
      "bronchial_asthma      0.000000\n",
      "oncology              0.000000\n",
      "drink_alco_now        0.000000\n",
      "married               0.000000\n",
      "early_upset           0.000000\n",
      "chronic_lung_disease  0.000000\n",
      "farmer/fisherman      0.000000\n",
      "hard_industry        -0.112140\n",
      "unknown_id_feature   -0.158359\n",
      "education            -0.187987\n",
      "\n",
      "Odds:\n",
      "                          coef\n",
      "intake_medicines      5.885534\n",
      "retired               1.746466\n",
      "diabetes              1.318197\n",
      "fractures             1.292820\n",
      "comorbid_count        1.144656\n",
      "widowed               1.133272\n",
      "midday_sleep          1.024811\n",
      "household             1.000000\n",
      "sex                   1.000000\n",
      "smoke                 1.000000\n",
      "crafters_other        1.000000\n",
      "bronchial_asthma      1.000000\n",
      "oncology              1.000000\n",
      "drink_alco_now        1.000000\n",
      "married               1.000000\n",
      "early_upset           1.000000\n",
      "chronic_lung_disease  1.000000\n",
      "farmer/fisherman      1.000000\n",
      "hard_industry         0.893919\n",
      "unknown_id_feature    0.853544\n",
      "education             0.828626\n",
      "\n",
      "Threshold=0.556, Recall_macro=0.74531\n",
      "Self threshold:  0.556\n",
      "\n",
      "self_recall_score:  0.7453064568705013\n"
     ]
    }
   ],
   "source": [
    "ah_pred = fit_model(ah, 'arterial_hypertension',\n",
    "                    split=False,\n",
    "                    reduce_corrs=True, threshold_reduce=0.06,\n",
    "                    model='logreg', grid=True, param_grid=param_grid_logreg, scoring='f1',\n",
    "                    oversampling=True, oversampler='random', resample_strategy='auto',\n",
    "                    return_predicted=True, X_test=X_test,\n",
    "                    random_state=SEED, n_splits=5)"
   ]
  },
  {
   "cell_type": "code",
   "execution_count": 166,
   "id": "e87a9726",
   "metadata": {},
   "outputs": [
    {
     "name": "stdout",
     "output_type": "stream",
     "text": [
      "len of predicted:  314\n"
     ]
    }
   ],
   "source": [
    "print('len of predicted: ', sum(ah_pred))\n",
    "X_pred['arterial_hypertension'] = ah_pred\n",
    "X_test['arterial_hypertension'] = ah_pred"
   ]
  },
  {
   "cell_type": "code",
   "execution_count": 167,
   "id": "2bc06eb0",
   "metadata": {},
   "outputs": [],
   "source": [
    "df_ihd = pd.concat(\n",
    "    [train, target_train[['arterial_hypertension', 'IHD']]], axis=1)"
   ]
  },
  {
   "cell_type": "code",
   "execution_count": 168,
   "id": "488a2a73",
   "metadata": {},
   "outputs": [],
   "source": [
    "ihd = MultiCollinearityEliminator(\n",
    "    df_ihd, 'IHD', 0.6).autoEliminateMulticollinearity()"
   ]
  },
  {
   "cell_type": "code",
   "execution_count": 169,
   "id": "24ed5b55",
   "metadata": {},
   "outputs": [
    {
     "data": {
      "text/plain": [
       "0    838\n",
       "1    117\n",
       "Name: IHD, dtype: int64"
      ]
     },
     "execution_count": 169,
     "metadata": {},
     "output_type": "execute_result"
    }
   ],
   "source": [
    "ihd['IHD'].value_counts()"
   ]
  },
  {
   "cell_type": "code",
   "execution_count": 170,
   "id": "222c2b52",
   "metadata": {},
   "outputs": [
    {
     "name": "stdout",
     "output_type": "stream",
     "text": [
      "Used features:  ['divorced', 'oncology', 'bronchial_asthma', 'midday_sleep', 'education', 'fracture_on_retire', 'top_management', 'is_russian', 'service', 'household', 'farmer/fisherman', 'fractures', 'tuberculosis', 'stop_work_due_disease', 'smoking_score_int_score_3', 'widowed', 'previous_drink_alco', 'is_comorbid', 'diabetes', 'intake_medicines', 'retired', 'arterial_hypertension', 'IHD']\n",
      "\n",
      "\tC: 1\n",
      "\tclass_weight: 'balanced'\n",
      "\tdual: False\n",
      "\tfit_intercept: True\n",
      "\tintercept_scaling: 1\n",
      "\tl1_ratio: None\n",
      "\tmax_iter: 200\n",
      "\tmulti_class: 'ovr'\n",
      "\tn_jobs: -1\n",
      "\tpenalty: 'l1'\n",
      "\trandom_state: None\n",
      "\tsolver: 'liblinear'\n",
      "\ttol: 0.0001\n",
      "\tverbose: 0\n",
      "\twarm_start: False\n",
      "\n",
      "Threshold=0.381, Recall_macro=0.73136\n",
      "Threshold=0.423, Recall_macro=0.74773\n",
      "Threshold=0.404, Recall_macro=0.74593\n",
      "recall_macro_scores:  [0.7313644688644688, 0.7477253928866832, 0.7459332781913427]\n",
      "recall_macro_mean:  0.7416743799808315\n",
      "\n",
      "f1_scores:  [0.3803680981595092, 0.38202247191011235, 0.37988826815642457]\n",
      "f1_mean:  0.3807596127420154\n",
      "\n",
      "mean_threshold:  0.40266666666666673\n",
      "\n",
      "Coefficients of LogisticRegression:\n",
      "                               coef\n",
      "arterial_hypertension      1.524414\n",
      "retired                    1.098937\n",
      "intake_medicines           0.886369\n",
      "fracture_on_retire         0.765320\n",
      "tuberculosis               0.743623\n",
      "farmer/fisherman           0.722163\n",
      "stop_work_due_disease      0.712613\n",
      "previous_drink_alco        0.488895\n",
      "oncology                   0.379546\n",
      "diabetes                   0.237512\n",
      "fractures                  0.153255\n",
      "midday_sleep               0.085079\n",
      "is_comorbid                0.062053\n",
      "smoking_score_int_score_3  0.000003\n",
      "widowed                    0.000000\n",
      "bronchial_asthma           0.000000\n",
      "education                 -0.096481\n",
      "divorced                  -0.436283\n",
      "household                 -0.486108\n",
      "service                   -0.721405\n",
      "is_russian                -1.342702\n",
      "top_management            -1.353988\n",
      "\n",
      "Odds:\n",
      "                               coef\n",
      "arterial_hypertension      4.592452\n",
      "retired                    3.000973\n",
      "intake_medicines           2.426304\n",
      "fracture_on_retire         2.149683\n",
      "tuberculosis               2.103543\n",
      "farmer/fisherman           2.058881\n",
      "stop_work_due_disease      2.039314\n",
      "previous_drink_alco        1.630514\n",
      "oncology                   1.461621\n",
      "diabetes                   1.268090\n",
      "fractures                  1.165623\n",
      "midday_sleep               1.088803\n",
      "is_comorbid                1.064019\n",
      "smoking_score_int_score_3  1.000003\n",
      "widowed                    1.000000\n",
      "bronchial_asthma           1.000000\n",
      "education                  0.908027\n",
      "divorced                   0.646435\n",
      "household                  0.615016\n",
      "service                    0.486069\n",
      "is_russian                 0.261139\n",
      "top_management             0.258208\n",
      "\n",
      "Threshold=0.374, Recall_macro=0.75858\n",
      "Self threshold:  0.374\n",
      "\n",
      "self_recall_score:  0.758577606429635\n"
     ]
    }
   ],
   "source": [
    "ihd_pred = fit_model(ihd, 'IHD', split=False,\n",
    "                     reduce_corrs=True, threshold_reduce=0.04,\n",
    "                     model='logreg', grid=True, param_grid=param_grid_logreg, scoring='f1',\n",
    "                     oversampling=True, oversampler='random', resample_strategy='auto',\n",
    "                     return_predicted=True, X_test=X_test, random_state=SEED, n_splits=3)"
   ]
  },
  {
   "cell_type": "code",
   "execution_count": 171,
   "id": "9b138162",
   "metadata": {},
   "outputs": [
    {
     "data": {
      "text/plain": [
       "301"
      ]
     },
     "execution_count": 171,
     "metadata": {},
     "output_type": "execute_result"
    }
   ],
   "source": [
    "X_pred['IHD'] = ihd_pred\n",
    "X_test['IHD'] = ihd_pred\n",
    "#target_train['IHD'] = ihd_train\n",
    "ihd_pred.sum()"
   ]
  },
  {
   "cell_type": "code",
   "execution_count": 172,
   "id": "b02458d5",
   "metadata": {},
   "outputs": [],
   "source": [
    "df_hf = pd.concat(\n",
    "    [train, target_train[['arterial_hypertension', 'IHD', 'heart_failure']]], axis=1)"
   ]
  },
  {
   "cell_type": "code",
   "execution_count": 173,
   "id": "072f1349",
   "metadata": {},
   "outputs": [],
   "source": [
    "hf = MultiCollinearityEliminator(\n",
    "    df_hf, 'heart_failure', 0.6).autoEliminateMulticollinearity()"
   ]
  },
  {
   "cell_type": "code",
   "execution_count": 174,
   "id": "f309d23b",
   "metadata": {},
   "outputs": [
    {
     "data": {
      "text/plain": [
       "0    859\n",
       "1     96\n",
       "Name: heart_failure, dtype: int64"
      ]
     },
     "execution_count": 174,
     "metadata": {},
     "output_type": "execute_result"
    }
   ],
   "source": [
    "hf['heart_failure'].value_counts()"
   ]
  },
  {
   "cell_type": "code",
   "execution_count": 175,
   "id": "946b904f",
   "metadata": {},
   "outputs": [
    {
     "name": "stdout",
     "output_type": "stream",
     "text": [
      "Used features:  ['lately_upset', 'oncology', 'previous_smoke', 'top_management', 'married', 'crafters_other', 'low_qualified', 'tuberculosis', 'chronic_lung_disease', 'cohabited', 'passive_smoking_frequency', 'stop_work_due_disease', 'id_2', 'fractures', 'low_amount_sleep', 'farmer/fisherman', 'id_4', 'sleeptime', 'sleep_upset_after_9', 'education', 'sex', 'never_smoke', 'household', 'diabetes', 'bronchial_asthma', 'comorbid_count', 'drink_alco_now', 'widowed', 'job', 'intake_medicines', 'arterial_hypertension', 'IHD', 'heart_failure']\n",
      "\n",
      "\tC: 0.01\n",
      "\tclass_weight: 'balanced'\n",
      "\tdual: False\n",
      "\tfit_intercept: True\n",
      "\tintercept_scaling: 1\n",
      "\tl1_ratio: None\n",
      "\tmax_iter: 50\n",
      "\tmulti_class: 'auto'\n",
      "\tn_jobs: -1\n",
      "\tpenalty: 'l1'\n",
      "\trandom_state: None\n",
      "\tsolver: 'saga'\n",
      "\ttol: 0.0001\n",
      "\tverbose: 0\n",
      "\twarm_start: False\n",
      "\n",
      "Threshold=0.488, Recall_macro=0.84713\n",
      "Threshold=0.405, Recall_macro=0.76541\n",
      "Threshold=0.426, Recall_macro=0.74279\n",
      "recall_macro_scores:  [0.8471254355400697, 0.7654064685314685, 0.7427884615384616]\n",
      "recall_macro_mean:  0.7851067885366666\n",
      "\n",
      "f1_scores:  [0.6666666666666665, 0.5507246376811593, 0.5]\n",
      "f1_mean:  0.5724637681159419\n",
      "\n",
      "mean_threshold:  0.43966666666666665\n",
      "\n",
      "Coefficients of LogisticRegression:\n",
      "                               coef\n",
      "IHD                        1.516165\n",
      "arterial_hypertension      0.331626\n",
      "oncology                   0.000000\n",
      "intake_medicines           0.000000\n",
      "job                        0.000000\n",
      "widowed                    0.000000\n",
      "drink_alco_now             0.000000\n",
      "comorbid_count             0.000000\n",
      "bronchial_asthma           0.000000\n",
      "diabetes                   0.000000\n",
      "household                  0.000000\n",
      "never_smoke                0.000000\n",
      "sex                        0.000000\n",
      "education                  0.000000\n",
      "sleep_upset_after_9        0.000000\n",
      "lately_upset               0.000000\n",
      "farmer/fisherman           0.000000\n",
      "low_amount_sleep           0.000000\n",
      "fractures                  0.000000\n",
      "id_2                       0.000000\n",
      "stop_work_due_disease      0.000000\n",
      "passive_smoking_frequency  0.000000\n",
      "cohabited                  0.000000\n",
      "chronic_lung_disease       0.000000\n",
      "tuberculosis               0.000000\n",
      "low_qualified              0.000000\n",
      "crafters_other             0.000000\n",
      "married                    0.000000\n",
      "top_management             0.000000\n",
      "previous_smoke             0.000000\n",
      "id_4                       0.000000\n",
      "sleeptime                 -0.054317\n",
      "\n",
      "Odds:\n",
      "                               coef\n",
      "IHD                        4.554722\n",
      "arterial_hypertension      1.393232\n",
      "oncology                   1.000000\n",
      "intake_medicines           1.000000\n",
      "job                        1.000000\n",
      "widowed                    1.000000\n",
      "drink_alco_now             1.000000\n",
      "comorbid_count             1.000000\n",
      "bronchial_asthma           1.000000\n",
      "diabetes                   1.000000\n",
      "household                  1.000000\n",
      "never_smoke                1.000000\n",
      "sex                        1.000000\n",
      "education                  1.000000\n",
      "sleep_upset_after_9        1.000000\n",
      "lately_upset               1.000000\n",
      "farmer/fisherman           1.000000\n",
      "low_amount_sleep           1.000000\n",
      "fractures                  1.000000\n",
      "id_2                       1.000000\n",
      "stop_work_due_disease      1.000000\n",
      "passive_smoking_frequency  1.000000\n",
      "cohabited                  1.000000\n",
      "chronic_lung_disease       1.000000\n",
      "tuberculosis               1.000000\n",
      "low_qualified              1.000000\n",
      "crafters_other             1.000000\n",
      "married                    1.000000\n",
      "top_management             1.000000\n",
      "previous_smoke             1.000000\n",
      "id_4                       1.000000\n",
      "sleeptime                  0.947132\n",
      "\n",
      "Threshold=0.419, Recall_macro=0.79605\n",
      "Self threshold:  0.419\n",
      "\n",
      "self_recall_score:  0.796050397749321\n"
     ]
    }
   ],
   "source": [
    "hf_pred = fit_model(hf, 'heart_failure',\n",
    "                    reduce_corrs=True, threshold_reduce=0.04, split=False,\n",
    "                    model='logreg', scoring='f1', grid=True, param_grid=param_grid_logreg,\n",
    "                    oversampling=True, oversampler='random', resample_strategy='auto',\n",
    "                    return_predicted=True, X_test=X_test, n_splits=3,\n",
    "                    random_state=SEED)"
   ]
  },
  {
   "cell_type": "code",
   "execution_count": 176,
   "id": "fb957b29",
   "metadata": {},
   "outputs": [
    {
     "data": {
      "text/plain": [
       "303"
      ]
     },
     "execution_count": 176,
     "metadata": {},
     "output_type": "execute_result"
    }
   ],
   "source": [
    "X_pred['heart_failure'] = hf_pred\n",
    "X_test['heart_failure'] = hf_pred\n",
    "#target_train['heart_failure'] = hf_train\n",
    "sum(hf_pred)"
   ]
  },
  {
   "cell_type": "markdown",
   "id": "d7156554",
   "metadata": {},
   "source": [
    "# Предсказание ACD"
   ]
  },
  {
   "cell_type": "code",
   "execution_count": 177,
   "id": "a4403dae",
   "metadata": {},
   "outputs": [],
   "source": [
    "df_stroke = pd.concat([train, target_train[[\n",
    "                      'arterial_hypertension', 'IHD', 'heart_failure', 'stroke']]], axis=1)"
   ]
  },
  {
   "cell_type": "code",
   "execution_count": 178,
   "id": "a0db3bc6",
   "metadata": {},
   "outputs": [],
   "source": [
    "stroke = MultiCollinearityEliminator(\n",
    "    df_stroke, 'stroke', 0.6).autoEliminateMulticollinearity()"
   ]
  },
  {
   "cell_type": "code",
   "execution_count": 179,
   "id": "c0ef04b8",
   "metadata": {},
   "outputs": [
    {
     "data": {
      "text/plain": [
       "0    914\n",
       "1     41\n",
       "Name: stroke, dtype: int64"
      ]
     },
     "execution_count": 179,
     "metadata": {},
     "output_type": "execute_result"
    }
   ],
   "source": [
    "stroke['stroke'].value_counts()"
   ]
  },
  {
   "cell_type": "code",
   "execution_count": 180,
   "id": "d78c07db",
   "metadata": {},
   "outputs": [
    {
     "name": "stdout",
     "output_type": "stream",
     "text": [
      "Used features:  ['tuberculosis', 'sleep_upset_7', 'religion_clubs', 'early_upset', 'european', 'sleeptime', 'sleep_onset_early_22', 'top_management', 'id_3', 'diabetes', 'bronchial_asthma', 'junior_specialists', 'single', 'passive_smoking_frequency', 'alcohol_duration_score', 'sleep_onset_23', 'christian', 'farmer/fisherman', 'previous_smoke', 'smoke', 'previous_drink_alco', 'education', 'cardio_score', 'fractures', 'midday_sleep', 'sex', 'job', 'early_onset', 'id_1', 'stop_work_due_disease', 'crafters_other', 'intake_medicines', 'arterial_hypertension', 'stroke']\n",
      "\n",
      "\tC: 1\n",
      "\tclass_weight: 'balanced'\n",
      "\tdual: False\n",
      "\tfit_intercept: True\n",
      "\tintercept_scaling: 1\n",
      "\tl1_ratio: None\n",
      "\tmax_iter: 200\n",
      "\tmulti_class: 'ovr'\n",
      "\tn_jobs: -1\n",
      "\tpenalty: 'l2'\n",
      "\trandom_state: None\n",
      "\tsolver: 'saga'\n",
      "\ttol: 0.0001\n",
      "\tverbose: 0\n",
      "\twarm_start: False\n",
      "\n",
      "Threshold=0.101, Recall_macro=0.66956\n",
      "Threshold=0.718, Recall_macro=0.70038\n",
      "Threshold=0.058, Recall_macro=0.68092\n",
      "recall_macro_scores:  [0.6695550351288055, 0.7003783102143758, 0.680921052631579]\n",
      "recall_macro_mean:  0.6836181326582533\n",
      "\n",
      "f1_scores:  [0.13043478260869565, 0.2258064516129032, 0.12612612612612611]\n",
      "f1_mean:  0.16078912011590832\n",
      "\n",
      "mean_threshold:  0.29233333333333333\n",
      "\n",
      "Coefficients of LogisticRegression:\n",
      "                               coef\n",
      "european                   1.656375\n",
      "intake_medicines           1.403645\n",
      "christian                  1.393660\n",
      "sex                        1.336102\n",
      "fractures                  1.077124\n",
      "arterial_hypertension      1.009250\n",
      "early_onset                0.821205\n",
      "diabetes                   0.792079\n",
      "crafters_other             0.750661\n",
      "id_3                       0.667931\n",
      "farmer/fisherman           0.613304\n",
      "early_upset                0.605785\n",
      "smoke                      0.390650\n",
      "alcohol_duration_score     0.207295\n",
      "midday_sleep               0.189263\n",
      "previous_drink_alco        0.166503\n",
      "sleeptime                  0.072081\n",
      "sleep_upset_7              0.056695\n",
      "stop_work_due_disease      0.035894\n",
      "education                 -0.179355\n",
      "passive_smoking_frequency -0.182644\n",
      "cardio_score              -0.258932\n",
      "sleep_onset_early_22      -0.476670\n",
      "sleep_onset_23            -0.503136\n",
      "id_1                      -0.695998\n",
      "junior_specialists        -1.057161\n",
      "job                       -1.299515\n",
      "religion_clubs            -1.706730\n",
      "previous_smoke            -1.968273\n",
      "tuberculosis              -2.132371\n",
      "top_management            -2.270499\n",
      "single                    -2.365107\n",
      "bronchial_asthma          -3.001773\n",
      "\n",
      "Odds:\n",
      "                               coef\n",
      "european                   5.240280\n",
      "intake_medicines           4.070009\n",
      "christian                  4.029571\n",
      "sex                        3.804184\n",
      "fractures                  2.936223\n",
      "arterial_hypertension      2.743542\n",
      "early_onset                2.273237\n",
      "diabetes                   2.207983\n",
      "crafters_other             2.118400\n",
      "id_3                       1.950197\n",
      "farmer/fisherman           1.846522\n",
      "early_upset                1.832690\n",
      "smoke                      1.477941\n",
      "alcohol_duration_score     1.230346\n",
      "midday_sleep               1.208359\n",
      "previous_drink_alco        1.181167\n",
      "sleeptime                  1.074743\n",
      "sleep_upset_7              1.058333\n",
      "stop_work_due_disease      1.036546\n",
      "education                  0.835809\n",
      "passive_smoking_frequency  0.833065\n",
      "cardio_score               0.771875\n",
      "sleep_onset_early_22       0.620847\n",
      "sleep_onset_23             0.604632\n",
      "id_1                       0.498577\n",
      "junior_specialists         0.347441\n",
      "job                        0.272664\n",
      "religion_clubs             0.181458\n",
      "previous_smoke             0.139698\n",
      "tuberculosis               0.118556\n",
      "top_management             0.103261\n",
      "single                     0.093939\n",
      "bronchial_asthma           0.049699\n",
      "\n",
      "Threshold=0.407, Recall_macro=0.85268\n",
      "Self threshold:  0.40700000000000003\n",
      "\n",
      "self_recall_score:  0.8526845279393713\n"
     ]
    }
   ],
   "source": [
    "stroke_pred = fit_model(stroke, 'stroke', split=False,\n",
    "                        reduce_corrs=True, threshold_reduce=0.03,\n",
    "                        model='logreg', scoring='f1', grid=True, param_grid=param_grid_logreg,\n",
    "                        oversampling=True, oversampler='random', resample_strategy='auto',\n",
    "                        return_predicted=True, X_test=X_test, random_state=SEED, n_splits=3)"
   ]
  },
  {
   "cell_type": "code",
   "execution_count": 181,
   "id": "e2bc27d3",
   "metadata": {},
   "outputs": [
    {
     "data": {
      "text/plain": [
       "202"
      ]
     },
     "execution_count": 181,
     "metadata": {},
     "output_type": "execute_result"
    }
   ],
   "source": [
    "X_pred['stroke'] = stroke_pred\n",
    "X_test['stroke'] = stroke_pred\n",
    "sum(stroke_pred)"
   ]
  },
  {
   "cell_type": "markdown",
   "id": "fee8b7be",
   "metadata": {},
   "source": [
    "## Предсказание other"
   ]
  },
  {
   "cell_type": "code",
   "execution_count": 182,
   "id": "bfbcf389",
   "metadata": {},
   "outputs": [],
   "source": [
    "df_other = pd.concat([train, target_train[['arterial_hypertension',\n",
    "                                           'IHD', 'heart_failure', 'stroke', 'other_cardio_diseases']]], axis=1)"
   ]
  },
  {
   "cell_type": "code",
   "execution_count": 183,
   "id": "42ac7e16",
   "metadata": {},
   "outputs": [],
   "source": [
    "other = MultiCollinearityEliminator(\n",
    "    df_other, 'other_cardio_diseases', 0.6).autoEliminateMulticollinearity()"
   ]
  },
  {
   "cell_type": "code",
   "execution_count": 184,
   "id": "7f23283a",
   "metadata": {},
   "outputs": [
    {
     "data": {
      "text/plain": [
       "0    869\n",
       "1     86\n",
       "Name: other_cardio_diseases, dtype: int64"
      ]
     },
     "execution_count": 184,
     "metadata": {},
     "output_type": "execute_result"
    }
   ],
   "source": [
    "other['other_cardio_diseases'].value_counts()"
   ]
  },
  {
   "cell_type": "code",
   "execution_count": 185,
   "id": "5d791f77",
   "metadata": {},
   "outputs": [
    {
     "name": "stdout",
     "output_type": "stream",
     "text": [
      "Used features:  ['stroke', 'sport', 'stop_work_due_disease', 'service', 'sleep_upset_early_6', 'widowed', 'single', 'diabetes', 'sleep_onset_23', 'fractures', 'office', 'sleep_upset_7', 'trauma_last_year', 'trauma_on_retire', 'top_management', 'ciggaretes_per_day_score', 'high_amout_sleep', 'early_upset', 'religion_clubs', 'senior_specialist', 'IHD', 'european', 'id_2', 'oncology', 'low_amount_sleep', 'christian', 'midday_sleep', 'low_qualified', 'alcohol_score', 'job', 'chronic_lung_disease', 'is_comorbid', 'sex', 'arterial_hypertension', 'hard_industry', 'intake_medicines', 'heart_failure', 'other_cardio_diseases']\n",
      "\n",
      "\tC: 0.1\n",
      "\tclass_weight: 'balanced'\n",
      "\tdual: False\n",
      "\tfit_intercept: True\n",
      "\tintercept_scaling: 1\n",
      "\tl1_ratio: None\n",
      "\tmax_iter: 50\n",
      "\tmulti_class: 'auto'\n",
      "\tn_jobs: -1\n",
      "\tpenalty: 'l2'\n",
      "\trandom_state: None\n",
      "\tsolver: 'liblinear'\n",
      "\ttol: 0.0001\n",
      "\tverbose: 0\n",
      "\twarm_start: False\n",
      "\n",
      "Threshold=0.452, Recall_macro=0.67541\n",
      "Threshold=0.455, Recall_macro=0.67897\n",
      "recall_macro_scores:  [0.675407645014702, 0.6789733147572607]\n",
      "recall_macro_mean:  0.6771904798859814\n",
      "\n",
      "f1_scores:  [0.26382978723404255, 0.2508710801393728]\n",
      "f1_mean:  0.2573504336867077\n",
      "\n",
      "mean_threshold:  0.4535\n",
      "\n",
      "Coefficients of LogisticRegression:\n",
      "                              coef\n",
      "heart_failure             0.823579\n",
      "intake_medicines          0.704707\n",
      "senior_specialist         0.418178\n",
      "christian                 0.417647\n",
      "office                    0.398732\n",
      "sport                     0.346571\n",
      "chronic_lung_disease      0.317691\n",
      "religion_clubs            0.256313\n",
      "low_amount_sleep          0.255905\n",
      "oncology                  0.254736\n",
      "high_amout_sleep          0.251621\n",
      "trauma_last_year          0.194952\n",
      "stop_work_due_disease     0.176896\n",
      "arterial_hypertension     0.175099\n",
      "fractures                 0.174548\n",
      "is_comorbid               0.173455\n",
      "service                   0.124704\n",
      "trauma_on_retire          0.098598\n",
      "european                  0.091109\n",
      "ciggaretes_per_day_score  0.086967\n",
      "diabetes                  0.078692\n",
      "sleep_upset_early_6      -0.013531\n",
      "id_2                     -0.038658\n",
      "IHD                      -0.060509\n",
      "job                      -0.135327\n",
      "early_upset              -0.162326\n",
      "alcohol_score            -0.211217\n",
      "widowed                  -0.225466\n",
      "top_management           -0.248561\n",
      "sleep_onset_23           -0.297427\n",
      "sleep_upset_7            -0.384122\n",
      "low_qualified            -0.416036\n",
      "sex                      -0.478777\n",
      "single                   -0.522028\n",
      "stroke                   -0.533133\n",
      "midday_sleep             -0.619558\n",
      "hard_industry            -1.177196\n",
      "\n",
      "Odds:\n",
      "                              coef\n",
      "heart_failure             2.278640\n",
      "intake_medicines          2.023253\n",
      "senior_specialist         1.519191\n",
      "christian                 1.518385\n",
      "office                    1.489935\n",
      "sport                     1.414210\n",
      "chronic_lung_disease      1.373952\n",
      "religion_clubs            1.292157\n",
      "low_amount_sleep          1.291630\n",
      "oncology                  1.290121\n",
      "high_amout_sleep          1.286108\n",
      "trauma_last_year          1.215253\n",
      "stop_work_due_disease     1.193506\n",
      "arterial_hypertension     1.191364\n",
      "fractures                 1.190708\n",
      "is_comorbid               1.189407\n",
      "service                   1.132813\n",
      "trauma_on_retire          1.103623\n",
      "european                  1.095389\n",
      "ciggaretes_per_day_score  1.090860\n",
      "diabetes                  1.081872\n",
      "sleep_upset_early_6       0.986560\n",
      "id_2                      0.962079\n",
      "IHD                       0.941285\n",
      "job                       0.873430\n",
      "early_upset               0.850164\n",
      "alcohol_score             0.809599\n",
      "widowed                   0.798144\n",
      "top_management            0.779922\n",
      "sleep_onset_23            0.742727\n",
      "sleep_upset_7             0.681048\n",
      "low_qualified             0.659657\n",
      "sex                       0.619540\n",
      "single                    0.593316\n",
      "stroke                    0.586764\n",
      "midday_sleep              0.538182\n",
      "hard_industry             0.308141\n",
      "\n",
      "Threshold=0.419, Recall_macro=0.70135\n",
      "Self threshold:  0.419\n",
      "\n",
      "self_recall_score:  0.701354136002355\n"
     ]
    }
   ],
   "source": [
    "other_pred = fit_model(other, 'other_cardio_diseases', split=False,\n",
    "                       reduce_corrs=True, threshold_reduce=0.03,\n",
    "                       model='logreg', scoring='f1', grid=True, param_grid=param_grid_logreg,\n",
    "                       oversampling=True, oversampler='random', resample_strategy='auto',\n",
    "                       return_predicted=True, X_test=X_test, random_state=SEED, n_splits=2)"
   ]
  },
  {
   "cell_type": "code",
   "execution_count": 186,
   "id": "7f317d52",
   "metadata": {},
   "outputs": [
    {
     "data": {
      "text/plain": [
       "337"
      ]
     },
     "execution_count": 186,
     "metadata": {},
     "output_type": "execute_result"
    }
   ],
   "source": [
    "X_pred['other_cardio_diseases'] = other_pred\n",
    "X_test['other_cardio_diseases'] = other_pred\n",
    "sum(other_pred)"
   ]
  },
  {
   "cell_type": "code",
   "execution_count": 187,
   "id": "209e93cd",
   "metadata": {},
   "outputs": [],
   "source": [
    "result = X_pred[['arterial_hypertension', 'stroke', 'IHD',\n",
    "                 'heart_failure', 'other_cardio_diseases']].copy()"
   ]
  },
  {
   "cell_type": "code",
   "execution_count": 188,
   "id": "19eaac35",
   "metadata": {},
   "outputs": [],
   "source": [
    "submit = pd.read_csv('data/sample_solution.csv')"
   ]
  },
  {
   "cell_type": "code",
   "execution_count": 189,
   "id": "250bf8b8",
   "metadata": {},
   "outputs": [],
   "source": [
    "submit.iloc[:, 1:] = result.values"
   ]
  },
  {
   "cell_type": "code",
   "execution_count": 190,
   "id": "dc4d9e58",
   "metadata": {},
   "outputs": [
    {
     "data": {
      "text/plain": [
       "Артериальная гипертензия              314\n",
       "ОНМК                                  202\n",
       "Стенокардия, ИБС, инфаркт миокарда    301\n",
       "Сердечная недостаточность             303\n",
       "Прочие заболевания сердца             337\n",
       "dtype: int64"
      ]
     },
     "execution_count": 190,
     "metadata": {},
     "output_type": "execute_result"
    }
   ],
   "source": [
    "submit.iloc[:, 1:].sum()"
   ]
  },
  {
   "cell_type": "code",
   "execution_count": 191,
   "id": "22b22752",
   "metadata": {},
   "outputs": [],
   "source": [
    "submit.to_csv('submits/submit_screencast.csv', index=False)"
   ]
  },
  {
   "cell_type": "code",
   "execution_count": null,
   "id": "044b9bfe",
   "metadata": {},
   "outputs": [],
   "source": [
    "›"
   ]
  }
 ],
 "metadata": {
  "kernelspec": {
   "display_name": "Python 3 (ipykernel)",
   "language": "python",
   "name": "python3"
  },
  "language_info": {
   "codemirror_mode": {
    "name": "ipython",
    "version": 3
   },
   "file_extension": ".py",
   "mimetype": "text/x-python",
   "name": "python",
   "nbconvert_exporter": "python",
   "pygments_lexer": "ipython3",
   "version": "3.9.12"
  }
 },
 "nbformat": 4,
 "nbformat_minor": 5
}
